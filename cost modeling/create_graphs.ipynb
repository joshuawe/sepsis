{
 "cells": [
  {
   "cell_type": "code",
   "execution_count": 3,
   "metadata": {},
   "outputs": [],
   "source": [
    "import networkit as nk\n",
    "import json"
   ]
  },
  {
   "cell_type": "code",
   "execution_count": 8,
   "metadata": {},
   "outputs": [
    {
     "name": "stdout",
     "output_type": "stream",
     "text": [
      "example_test\n"
     ]
    }
   ],
   "source": [
    "path = \"tests.json\"\n",
    "f = open(path)\n",
    "tests = json.load(f)\n",
    "\n",
    "for test in tests:\n",
    "    print(test)"
   ]
  }
 ],
 "metadata": {
  "kernelspec": {
   "display_name": "Python 3.8.8 ('DAISE')",
   "language": "python",
   "name": "python3"
  },
  "language_info": {
   "codemirror_mode": {
    "name": "ipython",
    "version": 3
   },
   "file_extension": ".py",
   "mimetype": "text/x-python",
   "name": "python",
   "nbconvert_exporter": "python",
   "pygments_lexer": "ipython3",
   "version": "3.8.8"
  },
  "orig_nbformat": 4,
  "vscode": {
   "interpreter": {
    "hash": "b7127394069c59b3e0a87889d015a4cb13dd6b789ec38fb3f2e56bf1398f48fc"
   }
  }
 },
 "nbformat": 4,
 "nbformat_minor": 2
}
