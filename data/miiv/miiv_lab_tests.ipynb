{
 "cells": [
  {
   "attachments": {},
   "cell_type": "markdown",
   "metadata": {},
   "source": [
    "# Analyzing Lab Tests\n",
    "\n",
    "We analyze the availability of selected laboratory tests."
   ]
  },
  {
   "cell_type": "code",
   "execution_count": 34,
   "metadata": {},
   "outputs": [
    {
     "name": "stdout",
     "output_type": "stream",
     "text": [
      "The autoreload extension is already loaded. To reload it, use:\n",
      "  %reload_ext autoreload\n"
     ]
    }
   ],
   "source": [
    "import pandas as pd\n",
    "import matplotlib.pyplot as plt\n",
    "import matplotlib.patheffects as pe\n",
    "import matplotlib.ticker as ticker\n",
    "import numpy as np\n",
    "from pathlib import Path\n",
    "from tqdm import tqdm\n",
    "from collections import Counter\n",
    "from pprint import pprint\n",
    "\n",
    "%matplotlib inline\n",
    "%load_ext autoreload\n",
    "%autoreload 2"
   ]
  },
  {
   "cell_type": "code",
   "execution_count": 4,
   "metadata": {},
   "outputs": [
    {
     "data": {
      "text/html": [
       "<div>\n",
       "<style scoped>\n",
       "    .dataframe tbody tr th:only-of-type {\n",
       "        vertical-align: middle;\n",
       "    }\n",
       "\n",
       "    .dataframe tbody tr th {\n",
       "        vertical-align: top;\n",
       "    }\n",
       "\n",
       "    .dataframe thead th {\n",
       "        text-align: right;\n",
       "    }\n",
       "</style>\n",
       "<table border=\"1\" class=\"dataframe\">\n",
       "  <thead>\n",
       "    <tr style=\"text-align: right;\">\n",
       "      <th></th>\n",
       "      <th>id</th>\n",
       "      <th>time</th>\n",
       "      <th>label</th>\n",
       "      <th>alb</th>\n",
       "      <th>alp</th>\n",
       "      <th>alt</th>\n",
       "      <th>ast</th>\n",
       "      <th>be</th>\n",
       "      <th>bicar</th>\n",
       "      <th>bili</th>\n",
       "      <th>...</th>\n",
       "      <th>phos</th>\n",
       "      <th>plt</th>\n",
       "      <th>po2</th>\n",
       "      <th>ptt</th>\n",
       "      <th>resp</th>\n",
       "      <th>sbp</th>\n",
       "      <th>temp</th>\n",
       "      <th>tnt</th>\n",
       "      <th>urine</th>\n",
       "      <th>wbc</th>\n",
       "    </tr>\n",
       "  </thead>\n",
       "  <tbody>\n",
       "    <tr>\n",
       "      <th>0</th>\n",
       "      <td>30000153</td>\n",
       "      <td>0</td>\n",
       "      <td>0.0</td>\n",
       "      <td>NaN</td>\n",
       "      <td>NaN</td>\n",
       "      <td>NaN</td>\n",
       "      <td>NaN</td>\n",
       "      <td>NaN</td>\n",
       "      <td>NaN</td>\n",
       "      <td>NaN</td>\n",
       "      <td>...</td>\n",
       "      <td>NaN</td>\n",
       "      <td>NaN</td>\n",
       "      <td>NaN</td>\n",
       "      <td>NaN</td>\n",
       "      <td>14.0</td>\n",
       "      <td>124.5</td>\n",
       "      <td>36.000000</td>\n",
       "      <td>NaN</td>\n",
       "      <td>280.0</td>\n",
       "      <td>NaN</td>\n",
       "    </tr>\n",
       "    <tr>\n",
       "      <th>1</th>\n",
       "      <td>30000153</td>\n",
       "      <td>1</td>\n",
       "      <td>0.0</td>\n",
       "      <td>NaN</td>\n",
       "      <td>NaN</td>\n",
       "      <td>NaN</td>\n",
       "      <td>NaN</td>\n",
       "      <td>-3.0</td>\n",
       "      <td>NaN</td>\n",
       "      <td>NaN</td>\n",
       "      <td>...</td>\n",
       "      <td>NaN</td>\n",
       "      <td>NaN</td>\n",
       "      <td>242.0</td>\n",
       "      <td>NaN</td>\n",
       "      <td>16.0</td>\n",
       "      <td>141.0</td>\n",
       "      <td>37.277779</td>\n",
       "      <td>NaN</td>\n",
       "      <td>45.0</td>\n",
       "      <td>NaN</td>\n",
       "    </tr>\n",
       "    <tr>\n",
       "      <th>2</th>\n",
       "      <td>30000153</td>\n",
       "      <td>2</td>\n",
       "      <td>0.0</td>\n",
       "      <td>NaN</td>\n",
       "      <td>NaN</td>\n",
       "      <td>NaN</td>\n",
       "      <td>NaN</td>\n",
       "      <td>NaN</td>\n",
       "      <td>NaN</td>\n",
       "      <td>NaN</td>\n",
       "      <td>...</td>\n",
       "      <td>NaN</td>\n",
       "      <td>NaN</td>\n",
       "      <td>NaN</td>\n",
       "      <td>NaN</td>\n",
       "      <td>NaN</td>\n",
       "      <td>NaN</td>\n",
       "      <td>NaN</td>\n",
       "      <td>NaN</td>\n",
       "      <td>50.0</td>\n",
       "      <td>NaN</td>\n",
       "    </tr>\n",
       "    <tr>\n",
       "      <th>3</th>\n",
       "      <td>30000153</td>\n",
       "      <td>3</td>\n",
       "      <td>0.0</td>\n",
       "      <td>NaN</td>\n",
       "      <td>NaN</td>\n",
       "      <td>NaN</td>\n",
       "      <td>NaN</td>\n",
       "      <td>-4.0</td>\n",
       "      <td>19.0</td>\n",
       "      <td>NaN</td>\n",
       "      <td>...</td>\n",
       "      <td>3.1</td>\n",
       "      <td>173.0</td>\n",
       "      <td>215.0</td>\n",
       "      <td>25.299999</td>\n",
       "      <td>14.0</td>\n",
       "      <td>116.0</td>\n",
       "      <td>37.500000</td>\n",
       "      <td>NaN</td>\n",
       "      <td>50.0</td>\n",
       "      <td>17.0</td>\n",
       "    </tr>\n",
       "    <tr>\n",
       "      <th>4</th>\n",
       "      <td>30000153</td>\n",
       "      <td>4</td>\n",
       "      <td>0.0</td>\n",
       "      <td>NaN</td>\n",
       "      <td>NaN</td>\n",
       "      <td>NaN</td>\n",
       "      <td>NaN</td>\n",
       "      <td>NaN</td>\n",
       "      <td>NaN</td>\n",
       "      <td>NaN</td>\n",
       "      <td>...</td>\n",
       "      <td>NaN</td>\n",
       "      <td>NaN</td>\n",
       "      <td>NaN</td>\n",
       "      <td>NaN</td>\n",
       "      <td>20.0</td>\n",
       "      <td>111.0</td>\n",
       "      <td>NaN</td>\n",
       "      <td>NaN</td>\n",
       "      <td>45.0</td>\n",
       "      <td>NaN</td>\n",
       "    </tr>\n",
       "  </tbody>\n",
       "</table>\n",
       "<p>5 rows × 51 columns</p>\n",
       "</div>"
      ],
      "text/plain": [
       "         id  time  label  alb  alp  alt  ast   be  bicar  bili  ...  phos  \\\n",
       "0  30000153     0    0.0  NaN  NaN  NaN  NaN  NaN    NaN   NaN  ...   NaN   \n",
       "1  30000153     1    0.0  NaN  NaN  NaN  NaN -3.0    NaN   NaN  ...   NaN   \n",
       "2  30000153     2    0.0  NaN  NaN  NaN  NaN  NaN    NaN   NaN  ...   NaN   \n",
       "3  30000153     3    0.0  NaN  NaN  NaN  NaN -4.0   19.0   NaN  ...   3.1   \n",
       "4  30000153     4    0.0  NaN  NaN  NaN  NaN  NaN    NaN   NaN  ...   NaN   \n",
       "\n",
       "     plt    po2        ptt  resp    sbp       temp  tnt  urine   wbc  \n",
       "0    NaN    NaN        NaN  14.0  124.5  36.000000  NaN  280.0   NaN  \n",
       "1    NaN  242.0        NaN  16.0  141.0  37.277779  NaN   45.0   NaN  \n",
       "2    NaN    NaN        NaN   NaN    NaN        NaN  NaN   50.0   NaN  \n",
       "3  173.0  215.0  25.299999  14.0  116.0  37.500000  NaN   50.0  17.0  \n",
       "4    NaN    NaN        NaN  20.0  111.0        NaN  NaN   45.0   NaN  \n",
       "\n",
       "[5 rows x 51 columns]"
      ]
     },
     "execution_count": 4,
     "metadata": {},
     "output_type": "execute_result"
    }
   ],
   "source": [
    "path_figures = Path('../../figures/')\n",
    "\n",
    "miiv_path = '~/Documents/data/ts/miiv/fully_observed/miiv_ts_wide.csv.gz'\n",
    "miiv_path_p = '~/Documents/data/ts/miiv/fully_observed/miiv_ts_wide.parquet'\n",
    "# df = pd.read_csv(miiv_path)\n",
    "df = pd.read_parquet(miiv_path_p)\n",
    "# df['time'] = df['time'].apply(lambda x: x.total_seconds() / 60 / 60)\n",
    "df.head()"
   ]
  },
  {
   "cell_type": "code",
   "execution_count": 5,
   "metadata": {},
   "outputs": [],
   "source": [
    "grouped = df.groupby('id')"
   ]
  },
  {
   "attachments": {},
   "cell_type": "markdown",
   "metadata": {},
   "source": [
    "# Define Tests"
   ]
  },
  {
   "cell_type": "code",
   "execution_count": 7,
   "metadata": {},
   "outputs": [],
   "source": [
    "# variables for each laboratory test \n",
    "test_variables_def = {\n",
    "        'CBC': ['hgb', 'mcv', 'mch', 'mchc', 'plt', 'wbc'],\n",
    "        'CBC+diff': ['hgb', 'mcv', 'mch', 'mchc','wbc','plt','lymph','neut'],\n",
    "        'BMP': ['glu', 'bun', 'bicar', 'crea', 'na', 'k', 'cl', 'ca'],\n",
    "        'CMP': ['glu', 'bun', 'bicar', 'crea', 'na', 'k', 'cl', 'ca', 'alb', 'bili', 'alp', 'ast', 'alt'],\n",
    "        'ABG': ['ph', 'pco2', 'po2'],\n",
    "        'CRP': ['crp']\n",
    "}\n",
    "\n",
    "# test hierarchy: If test in value is present, then tests in value may not be present\n",
    "test_hierarchy_def = {\n",
    "        'BMP': ['CMP'],\n",
    "        'CBC': ['CBC+diff']\n",
    "}\n",
    "\n",
    "\n",
    "test_costs_def = {\n",
    "        'CBC': 26,\n",
    "        'CBC+diff': 35,\n",
    "        'BMP': 36,\n",
    "        'CMP': 48,\n",
    "        'ABG': 474,\n",
    "        'CRP': 26\n",
    "}"
   ]
  },
  {
   "cell_type": "code",
   "execution_count": 8,
   "metadata": {},
   "outputs": [],
   "source": [
    "def analyze_test(df: pd.DataFrame, test_variables: dict, test_hierarchy:dict):\n",
    "    test_num_dict = {}\n",
    "    # check for existence of lab test\n",
    "    for test_name, test_vars in test_variables.items():\n",
    "        # print(test_vars)\n",
    "        d = df[test_vars]\n",
    "        d = ~d.isna()\n",
    "        d = d.all(axis=1)\n",
    "        # eliminate all sub_tests\n",
    "        for sub_test in test_hierarchy.get(test_name, []):\n",
    "            sub_df = df[test_variables[sub_test]]\n",
    "            sub_df = ~sub_df.isna()\n",
    "            sub_df = sub_df.all(axis=1) # ones if sub_test is present\n",
    "            d *= ~sub_df  # invert, because we want to keep the test if sub_test is not present\n",
    "            \n",
    "        test_num = d.sum()\n",
    "            \n",
    "            \n",
    "        test_num_dict[test_name] = test_num\n",
    "        # print(test_name, test_num)\n",
    "        \n",
    "    # # check for test hierarchy \n",
    "    # for test_name, sub_tests in test_hierarchy_def.items():\n",
    "    #     for sub_test in sub_tests:\n",
    "    #         if test_num_dict.get(sub_test, 0) > 0:\n",
    "    #             test_num_dict[test_name] = 0\n",
    "    \n",
    "    return test_num_dict\n",
    "\n",
    "def calc_costs(test_nums: dict, test_costs: dict):\n",
    "    total_costs = 0\n",
    "    cost_dict = {}\n",
    "    for test_name, test_num in test_nums.items():\n",
    "        costs = test_num * test_costs[test_name]\n",
    "        cost_dict[test_name] = costs\n",
    "        total_costs += costs\n",
    "    # cost_dict = {'total': total_costs, **cost_dict} # total should be first item\n",
    "    cost_dict['total'] = total_costs\n",
    "    \n",
    "    return cost_dict"
   ]
  },
  {
   "cell_type": "code",
   "execution_count": 9,
   "metadata": {},
   "outputs": [
    {
     "name": "stderr",
     "output_type": "stream",
     "text": [
      "100%|██████████| 67056/67056 [03:06<00:00, 360.28it/s]"
     ]
    },
    {
     "name": "stdout",
     "output_type": "stream",
     "text": [
      "Counter({'CBC': 195628,\n",
      "         'BMP': 185784,\n",
      "         'ABG': 164431,\n",
      "         'CBC+diff': 31008,\n",
      "         'CMP': 22623,\n",
      "         'CRP': 1903})\n",
      "{'total': 91935508, 'ABG': 77940294, 'CBC': 5086328, 'CBC+diff': 1085280, 'BMP': 6688224, 'CMP': 1085904}\n"
     ]
    },
    {
     "name": "stderr",
     "output_type": "stream",
     "text": [
      "\n"
     ]
    }
   ],
   "source": [
    "# Calculate number of tests\n",
    "test_num_dict_total = Counter({key:0 for key in test_variables_def.keys()})\n",
    "for name, data in tqdm(grouped):\n",
    "    temp_dict = analyze_test(data, test_variables_def, test_hierarchy_def)\n",
    "    # pprint(temp_dict)\n",
    "    test_num_dict_total += Counter(temp_dict)\n",
    "    \n",
    "pprint(test_num_dict_total)\n",
    "# pprint(dict(test_num_dict_total))\n",
    "\n",
    "# Calculate costs based on test numbers    \n",
    "cost_dict = calc_costs(dict(test_num_dict_total), test_costs_def)\n",
    "new_order = ['total', 'ABG', 'CBC', 'CBC+diff', 'BMP', 'CMP']\n",
    "cost_dict = {key:cost_dict[key] for key in new_order}\n",
    "print(cost_dict)\n",
    "    "
   ]
  },
  {
   "cell_type": "code",
   "execution_count": 10,
   "metadata": {},
   "outputs": [
    {
     "name": "stderr",
     "output_type": "stream",
     "text": [
      "100%|██████████| 3730/3730 [00:10<00:00, 354.05it/s]"
     ]
    },
    {
     "name": "stdout",
     "output_type": "stream",
     "text": [
      "Counter({'ABG': 14249,\n",
      "         'BMP': 9646,\n",
      "         'CBC': 9467,\n",
      "         'CBC+diff': 1995,\n",
      "         'CMP': 1615,\n",
      "         'CRP': 98})\n",
      "{'total': 7497317, 'ABG': 6754026, 'CBC': 246142, 'CBC+diff': 69825, 'BMP': 347256, 'CMP': 77520}\n"
     ]
    },
    {
     "name": "stderr",
     "output_type": "stream",
     "text": [
      "\n"
     ]
    }
   ],
   "source": [
    "# Only Sepsis patients\n",
    "grouped = df.groupby('id') \n",
    "greater_than_zero = grouped.apply(lambda x: (x['label'] == 1).any()) # does patient have sepsis?\n",
    "positive_ids = greater_than_zero[greater_than_zero].index # get sepsis patient ids\n",
    "sepsis_df = df[df['id'].isin(positive_ids)] # dataframe with only sepsis patients\n",
    "grouped_sepsis = sepsis_df.groupby('id')\n",
    "\n",
    "\n",
    "# Calculate number of tests\n",
    "test_num_dict_total_sepsis = Counter({key:0 for key in test_variables_def.keys()})\n",
    "for name, data in tqdm(grouped_sepsis):\n",
    "    temp_dict = analyze_test(data, test_variables_def, test_hierarchy_def)\n",
    "    # pprint(temp_dict)\n",
    "    test_num_dict_total_sepsis += Counter(temp_dict)\n",
    "    \n",
    "pprint(test_num_dict_total_sepsis)\n",
    "\n",
    "# Calculate costs based on test numbers    \n",
    "cost_dict_sepsis = calc_costs(dict(test_num_dict_total_sepsis), test_costs_def)\n",
    "new_order = ['total', 'ABG', 'CBC', 'CBC+diff', 'BMP', 'CMP']\n",
    "cost_dict_sepsis = {key:cost_dict_sepsis[key] for key in new_order}\n",
    "print(cost_dict_sepsis)"
   ]
  },
  {
   "cell_type": "code",
   "execution_count": 11,
   "metadata": {},
   "outputs": [
    {
     "name": "stdout",
     "output_type": "stream",
     "text": [
      "[601377, 164431, 195628, 31008, 185784, 22623]\n",
      "Counter({'CBC': 195628, 'BMP': 185784, 'ABG': 164431, 'CBC+diff': 31008, 'CMP': 22623, 'CRP': 1903})\n"
     ]
    }
   ],
   "source": [
    "num_tests = [np.sum(list(test_num_dict_total.values()))]\n",
    "num_tests += list(test_num_dict_total[k] for k in cost_dict.keys() if k != 'total')\n",
    "\n",
    "num_tests_sepsis = [np.sum(test_num_dict_total_sepsis.values())]\n",
    "num_tests_sepsis.append(list(test_num_dict_total_sepsis[k] for k in cost_dict.keys()))\n",
    "\n",
    "print(num_tests)\n",
    "print(test_num_dict_total)"
   ]
  },
  {
   "cell_type": "code",
   "execution_count": 54,
   "metadata": {},
   "outputs": [
    {
     "data": {
      "image/png": "[encoded data removed]",
      "text/plain": [
       "<Figure size 500x500 with 2 Axes>"
      ]
     },
     "metadata": {},
     "output_type": "display_data"
    }
   ],
   "source": [
    "values = list(cost_dict.values())\n",
    "values_sepsis = list(cost_dict_sepsis.values())\n",
    "labels = list(cost_dict.keys())\n",
    "positions = np.arange(len(labels))\n",
    "\n",
    "# get nums and bring into right order\n",
    "num_tests = [np.sum(list(test_num_dict_total.values()))]\n",
    "num_tests += list(test_num_dict_total[k] for k in cost_dict.keys() if k != 'total')\n",
    "num_tests_sepsis = [np.sum(list(test_num_dict_total_sepsis.values()))]\n",
    "num_tests_sepsis += list(test_num_dict_total_sepsis[k] for k in cost_dict.keys() if k != 'total')\n",
    "\n",
    "\n",
    "fig = plt.figure(figsize=(5,5))\n",
    "width = 0.375\n",
    "dx = width/2  # shift bars by dx\n",
    "ax = fig.add_axes([0,0,1,1])\n",
    "# test costs\n",
    "ax.bar(positions - dx, height=values, width=width, zorder=2, color='C0', label='All patients')\n",
    "ax.bar(positions - dx, height=values_sepsis, width=width, zorder=2, color='C1', label='Sepsis patients')\n",
    "ax.set_xticks(list(positions) + [6], labels + [''])\n",
    "ax.grid(visible=True, color='lavender')\n",
    "ax.set_ylabel('Costs [$\\\\times 10^6$ \\$]')\n",
    "ax.spines[:].set_visible(False)\n",
    "\n",
    "# num tests\n",
    "ax2 = ax.twinx() \n",
    "ax2.bar(positions + dx, height=num_tests, alpha=0.4, width=width, zorder=2, color='slategrey', label='_All patients')\n",
    "ax2.bar(positions + dx, height=num_tests_sepsis, width=width, alpha=0.4, zorder=2, color='C1', label='_Sepsis patients')\n",
    "ax2.spines[:].set_visible(False)\n",
    "\n",
    "\n",
    "# text labels\n",
    "for i, (v, v_sepsis) in enumerate(zip(values, values_sepsis)):\n",
    "    number = f'{str(v)} €'\n",
    "    number = num_tests[i] if i != 0 else np.sum(num_tests)\n",
    "    percentage = f'{round(v / cost_dict[\"total\"] * 100, 1)}%'\n",
    "    number_sepsis = ''\n",
    "    percentage_sepsis = f'{round(v_sepsis / cost_dict[\"total\"] * 100, 1)}%'\n",
    "    v = v + 100000\n",
    "    v_sepsis = v_sepsis + 100000\n",
    "    path_effects=[pe.withStroke(linewidth=1, foreground=\"C1\")]\n",
    "    color_sepsis = 'wheat'\n",
    "    if i in [0, 1, 2, 3, 4, 5]:\n",
    "        v_sepsis = v\n",
    "        v += 3500000\n",
    "        path_effects = None\n",
    "        color_sepsis = 'C1'\n",
    "    \n",
    "    ax.text(i, v + 100000, f'{percentage}', ha='right', va='bottom', color='C0', rotation=0) # all patients\n",
    "    ax.text(i, v_sepsis + 100000, f'{number_sepsis}\\n{percentage_sepsis}', ha='right', va='bottom', color=color_sepsis, rotation=0, weight='normal', path_effects=path_effects) # sepsis patients\n",
    "    va = 'top' if i in [0,1,2,4] else 'bottom'\n",
    "    ax2.text(i + dx, num_tests[i] + 5000, f' n={number}  ', ha='center', va=va, color='C0', rotation=90)\n",
    "\n",
    "# ax.text(3, 6000000, 'PRELIMINARY', color='red', fontsize=20, ha='center', va='bottom', rotation=20)\n",
    "ax2.tick_params(axis='y', colors='grey')\n",
    "ax2.set_ylabel('Number of tests [$\\\\times 10^3$]', color='grey')\n",
    "def y_formatter(x, pos):\n",
    "    return f'{x * 1e-3:.0f}'\n",
    "def y_formatter2(x, pos):\n",
    "    return f'{x * 1e-6:.0f}'\n",
    "ax2.yaxis.set_major_formatter(ticker.FuncFormatter(y_formatter))\n",
    "ax.yaxis.set_major_formatter(ticker.FuncFormatter(y_formatter2))\n",
    "# ax2.yaxis.set_major_formatter(ticker.FormatStrFormatter('%.0e'))\n",
    "# ax.ticklabel_format(style='sci', axis='x', scilimits=(3,3))\n",
    "ax.set_ylim(0, 10e7)\n",
    "ax.legend(frameon=False)\n",
    "plt.savefig(path_figures / 'miiv_lab_costs.pdf', bbox_inches='tight')\n",
    "plt.show()\n"
   ]
  },
  {
   "attachments": {},
   "cell_type": "markdown",
   "metadata": {},
   "source": [
    "---\n",
    "# Average cost per patient"
   ]
  },
  {
   "cell_type": "code",
   "execution_count": 313,
   "metadata": {},
   "outputs": [
    {
     "name": "stdout",
     "output_type": "stream",
     "text": [
      "Avg cost per patient: 1371.0258291577188\n",
      "Avg cost per sepsis patient: 2010.0045576407506\n"
     ]
    },
    {
     "ename": "",
     "evalue": "",
     "output_type": "error",
     "traceback": [
      "\u001b[1;31mThe Kernel crashed while executing code in the the current cell or a previous cell. Please review the code in the cell(s) to identify a possible cause of the failure. Click <a href='https://aka.ms/vscodeJupyterKernelCrash'>here</a> for more info. View Jupyter <a href='command:jupyter.viewOutput'>log</a> for further details."
     ]
    }
   ],
   "source": [
    "avg_cost = cost_dict['total'] / len(grouped)\n",
    "avg_cost_sepsis = cost_dict_sepsis['total'] / len(grouped_sepsis)\n",
    "print('Avg cost per patient:', avg_cost)\n",
    "print('Avg cost per sepsis patient:', avg_cost_sepsis)"
   ]
  }
 ],
 "metadata": {
  "kernelspec": {
   "display_name": "sepsis_env",
   "language": "python",
   "name": "python3"
  },
  "language_info": {
   "codemirror_mode": {
    "name": "ipython",
    "version": 3
   },
   "file_extension": ".py",
   "mimetype": "text/x-python",
   "name": "python",
   "nbconvert_exporter": "python",
   "pygments_lexer": "ipython3",
   "version": "3.8.10"
  },
  "orig_nbformat": 4,
  "vscode": {
   "interpreter": {
    "hash": "b931a942bc7d2a742ceef9d8bc7c0178d9e86189932c439054c4f2a102ecf034"
   }
  }
 },
 "nbformat": 4,
 "nbformat_minor": 2
}
