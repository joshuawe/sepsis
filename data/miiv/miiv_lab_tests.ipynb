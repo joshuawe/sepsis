{
 "cells": [
  {
   "attachments": {},
   "cell_type": "markdown",
   "metadata": {},
   "source": [
    "# Analyzing Lab Tests\n",
    "\n",
    "We analyze the availability of selected laboratory tests."
   ]
  },
  {
   "cell_type": "code",
   "execution_count": 26,
   "metadata": {},
   "outputs": [
    {
     "name": "stdout",
     "output_type": "stream",
     "text": [
      "The autoreload extension is already loaded. To reload it, use:\n",
      "  %reload_ext autoreload\n"
     ]
    }
   ],
   "source": [
    "import pandas as pd\n",
    "import matplotlib.pyplot as plt\n",
    "import numpy as np\n",
    "from pathlib import Path\n",
    "from tqdm import tqdm\n",
    "from collections import Counter\n",
    "from pprint import pprint\n",
    "\n",
    "%matplotlib inline\n",
    "%load_ext autoreload\n",
    "%autoreload 2"
   ]
  },
  {
   "cell_type": "code",
   "execution_count": 31,
   "metadata": {},
   "outputs": [
    {
     "data": {
      "text/html": [
       "<div>\n",
       "<style scoped>\n",
       "    .dataframe tbody tr th:only-of-type {\n",
       "        vertical-align: middle;\n",
       "    }\n",
       "\n",
       "    .dataframe tbody tr th {\n",
       "        vertical-align: top;\n",
       "    }\n",
       "\n",
       "    .dataframe thead th {\n",
       "        text-align: right;\n",
       "    }\n",
       "</style>\n",
       "<table border=\"1\" class=\"dataframe\">\n",
       "  <thead>\n",
       "    <tr style=\"text-align: right;\">\n",
       "      <th></th>\n",
       "      <th>id</th>\n",
       "      <th>time</th>\n",
       "      <th>label</th>\n",
       "      <th>alb</th>\n",
       "      <th>alp</th>\n",
       "      <th>alt</th>\n",
       "      <th>ast</th>\n",
       "      <th>be</th>\n",
       "      <th>bicar</th>\n",
       "      <th>bili</th>\n",
       "      <th>...</th>\n",
       "      <th>phos</th>\n",
       "      <th>plt</th>\n",
       "      <th>po2</th>\n",
       "      <th>ptt</th>\n",
       "      <th>resp</th>\n",
       "      <th>sbp</th>\n",
       "      <th>temp</th>\n",
       "      <th>tnt</th>\n",
       "      <th>urine</th>\n",
       "      <th>wbc</th>\n",
       "    </tr>\n",
       "  </thead>\n",
       "  <tbody>\n",
       "    <tr>\n",
       "      <th>0</th>\n",
       "      <td>30000153</td>\n",
       "      <td>0.0</td>\n",
       "      <td>False</td>\n",
       "      <td>NaN</td>\n",
       "      <td>NaN</td>\n",
       "      <td>NaN</td>\n",
       "      <td>NaN</td>\n",
       "      <td>NaN</td>\n",
       "      <td>NaN</td>\n",
       "      <td>NaN</td>\n",
       "      <td>...</td>\n",
       "      <td>NaN</td>\n",
       "      <td>NaN</td>\n",
       "      <td>NaN</td>\n",
       "      <td>NaN</td>\n",
       "      <td>14.0</td>\n",
       "      <td>124.5</td>\n",
       "      <td>36.000000</td>\n",
       "      <td>NaN</td>\n",
       "      <td>280.0</td>\n",
       "      <td>NaN</td>\n",
       "    </tr>\n",
       "    <tr>\n",
       "      <th>1</th>\n",
       "      <td>30000153</td>\n",
       "      <td>1.0</td>\n",
       "      <td>False</td>\n",
       "      <td>NaN</td>\n",
       "      <td>NaN</td>\n",
       "      <td>NaN</td>\n",
       "      <td>NaN</td>\n",
       "      <td>-3.0</td>\n",
       "      <td>NaN</td>\n",
       "      <td>NaN</td>\n",
       "      <td>...</td>\n",
       "      <td>NaN</td>\n",
       "      <td>NaN</td>\n",
       "      <td>242.0</td>\n",
       "      <td>NaN</td>\n",
       "      <td>16.0</td>\n",
       "      <td>141.0</td>\n",
       "      <td>37.277778</td>\n",
       "      <td>NaN</td>\n",
       "      <td>45.0</td>\n",
       "      <td>NaN</td>\n",
       "    </tr>\n",
       "    <tr>\n",
       "      <th>2</th>\n",
       "      <td>30000153</td>\n",
       "      <td>2.0</td>\n",
       "      <td>False</td>\n",
       "      <td>NaN</td>\n",
       "      <td>NaN</td>\n",
       "      <td>NaN</td>\n",
       "      <td>NaN</td>\n",
       "      <td>NaN</td>\n",
       "      <td>NaN</td>\n",
       "      <td>NaN</td>\n",
       "      <td>...</td>\n",
       "      <td>NaN</td>\n",
       "      <td>NaN</td>\n",
       "      <td>NaN</td>\n",
       "      <td>NaN</td>\n",
       "      <td>NaN</td>\n",
       "      <td>NaN</td>\n",
       "      <td>NaN</td>\n",
       "      <td>NaN</td>\n",
       "      <td>50.0</td>\n",
       "      <td>NaN</td>\n",
       "    </tr>\n",
       "    <tr>\n",
       "      <th>3</th>\n",
       "      <td>30000153</td>\n",
       "      <td>3.0</td>\n",
       "      <td>False</td>\n",
       "      <td>NaN</td>\n",
       "      <td>NaN</td>\n",
       "      <td>NaN</td>\n",
       "      <td>NaN</td>\n",
       "      <td>-4.0</td>\n",
       "      <td>19.0</td>\n",
       "      <td>NaN</td>\n",
       "      <td>...</td>\n",
       "      <td>3.1</td>\n",
       "      <td>173.0</td>\n",
       "      <td>215.0</td>\n",
       "      <td>25.3</td>\n",
       "      <td>14.0</td>\n",
       "      <td>116.0</td>\n",
       "      <td>37.500000</td>\n",
       "      <td>NaN</td>\n",
       "      <td>50.0</td>\n",
       "      <td>17.0</td>\n",
       "    </tr>\n",
       "    <tr>\n",
       "      <th>4</th>\n",
       "      <td>30000153</td>\n",
       "      <td>4.0</td>\n",
       "      <td>False</td>\n",
       "      <td>NaN</td>\n",
       "      <td>NaN</td>\n",
       "      <td>NaN</td>\n",
       "      <td>NaN</td>\n",
       "      <td>NaN</td>\n",
       "      <td>NaN</td>\n",
       "      <td>NaN</td>\n",
       "      <td>...</td>\n",
       "      <td>NaN</td>\n",
       "      <td>NaN</td>\n",
       "      <td>NaN</td>\n",
       "      <td>NaN</td>\n",
       "      <td>20.0</td>\n",
       "      <td>111.0</td>\n",
       "      <td>NaN</td>\n",
       "      <td>NaN</td>\n",
       "      <td>45.0</td>\n",
       "      <td>NaN</td>\n",
       "    </tr>\n",
       "  </tbody>\n",
       "</table>\n",
       "<p>5 rows × 51 columns</p>\n",
       "</div>"
      ],
      "text/plain": [
       "         id  time  label  alb  alp  alt  ast   be  bicar  bili  ...  phos  \\\n",
       "0  30000153   0.0  False  NaN  NaN  NaN  NaN  NaN    NaN   NaN  ...   NaN   \n",
       "1  30000153   1.0  False  NaN  NaN  NaN  NaN -3.0    NaN   NaN  ...   NaN   \n",
       "2  30000153   2.0  False  NaN  NaN  NaN  NaN  NaN    NaN   NaN  ...   NaN   \n",
       "3  30000153   3.0  False  NaN  NaN  NaN  NaN -4.0   19.0   NaN  ...   3.1   \n",
       "4  30000153   4.0  False  NaN  NaN  NaN  NaN  NaN    NaN   NaN  ...   NaN   \n",
       "\n",
       "     plt    po2   ptt  resp    sbp       temp  tnt  urine   wbc  \n",
       "0    NaN    NaN   NaN  14.0  124.5  36.000000  NaN  280.0   NaN  \n",
       "1    NaN  242.0   NaN  16.0  141.0  37.277778  NaN   45.0   NaN  \n",
       "2    NaN    NaN   NaN   NaN    NaN        NaN  NaN   50.0   NaN  \n",
       "3  173.0  215.0  25.3  14.0  116.0  37.500000  NaN   50.0  17.0  \n",
       "4    NaN    NaN   NaN  20.0  111.0        NaN  NaN   45.0   NaN  \n",
       "\n",
       "[5 rows x 51 columns]"
      ]
     },
     "execution_count": 31,
     "metadata": {},
     "output_type": "execute_result"
    }
   ],
   "source": [
    "path_figures = Path('../../figures/')\n",
    "\n",
    "miiv_path = '~/Documents/data/ts/miiv/fully_observed/miiv_ts_wide.csv.gz'\n",
    "miiv_path_p = '~/Documents/data/ts/miiv/fully_observed/miiv_ts_wide.parquet'\n",
    "# df = pd.read_csv(miiv_path)\n",
    "df = pd.read_parquet(miiv_path_p)\n",
    "df['time'] = df['time'].apply(lambda x: x.total_seconds() / 60 / 60)\n",
    "df.head()"
   ]
  },
  {
   "cell_type": "code",
   "execution_count": 32,
   "metadata": {},
   "outputs": [],
   "source": [
    "grouped = df.groupby('id')"
   ]
  },
  {
   "attachments": {},
   "cell_type": "markdown",
   "metadata": {},
   "source": [
    "# Define Tests"
   ]
  },
  {
   "cell_type": "code",
   "execution_count": 77,
   "metadata": {},
   "outputs": [],
   "source": [
    "test_variables = {\n",
    "        'CBC': ['hgb', 'mcv', 'mch', 'mchc', 'plt', 'wbc'],\n",
    "        'CBC+diff': ['hgb', 'mcv', 'mch', 'mchc','wbc','plt','lymph','neut'],\n",
    "        'BMP': ['glu', 'bun', 'bicar', 'crea', 'na', 'k', 'cl', 'ca'],\n",
    "        'CMP': ['glu', 'bun', 'bicar', 'crea', 'na', 'k', 'cl', 'ca', 'alb', 'bili', 'alp', 'ast', 'alt'],\n",
    "        'ABG': ['ph', 'pco2', 'po2']\n",
    "}\n",
    "\n",
    "# TODO: add test hierarchy\n",
    "\n",
    "\n",
    "\n",
    "test_costs = {\n",
    "        'CBC': 10,\n",
    "        'CBC+diff': 12,\n",
    "        'BMP': 13,\n",
    "        'CMP': 15,\n",
    "        'ABG': 28\n",
    "}"
   ]
  },
  {
   "cell_type": "code",
   "execution_count": 56,
   "metadata": {},
   "outputs": [],
   "source": [
    "def analyze_test(df: pd.DataFrame, test_variables: dict):\n",
    "    test_num_dict = {}\n",
    "    for test_name, test_vars in test_variables.items():\n",
    "        # print(test_vars)\n",
    "        d = df[test_vars]\n",
    "        d = ~d.isna()\n",
    "        test_num = d.all(axis=1).sum()\n",
    "        # print(d, flush=True)\n",
    "        # break\n",
    "        test_num_dict[test_name] = test_num\n",
    "        # print(test_name, test_num)\n",
    "    return test_num_dict\n",
    "\n",
    "    \n",
    "    "
   ]
  },
  {
   "cell_type": "code",
   "execution_count": 93,
   "metadata": {},
   "outputs": [],
   "source": [
    "def calc_costs(test_nums: dict, test_costs: dict):\n",
    "    total_costs = 0\n",
    "    cost_dict = {}\n",
    "    for test_name, test_num in test_nums.items():\n",
    "        costs = test_num * test_costs[test_name]\n",
    "        cost_dict[test_name] = costs\n",
    "        total_costs += costs\n",
    "    cost_dict = {'total': total_costs, **cost_dict} # total should be first item\n",
    "    \n",
    "    return cost_dict"
   ]
  },
  {
   "cell_type": "code",
   "execution_count": 78,
   "metadata": {},
   "outputs": [
    {
     "name": "stderr",
     "output_type": "stream",
     "text": [
      "100%|██████████| 67056/67056 [01:51<00:00, 602.58it/s]\n"
     ]
    },
    {
     "ename": "NameError",
     "evalue": "name 'calc_costs' is not defined",
     "output_type": "error",
     "traceback": [
      "\u001b[0;31m---------------------------------------------------------------------------\u001b[0m",
      "\u001b[0;31mNameError\u001b[0m                                 Traceback (most recent call last)",
      "Cell \u001b[0;32mIn[78], line 9\u001b[0m\n\u001b[1;32m      5\u001b[0m     \u001b[39m# pprint(temp_dict)\u001b[39;00m\n\u001b[1;32m      6\u001b[0m     test_num_dict_total \u001b[39m+\u001b[39m\u001b[39m=\u001b[39m Counter(temp_dict)\n\u001b[0;32m----> 9\u001b[0m cost_dict \u001b[39m=\u001b[39m calc_costs(\u001b[39mdict\u001b[39m(test_num_dict_total), test_costs)\n\u001b[1;32m     11\u001b[0m pprint(test_num_dict_total)\n\u001b[1;32m     12\u001b[0m pprint(\u001b[39mdict\u001b[39m(test_num_dict_total))\n",
      "\u001b[0;31mNameError\u001b[0m: name 'calc_costs' is not defined"
     ]
    }
   ],
   "source": [
    "test_num_dict_total = Counter({key:0 for key in test_variables.keys()})\n",
    "\n",
    "for name, data in tqdm(grouped):\n",
    "    temp_dict = analyze_test(data, test_variables)\n",
    "    # pprint(temp_dict)\n",
    "    test_num_dict_total += Counter(temp_dict)\n",
    "    \n",
    "    \n",
    "cost_dict = calc_costs(dict(test_num_dict_total), test_costs)\n",
    "\n",
    "pprint(test_num_dict_total)\n",
    "pprint(dict(test_num_dict_total))\n",
    "    "
   ]
  },
  {
   "cell_type": "code",
   "execution_count": 92,
   "metadata": {},
   "outputs": [
    {
     "name": "stdout",
     "output_type": "stream",
     "text": [
      "{'total': 10291160, 'CBC': 2266360, 'BMP': 2709291, 'ABG': 4604068, 'CBC+diff': 372096, 'CMP': 339345}\n"
     ]
    }
   ],
   "source": [
    "cost_dict = calc_costs(dict(test_num_dict_total), test_costs)\n",
    "print(cost_dict)"
   ]
  },
  {
   "cell_type": "code",
   "execution_count": 124,
   "metadata": {},
   "outputs": [
    {
     "data": {
      "image/png": "[encoded data removed]",
      "text/plain": [
       "<Figure size 640x480 with 1 Axes>"
      ]
     },
     "metadata": {},
     "output_type": "display_data"
    }
   ],
   "source": [
    "values = list(cost_dict.values())\n",
    "labels = list(cost_dict.keys())\n",
    "positions = np.arange(len(labels))\n",
    "\n",
    "fig = plt.figure()\n",
    "ax = fig.add_axes([0,0,1,1])\n",
    "ax.bar(positions, values, width=0.75, zorder=2)\n",
    "ax.set_xticks(positions, labels)\n",
    "ax.grid(visible=True, color='lavender')\n",
    "ax.spines[:].set_visible(False)\n",
    "ax.set_ylabel('Costs [€]')\n",
    "\n",
    "# show percentage in each bar\n",
    "for i, v in enumerate(values):\n",
    "    # total number\n",
    "    # ax.text(i, v, str(v), ha='center', va='bottom', color='black')\n",
    "    # percentage\n",
    "    number = f'{str(v)} €'\n",
    "    percentage = f'{round(v / cost_dict[\"total\"] * 100, 2)} %'\n",
    "    # ax.text(i, v + 600000, number, ha='center', va='bottom', color='black')\n",
    "    # ax.text(i, v + 100000, percentage, ha='center', va='bottom', color='black')\n",
    "    ax.text(i, v + 100000, f'{number}\\n{percentage}', ha='center', va='bottom', color='black', rotation=0)\n",
    "\n",
    "ax.text(3, 6000000, 'PRELIMINARY', color='red', fontsize=20, ha='center', va='bottom', rotation=20)\n",
    "\n",
    "plt.savefig(path_figures / 'miiv_lab_costs.pdf', bbox_inches='tight')\n",
    "plt.show()\n"
   ]
  }
 ],
 "metadata": {
  "kernelspec": {
   "display_name": "sepsis_env",
   "language": "python",
   "name": "python3"
  },
  "language_info": {
   "codemirror_mode": {
    "name": "ipython",
    "version": 3
   },
   "file_extension": ".py",
   "mimetype": "text/x-python",
   "name": "python",
   "nbconvert_exporter": "python",
   "pygments_lexer": "ipython3",
   "version": "3.8.10"
  },
  "orig_nbformat": 4,
  "vscode": {
   "interpreter": {
    "hash": "b931a942bc7d2a742ceef9d8bc7c0178d9e86189932c439054c4f2a102ecf034"
   }
  }
 },
 "nbformat": 4,
 "nbformat_minor": 2
}
