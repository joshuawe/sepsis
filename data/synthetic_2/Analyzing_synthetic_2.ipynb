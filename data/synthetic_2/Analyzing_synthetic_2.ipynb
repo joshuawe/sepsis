{
 "cells": [
  {
   "cell_type": "code",
   "execution_count": 1,
   "metadata": {},
   "outputs": [],
   "source": [
    "import pandas as pd\n",
    "import matplotlib.pyplot as plt\n",
    "import numpy as np\n",
    "from pathlib import Path\n",
    "import missingno as msno\n",
    "\n",
    "%matplotlib inline\n",
    "%load_ext autoreload\n",
    "%autoreload 2"
   ]
  },
  {
   "cell_type": "code",
   "execution_count": 6,
   "metadata": {},
   "outputs": [
    {
     "name": "stdout",
     "output_type": "stream",
     "text": [
      "(100000, 7)\n"
     ]
    },
    {
     "data": {
      "text/html": [
       "<div>\n",
       "<style scoped>\n",
       "    .dataframe tbody tr th:only-of-type {\n",
       "        vertical-align: middle;\n",
       "    }\n",
       "\n",
       "    .dataframe tbody tr th {\n",
       "        vertical-align: top;\n",
       "    }\n",
       "\n",
       "    .dataframe thead th {\n",
       "        text-align: right;\n",
       "    }\n",
       "</style>\n",
       "<table border=\"1\" class=\"dataframe\">\n",
       "  <thead>\n",
       "    <tr style=\"text-align: right;\">\n",
       "      <th>variable</th>\n",
       "      <th>id</th>\n",
       "      <th>time</th>\n",
       "      <th>X0_ts</th>\n",
       "      <th>X1_ts</th>\n",
       "      <th>X2_ts</th>\n",
       "      <th>X3_ts</th>\n",
       "      <th>Y_ts</th>\n",
       "    </tr>\n",
       "  </thead>\n",
       "  <tbody>\n",
       "    <tr>\n",
       "      <th>0</th>\n",
       "      <td>0</td>\n",
       "      <td>0</td>\n",
       "      <td>-0.504205</td>\n",
       "      <td>0.713320</td>\n",
       "      <td>0.543657</td>\n",
       "      <td>0.006903</td>\n",
       "      <td>0.0</td>\n",
       "    </tr>\n",
       "    <tr>\n",
       "      <th>1</th>\n",
       "      <td>0</td>\n",
       "      <td>1</td>\n",
       "      <td>-1.078681</td>\n",
       "      <td>0.547127</td>\n",
       "      <td>0.839031</td>\n",
       "      <td>-0.176253</td>\n",
       "      <td>0.0</td>\n",
       "    </tr>\n",
       "    <tr>\n",
       "      <th>2</th>\n",
       "      <td>0</td>\n",
       "      <td>2</td>\n",
       "      <td>0.446764</td>\n",
       "      <td>-0.208496</td>\n",
       "      <td>0.550235</td>\n",
       "      <td>-0.832454</td>\n",
       "      <td>0.0</td>\n",
       "    </tr>\n",
       "    <tr>\n",
       "      <th>3</th>\n",
       "      <td>0</td>\n",
       "      <td>3</td>\n",
       "      <td>1.347463</td>\n",
       "      <td>0.181738</td>\n",
       "      <td>0.630574</td>\n",
       "      <td>0.063319</td>\n",
       "      <td>0.0</td>\n",
       "    </tr>\n",
       "    <tr>\n",
       "      <th>4</th>\n",
       "      <td>0</td>\n",
       "      <td>4</td>\n",
       "      <td>0.027169</td>\n",
       "      <td>0.674259</td>\n",
       "      <td>-0.109590</td>\n",
       "      <td>-0.059911</td>\n",
       "      <td>0.0</td>\n",
       "    </tr>\n",
       "  </tbody>\n",
       "</table>\n",
       "</div>"
      ],
      "text/plain": [
       "variable  id  time     X0_ts     X1_ts     X2_ts     X3_ts  Y_ts\n",
       "0          0     0 -0.504205  0.713320  0.543657  0.006903   0.0\n",
       "1          0     1 -1.078681  0.547127  0.839031 -0.176253   0.0\n",
       "2          0     2  0.446764 -0.208496  0.550235 -0.832454   0.0\n",
       "3          0     3  1.347463  0.181738  0.630574  0.063319   0.0\n",
       "4          0     4  0.027169  0.674259 -0.109590 -0.059911   0.0"
      ]
     },
     "execution_count": 6,
     "metadata": {},
     "output_type": "execute_result"
    }
   ],
   "source": [
    "path_figures = Path('../../figures/')\n",
    "\n",
    "miiv_path = '~/Documents/data/ts/synthetic_2/fully_observed/synthetic_2_ts_eav.csv.gz'\n",
    "# miiv_path_p = '~/Documents/data/ts/miiv/fully_observed/miiv_ts_wide.parquet'\n",
    "df = pd.read_csv(miiv_path)\n",
    "df_wide = pd.pivot_table(df, index=[\"id\", \"time\"], columns=\"variable\", values=\"value\").reset_index(level=[0, 1])\n",
    "# df = pd.read_parquet(miiv_path_p)\n",
    "# df['time'] = df['time'].apply(lambda x: x.total_seconds() / 60 / 60)\n",
    "print(df_wide.shape)\n",
    "df_wide.head()"
   ]
  },
  {
   "cell_type": "code",
   "execution_count": 7,
   "metadata": {},
   "outputs": [
    {
     "data": {
      "text/plain": [
       "variable\n",
       "id       999.500000\n",
       "time      24.500000\n",
       "X0_ts     -0.003799\n",
       "X1_ts     -0.000392\n",
       "X2_ts      0.001221\n",
       "X3_ts      0.000226\n",
       "Y_ts       0.326460\n",
       "dtype: float64"
      ]
     },
     "execution_count": 7,
     "metadata": {},
     "output_type": "execute_result"
    }
   ],
   "source": [
    "df_wide.mean()"
   ]
  },
  {
   "cell_type": "code",
   "execution_count": 8,
   "metadata": {},
   "outputs": [
    {
     "data": {
      "text/plain": [
       "variable\n",
       "id       577.353084\n",
       "time      14.430942\n",
       "X0_ts      0.997833\n",
       "X1_ts      0.905109\n",
       "X2_ts      0.823487\n",
       "X3_ts      0.739904\n",
       "Y_ts       0.468920\n",
       "dtype: float64"
      ]
     },
     "execution_count": 8,
     "metadata": {},
     "output_type": "execute_result"
    }
   ],
   "source": [
    "df_wide.std()"
   ]
  },
  {
   "cell_type": "code",
   "execution_count": null,
   "metadata": {},
   "outputs": [],
   "source": [
    "-0.003799 0.997833\n",
    "-0.000392 0.905109\n",
    "0.001221 0.823487\n",
    "0.000226 0.739904\n",
    "0.326460 0.468920\n",
    "\n",
    "\n",
    "\n",
    "0.997833\n",
    "0.905109\n",
    "0.823487\n",
    "0.739904\n",
    "0.468920"
   ]
  }
 ],
 "metadata": {
  "kernelspec": {
   "display_name": "sepsis_env",
   "language": "python",
   "name": "python3"
  },
  "language_info": {
   "codemirror_mode": {
    "name": "ipython",
    "version": 3
   },
   "file_extension": ".py",
   "mimetype": "text/x-python",
   "name": "python",
   "nbconvert_exporter": "python",
   "pygments_lexer": "ipython3",
   "version": "3.8.10"
  },
  "orig_nbformat": 4,
  "vscode": {
   "interpreter": {
    "hash": "b931a942bc7d2a742ceef9d8bc7c0178d9e86189932c439054c4f2a102ecf034"
   }
  }
 },
 "nbformat": 4,
 "nbformat_minor": 2
}
