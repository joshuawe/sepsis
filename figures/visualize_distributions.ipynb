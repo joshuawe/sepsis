{
 "cells": [
  {
   "cell_type": "markdown",
   "metadata": {},
   "source": [
    "# Visualizing distributions"
   ]
  },
  {
   "cell_type": "code",
   "execution_count": 10,
   "metadata": {},
   "outputs": [],
   "source": [
    "import matplotlib.pyplot as plt\n",
    "import numpy as np\n",
    "import seaborn as sns"
   ]
  },
  {
   "cell_type": "code",
   "execution_count": 78,
   "metadata": {},
   "outputs": [
    {
     "data": {
      "image/png": "[encoded data removed]",
      "text/plain": [
       "<Figure size 288x180 with 1 Axes>"
      ]
     },
     "metadata": {},
     "output_type": "display_data"
    }
   ],
   "source": [
    "# Normal distribution parameters\n",
    "mean_normal = 0\n",
    "variance_normal = 0.7\n",
    "\n",
    "# Bimodal distribution parameters\n",
    "mean_bimodal1 = -1.3\n",
    "mean_bimodal2 = 1.3\n",
    "var_bimodal = 0.4  # You can change this value to adjust the variance of the bimodal distribution\n",
    "\n",
    "# Create a range of x values for plotting\n",
    "x = np.linspace(-3.5, 3.5, 1000)\n",
    "\n",
    "# Calculate the PDF for the normal distribution\n",
    "pdf_normal = (1 / np.sqrt(2 * np.pi * variance_normal)) * np.exp(-(x - mean_normal)**2 / (2 * variance_normal))\n",
    "\n",
    "# Calculate the PDF for the bimodal distribution\n",
    "pdf_bimodal1 = (1 / np.sqrt(2 * np.pi * var_bimodal)) * np.exp(-(x - mean_bimodal1)**2 / (2 * var_bimodal))\n",
    "pdf_bimodal2 = (1 / np.sqrt(2 * np.pi * var_bimodal)) * np.exp(-(x - mean_bimodal2)**2 / (2 * var_bimodal))\n",
    "pdf_bimodal = 0.5 * (pdf_bimodal1 + pdf_bimodal2)\n",
    "\n",
    "# Plot the PDFs\n",
    "sns.set(style=\"whitegrid\")\n",
    "plt.figure(figsize=(4, 2.5))\n",
    "plt.vlines(0, -0.03, 0.50, ls='--', colors='black', zorder=-5)\n",
    "plt.text(0, -0.04, '$\\mu$', ha='center', va='top')\n",
    "color1 = \"C1\"\n",
    "color2 = \"C2\"\n",
    "ax = sns.lineplot(x=x, y=pdf_normal, label='_Normal Distribution (mean=0, var=1)', linewidth=2, color=color1)\n",
    "ax.fill_between(x, pdf_normal, color=color1, alpha=0.2)\n",
    "ax = sns.lineplot(x=x, y=pdf_bimodal, label='_Bimodal Distribution (means=-0.5, 0.5, var={})'.format(var_bimodal), linewidth=2, color=color2)\n",
    "ax.fill_between(x, pdf_bimodal, color=color2, alpha=0.2)\n",
    "# plt.hlines(0, -2, 2, color=)\n",
    "\n",
    "\n",
    "ax.spines[:].set_visible(False)\n",
    "ax.set_yticks([])\n",
    "ax.set_xticks([])\n",
    "ax.set_xlim((-4,4))\n",
    "dx = 3.8\n",
    "dy = -0.003\n",
    "plt.arrow(-dx, dy, 2*dx, 0, head_width=0.01, head_length=0.1, color='black')\n",
    "plt.tight_layout()\n",
    "plt.savefig('visualize_distributions.pdf', bbox_inches='tight')\n",
    "plt.show()"
   ]
  }
 ],
 "metadata": {
  "kernelspec": {
   "display_name": "Python 3.8.8 ('DAISE')",
   "language": "python",
   "name": "python3"
  },
  "language_info": {
   "codemirror_mode": {
    "name": "ipython",
    "version": 3
   },
   "file_extension": ".py",
   "mimetype": "text/x-python",
   "name": "python",
   "nbconvert_exporter": "python",
   "pygments_lexer": "ipython3",
   "version": "3.8.8"
  },
  "orig_nbformat": 4,
  "vscode": {
   "interpreter": {
    "hash": "b7127394069c59b3e0a87889d015a4cb13dd6b789ec38fb3f2e56bf1398f48fc"
   }
  }
 },
 "nbformat": 4,
 "nbformat_minor": 2
}
