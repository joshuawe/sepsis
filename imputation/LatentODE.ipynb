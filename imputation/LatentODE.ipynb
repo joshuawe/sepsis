{
 "cells": [
  {
   "cell_type": "code",
   "execution_count": 10,
   "metadata": {},
   "outputs": [],
   "source": [
    "import torch\n",
    "import torch.nn as nn\n",
    "import torch.optim as optim\n",
    "\n",
    "from lib.latent_ode import LatentODE\n",
    "from lib.create_latent_ode_model import create_LatentODE_model, LatentODE\n",
    "from lib.parse_datasets import parse_datasets\n",
    "\n",
    "class Args():\n",
    "    def __init__(self) -> None:\n",
    "        self.info = \"I am Args class.\""
   ]
  },
  {
   "cell_type": "code",
   "execution_count": 19,
   "metadata": {},
   "outputs": [
    {
     "ename": "AttributeError",
     "evalue": "'Args' object has no attribute 'gru_units'",
     "output_type": "error",
     "traceback": [
      "\u001b[0;31m---------------------------------------------------------------------------\u001b[0m",
      "\u001b[0;31mAttributeError\u001b[0m                            Traceback (most recent call last)",
      "Cell \u001b[0;32mIn [19], line 19\u001b[0m\n\u001b[1;32m     15\u001b[0m args\u001b[39m.\u001b[39mz0_encoder \u001b[39m=\u001b[39m \u001b[39m'\u001b[39m\u001b[39modernn\u001b[39m\u001b[39m'\u001b[39m\n\u001b[1;32m     16\u001b[0m \u001b[39m# data_obj = parse_datasets(args, device)\u001b[39;00m\n\u001b[1;32m     17\u001b[0m \u001b[39m# input_dim = data_obj[\"input_dim\"]\u001b[39;00m\n\u001b[0;32m---> 19\u001b[0m net \u001b[39m=\u001b[39m create_LatentODE_model(args, input_dim, z0_prior, obsrv_std, device, \n\u001b[1;32m     20\u001b[0m \tclassif_per_tp \u001b[39m=\u001b[39;49m \u001b[39mFalse\u001b[39;49;00m, n_labels \u001b[39m=\u001b[39;49m \u001b[39m1\u001b[39;49m)\n",
      "File \u001b[0;32m~/Documents/sepsis/imputation/latent_ode/lib/create_latent_ode_model.py:75\u001b[0m, in \u001b[0;36mcreate_LatentODE_model\u001b[0;34m(args, input_dim, z0_prior, obsrv_std, device, classif_per_tp, n_labels)\u001b[0m\n\u001b[1;32m     65\u001b[0m \trec_ode_func \u001b[39m=\u001b[39m ODEFunc(\n\u001b[1;32m     66\u001b[0m \t\tinput_dim \u001b[39m=\u001b[39m enc_input_dim, \n\u001b[1;32m     67\u001b[0m \t\tlatent_dim \u001b[39m=\u001b[39m n_rec_dims,\n\u001b[1;32m     68\u001b[0m \t\tode_func_net \u001b[39m=\u001b[39m ode_func_net,\n\u001b[1;32m     69\u001b[0m \t\tdevice \u001b[39m=\u001b[39m device)\u001b[39m.\u001b[39mto(device)\n\u001b[1;32m     71\u001b[0m \tz0_diffeq_solver \u001b[39m=\u001b[39m DiffeqSolver(enc_input_dim, rec_ode_func, \u001b[39m\"\u001b[39m\u001b[39meuler\u001b[39m\u001b[39m\"\u001b[39m, args\u001b[39m.\u001b[39mlatents, \n\u001b[1;32m     72\u001b[0m \t\todeint_rtol \u001b[39m=\u001b[39m \u001b[39m1e-3\u001b[39m, odeint_atol \u001b[39m=\u001b[39m \u001b[39m1e-4\u001b[39m, device \u001b[39m=\u001b[39m device)\n\u001b[1;32m     74\u001b[0m \tencoder_z0 \u001b[39m=\u001b[39m Encoder_z0_ODE_RNN(n_rec_dims, enc_input_dim, z0_diffeq_solver, \n\u001b[0;32m---> 75\u001b[0m \t\tz0_dim \u001b[39m=\u001b[39m z0_dim, n_gru_units \u001b[39m=\u001b[39m args\u001b[39m.\u001b[39;49mgru_units, device \u001b[39m=\u001b[39m device)\u001b[39m.\u001b[39mto(device)\n\u001b[1;32m     77\u001b[0m \u001b[39melif\u001b[39;00m args\u001b[39m.\u001b[39mz0_encoder \u001b[39m==\u001b[39m \u001b[39m\"\u001b[39m\u001b[39mrnn\u001b[39m\u001b[39m\"\u001b[39m:\n\u001b[1;32m     78\u001b[0m \tencoder_z0 \u001b[39m=\u001b[39m Encoder_z0_RNN(z0_dim, enc_input_dim,\n\u001b[1;32m     79\u001b[0m \t\tlstm_output_size \u001b[39m=\u001b[39m n_rec_dims, device \u001b[39m=\u001b[39m device)\u001b[39m.\u001b[39mto(device)\n",
      "\u001b[0;31mAttributeError\u001b[0m: 'Args' object has no attribute 'gru_units'"
     ]
    }
   ],
   "source": [
    "device = torch.device(\"cuda:0\" if torch.cuda.is_available() else \"cpu\")\n",
    "input_dim = 10\n",
    "z0_prior = torch.distributions.Normal(torch.Tensor([0.0]).to(device), torch.Tensor([1.]).to(device))\n",
    "obsrv_std = 0.01\n",
    "classif_per_tp = False\n",
    "n_labels = 1\n",
    "\n",
    "args = Args()\n",
    "args.latents = 10\n",
    "args.poisson = 1\n",
    "args.gen_layers = 1\n",
    "args.rec_layers = 1\n",
    "args.units = 100\n",
    "args.rec_dims = 20\n",
    "args.z0_encoder = 'odernn'\n",
    "args\n",
    "# data_obj = parse_datasets(args, device)\n",
    "# input_dim = data_obj[\"input_dim\"]\n",
    "\n",
    "net = create_LatentODE_model(args, input_dim, z0_prior, obsrv_std, device, \n",
    "\tclassif_per_tp = False, n_labels = 1)"
   ]
  }
 ],
 "metadata": {
  "kernelspec": {
   "display_name": "Python 3.8.10 ('latentOdeEnv': venv)",
   "language": "python",
   "name": "python3"
  },
  "language_info": {
   "codemirror_mode": {
    "name": "ipython",
    "version": 3
   },
   "file_extension": ".py",
   "mimetype": "text/x-python",
   "name": "python",
   "nbconvert_exporter": "python",
   "pygments_lexer": "ipython3",
   "version": "3.8.10"
  },
  "orig_nbformat": 4,
  "vscode": {
   "interpreter": {
    "hash": "ee0fe2528b47082eac6d517df081b1842c91ad387dd19b6ee5b68126a864a457"
   }
  }
 },
 "nbformat": 4,
 "nbformat_minor": 2
}
