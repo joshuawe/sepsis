{
 "cells": [
  {
   "cell_type": "code",
   "execution_count": 6,
   "metadata": {},
   "outputs": [
    {
     "name": "stdout",
     "output_type": "stream",
     "text": [
      "The autoreload extension is already loaded. To reload it, use:\n",
      "  %reload_ext autoreload\n"
     ]
    }
   ],
   "source": [
    "import numpy as np\n",
    "import torch\n",
    "import torch.optim as optim\n",
    "import models\n",
    "import utils\n",
    "import matplotlib.pyplot as plt\n",
    "%matplotlib inline\n",
    "%load_ext autoreload\n",
    "%autoreload 2"
   ]
  },
  {
   "cell_type": "code",
   "execution_count": 8,
   "metadata": {},
   "outputs": [
    {
     "name": "stderr",
     "output_type": "stream",
     "text": [
      "usage: ipykernel_launcher.py [-h] [--niters NITERS] [--lr LR]\n",
      "                             [--latent-dim LATENT_DIM]\n",
      "                             [--rec-hidden REC_HIDDEN] [--width WIDTH]\n",
      "                             [--embed-time EMBED_TIME]\n",
      "                             [--num-ref-points NUM_REF_POINTS]\n",
      "                             [--k-iwae K_IWAE] [--save] [--seed SEED] [--n N]\n",
      "                             [--batch-size BATCH_SIZE] [--norm]\n",
      "                             [--kl-annealing] [--kl-zero]\n",
      "                             [--enc-num-heads ENC_NUM_HEADS]\n",
      "                             [--dataset DATASET] [--dropout DROPOUT]\n",
      "                             [--intensity] [--net NET] [--const-var]\n",
      "                             [--var-per-dim] [--std STD]\n",
      "                             [--sample-tp SAMPLE_TP] [--bound-variance]\n",
      "                             [--shuffle] [--recon-loss]\n",
      "                             [--normalize-input NORMALIZE_INPUT]\n",
      "                             [--mse-weight MSE_WEIGHT]\n",
      "                             [--elbo-weight ELBO_WEIGHT] [--mixing MIXING]\n",
      "ipykernel_launcher.py: error: unrecognized arguments: --ip=127.0.0.1 --stdin=9008 --control=9006 --hb=9005 --Session.signature_scheme=\"hmac-sha256\" --Session.key=b\"023905c8-d325-44f2-9f4a-54a828fe318a\" --shell=9007 --transport=\"tcp\" --iopub=9009 --f=/home2/joshua.wendland/.local/share/jupyter/runtime/kernel-v2-5855nWT5yttSRdg2.json\n"
     ]
    },
    {
     "ename": "SystemExit",
     "evalue": "2",
     "output_type": "error",
     "traceback": [
      "An exception has occurred, use %tb to see the full traceback.\n",
      "\u001b[0;31mSystemExit\u001b[0m\u001b[0;31m:\u001b[0m 2\n"
     ]
    }
   ],
   "source": [
    "from imputation.hetvae.src.train import HETVAE"
   ]
  },
  {
   "cell_type": "code",
   "execution_count": 9,
   "metadata": {},
   "outputs": [
    {
     "data": {
      "text/plain": [
       "4"
      ]
     },
     "execution_count": 9,
     "metadata": {},
     "output_type": "execute_result"
    }
   ],
   "source": [
    "2+2"
   ]
  }
 ],
 "metadata": {
  "kernelspec": {
   "display_name": "sepsis_env",
   "language": "python",
   "name": "python3"
  },
  "language_info": {
   "codemirror_mode": {
    "name": "ipython",
    "version": 3
   },
   "file_extension": ".py",
   "mimetype": "text/x-python",
   "name": "python",
   "nbconvert_exporter": "python",
   "pygments_lexer": "ipython3",
   "version": "3.8.10"
  },
  "orig_nbformat": 4,
  "vscode": {
   "interpreter": {
    "hash": "b931a942bc7d2a742ceef9d8bc7c0178d9e86189932c439054c4f2a102ecf034"
   }
  }
 },
 "nbformat": 4,
 "nbformat_minor": 2
}
