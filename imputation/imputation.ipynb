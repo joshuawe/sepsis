{
 "cells": [
  {
   "cell_type": "markdown",
   "metadata": {},
   "source": [
    "# Imputing\n",
    "\n",
    "Let's impute the missingness away!\n",
    "\n",
    "In this Notebook we will have a look at various imputation methods and compare their results and performances.  \n",
    "Compared imputation methods:\n",
    " + LOCF (last observed carried forward)\n",
    " + NOCB (next observation carried backward)\n",
    " + Mean imputation\n",
    " + Median imputation\n",
    " + BRITS (Single imputation)\n",
    " + SAITS (Single imputation)\n",
    " + mTAN (Multiple imputation)\n"
   ]
  },
  {
   "cell_type": "code",
   "execution_count": 5,
   "metadata": {},
   "outputs": [
    {
     "name": "stdout",
     "output_type": "stream",
     "text": [
      "The autoreload extension is already loaded. To reload it, use:\n",
      "  %reload_ext autoreload\n"
     ]
    },
    {
     "name": "stderr",
     "output_type": "stream",
     "text": [
      "/home2/joshua.wendland/Documents/sepsis/sepsis_env/lib/python3.8/site-packages/tqdm/auto.py:22: TqdmWarning: IProgress not found. Please update jupyter and ipywidgets. See https://ipywidgets.readthedocs.io/en/stable/user_install.html\n",
      "  from .autonotebook import tqdm as notebook_tqdm\n"
     ]
    }
   ],
   "source": [
    "%load_ext autoreload\n",
    "%autoreload 2\n",
    "\n",
    "from toy_dataset import data_utils\n",
    "import matplotlib.pyplot as plt\n",
    "import numpy as np"
   ]
  },
  {
   "cell_type": "markdown",
   "metadata": {},
   "source": [
    "# Load Dataset\n",
    "\n",
    "Here we create mcar missingness.\n"
   ]
  },
  {
   "cell_type": "code",
   "execution_count": 6,
   "metadata": {},
   "outputs": [],
   "source": [
    "name = 'toydataset_small'\n",
    "path = data_utils.datasets_dict[name]['path']\n",
    "dataset = data_utils.ToyDataDf(path)\n",
    "\n",
    "error_dict = dict()\n",
    "# The missingness ratios to be evaluated\n",
    "missingness = np.linspace(0.1,0.9,9)\n",
    "# How many times should the imputation be repeated (and then take average)\n",
    "repeat_imputation = 100"
   ]
  },
  {
   "cell_type": "markdown",
   "metadata": {},
   "source": [
    "# Simple Imputations\n",
    " \n",
    "Next we are looking at these basic imputation methods.\n",
    "\n",
    "+ Mean\n",
    "+ Median\n",
    "+ LOCF\n",
    "+ NOCB\n",
    "\n",
    "As the data in a time series can be subject to different phenomena, the different basic imputation methods perform different depending on the phenomena. These phenomena can be:  \n",
    "\n",
    "+ no trend or seasonality (fig1)\n",
    "+ has trend, but no seasonality (fig2)\n",
    "+ has seasonality, but no trend (fig3)\n",
    "+ has both trend and seasonality (fig4)\n",
    "\n",
    "<center>\n",
    "    <img src=\"https://www.kaggleusercontent.com/kf/1924745/eyJhbGciOiJkaXIiLCJlbmMiOiJBMTI4Q0JDLUhTMjU2In0..PhbwefajbtA-A0DXFrb2wg.UVB5orqrpslXWr9Bw-7gSalXdzYrqEYkRxTVIX43RGAp5Jp05W7oDH18dLxcTxcI92OlgkHnzYUJ6GQpdgRfvqJkBgy-UMl8g7OJ_U3ioeBIE9hD2OnhUfsHk4nByvHpfGG9tbE1EFgDgkssrvBXrpm_fiJ22sQ-yRi-DlCNJKfPE7pj8mVcESw2BA7CezJn1WXEItaCIdgqWbwRS4geOjOOl3BlY-vfV5r66dNbApL7ttC587gnIfdkG71AjMA0y-VHhfxrk4axcgmWJ5jFPfb0ZFx8W8lLByaMZxxxpZ26Y3j1jRLlk9AthhrcQhVoiHdqA-7JwFBeybkyAeA7LO6tMy0MHQ6iU0bhPgMkuB2IJY5DhanvAVeD8DZfaaUSWysx-jBVUE4RraBpVXJZirSJek6r3CyqRavIHQoIluUBGLPDNm1abW-k7w_1gR-5ZM072a8BlgFUzjsZvDK469VrCRQa-TQ9WhpaK1TbCnTeWSD02sSEAX5VMsFHZ0z1jtA1KKbSelt8hjKFGfWWevO85xccmtGltPz-cWGmxIaazoLyMQ4k2ZJqThSBlYPltGD5F0yl9rPGOpz77ErFnhIWZmIgoQJbNRkqzxIZvtTIZs0LjAUWJplF2hoP_KOZf07GysFwerkZsX_xz-19dt3MkWgVfpfWisaCfHUS-IYl0NrG54rKco__fjBac0_q.exxO0U1aYlTCABkuSntLzA/__results___files/figure-html/unnamed-chunk-1-1.png\" alt=\"\" style=\"width:500px;height:350px;\"> \n",
    "    <br>\n",
    "    Image from <a href=\"https://www.kaggle.com/code/juejuewang/handle-missing-values-in-time-series-for-beginners/report\">Kaggle</a>.\n",
    "\n",
    "</center>\n",
    "\n",
    "\n",
    "\n",
    "\n",
    "### Mean Imputation\n",
    "\n",
    "The dataset is a collection of many individual time series, which can potentially have different lengths. Missing values are filled with the mean of the *corresponding time series*."
   ]
  },
  {
   "cell_type": "code",
   "execution_count": 15,
   "metadata": {},
   "outputs": [
    {
     "name": "stderr",
     "output_type": "stream",
     "text": [
      "100%|██████████| 9/9 [00:19<00:00,  2.17s/it]\n"
     ]
    }
   ],
   "source": [
    "name = 'mean'\n",
    "impute_func = dataset.impute_mean\n",
    "error_dict = dataset.get_mse_impute(name, error_dict, impute_func, missingness, repeat_imputation)"
   ]
  },
  {
   "cell_type": "markdown",
   "metadata": {},
   "source": [
    "### Median Imputation\n",
    "\n",
    "Same as for Mean Imputation, the mean is calculated for each time series."
   ]
  },
  {
   "cell_type": "code",
   "execution_count": 16,
   "metadata": {},
   "outputs": [
    {
     "name": "stderr",
     "output_type": "stream",
     "text": [
      "100%|██████████| 9/9 [00:23<00:00,  2.56s/it]\n"
     ]
    }
   ],
   "source": [
    "name = 'median'\n",
    "impute_func = dataset.impute_median\n",
    "error_dict = dataset.get_mse_impute(name, error_dict, impute_func, missingness, repeat_imputation)"
   ]
  },
  {
   "cell_type": "markdown",
   "metadata": {},
   "source": [
    "### LOCF Imputation"
   ]
  },
  {
   "cell_type": "code",
   "execution_count": 17,
   "metadata": {},
   "outputs": [
    {
     "name": "stderr",
     "output_type": "stream",
     "text": [
      "100%|██████████| 9/9 [00:17<00:00,  1.91s/it]\n"
     ]
    }
   ],
   "source": [
    "name = 'LOCF'\n",
    "impute_func = dataset.impute_LOCF\n",
    "error_dict = dataset.get_mse_impute(name, error_dict, impute_func, missingness, repeat_imputation)"
   ]
  },
  {
   "cell_type": "markdown",
   "metadata": {},
   "source": [
    "### NOCB Imputation"
   ]
  },
  {
   "cell_type": "code",
   "execution_count": 18,
   "metadata": {},
   "outputs": [
    {
     "name": "stderr",
     "output_type": "stream",
     "text": [
      "100%|██████████| 9/9 [00:17<00:00,  1.90s/it]\n"
     ]
    }
   ],
   "source": [
    "name = 'NOCB'\n",
    "impute_func = dataset.impute_NOCB\n",
    "error_dict = dataset.get_mse_impute(name, error_dict, impute_func, missingness, repeat_imputation)"
   ]
  },
  {
   "cell_type": "markdown",
   "metadata": {},
   "source": [
    "# More sophisticated Imputation methods\n",
    "\n",
    "Let us look at more sophisticated imputation methods, such as Single Imputation methods, that try to approximate the conditional mean: \n",
    "\n",
    "$$\\mathbb{E} [ ~ p(X_\\text{miss} | X_\\text{obs}, \\theta) ~ ]  \\qquad \\leftarrow \\text{Cond. mean} \\quad$$ \n",
    "\n",
    "On the other hand we also look at a Multiple Imputation method, that does not try to approximate the conditional mean, but the entire probability density function:\n",
    "\n",
    "$$X_\\text{miss} \\sim ~ p(X_\\text{miss} | X_\\text{obs}, \\theta)$$\n",
    "\n",
    "\n",
    "## Single Imputation\n",
    "\n",
    "We look at the following Single Imputation methods:\n",
    "\n",
    "+ SAITS\n",
    "+ BRITS\n",
    "\n",
    "### SAITS"
   ]
  },
  {
   "cell_type": "code",
   "execution_count": 19,
   "metadata": {},
   "outputs": [
    {
     "name": "stderr",
     "output_type": "stream",
     "text": [
      "100%|██████████| 9/9 [00:06<00:00,  1.38it/s]\n"
     ]
    }
   ],
   "source": [
    "name = 'SAITS'\n",
    "impute_func = dataset.impute_SAITS\n",
    "error_dict = dataset.get_mse_impute(name, error_dict, impute_func, missingness, repeat_imputation)"
   ]
  },
  {
   "cell_type": "markdown",
   "metadata": {},
   "source": [
    "### BRITS"
   ]
  },
  {
   "cell_type": "code",
   "execution_count": 20,
   "metadata": {},
   "outputs": [
    {
     "name": "stderr",
     "output_type": "stream",
     "text": [
      "100%|██████████| 9/9 [00:22<00:00,  2.51s/it]\n"
     ]
    }
   ],
   "source": [
    "name = 'BRITS'\n",
    "impute_func = dataset.impute_BRITS\n",
    "error_dict = dataset.get_mse_impute(name, error_dict, impute_func, missingness, repeat_imputation)"
   ]
  },
  {
   "cell_type": "markdown",
   "metadata": {},
   "source": [
    "# Multiple Imputation - mTAN\n",
    "\n",
    "We will look at the **mTAN** imputation."
   ]
  },
  {
   "cell_type": "code",
   "execution_count": null,
   "metadata": {},
   "outputs": [],
   "source": []
  },
  {
   "cell_type": "markdown",
   "metadata": {},
   "source": [
    "# Visualize results\n"
   ]
  },
  {
   "cell_type": "code",
   "execution_count": 21,
   "metadata": {},
   "outputs": [
    {
     "data": {
      "image/png": "[encoded data removed]",
      "text/plain": [
       "<Figure size 640x480 with 1 Axes>"
      ]
     },
     "metadata": {},
     "output_type": "display_data"
    }
   ],
   "source": [
    "fig = plt.figure()\n",
    "plt.title(f'Comparing imputation on {dataset.name}')\n",
    "plt.ylabel('MSE [-]')\n",
    "plt.xlabel('Missingness [%]')\n",
    "for key in error_dict.keys():\n",
    "    print(key)\n",
    "    plt.plot(missingness*100, error_dict[key], marker='o', ms=3, label=key)\n",
    "plt.legend(loc='best')\n",
    "plt.show()\n"
   ]
  },
  {
   "cell_type": "code",
   "execution_count": null,
   "metadata": {},
   "outputs": [],
   "source": []
  }
 ],
 "metadata": {
  "kernelspec": {
   "display_name": "Python 3.8.10 ('sepsis_env': venv)",
   "language": "python",
   "name": "python3"
  },
  "language_info": {
   "codemirror_mode": {
    "name": "ipython",
    "version": 3
   },
   "file_extension": ".py",
   "mimetype": "text/x-python",
   "name": "python",
   "nbconvert_exporter": "python",
   "pygments_lexer": "ipython3",
   "version": "3.8.10"
  },
  "orig_nbformat": 4,
  "vscode": {
   "interpreter": {
    "hash": "b931a942bc7d2a742ceef9d8bc7c0178d9e86189932c439054c4f2a102ecf034"
   }
  }
 },
 "nbformat": 4,
 "nbformat_minor": 2
}
