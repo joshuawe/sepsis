{
 "cells": [
  {
   "cell_type": "code",
   "execution_count": 43,
   "metadata": {},
   "outputs": [],
   "source": [
    "import torch\n",
    "import torch.nn as nn\n",
    "import torch.optim as optim\n",
    "import os\n",
    "# cwd = os.getcwd()\n",
    "# import sys\n",
    "# sys.path.insert(1,cwd + \"/latent_ODE\")\n",
    "# print(cwd)\n",
    "# print(cwd + \"/latent_ODE\")\n",
    "# print(sys.path)\n",
    "\n",
    "from lib.latent_ode import LatentODE\n",
    "from lib.create_latent_ode_model import create_LatentODE_model, LatentODE\n",
    "from lib.parse_datasets import parse_datasets\n",
    "from lib.utils import get_ckpt_model\n",
    "\n",
    "import latentODE_utils\n",
    "\n"
   ]
  },
  {
   "cell_type": "markdown",
   "metadata": {},
   "source": [
    "# Prepare the Net and instantiate it"
   ]
  },
  {
   "cell_type": "code",
   "execution_count": 49,
   "metadata": {},
   "outputs": [
    {
     "name": "stdout",
     "output_type": "stream",
     "text": [
      "LatentODE(\n",
      "  (encoder_z0): Encoder_z0_ODE_RNN(\n",
      "    (GRU_update): GRU_unit(\n",
      "      (update_gate): Sequential(\n",
      "        (0): Linear(in_features=42, out_features=100, bias=True)\n",
      "        (1): Tanh()\n",
      "        (2): Linear(in_features=100, out_features=20, bias=True)\n",
      "        (3): Sigmoid()\n",
      "      )\n",
      "      (reset_gate): Sequential(\n",
      "        (0): Linear(in_features=42, out_features=100, bias=True)\n",
      "        (1): Tanh()\n",
      "        (2): Linear(in_features=100, out_features=20, bias=True)\n",
      "        (3): Sigmoid()\n",
      "      )\n",
      "      (new_state_net): Sequential(\n",
      "        (0): Linear(in_features=42, out_features=100, bias=True)\n",
      "        (1): Tanh()\n",
      "        (2): Linear(in_features=100, out_features=40, bias=True)\n",
      "      )\n",
      "    )\n",
      "    (z0_diffeq_solver): DiffeqSolver(\n",
      "      (ode_func): ODEFunc(\n",
      "        (gradient_net): Sequential(\n",
      "          (0): Linear(in_features=20, out_features=100, bias=True)\n",
      "          (1): Tanh()\n",
      "          (2): Linear(in_features=100, out_features=100, bias=True)\n",
      "          (3): Tanh()\n",
      "          (4): Linear(in_features=100, out_features=20, bias=True)\n",
      "        )\n",
      "      )\n",
      "    )\n",
      "    (transform_z0): Sequential(\n",
      "      (0): Linear(in_features=40, out_features=100, bias=True)\n",
      "      (1): Tanh()\n",
      "      (2): Linear(in_features=100, out_features=12, bias=True)\n",
      "    )\n",
      "  )\n",
      "  (diffeq_solver): DiffeqSolver(\n",
      "    (ode_func): ODEFunc(\n",
      "      (gradient_net): Sequential(\n",
      "        (0): Linear(in_features=6, out_features=100, bias=True)\n",
      "        (1): Tanh()\n",
      "        (2): Linear(in_features=100, out_features=100, bias=True)\n",
      "        (3): Tanh()\n",
      "        (4): Linear(in_features=100, out_features=6, bias=True)\n",
      "      )\n",
      "    )\n",
      "  )\n",
      "  (decoder): Decoder(\n",
      "    (decoder): Sequential(\n",
      "      (0): Linear(in_features=6, out_features=1, bias=True)\n",
      "    )\n",
      "  )\n",
      ")\n"
     ]
    }
   ],
   "source": [
    "new_args = ['--niters', '500', ',-n', '1000', '-s', '50', '-l', '10', '--dataset', 'periodic',  '--latent-ode', '--noise-weight', '0.01']\n",
    "args = latentODE_utils.parse_args('')\n",
    "\n",
    "device = torch.device(\"cuda:0\" if torch.cuda.is_available() else \"cpu\")\n",
    "data_obj = parse_datasets(args, device)\n",
    "input_dim = data_obj[\"input_dim\"]\n",
    "z0_prior = torch.distributions.Normal(torch.Tensor([0.0]).to(device), torch.Tensor([1.]).to(device))\n",
    "obsrv_std = 0.01\n",
    "obsrv_std = torch.Tensor([obsrv_std]).to(device)\n",
    "\n",
    "\n",
    "model = create_LatentODE_model(args, input_dim, z0_prior, obsrv_std, device, \n",
    "\tclassif_per_tp = False, n_labels = 1)\n",
    "\n",
    "print(model)"
   ]
  },
  {
   "cell_type": "markdown",
   "metadata": {},
   "source": [
    "# Load the checkpoint"
   ]
  },
  {
   "cell_type": "code",
   "execution_count": 50,
   "metadata": {},
   "outputs": [
    {
     "ename": "RuntimeError",
     "evalue": "Error(s) in loading state_dict for LatentODE:\n\tsize mismatch for encoder_z0.transform_z0.2.weight: copying a param with shape torch.Size([20, 100]) from checkpoint, the shape in current model is torch.Size([12, 100]).\n\tsize mismatch for encoder_z0.transform_z0.2.bias: copying a param with shape torch.Size([20]) from checkpoint, the shape in current model is torch.Size([12]).\n\tsize mismatch for diffeq_solver.ode_func.gradient_net.0.weight: copying a param with shape torch.Size([100, 10]) from checkpoint, the shape in current model is torch.Size([100, 6]).\n\tsize mismatch for diffeq_solver.ode_func.gradient_net.4.weight: copying a param with shape torch.Size([10, 100]) from checkpoint, the shape in current model is torch.Size([6, 100]).\n\tsize mismatch for diffeq_solver.ode_func.gradient_net.4.bias: copying a param with shape torch.Size([10]) from checkpoint, the shape in current model is torch.Size([6]).\n\tsize mismatch for decoder.decoder.0.weight: copying a param with shape torch.Size([1, 10]) from checkpoint, the shape in current model is torch.Size([1, 6]).",
     "output_type": "error",
     "traceback": [
      "\u001b[0;31m---------------------------------------------------------------------------\u001b[0m",
      "\u001b[0;31mRuntimeError\u001b[0m                              Traceback (most recent call last)",
      "Cell \u001b[0;32mIn [50], line 6\u001b[0m\n\u001b[1;32m      3\u001b[0m checkpoint_path \u001b[39m=\u001b[39m \u001b[39m'\u001b[39m\u001b[39mexperiments/experiment_2257.ckpt\u001b[39m\u001b[39m'\u001b[39m\n\u001b[1;32m      4\u001b[0m checkpoint_path \u001b[39m=\u001b[39m \u001b[39m'\u001b[39m\u001b[39mexperiments/experiment_11781.ckpt\u001b[39m\u001b[39m'\u001b[39m\n\u001b[0;32m----> 6\u001b[0m get_ckpt_model(checkpoint_path, model, device)\n",
      "File \u001b[0;32m~/Documents/sepsis/imputation/latent_ode/lib/utils.py:265\u001b[0m, in \u001b[0;36mget_ckpt_model\u001b[0;34m(ckpt_path, model, device)\u001b[0m\n\u001b[1;32m    263\u001b[0m model_dict\u001b[39m.\u001b[39mupdate(state_dict) \n\u001b[1;32m    264\u001b[0m \u001b[39m# 3. load the new state dict\u001b[39;00m\n\u001b[0;32m--> 265\u001b[0m model\u001b[39m.\u001b[39;49mload_state_dict(state_dict)\n\u001b[1;32m    266\u001b[0m model\u001b[39m.\u001b[39mto(device)\n",
      "File \u001b[0;32m~/Documents/sepsis/imputation/latent_ode/latentOdeEnv/lib/python3.8/site-packages/torch/nn/modules/module.py:1667\u001b[0m, in \u001b[0;36mModule.load_state_dict\u001b[0;34m(self, state_dict, strict)\u001b[0m\n\u001b[1;32m   1662\u001b[0m         error_msgs\u001b[39m.\u001b[39minsert(\n\u001b[1;32m   1663\u001b[0m             \u001b[39m0\u001b[39m, \u001b[39m'\u001b[39m\u001b[39mMissing key(s) in state_dict: \u001b[39m\u001b[39m{}\u001b[39;00m\u001b[39m. \u001b[39m\u001b[39m'\u001b[39m\u001b[39m.\u001b[39mformat(\n\u001b[1;32m   1664\u001b[0m                 \u001b[39m'\u001b[39m\u001b[39m, \u001b[39m\u001b[39m'\u001b[39m\u001b[39m.\u001b[39mjoin(\u001b[39m'\u001b[39m\u001b[39m\"\u001b[39m\u001b[39m{}\u001b[39;00m\u001b[39m\"\u001b[39m\u001b[39m'\u001b[39m\u001b[39m.\u001b[39mformat(k) \u001b[39mfor\u001b[39;00m k \u001b[39min\u001b[39;00m missing_keys)))\n\u001b[1;32m   1666\u001b[0m \u001b[39mif\u001b[39;00m \u001b[39mlen\u001b[39m(error_msgs) \u001b[39m>\u001b[39m \u001b[39m0\u001b[39m:\n\u001b[0;32m-> 1667\u001b[0m     \u001b[39mraise\u001b[39;00m \u001b[39mRuntimeError\u001b[39;00m(\u001b[39m'\u001b[39m\u001b[39mError(s) in loading state_dict for \u001b[39m\u001b[39m{}\u001b[39;00m\u001b[39m:\u001b[39m\u001b[39m\\n\u001b[39;00m\u001b[39m\\t\u001b[39;00m\u001b[39m{}\u001b[39;00m\u001b[39m'\u001b[39m\u001b[39m.\u001b[39mformat(\n\u001b[1;32m   1668\u001b[0m                        \u001b[39mself\u001b[39m\u001b[39m.\u001b[39m\u001b[39m__class__\u001b[39m\u001b[39m.\u001b[39m\u001b[39m__name__\u001b[39m, \u001b[39m\"\u001b[39m\u001b[39m\\n\u001b[39;00m\u001b[39m\\t\u001b[39;00m\u001b[39m\"\u001b[39m\u001b[39m.\u001b[39mjoin(error_msgs)))\n\u001b[1;32m   1669\u001b[0m \u001b[39mreturn\u001b[39;00m _IncompatibleKeys(missing_keys, unexpected_keys)\n",
      "\u001b[0;31mRuntimeError\u001b[0m: Error(s) in loading state_dict for LatentODE:\n\tsize mismatch for encoder_z0.transform_z0.2.weight: copying a param with shape torch.Size([20, 100]) from checkpoint, the shape in current model is torch.Size([12, 100]).\n\tsize mismatch for encoder_z0.transform_z0.2.bias: copying a param with shape torch.Size([20]) from checkpoint, the shape in current model is torch.Size([12]).\n\tsize mismatch for diffeq_solver.ode_func.gradient_net.0.weight: copying a param with shape torch.Size([100, 10]) from checkpoint, the shape in current model is torch.Size([100, 6]).\n\tsize mismatch for diffeq_solver.ode_func.gradient_net.4.weight: copying a param with shape torch.Size([10, 100]) from checkpoint, the shape in current model is torch.Size([6, 100]).\n\tsize mismatch for diffeq_solver.ode_func.gradient_net.4.bias: copying a param with shape torch.Size([10]) from checkpoint, the shape in current model is torch.Size([6]).\n\tsize mismatch for decoder.decoder.0.weight: copying a param with shape torch.Size([1, 10]) from checkpoint, the shape in current model is torch.Size([1, 6])."
     ]
    }
   ],
   "source": [
    "checkpoint_path = 'experiments/experiment_17168.ckpt'\n",
    "checkpoint_path = 'experiments/experiment_1610.ckpt'\n",
    "checkpoint_path = 'experiments/experiment_2257.ckpt'\n",
    "checkpoint_path = 'experiments/experiment_11781.ckpt'\n",
    "\n",
    "get_ckpt_model(checkpoint_path, model, device)"
   ]
  },
  {
   "cell_type": "code",
   "execution_count": null,
   "metadata": {},
   "outputs": [],
   "source": []
  },
  {
   "cell_type": "code",
   "execution_count": 22,
   "metadata": {},
   "outputs": [
    {
     "name": "stdout",
     "output_type": "stream",
     "text": [
      "dict_keys(['args', 'state_dict'])\n",
      "odict_keys(['encoder_z0.GRU_update.update_gate.0.weight', 'encoder_z0.GRU_update.update_gate.0.bias', 'encoder_z0.GRU_update.update_gate.2.weight', 'encoder_z0.GRU_update.update_gate.2.bias', 'encoder_z0.GRU_update.reset_gate.0.weight', 'encoder_z0.GRU_update.reset_gate.0.bias', 'encoder_z0.GRU_update.reset_gate.2.weight', 'encoder_z0.GRU_update.reset_gate.2.bias', 'encoder_z0.GRU_update.new_state_net.0.weight', 'encoder_z0.GRU_update.new_state_net.0.bias', 'encoder_z0.GRU_update.new_state_net.2.weight', 'encoder_z0.GRU_update.new_state_net.2.bias', 'encoder_z0.z0_diffeq_solver.ode_func.gradient_net.0.weight', 'encoder_z0.z0_diffeq_solver.ode_func.gradient_net.0.bias', 'encoder_z0.z0_diffeq_solver.ode_func.gradient_net.2.weight', 'encoder_z0.z0_diffeq_solver.ode_func.gradient_net.2.bias', 'encoder_z0.z0_diffeq_solver.ode_func.gradient_net.4.weight', 'encoder_z0.z0_diffeq_solver.ode_func.gradient_net.4.bias', 'encoder_z0.z0_diffeq_solver.ode_func.gradient_net.6.weight', 'encoder_z0.z0_diffeq_solver.ode_func.gradient_net.6.bias', 'encoder_z0.transform_z0.0.weight', 'encoder_z0.transform_z0.0.bias', 'encoder_z0.transform_z0.2.weight', 'encoder_z0.transform_z0.2.bias', 'diffeq_solver.ode_func.gradient_net.0.weight', 'diffeq_solver.ode_func.gradient_net.0.bias', 'diffeq_solver.ode_func.gradient_net.2.weight', 'diffeq_solver.ode_func.gradient_net.2.bias', 'diffeq_solver.ode_func.gradient_net.4.weight', 'diffeq_solver.ode_func.gradient_net.4.bias', 'diffeq_solver.ode_func.gradient_net.6.weight', 'diffeq_solver.ode_func.gradient_net.6.bias', 'decoder.decoder.0.weight', 'decoder.decoder.0.bias'])\n"
     ]
    }
   ],
   "source": [
    "print(checkpoint.keys())\n",
    "print(checkpoint['state_dict'].keys())"
   ]
  }
 ],
 "metadata": {
  "kernelspec": {
   "display_name": "Python 3.8.10 ('latentOdeEnv': venv)",
   "language": "python",
   "name": "python3"
  },
  "language_info": {
   "codemirror_mode": {
    "name": "ipython",
    "version": 3
   },
   "file_extension": ".py",
   "mimetype": "text/x-python",
   "name": "python",
   "nbconvert_exporter": "python",
   "pygments_lexer": "ipython3",
   "version": "3.8.10"
  },
  "orig_nbformat": 4,
  "vscode": {
   "interpreter": {
    "hash": "ee0fe2528b47082eac6d517df081b1842c91ad387dd19b6ee5b68126a864a457"
   }
  }
 },
 "nbformat": 4,
 "nbformat_minor": 2
}
