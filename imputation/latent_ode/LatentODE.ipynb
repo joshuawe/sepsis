{
 "cells": [
  {
   "cell_type": "code",
   "execution_count": 3,
   "metadata": {},
   "outputs": [
    {
     "name": "stdout",
     "output_type": "stream",
     "text": [
      "/home2/joshua.wendland/Documents/sepsis/imputation\n",
      "/home2/joshua.wendland/Documents/sepsis/imputation/latent_ODE\n",
      "['/home2/joshua.wendland/Documents/sepsis/imputation', '/home2/joshua.wendland/Documents/sepsis/imputation/latent_ODE', '/home2/joshua.wendland/Documents/sepsis/imputation/latent_ODE', '/home2/joshua.wendland/Documents/sepsis/imputation/latent_ODE/lib', '/usr/lib/python38.zip', '/usr/lib/python3.8', '/usr/lib/python3.8/lib-dynload', '', '/home2/joshua.wendland/Documents/sepsis/imputation/latent_ode/latentOdeEnv/lib/python3.8/site-packages']\n"
     ]
    },
    {
     "ename": "ModuleNotFoundError",
     "evalue": "No module named 'lib'",
     "output_type": "error",
     "traceback": [
      "\u001b[0;31m---------------------------------------------------------------------------\u001b[0m",
      "\u001b[0;31mModuleNotFoundError\u001b[0m                       Traceback (most recent call last)",
      "Cell \u001b[0;32mIn [3], line 15\u001b[0m\n\u001b[1;32m     12\u001b[0m \u001b[39mimport\u001b[39;00m \u001b[39mlatent_ode\u001b[39;00m\u001b[39m.\u001b[39;00m\u001b[39mlib\u001b[39;00m \u001b[39mas\u001b[39;00m \u001b[39mlib\u001b[39;00m\n\u001b[1;32m     13\u001b[0m \u001b[39m#from latent_ode.lib.latent_ode import LatentODE\u001b[39;00m\n\u001b[1;32m     14\u001b[0m \u001b[39m#from latent_ode.lib.create_latent_ode_model import create_LatentODE_model, LatentODE\u001b[39;00m\n\u001b[0;32m---> 15\u001b[0m \u001b[39mfrom\u001b[39;00m \u001b[39mlatent_ode\u001b[39;00m\u001b[39m.\u001b[39;00m\u001b[39mlib\u001b[39;00m\u001b[39m.\u001b[39;00m\u001b[39mparse_datasets\u001b[39;00m \u001b[39mimport\u001b[39;00m parse_datasets\n\u001b[1;32m     18\u001b[0m \u001b[39mimport\u001b[39;00m \u001b[39mlatentODE_utils\u001b[39;00m\n\u001b[1;32m     20\u001b[0m \u001b[39mclass\u001b[39;00m \u001b[39mArgs\u001b[39;00m():\n",
      "File \u001b[0;32m~/Documents/sepsis/imputation/latent_ode/lib/parse_datasets.py:12\u001b[0m\n\u001b[1;32m      9\u001b[0m \u001b[39mimport\u001b[39;00m \u001b[39mtorch\u001b[39;00m\n\u001b[1;32m     10\u001b[0m \u001b[39mimport\u001b[39;00m \u001b[39mtorch\u001b[39;00m\u001b[39m.\u001b[39;00m\u001b[39mnn\u001b[39;00m \u001b[39mas\u001b[39;00m \u001b[39mnn\u001b[39;00m\n\u001b[0;32m---> 12\u001b[0m \u001b[39mimport\u001b[39;00m \u001b[39mlib\u001b[39;00m\u001b[39m.\u001b[39;00m\u001b[39mutils\u001b[39;00m \u001b[39mas\u001b[39;00m \u001b[39mutils\u001b[39;00m\n\u001b[1;32m     13\u001b[0m \u001b[39mfrom\u001b[39;00m \u001b[39mlib\u001b[39;00m\u001b[39m.\u001b[39;00m\u001b[39mdiffeq_solver\u001b[39;00m \u001b[39mimport\u001b[39;00m DiffeqSolver\n\u001b[1;32m     14\u001b[0m \u001b[39mfrom\u001b[39;00m \u001b[39mgenerate_timeseries\u001b[39;00m \u001b[39mimport\u001b[39;00m Periodic_1d\n",
      "\u001b[0;31mModuleNotFoundError\u001b[0m: No module named 'lib'"
     ]
    }
   ],
   "source": [
    "import torch\n",
    "import torch.nn as nn\n",
    "import torch.optim as optim\n",
    "import os\n",
    "cwd = os.getcwd()\n",
    "import sys\n",
    "sys.path.insert(1,cwd + \"/latent_ODE\")\n",
    "print(cwd)\n",
    "print(cwd + \"/latent_ODE\")\n",
    "print(sys.path)\n",
    "\n",
    "import latent_ode.lib as lib\n",
    "#from latent_ode.lib.latent_ode import LatentODE\n",
    "#from latent_ode.lib.create_latent_ode_model import create_LatentODE_model, LatentODE\n",
    "from latent_ode.lib.parse_datasets import parse_datasets\n",
    "\n",
    "\n",
    "import latentODE_utils\n",
    "\n",
    "class Args():\n",
    "    def __init__(self) -> None:\n",
    "        self.info = \"I am Args class.\""
   ]
  },
  {
   "cell_type": "code",
   "execution_count": 19,
   "metadata": {},
   "outputs": [
    {
     "ename": "AttributeError",
     "evalue": "'Args' object has no attribute 'gru_units'",
     "output_type": "error",
     "traceback": [
      "\u001b[0;31m---------------------------------------------------------------------------\u001b[0m",
      "\u001b[0;31mAttributeError\u001b[0m                            Traceback (most recent call last)",
      "Cell \u001b[0;32mIn [19], line 19\u001b[0m\n\u001b[1;32m     15\u001b[0m args\u001b[39m.\u001b[39mz0_encoder \u001b[39m=\u001b[39m \u001b[39m'\u001b[39m\u001b[39modernn\u001b[39m\u001b[39m'\u001b[39m\n\u001b[1;32m     16\u001b[0m \u001b[39m# data_obj = parse_datasets(args, device)\u001b[39;00m\n\u001b[1;32m     17\u001b[0m \u001b[39m# input_dim = data_obj[\"input_dim\"]\u001b[39;00m\n\u001b[0;32m---> 19\u001b[0m net \u001b[39m=\u001b[39m create_LatentODE_model(args, input_dim, z0_prior, obsrv_std, device, \n\u001b[1;32m     20\u001b[0m \tclassif_per_tp \u001b[39m=\u001b[39;49m \u001b[39mFalse\u001b[39;49;00m, n_labels \u001b[39m=\u001b[39;49m \u001b[39m1\u001b[39;49m)\n",
      "File \u001b[0;32m~/Documents/sepsis/imputation/latent_ode/lib/create_latent_ode_model.py:75\u001b[0m, in \u001b[0;36mcreate_LatentODE_model\u001b[0;34m(args, input_dim, z0_prior, obsrv_std, device, classif_per_tp, n_labels)\u001b[0m\n\u001b[1;32m     65\u001b[0m \trec_ode_func \u001b[39m=\u001b[39m ODEFunc(\n\u001b[1;32m     66\u001b[0m \t\tinput_dim \u001b[39m=\u001b[39m enc_input_dim, \n\u001b[1;32m     67\u001b[0m \t\tlatent_dim \u001b[39m=\u001b[39m n_rec_dims,\n\u001b[1;32m     68\u001b[0m \t\tode_func_net \u001b[39m=\u001b[39m ode_func_net,\n\u001b[1;32m     69\u001b[0m \t\tdevice \u001b[39m=\u001b[39m device)\u001b[39m.\u001b[39mto(device)\n\u001b[1;32m     71\u001b[0m \tz0_diffeq_solver \u001b[39m=\u001b[39m DiffeqSolver(enc_input_dim, rec_ode_func, \u001b[39m\"\u001b[39m\u001b[39meuler\u001b[39m\u001b[39m\"\u001b[39m, args\u001b[39m.\u001b[39mlatents, \n\u001b[1;32m     72\u001b[0m \t\todeint_rtol \u001b[39m=\u001b[39m \u001b[39m1e-3\u001b[39m, odeint_atol \u001b[39m=\u001b[39m \u001b[39m1e-4\u001b[39m, device \u001b[39m=\u001b[39m device)\n\u001b[1;32m     74\u001b[0m \tencoder_z0 \u001b[39m=\u001b[39m Encoder_z0_ODE_RNN(n_rec_dims, enc_input_dim, z0_diffeq_solver, \n\u001b[0;32m---> 75\u001b[0m \t\tz0_dim \u001b[39m=\u001b[39m z0_dim, n_gru_units \u001b[39m=\u001b[39m args\u001b[39m.\u001b[39;49mgru_units, device \u001b[39m=\u001b[39m device)\u001b[39m.\u001b[39mto(device)\n\u001b[1;32m     77\u001b[0m \u001b[39melif\u001b[39;00m args\u001b[39m.\u001b[39mz0_encoder \u001b[39m==\u001b[39m \u001b[39m\"\u001b[39m\u001b[39mrnn\u001b[39m\u001b[39m\"\u001b[39m:\n\u001b[1;32m     78\u001b[0m \tencoder_z0 \u001b[39m=\u001b[39m Encoder_z0_RNN(z0_dim, enc_input_dim,\n\u001b[1;32m     79\u001b[0m \t\tlstm_output_size \u001b[39m=\u001b[39m n_rec_dims, device \u001b[39m=\u001b[39m device)\u001b[39m.\u001b[39mto(device)\n",
      "\u001b[0;31mAttributeError\u001b[0m: 'Args' object has no attribute 'gru_units'"
     ]
    }
   ],
   "source": [
    "device = torch.device(\"cuda:0\" if torch.cuda.is_available() else \"cpu\")\n",
    "input_dim = 10\n",
    "z0_prior = torch.distributions.Normal(torch.Tensor([0.0]).to(device), torch.Tensor([1.]).to(device))\n",
    "obsrv_std = 0.01\n",
    "classif_per_tp = False\n",
    "n_labels = 1\n",
    "\n",
    "args = Args()\n",
    "args.latents = 10\n",
    "args.poisson = 1\n",
    "args.gen_layers = 1\n",
    "args.rec_layers = 1\n",
    "args.units = 100\n",
    "args.rec_dims = 20\n",
    "args.z0_encoder = 'odernn'\n",
    "args\n",
    "# data_obj = parse_datasets(args, device)\n",
    "# input_dim = data_obj[\"input_dim\"]\n",
    "\n",
    "net = create_LatentODE_model(args, input_dim, z0_prior, obsrv_std, device, \n",
    "\tclassif_per_tp = False, n_labels = 1)"
   ]
  },
  {
   "cell_type": "code",
   "execution_count": null,
   "metadata": {},
   "outputs": [],
   "source": [
    "args = "
   ]
  }
 ],
 "metadata": {
  "kernelspec": {
   "display_name": "Python 3.8.10 ('latentOdeEnv': venv)",
   "language": "python",
   "name": "python3"
  },
  "language_info": {
   "codemirror_mode": {
    "name": "ipython",
    "version": 3
   },
   "file_extension": ".py",
   "mimetype": "text/x-python",
   "name": "python",
   "nbconvert_exporter": "python",
   "pygments_lexer": "ipython3",
   "version": "3.8.10"
  },
  "orig_nbformat": 4,
  "vscode": {
   "interpreter": {
    "hash": "ee0fe2528b47082eac6d517df081b1842c91ad387dd19b6ee5b68126a864a457"
   }
  }
 },
 "nbformat": 4,
 "nbformat_minor": 2
}
