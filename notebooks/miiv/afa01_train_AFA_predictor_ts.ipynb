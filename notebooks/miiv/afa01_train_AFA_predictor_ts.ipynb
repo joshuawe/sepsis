{
 "cells": [
  {
   "cell_type": "markdown",
   "id": "8c30e44e-52d6-4634-b522-c267d9d25c18",
   "metadata": {},
   "source": [
    "# (1) Train predicator (classifier) for AFA \n",
    "The AFA problem contains the training of a classifier that is able to predict well based on any acquired subset of features. \n",
    "In this notebook we train and save such a classifier "
   ]
  },
  {
   "cell_type": "code",
   "execution_count": 1,
   "id": "8ef781ed-4103-4ab3-9f58-0839da5b5655",
   "metadata": {},
   "outputs": [],
   "source": [
    "%load_ext autoreload\n",
    "%autoreload 2"
   ]
  },
  {
   "cell_type": "markdown",
   "id": "57977939-d5d3-4f0c-bd02-170beb177566",
   "metadata": {},
   "source": [
    "## Define paths"
   ]
  },
  {
   "cell_type": "markdown",
   "id": "de01ecb4-228b-4953-bca7-390eeeb74aa7",
   "metadata": {},
   "source": [
    "Paths for data"
   ]
  },
  {
   "cell_type": "code",
   "execution_count": 27,
   "id": "d48c5748-725f-4cc6-80b9-908f1b32664d",
   "metadata": {},
   "outputs": [],
   "source": [
    "from afa.configurations.utils_ts import specify_default_paths_ts\n",
    "# which dataset to work on \n",
    "dataset_name   = \"synthetic_1\"\n",
    "dataset_name   = \"miiv\"\n",
    "\n",
    "# name for of missingness scenario, if there is none put in None\n",
    "miss_scenario  = 'MCAR_1'\n",
    "miss_scenario = None\n",
    "\n",
    "# automatically specify some path locations (change paths manually if needed) \n",
    "paths = specify_default_paths_ts(dataset_name = dataset_name , miss_scenario = miss_scenario) \n",
    "\n",
    "paths['data_file']          = '../../../data/ts/miiv/fully_observed/miiv_static.parquet'\n",
    "paths['temporal_data_file'] = '../../../data/ts/miiv/fully_observed/miiv_ts_wide.parquet'"
   ]
  },
  {
   "cell_type": "markdown",
   "id": "d86f309b-441c-4c0b-a6d8-89837df5a91f",
   "metadata": {},
   "source": [
    "Paths for model"
   ]
  },
  {
   "cell_type": "code",
   "execution_count": 28,
   "id": "f28e2e44-576f-4371-9ab8-001a0ab989e9",
   "metadata": {},
   "outputs": [],
   "source": [
    "# name for predictor \n",
    "predictor_model_name  = 'logistic_regression'\n",
    "\n",
    "# new (where to save the model) \n",
    "predictor_model_dir = paths['data_dir'] + 'predictor_models' + '/' + predictor_model_name + '/'"
   ]
  },
  {
   "cell_type": "markdown",
   "id": "0c26bb79-a599-4ec2-8714-395774f29e86",
   "metadata": {},
   "source": [
    "## Load dataset with missingness \n",
    "At first, we want to load the dataset \n",
    "\n",
    "Includes loading: \n",
    "- superfeature mapping\n",
    "- problem\n",
    "- afa_problem \n",
    "- missingness_model"
   ]
  },
  {
   "cell_type": "code",
   "execution_count": 4,
   "id": "e389e952-73f7-4961-aaf3-7da80d5ebc9a",
   "metadata": {},
   "outputs": [
    {
     "name": "stderr",
     "output_type": "stream",
     "text": [
      "2023-03-01 15:34:45.475278: I tensorflow/core/platform/cpu_feature_guard.cc:193] This TensorFlow binary is optimized with oneAPI Deep Neural Network Library (oneDNN) to use the following CPU instructions in performance-critical operations:  AVX2 FMA\n",
      "To enable them in other operations, rebuild TensorFlow with the appropriate compiler flags.\n",
      "2023-03-01 15:35:03.233740: W tensorflow/compiler/xla/stream_executor/platform/default/dso_loader.cc:64] Could not load dynamic library 'libcudart.so.11.0'; dlerror: libcudart.so.11.0: cannot open shared object file: No such file or directory\n",
      "2023-03-01 15:35:03.233756: I tensorflow/compiler/xla/stream_executor/cuda/cudart_stub.cc:29] Ignore above cudart dlerror if you do not have a GPU set up on your machine.\n",
      "2023-03-01 15:36:16.066015: W tensorflow/compiler/xla/stream_executor/platform/default/dso_loader.cc:64] Could not load dynamic library 'libnvinfer.so.7'; dlerror: libnvinfer.so.7: cannot open shared object file: No such file or directory\n",
      "2023-03-01 15:36:16.066114: W tensorflow/compiler/xla/stream_executor/platform/default/dso_loader.cc:64] Could not load dynamic library 'libnvinfer_plugin.so.7'; dlerror: libnvinfer_plugin.so.7: cannot open shared object file: No such file or directory\n",
      "2023-03-01 15:36:16.066120: W tensorflow/compiler/tf2tensorrt/utils/py_utils.cc:38] TF-TRT Warning: Cannot dlopen some TensorRT libraries. If you would like to use Nvidia GPU with TensorRT, please make sure the missing libraries mentioned above are installed properly.\n"
     ]
    }
   ],
   "source": [
    "from afa.data_modelling.datasets.data_loader.data_loader_ts import DataLoader_ts"
   ]
  },
  {
   "cell_type": "code",
   "execution_count": 32,
   "id": "42cd08c0-44c4-4f01-88d7-33ccd11bc28a",
   "metadata": {},
   "outputs": [
    {
     "name": "stderr",
     "output_type": "stream",
     "text": [
      "Padding sequence: 100%|██████████| 67056/67056 [03:05<00:00, 362.22it/s]\n",
      "Padding sequence: 100%|██████████| 67056/67056 [04:42<00:00, 237.73it/s]\n",
      "Padding sequence: 100%|██████████| 67056/67056 [03:02<00:00, 368.03it/s]\n"
     ]
    }
   ],
   "source": [
    "data_loader = DataLoader_ts(     data_file                  = paths['data_file'],\n",
    "                                 temporal_data_file         = paths['temporal_data_file'],\n",
    "                                 superfeature_mapping_file  = paths['superfeature_mapping_file'],\n",
    "                                 problem_file               = paths['problem_file'],\n",
    "                                 afa_problem_files          = paths['afa_problem_files'], \n",
    "                                 miss_model_files           = paths['miss_model_files'], \n",
    "                                 folds_file                 = paths['folds_file'] )\n",
    "dataset = data_loader.load(temporal_is_wide=True, temporal_only_nrows=None) "
   ]
  },
  {
   "cell_type": "markdown",
   "id": "3539523a-b1e7-4b8f-b010-3082ae3817ff",
   "metadata": {},
   "source": [
    "## Create afa dataset with missingness \n",
    "To train an AFA predictor, we need to induce artificial missingness (such that the predictor is robust to the missingness pattern). \n",
    "Here, we use a simple model to create missingness randomly (MCAR)."
   ]
  },
  {
   "cell_type": "code",
   "execution_count": 30,
   "id": "f443fefb-ebed-4e35-bd9a-3b10988dc31a",
   "metadata": {},
   "outputs": [],
   "source": [
    "from afa.afa_datasets.utils_ts import create_MCAR_afa_dataset_ts"
   ]
  },
  {
   "cell_type": "code",
   "execution_count": 33,
   "id": "b8f3bc2c-8c2c-407b-9d28-b8779a262a7e",
   "metadata": {},
   "outputs": [
    {
     "name": "stdout",
     "output_type": "stream",
     "text": [
      "Change base_model to stationary_constant\n",
      "Change base_model to stationary_constant\n",
      "Set weight for constant stationary model ...\n",
      "Set weight for constant stationary model ...\n"
     ]
    }
   ],
   "source": [
    "MCAR_ratio = 0.9   # Probability of being obsered, 1 - MCAR_ration is the prob. of being missing\n",
    "n_samples = 5      # how many times to induce missingness ???\n",
    "afa_dataset = create_MCAR_afa_dataset_ts( dataset, MCAR_ratio=MCAR_ratio, n_samples=n_samples)"
   ]
  },
  {
   "cell_type": "markdown",
   "id": "7c25e9b6-f18b-47fb-9240-58efb84201ca",
   "metadata": {},
   "source": [
    "## Train Predictor "
   ]
  },
  {
   "cell_type": "markdown",
   "id": "ea987f31-febe-4053-9b9e-10dca7a72cfd",
   "metadata": {},
   "source": [
    "### Initialize predictor "
   ]
  },
  {
   "cell_type": "code",
   "execution_count": 34,
   "id": "39e3df59-098e-4ccb-a5ee-9ba6e9f0c29b",
   "metadata": {},
   "outputs": [],
   "source": [
    "from afa.afa_models.afa_predictors.afa_predictor_ts import AFAPredictor_ts"
   ]
  },
  {
   "cell_type": "code",
   "execution_count": 35,
   "id": "c4921f92-6e4c-49df-803a-682423b8e0bf",
   "metadata": {
    "tags": []
   },
   "outputs": [],
   "source": [
    "predictor_model_params = {\n",
    "    'name' : predictor_model_name, \n",
    "    'directory': predictor_model_dir,\n",
    "    'base_model_params' : {   'model_type': 'ImputeThenRegress',\n",
    "                              'imputer_params' : \n",
    "                                       {   \n",
    "                                      'model_type': 'simple_imputer',\n",
    "                                      'mode' : 'imputation'\n",
    "                                      },\n",
    "                              'predictor_params' : \n",
    "                                       {   \n",
    "                                      'model_type': 'ann',\n",
    "                                      'mode' : 'classification',\n",
    "                                      'units':              1,\n",
    "                                      'layers': 1,\n",
    "                                      'learning_rate': 0.01,\n",
    "                                      'batch_size' :128,\n",
    "                                      'epochs': 100 \n",
    "                                      }\n",
    "                          }\n",
    "    }"
   ]
  },
  {
   "cell_type": "code",
   "execution_count": 36,
   "id": "399aeb50-ea4b-4d63-985d-b241a332e52e",
   "metadata": {},
   "outputs": [
    {
     "name": "stderr",
     "output_type": "stream",
     "text": [
      "2023-03-01 16:24:41.229316: I tensorflow/compiler/xla/stream_executor/cuda/cuda_gpu_executor.cc:981] successful NUMA node read from SysFS had negative value (-1), but there must be at least one NUMA node, so returning NUMA node zero\n",
      "2023-03-01 16:24:41.230297: W tensorflow/compiler/xla/stream_executor/platform/default/dso_loader.cc:64] Could not load dynamic library 'libcudart.so.11.0'; dlerror: libcudart.so.11.0: cannot open shared object file: No such file or directory\n",
      "2023-03-01 16:24:41.257144: W tensorflow/compiler/xla/stream_executor/platform/default/dso_loader.cc:64] Could not load dynamic library 'libcublas.so.11'; dlerror: libcublas.so.11: cannot open shared object file: No such file or directory\n",
      "2023-03-01 16:24:41.257637: W tensorflow/compiler/xla/stream_executor/platform/default/dso_loader.cc:64] Could not load dynamic library 'libcublasLt.so.11'; dlerror: libcublasLt.so.11: cannot open shared object file: No such file or directory\n",
      "2023-03-01 16:24:41.293867: W tensorflow/compiler/xla/stream_executor/platform/default/dso_loader.cc:64] Could not load dynamic library 'libcusolver.so.11'; dlerror: libcusolver.so.11: cannot open shared object file: No such file or directory\n",
      "2023-03-01 16:24:41.294414: W tensorflow/compiler/xla/stream_executor/platform/default/dso_loader.cc:64] Could not load dynamic library 'libcusparse.so.11'; dlerror: libcusparse.so.11: cannot open shared object file: No such file or directory\n",
      "2023-03-01 16:24:41.294925: W tensorflow/compiler/xla/stream_executor/platform/default/dso_loader.cc:64] Could not load dynamic library 'libcudnn.so.8'; dlerror: libcudnn.so.8: cannot open shared object file: No such file or directory\n",
      "2023-03-01 16:24:41.294932: W tensorflow/core/common_runtime/gpu/gpu_device.cc:1934] Cannot dlopen some GPU libraries. Please make sure the missing libraries mentioned above are installed properly if you would like to use GPU. Follow the guide at https://www.tensorflow.org/install/gpu for how to download and setup the required libraries for your platform.\n",
      "Skipping registering GPU devices...\n",
      "2023-03-01 16:24:41.551273: I tensorflow/core/platform/cpu_feature_guard.cc:193] This TensorFlow binary is optimized with oneAPI Deep Neural Network Library (oneDNN) to use the following CPU instructions in performance-critical operations:  AVX2 FMA\n",
      "To enable them in other operations, rebuild TensorFlow with the appropriate compiler flags.\n"
     ]
    }
   ],
   "source": [
    "afa_predictor = AFAPredictor_ts(    name            = predictor_model_params['name'], \n",
    "                                    model_params    = predictor_model_params, \n",
    "                                    directory       = predictor_model_params['directory'])   "
   ]
  },
  {
   "cell_type": "code",
   "execution_count": 37,
   "id": "2b521049-ef7e-4b80-8a50-015475834a14",
   "metadata": {
    "tags": []
   },
   "outputs": [
    {
     "name": "stdout",
     "output_type": "stream",
     "text": [
      "WARNING:tensorflow:`period` argument is deprecated. Please use `save_freq` to specify the frequency in number of batches seen.\n"
     ]
    },
    {
     "name": "stderr",
     "output_type": "stream",
     "text": [
      "2023-03-01 16:24:58.586566: I tensorflow/core/profiler/lib/profiler_session.cc:101] Profiler session initializing.\n",
      "2023-03-01 16:24:58.586584: I tensorflow/core/profiler/lib/profiler_session.cc:116] Profiler session started.\n",
      "2023-03-01 16:24:58.606841: I tensorflow/core/profiler/backends/gpu/cupti_tracer.cc:1664] Profiler found 1 GPUs\n",
      "2023-03-01 16:24:58.626579: W tensorflow/compiler/xla/stream_executor/platform/default/dso_loader.cc:64] Could not load dynamic library 'libcupti.so.11.2'; dlerror: libcupti.so.11.2: cannot open shared object file: No such file or directory\n",
      "2023-03-01 16:24:58.655943: I tensorflow/core/profiler/lib/profiler_session.cc:128] Profiler session tear down.\n",
      "2023-03-01 16:24:58.655992: I tensorflow/core/profiler/backends/gpu/cupti_tracer.cc:1798] CUPTI activity buffer flushed\n"
     ]
    },
    {
     "name": "stdout",
     "output_type": "stream",
     "text": [
      "Epoch 1/100\n",
      " 25/943 [..............................] - ETA: 1s - loss: 106.4885 - binary_accuracy: 0.5266       "
     ]
    },
    {
     "name": "stderr",
     "output_type": "stream",
     "text": [
      "2023-03-01 16:25:03.415597: I tensorflow/core/profiler/lib/profiler_session.cc:101] Profiler session initializing.\n",
      "2023-03-01 16:25:03.415615: I tensorflow/core/profiler/lib/profiler_session.cc:116] Profiler session started.\n",
      "2023-03-01 16:25:03.489385: I tensorflow/core/profiler/lib/profiler_session.cc:67] Profiler session collecting data.\n",
      "2023-03-01 16:25:03.489540: I tensorflow/core/profiler/backends/gpu/cupti_tracer.cc:1798] CUPTI activity buffer flushed\n"
     ]
    },
    {
     "name": "stdout",
     "output_type": "stream",
     "text": [
      "173/943 [====>.........................] - ETA: 1s - loss: 19.4799 - binary_accuracy: 0.9194"
     ]
    },
    {
     "name": "stderr",
     "output_type": "stream",
     "text": [
      "2023-03-01 16:25:03.618180: I tensorflow/core/profiler/backends/gpu/cupti_collector.cc:522]  GpuTracer has collected 0 callback api events and 0 activity events. \n",
      "2023-03-01 16:25:03.618544: I tensorflow/core/profiler/lib/profiler_session.cc:128] Profiler session tear down.\n",
      "2023-03-01 16:25:03.708969: I tensorflow/core/profiler/rpc/client/save_profile.cc:164] Collecting XSpace to repository: ../../../data/ts/miiv/fully_observed/predictor_models/logistic_regression/logs/20230301-162458/plugins/profile/2023_03_01_16_25_03/ws-211009.xplane.pb\n"
     ]
    },
    {
     "name": "stdout",
     "output_type": "stream",
     "text": [
      "943/943 [==============================] - 4s 1ms/step - loss: 4.3364 - binary_accuracy: 0.9651 - val_loss: 0.2245 - val_binary_accuracy: 0.9667\n",
      "Epoch 2/100\n",
      "943/943 [==============================] - 1s 783us/step - loss: 0.6558 - binary_accuracy: 0.9763 - val_loss: 0.0996 - val_binary_accuracy: 0.9847\n",
      "Epoch 3/100\n",
      "943/943 [==============================] - 1s 778us/step - loss: 0.7841 - binary_accuracy: 0.9771 - val_loss: 0.8731 - val_binary_accuracy: 0.9856\n",
      "Epoch 4/100\n",
      "943/943 [==============================] - 1s 780us/step - loss: 0.6458 - binary_accuracy: 0.9793 - val_loss: 0.9260 - val_binary_accuracy: 0.9630\n",
      "Epoch 5/100\n",
      "943/943 [==============================] - 1s 780us/step - loss: 0.6805 - binary_accuracy: 0.9772 - val_loss: 0.2517 - val_binary_accuracy: 0.9854\n",
      "Epoch 6/100\n",
      "943/943 [==============================] - 1s 793us/step - loss: 0.9706 - binary_accuracy: 0.9761 - val_loss: 2.6678 - val_binary_accuracy: 0.9856\n",
      "Epoch 7/100\n",
      "943/943 [==============================] - 1s 783us/step - loss: 0.7898 - binary_accuracy: 0.9789 - val_loss: 0.0984 - val_binary_accuracy: 0.9812\n",
      "Epoch 8/100\n",
      "943/943 [==============================] - 1s 784us/step - loss: 0.8569 - binary_accuracy: 0.9768 - val_loss: 0.9200 - val_binary_accuracy: 0.9814\n",
      "Epoch 9/100\n",
      "943/943 [==============================] - 1s 793us/step - loss: 0.7254 - binary_accuracy: 0.9764 - val_loss: 0.5693 - val_binary_accuracy: 0.9856\n",
      "Epoch 10/100\n",
      "872/943 [==========================>...] - ETA: 0s - loss: 1.0545 - binary_accuracy: 0.9749\n",
      "Epoch 10: saving model to ../../../data/ts/miiv/fully_observed/predictor_models/logistic_regression/cp.ckpt\n",
      "943/943 [==============================] - 1s 1ms/step - loss: 1.0430 - binary_accuracy: 0.9749 - val_loss: 0.8019 - val_binary_accuracy: 0.9856\n",
      "Epoch 11/100\n",
      "943/943 [==============================] - 1s 765us/step - loss: 0.7055 - binary_accuracy: 0.9776 - val_loss: 0.0877 - val_binary_accuracy: 0.9856\n",
      "Epoch 12/100\n",
      "943/943 [==============================] - 1s 777us/step - loss: 0.6877 - binary_accuracy: 0.9783 - val_loss: 0.3351 - val_binary_accuracy: 0.9081\n",
      "Epoch 13/100\n",
      "943/943 [==============================] - 1s 779us/step - loss: 1.0627 - binary_accuracy: 0.9759 - val_loss: 0.1225 - val_binary_accuracy: 0.9855\n",
      "Epoch 14/100\n",
      "943/943 [==============================] - 1s 776us/step - loss: 0.5395 - binary_accuracy: 0.9795 - val_loss: 0.2685 - val_binary_accuracy: 0.9856\n",
      "Epoch 15/100\n",
      "943/943 [==============================] - 1s 789us/step - loss: 0.9490 - binary_accuracy: 0.9759 - val_loss: 1.2453 - val_binary_accuracy: 0.9856\n",
      "Epoch 16/100\n",
      "943/943 [==============================] - 1s 773us/step - loss: 0.6095 - binary_accuracy: 0.9789 - val_loss: 0.1873 - val_binary_accuracy: 0.9840\n",
      "Epoch 17/100\n",
      "943/943 [==============================] - 1s 772us/step - loss: 0.9664 - binary_accuracy: 0.9762 - val_loss: 1.1246 - val_binary_accuracy: 0.9595\n",
      "Epoch 18/100\n",
      "943/943 [==============================] - 1s 771us/step - loss: 0.7309 - binary_accuracy: 0.9776 - val_loss: 3.0605 - val_binary_accuracy: 0.9856\n",
      "Epoch 19/100\n",
      "943/943 [==============================] - 1s 773us/step - loss: 0.7238 - binary_accuracy: 0.9792 - val_loss: 1.5428 - val_binary_accuracy: 0.9633\n",
      "Epoch 20/100\n",
      "927/943 [============================>.] - ETA: 0s - loss: 0.7127 - binary_accuracy: 0.9784\n",
      "Epoch 20: saving model to ../../../data/ts/miiv/fully_observed/predictor_models/logistic_regression/cp.ckpt\n",
      "943/943 [==============================] - 1s 953us/step - loss: 0.7069 - binary_accuracy: 0.9783 - val_loss: 0.1566 - val_binary_accuracy: 0.9847\n",
      "Epoch 21/100\n",
      "943/943 [==============================] - 1s 762us/step - loss: 1.1497 - binary_accuracy: 0.9770 - val_loss: 1.1249 - val_binary_accuracy: 0.9747\n",
      "Epoch 22/100\n",
      "943/943 [==============================] - 1s 774us/step - loss: 0.6706 - binary_accuracy: 0.9778 - val_loss: 0.1820 - val_binary_accuracy: 0.9852\n",
      "Epoch 23/100\n",
      "943/943 [==============================] - 1s 762us/step - loss: 0.9313 - binary_accuracy: 0.9761 - val_loss: 0.1402 - val_binary_accuracy: 0.9766\n",
      "Epoch 24/100\n",
      "943/943 [==============================] - 1s 764us/step - loss: 0.6738 - binary_accuracy: 0.9780 - val_loss: 0.1105 - val_binary_accuracy: 0.9853\n",
      "Epoch 25/100\n",
      "943/943 [==============================] - 1s 766us/step - loss: 1.0042 - binary_accuracy: 0.9763 - val_loss: 0.2861 - val_binary_accuracy: 0.9856\n",
      "Epoch 26/100\n",
      "943/943 [==============================] - 1s 774us/step - loss: 0.7900 - binary_accuracy: 0.9787 - val_loss: 0.1907 - val_binary_accuracy: 0.9561\n",
      "Epoch 27/100\n",
      "943/943 [==============================] - 1s 777us/step - loss: 0.7732 - binary_accuracy: 0.9767 - val_loss: 1.0903 - val_binary_accuracy: 0.9798\n",
      "Epoch 28/100\n",
      "943/943 [==============================] - 1s 814us/step - loss: 0.7688 - binary_accuracy: 0.9768 - val_loss: 0.1828 - val_binary_accuracy: 0.9846\n",
      "Epoch 29/100\n",
      "943/943 [==============================] - 1s 835us/step - loss: 0.9262 - binary_accuracy: 0.9763 - val_loss: 0.1054 - val_binary_accuracy: 0.9834\n",
      "Epoch 30/100\n",
      "873/943 [==========================>...] - ETA: 0s - loss: 0.9150 - binary_accuracy: 0.9765\n",
      "Epoch 30: saving model to ../../../data/ts/miiv/fully_observed/predictor_models/logistic_regression/cp.ckpt\n",
      "943/943 [==============================] - 1s 835us/step - loss: 0.8585 - binary_accuracy: 0.9767 - val_loss: 0.2278 - val_binary_accuracy: 0.9855\n",
      "Epoch 31/100\n",
      "943/943 [==============================] - 1s 776us/step - loss: 0.6278 - binary_accuracy: 0.9777 - val_loss: 0.2006 - val_binary_accuracy: 0.9809\n",
      "Epoch 32/100\n",
      "943/943 [==============================] - 1s 782us/step - loss: 0.7851 - binary_accuracy: 0.9761 - val_loss: 0.4709 - val_binary_accuracy: 0.9856\n",
      "Epoch 33/100\n",
      "943/943 [==============================] - 1s 783us/step - loss: 0.7363 - binary_accuracy: 0.9778 - val_loss: 1.3701 - val_binary_accuracy: 0.9701\n",
      "Epoch 34/100\n",
      "943/943 [==============================] - 1s 788us/step - loss: 0.7874 - binary_accuracy: 0.9766 - val_loss: 0.1895 - val_binary_accuracy: 0.9852\n",
      "Epoch 35/100\n",
      "943/943 [==============================] - 1s 798us/step - loss: 0.9451 - binary_accuracy: 0.9767 - val_loss: 0.1115 - val_binary_accuracy: 0.9760\n",
      "Epoch 36/100\n",
      "943/943 [==============================] - 1s 798us/step - loss: 0.8310 - binary_accuracy: 0.9769 - val_loss: 0.1028 - val_binary_accuracy: 0.9847\n",
      "Epoch 37/100\n",
      "943/943 [==============================] - 1s 778us/step - loss: 0.7325 - binary_accuracy: 0.9777 - val_loss: 1.4319 - val_binary_accuracy: 0.9856\n",
      "Epoch 38/100\n",
      "943/943 [==============================] - 1s 779us/step - loss: 0.9385 - binary_accuracy: 0.9777 - val_loss: 0.5959 - val_binary_accuracy: 0.9856\n",
      "Epoch 39/100\n",
      "943/943 [==============================] - 1s 777us/step - loss: 0.6763 - binary_accuracy: 0.9772 - val_loss: 0.2579 - val_binary_accuracy: 0.9628\n",
      "Epoch 40/100\n",
      "932/943 [============================>.] - ETA: 0s - loss: 0.6995 - binary_accuracy: 0.9778\n",
      "Epoch 40: saving model to ../../../data/ts/miiv/fully_observed/predictor_models/logistic_regression/cp.ckpt\n",
      "943/943 [==============================] - 1s 855us/step - loss: 0.7034 - binary_accuracy: 0.9768 - val_loss: 2.1223 - val_binary_accuracy: 0.9856\n",
      "Epoch 41/100\n",
      "943/943 [==============================] - 1s 782us/step - loss: 0.8274 - binary_accuracy: 0.9772 - val_loss: 0.4613 - val_binary_accuracy: 0.9856\n",
      "Epoch 42/100\n",
      "943/943 [==============================] - 1s 801us/step - loss: 0.9558 - binary_accuracy: 0.9767 - val_loss: 0.1041 - val_binary_accuracy: 0.9855\n",
      "Epoch 43/100\n",
      "943/943 [==============================] - 1s 752us/step - loss: 1.0224 - binary_accuracy: 0.9753 - val_loss: 0.0846 - val_binary_accuracy: 0.9836\n",
      "Epoch 44/100\n",
      "943/943 [==============================] - 1s 769us/step - loss: 0.8038 - binary_accuracy: 0.9776 - val_loss: 0.0866 - val_binary_accuracy: 0.9852\n",
      "Epoch 45/100\n",
      "943/943 [==============================] - 1s 774us/step - loss: 0.9972 - binary_accuracy: 0.9765 - val_loss: 1.2631 - val_binary_accuracy: 0.9787\n",
      "Epoch 46/100\n",
      "943/943 [==============================] - 1s 794us/step - loss: 0.6300 - binary_accuracy: 0.9784 - val_loss: 1.7866 - val_binary_accuracy: 0.9856\n",
      "Epoch 47/100\n",
      "943/943 [==============================] - 1s 778us/step - loss: 0.8766 - binary_accuracy: 0.9779 - val_loss: 1.8355 - val_binary_accuracy: 0.9856\n",
      "Epoch 48/100\n",
      "943/943 [==============================] - 1s 787us/step - loss: 0.6666 - binary_accuracy: 0.9778 - val_loss: 0.3857 - val_binary_accuracy: 0.9855\n",
      "Epoch 49/100\n",
      "943/943 [==============================] - 1s 792us/step - loss: 0.9413 - binary_accuracy: 0.9769 - val_loss: 0.6977 - val_binary_accuracy: 0.9856\n",
      "Epoch 50/100\n",
      "939/943 [============================>.] - ETA: 0s - loss: 0.7937 - binary_accuracy: 0.9775\n",
      "Epoch 50: saving model to ../../../data/ts/miiv/fully_observed/predictor_models/logistic_regression/cp.ckpt\n",
      "943/943 [==============================] - 1s 903us/step - loss: 0.7906 - binary_accuracy: 0.9776 - val_loss: 0.0972 - val_binary_accuracy: 0.9854\n",
      "Epoch 51/100\n",
      "943/943 [==============================] - 1s 755us/step - loss: 0.7595 - binary_accuracy: 0.9776 - val_loss: 0.7285 - val_binary_accuracy: 0.9856\n",
      "Epoch 52/100\n",
      "943/943 [==============================] - 1s 769us/step - loss: 0.7657 - binary_accuracy: 0.9783 - val_loss: 1.8509 - val_binary_accuracy: 0.9856\n",
      "Epoch 53/100\n",
      "943/943 [==============================] - 1s 786us/step - loss: 0.6444 - binary_accuracy: 0.9782 - val_loss: 0.0938 - val_binary_accuracy: 0.9853\n",
      "Epoch 54/100\n",
      "943/943 [==============================] - 1s 744us/step - loss: 1.0108 - binary_accuracy: 0.9774 - val_loss: 0.1235 - val_binary_accuracy: 0.9820\n",
      "Epoch 55/100\n",
      "943/943 [==============================] - 1s 783us/step - loss: 0.6527 - binary_accuracy: 0.9776 - val_loss: 0.1231 - val_binary_accuracy: 0.9851\n",
      "Epoch 56/100\n",
      "943/943 [==============================] - 1s 793us/step - loss: 0.8474 - binary_accuracy: 0.9772 - val_loss: 0.3489 - val_binary_accuracy: 0.9454\n",
      "Epoch 57/100\n",
      "943/943 [==============================] - 1s 768us/step - loss: 0.5483 - binary_accuracy: 0.9782 - val_loss: 0.6269 - val_binary_accuracy: 0.9856\n",
      "Epoch 58/100\n",
      "943/943 [==============================] - 1s 751us/step - loss: 1.1108 - binary_accuracy: 0.9753 - val_loss: 0.9004 - val_binary_accuracy: 0.9856\n",
      "Epoch 59/100\n",
      "943/943 [==============================] - 1s 756us/step - loss: 0.9135 - binary_accuracy: 0.9778 - val_loss: 0.0814 - val_binary_accuracy: 0.9847\n",
      "Epoch 60/100\n",
      "899/943 [===========================>..] - ETA: 0s - loss: 0.6796 - binary_accuracy: 0.9773\n",
      "Epoch 60: saving model to ../../../data/ts/miiv/fully_observed/predictor_models/logistic_regression/cp.ckpt\n",
      "943/943 [==============================] - 1s 1ms/step - loss: 0.6750 - binary_accuracy: 0.9771 - val_loss: 2.2618 - val_binary_accuracy: 0.9856\n",
      "Epoch 61/100\n",
      "943/943 [==============================] - 1s 762us/step - loss: 0.8422 - binary_accuracy: 0.9771 - val_loss: 0.3107 - val_binary_accuracy: 0.9856\n",
      "Epoch 62/100\n",
      "943/943 [==============================] - 1s 762us/step - loss: 0.6155 - binary_accuracy: 0.9796 - val_loss: 0.9860 - val_binary_accuracy: 0.9856\n",
      "Epoch 63/100\n",
      "943/943 [==============================] - 1s 772us/step - loss: 0.8288 - binary_accuracy: 0.9775 - val_loss: 0.4806 - val_binary_accuracy: 0.9856\n",
      "Epoch 64/100\n",
      "943/943 [==============================] - 1s 762us/step - loss: 0.6404 - binary_accuracy: 0.9782 - val_loss: 0.1863 - val_binary_accuracy: 0.9856\n",
      "Epoch 65/100\n",
      "943/943 [==============================] - 1s 752us/step - loss: 1.1497 - binary_accuracy: 0.9762 - val_loss: 0.1211 - val_binary_accuracy: 0.9751\n",
      "Epoch 66/100\n",
      "943/943 [==============================] - 1s 747us/step - loss: 0.7642 - binary_accuracy: 0.9762 - val_loss: 1.9773 - val_binary_accuracy: 0.9650\n",
      "Epoch 67/100\n",
      "943/943 [==============================] - 1s 749us/step - loss: 0.7514 - binary_accuracy: 0.9771 - val_loss: 0.5725 - val_binary_accuracy: 0.9856\n",
      "Epoch 68/100\n",
      "943/943 [==============================] - 1s 756us/step - loss: 0.8585 - binary_accuracy: 0.9783 - val_loss: 0.3473 - val_binary_accuracy: 0.9856\n",
      "Epoch 69/100\n",
      "943/943 [==============================] - 1s 759us/step - loss: 0.8689 - binary_accuracy: 0.9772 - val_loss: 2.4414 - val_binary_accuracy: 0.9851\n",
      "Epoch 70/100\n",
      "922/943 [============================>.] - ETA: 0s - loss: 0.6754 - binary_accuracy: 0.9779\n",
      "Epoch 70: saving model to ../../../data/ts/miiv/fully_observed/predictor_models/logistic_regression/cp.ckpt\n",
      "943/943 [==============================] - 1s 858us/step - loss: 0.6646 - binary_accuracy: 0.9780 - val_loss: 0.1642 - val_binary_accuracy: 0.9632\n",
      "Epoch 71/100\n",
      "943/943 [==============================] - 1s 780us/step - loss: 0.7777 - binary_accuracy: 0.9761 - val_loss: 0.0911 - val_binary_accuracy: 0.9850\n",
      "Epoch 72/100\n",
      "943/943 [==============================] - 1s 776us/step - loss: 0.8496 - binary_accuracy: 0.9770 - val_loss: 1.4303 - val_binary_accuracy: 0.9856\n",
      "Epoch 73/100\n",
      "943/943 [==============================] - 1s 770us/step - loss: 0.8617 - binary_accuracy: 0.9766 - val_loss: 1.6892 - val_binary_accuracy: 0.9605\n",
      "Epoch 74/100\n",
      "943/943 [==============================] - 1s 779us/step - loss: 0.8856 - binary_accuracy: 0.9763 - val_loss: 2.5982 - val_binary_accuracy: 0.9856\n",
      "Epoch 75/100\n",
      "943/943 [==============================] - 1s 780us/step - loss: 0.8452 - binary_accuracy: 0.9774 - val_loss: 2.4549 - val_binary_accuracy: 0.9840\n",
      "Epoch 76/100\n",
      "943/943 [==============================] - 1s 778us/step - loss: 0.7568 - binary_accuracy: 0.9784 - val_loss: 0.7820 - val_binary_accuracy: 0.9743\n",
      "Epoch 77/100\n",
      "943/943 [==============================] - 1s 790us/step - loss: 0.8298 - binary_accuracy: 0.9771 - val_loss: 0.6189 - val_binary_accuracy: 0.9362\n",
      "Epoch 78/100\n",
      "943/943 [==============================] - 1s 792us/step - loss: 0.8814 - binary_accuracy: 0.9771 - val_loss: 0.1054 - val_binary_accuracy: 0.9849\n",
      "Epoch 79/100\n",
      "943/943 [==============================] - 1s 792us/step - loss: 0.9440 - binary_accuracy: 0.9768 - val_loss: 0.1294 - val_binary_accuracy: 0.9729\n",
      "Epoch 80/100\n",
      "886/943 [===========================>..] - ETA: 0s - loss: 0.6297 - binary_accuracy: 0.9786\n",
      "Epoch 80: saving model to ../../../data/ts/miiv/fully_observed/predictor_models/logistic_regression/cp.ckpt\n",
      "943/943 [==============================] - 1s 812us/step - loss: 0.6343 - binary_accuracy: 0.9782 - val_loss: 0.2111 - val_binary_accuracy: 0.9727\n",
      "Epoch 81/100\n",
      "943/943 [==============================] - 1s 772us/step - loss: 0.8622 - binary_accuracy: 0.9758 - val_loss: 0.4124 - val_binary_accuracy: 0.9841\n",
      "Epoch 82/100\n",
      "943/943 [==============================] - 1s 770us/step - loss: 0.7928 - binary_accuracy: 0.9774 - val_loss: 0.9300 - val_binary_accuracy: 0.9638\n",
      "Epoch 83/100\n",
      "943/943 [==============================] - 1s 763us/step - loss: 0.8115 - binary_accuracy: 0.9758 - val_loss: 2.2484 - val_binary_accuracy: 0.9856\n",
      "Epoch 84/100\n",
      "943/943 [==============================] - 1s 777us/step - loss: 0.5788 - binary_accuracy: 0.9789 - val_loss: 0.2088 - val_binary_accuracy: 0.9856\n",
      "Epoch 85/100\n",
      "943/943 [==============================] - 1s 786us/step - loss: 1.0060 - binary_accuracy: 0.9767 - val_loss: 0.0891 - val_binary_accuracy: 0.9851\n",
      "Epoch 86/100\n",
      "943/943 [==============================] - 1s 787us/step - loss: 0.9037 - binary_accuracy: 0.9757 - val_loss: 0.1840 - val_binary_accuracy: 0.9856\n",
      "Epoch 87/100\n",
      "943/943 [==============================] - 1s 787us/step - loss: 0.8177 - binary_accuracy: 0.9764 - val_loss: 2.2140 - val_binary_accuracy: 0.9856\n",
      "Epoch 88/100\n",
      "943/943 [==============================] - 1s 793us/step - loss: 0.7959 - binary_accuracy: 0.9774 - val_loss: 1.1907 - val_binary_accuracy: 0.9856\n",
      "Epoch 89/100\n",
      "943/943 [==============================] - 1s 808us/step - loss: 0.7613 - binary_accuracy: 0.9764 - val_loss: 0.1470 - val_binary_accuracy: 0.9801\n",
      "Epoch 90/100\n",
      "915/943 [============================>.] - ETA: 0s - loss: 0.8785 - binary_accuracy: 0.9760\n",
      "Epoch 90: saving model to ../../../data/ts/miiv/fully_observed/predictor_models/logistic_regression/cp.ckpt\n",
      "943/943 [==============================] - 1s 952us/step - loss: 0.8705 - binary_accuracy: 0.9760 - val_loss: 0.6210 - val_binary_accuracy: 0.9856\n",
      "Epoch 91/100\n",
      "943/943 [==============================] - 1s 797us/step - loss: 0.7153 - binary_accuracy: 0.9777 - val_loss: 1.1364 - val_binary_accuracy: 0.9856\n",
      "Epoch 92/100\n",
      "943/943 [==============================] - 1s 797us/step - loss: 0.9042 - binary_accuracy: 0.9758 - val_loss: 0.4673 - val_binary_accuracy: 0.9767\n",
      "Epoch 93/100\n",
      "943/943 [==============================] - 1s 786us/step - loss: 1.0409 - binary_accuracy: 0.9758 - val_loss: 2.8010 - val_binary_accuracy: 0.9856\n",
      "Epoch 94/100\n",
      "943/943 [==============================] - 1s 782us/step - loss: 0.9930 - binary_accuracy: 0.9760 - val_loss: 1.2494 - val_binary_accuracy: 0.9856\n",
      "Epoch 95/100\n",
      "943/943 [==============================] - 1s 786us/step - loss: 0.4514 - binary_accuracy: 0.9798 - val_loss: 1.6643 - val_binary_accuracy: 0.9856\n",
      "Epoch 96/100\n",
      "943/943 [==============================] - 1s 792us/step - loss: 1.1556 - binary_accuracy: 0.9748 - val_loss: 0.3884 - val_binary_accuracy: 0.9487\n",
      "Epoch 97/100\n",
      "943/943 [==============================] - 1s 781us/step - loss: 0.8671 - binary_accuracy: 0.9778 - val_loss: 1.7883 - val_binary_accuracy: 0.9684\n",
      "Epoch 98/100\n",
      "943/943 [==============================] - 1s 791us/step - loss: 0.9089 - binary_accuracy: 0.9765 - val_loss: 0.5757 - val_binary_accuracy: 0.9671\n",
      "Epoch 99/100\n",
      "943/943 [==============================] - 1s 774us/step - loss: 0.5592 - binary_accuracy: 0.9771 - val_loss: 0.9862 - val_binary_accuracy: 0.9852\n",
      "Epoch 100/100\n",
      "872/943 [==========================>...] - ETA: 0s - loss: 0.9906 - binary_accuracy: 0.9775\n",
      "Epoch 100: saving model to ../../../data/ts/miiv/fully_observed/predictor_models/logistic_regression/cp.ckpt\n",
      "943/943 [==============================] - 1s 829us/step - loss: 1.0797 - binary_accuracy: 0.9772 - val_loss: 3.0869 - val_binary_accuracy: 0.9856\n",
      "4191/4191 [==============================] - 2s 541us/step\n"
     ]
    },
    {
     "data": {
      "image/png": "[encoded data removed]",
      "text/plain": [
       "<Figure size 1600x500 with 1 Axes>"
      ]
     },
     "metadata": {},
     "output_type": "display_data"
    }
   ],
   "source": [
    "afa_predictor.fit(afa_dataset, \n",
    "                  fold = 0, \n",
    "                  train_split = 'train', \n",
    "                  valid_split = 'val', \n",
    "                  fit_again = False)"
   ]
  },
  {
   "cell_type": "code",
   "execution_count": 38,
   "id": "9df65e1c-7a7b-472f-9234-8e4e0b075e5b",
   "metadata": {},
   "outputs": [
    {
     "name": "stdout",
     "output_type": "stream",
     "text": [
      "4191/4191 [==============================] - 2s 565us/step\n"
     ]
    }
   ],
   "source": [
    "label_pred = afa_predictor.predict( afa_dataset, fold = 0, split = 'val', n_samples = 1 )"
   ]
  },
  {
   "cell_type": "code",
   "execution_count": 39,
   "id": "02de1750-1f77-4c11-87ad-a7036d4984ef",
   "metadata": {},
   "outputs": [
    {
     "data": {
      "text/plain": [
       "(26822, 5, 1)"
      ]
     },
     "execution_count": 39,
     "metadata": {},
     "output_type": "execute_result"
    }
   ],
   "source": [
    "label_pred.shape"
   ]
  },
  {
   "cell_type": "markdown",
   "id": "5b54ad5d-82f9-492d-b2ff-f91e4047aee3",
   "metadata": {},
   "source": [
    "### Write report"
   ]
  },
  {
   "cell_type": "code",
   "execution_count": 48,
   "id": "5d7bfd91-a0d0-45c7-b95a-182c528d3541",
   "metadata": {},
   "outputs": [
    {
     "name": "stdout",
     "output_type": "stream",
     "text": [
      "[Errno 2] No such file or directory: 'pandoc'\n",
      "Error, but instead of markdown format, saving the latex format into the file \"../../../data/ts/miiv/fully_observed/predictor_models/logistic_regression/model_report.md\" . \n",
      "Content of file:\n",
      "\n",
      "\\subsubsection{The AFA predictor model : logistic_regression}\n",
      "\\subparagraph{Model}\n",
      "The AFA predictor is based on the following submodel: \\subparagraph{Fitting}\n",
      "\\begin{figure}\\centering\\includegraphics[width=0.5 \\textwidth]{img/model_report.AFA predictor training.png}\\caption{Goodness of fit for afa predictor}\\label{fig:img/model_report.AFA predictor training.png}\\end{figure}\n"
     ]
    }
   ],
   "source": [
    "explanation_file = afa_predictor.directory + 'model_report.md'  # +  'reports/' + 'model_report' \n",
    "afa_predictor.explain(file= explanation_file, format = 'markdown')"
   ]
  },
  {
   "cell_type": "code",
   "execution_count": null,
   "id": "f649d771-b660-4218-9327-2166d2b3417f",
   "metadata": {},
   "outputs": [],
   "source": []
  }
 ],
 "metadata": {
  "kernelspec": {
   "display_name": "afa_env",
   "language": "python",
   "name": "python3"
  },
  "language_info": {
   "codemirror_mode": {
    "name": "ipython",
    "version": 3
   },
   "file_extension": ".py",
   "mimetype": "text/x-python",
   "name": "python",
   "nbconvert_exporter": "python",
   "pygments_lexer": "ipython3",
   "version": "3.8.10"
  },
  "vscode": {
   "interpreter": {
    "hash": "c7b4046880187643253f6628bf550833ec82b05e290730cdc21121f8b3319a95"
   }
  }
 },
 "nbformat": 4,
 "nbformat_minor": 5
}
