{
 "cells": [
  {
   "cell_type": "markdown",
   "id": "45f4a932-fe58-4c41-b076-38e047fad36e",
   "metadata": {},
   "source": [
    "# Plot AFAPE Results\n",
    "Plot the results for different agents "
   ]
  },
  {
   "cell_type": "code",
   "execution_count": 1,
   "id": "5e8f4066-9aef-46b0-a6cb-041b73a474d3",
   "metadata": {},
   "outputs": [],
   "source": [
    "%load_ext autoreload\n",
    "%autoreload 2"
   ]
  },
  {
   "cell_type": "markdown",
   "id": "08362dfa-cf4e-422d-9023-ad7ecb7ecacc",
   "metadata": {},
   "source": [
    "## Define paths"
   ]
  },
  {
   "cell_type": "code",
   "execution_count": 2,
   "id": "7713e2c6-761b-434a-a61f-e41e593028cf",
   "metadata": {},
   "outputs": [],
   "source": [
    "# which dataset to work on \n",
    "dataset_name   = \"synthetic_1\"\n",
    "\n",
    "# name for of missingness scenario \n",
    "miss_scenario  = 'MCAR_1'\n",
    "\n",
    "# name for agents\n",
    "agent_names  = ['DQN'] #, 'Random 10%']\n",
    "n_agents = len(agent_names) \n",
    "\n",
    "# included estimators\n",
    "included_estimator_types =  ['blocking', 'ground_truth']"
   ]
  },
  {
   "cell_type": "code",
   "execution_count": 3,
   "id": "8eb5607e-6445-4dbf-897e-8640af4492dc",
   "metadata": {},
   "outputs": [],
   "source": [
    "# other specifications \n",
    "data_dir       = \"../../../data/ts/\" + dataset_name + \"/\" + miss_scenario + \"/\" \n",
    "agent_dirs     = [data_dir + 'afa_agents' + '/' + agent_name + '/' for agent_name in agent_names]\n",
    "\n",
    "# find all bootstrap results files\n",
    "agent_bootstrap_files_list = []\n",
    "for agent_i in range(n_agents):\n",
    "    agent_bootstrap_files = {}\n",
    "    for included_estimator_type in included_estimator_types:\n",
    "        agent_bootstrap_files[included_estimator_type] = agent_dirs[agent_i] + included_estimator_type + '_' + 'J_bootstraps.hkl'\n",
    "    agent_bootstrap_files_list.append(agent_bootstrap_files)"
   ]
  },
  {
   "cell_type": "markdown",
   "id": "3135378f-7147-4f08-ad21-a4b4d7576d27",
   "metadata": {},
   "source": [
    "## Load results"
   ]
  },
  {
   "cell_type": "code",
   "execution_count": 4,
   "id": "bbd35f02-3941-4e93-8ece-e26844d62968",
   "metadata": {},
   "outputs": [],
   "source": [
    "from afa.afa_models.afa_estimators.utils import load_results_bootstrapping"
   ]
  },
  {
   "cell_type": "code",
   "execution_count": 5,
   "id": "9a2a5951-f076-4a68-879e-046f267cc333",
   "metadata": {},
   "outputs": [],
   "source": [
    "J_bootstraps_list = []\n",
    "for agent_i in range(n_agents):\n",
    "    \n",
    "    J_bootstraps = {}\n",
    "    for included_estimator_type in included_estimator_types:\n",
    "        # load bootstrap results for estimator_type\n",
    "        bootstrap_file = agent_bootstrap_files_list[agent_i][included_estimator_type]\n",
    "        \n",
    "        J_bootstraps_added = load_results_bootstrapping( bootstrap_file )\n",
    "        \n",
    "        # merge\n",
    "        J_bootstraps = {**J_bootstraps, **J_bootstraps_added}\n",
    "        \n",
    "    J_bootstraps_list.append(J_bootstraps)"
   ]
  },
  {
   "cell_type": "markdown",
   "id": "66adf85e-6af9-4586-97b0-995dcd6f0f1f",
   "metadata": {},
   "source": [
    "## Plot results"
   ]
  },
  {
   "cell_type": "code",
   "execution_count": 6,
   "id": "0c4681b3-14e4-4157-9ce0-252cb340474d",
   "metadata": {},
   "outputs": [],
   "source": [
    "from afa.afa_models.afa_estimators.visualization.plot_estimation_results import plot_estimation_results"
   ]
  },
  {
   "cell_type": "code",
   "execution_count": 7,
   "id": "f9a18826-2934-4ea7-8be3-bc74933c422b",
   "metadata": {},
   "outputs": [
    {
     "data": {
      "text/plain": [
       "(<Figure size 288x432 with 1 Axes>, None)"
      ]
     },
     "execution_count": 7,
     "metadata": {},
     "output_type": "execute_result"
    },
    {
     "data": {
      "image/png": "[encoded data removed]",
      "text/plain": [
       "<Figure size 288x432 with 1 Axes>"
      ]
     },
     "metadata": {
      "needs_background": "light"
     },
     "output_type": "display_data"
    }
   ],
   "source": [
    "plot_estimation_results( J_bootstraps_list, agent_names,  title = None)"
   ]
  },
  {
   "cell_type": "code",
   "execution_count": null,
   "id": "a66fdb8d-72ed-4838-93a1-c43a0fe99d45",
   "metadata": {},
   "outputs": [],
   "source": []
  },
  {
   "cell_type": "code",
   "execution_count": null,
   "id": "6617b5ba-0c01-4656-8b5e-01c6600fa1a1",
   "metadata": {},
   "outputs": [],
   "source": []
  }
 ],
 "metadata": {
  "kernelspec": {
   "display_name": "afa_env",
   "language": "python",
   "name": "afa_env"
  },
  "language_info": {
   "codemirror_mode": {
    "name": "ipython",
    "version": 3
   },
   "file_extension": ".py",
   "mimetype": "text/x-python",
   "name": "python",
   "nbconvert_exporter": "python",
   "pygments_lexer": "ipython3",
   "version": "3.10.8"
  }
 },
 "nbformat": 4,
 "nbformat_minor": 5
}
