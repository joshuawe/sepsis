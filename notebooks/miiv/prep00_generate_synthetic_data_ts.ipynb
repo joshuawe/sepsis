{
 "cells": [
  {
   "cell_type": "markdown",
   "id": "738d755b",
   "metadata": {},
   "source": [
    "# (0) Generate a synthetic static dataset"
   ]
  },
  {
   "cell_type": "markdown",
   "id": "0d7cd1d6-a92c-428c-a091-05d2ae4cd7d8",
   "metadata": {
    "tags": []
   },
   "source": [
    "Generate a synthetic dataset with \n",
    "- features X\n",
    "- temporal features X_ts\n",
    "- label Y \n",
    "\n",
    "Note: data is stored in the folder \"../../../data/ts/\" + dataset relativ to this directory"
   ]
  },
  {
   "cell_type": "code",
   "execution_count": null,
   "id": "83ebac83-5b5c-45e0-997c-1dc4edfc7cb4",
   "metadata": {},
   "outputs": [],
   "source": [
    "%load_ext autoreload\n",
    "%autoreload 2"
   ]
  },
  {
   "cell_type": "markdown",
   "id": "a1238f97-f069-4d54-8de3-080e4e98f948",
   "metadata": {},
   "source": [
    "### Define paths "
   ]
  },
  {
   "cell_type": "code",
   "execution_count": null,
   "id": "4e736192-d821-4035-9908-477bafb53859",
   "metadata": {},
   "outputs": [],
   "source": [
    "# which dataset to work on \n",
    "dataset_name   = \"miiv\""
   ]
  },
  {
   "cell_type": "code",
   "execution_count": 3,
   "id": "327594a1-9fb5-4099-919a-abf2ffd341cc",
   "metadata": {},
   "outputs": [],
   "source": [
    "# data specifications \n",
    "data_dir            = \"../../../data/ts/\" + dataset_name + \"/fully_observed/\" "
   ]
  },
  {
   "cell_type": "markdown",
   "id": "f2c96fe7",
   "metadata": {},
   "source": [
    "## Data Generation"
   ]
  },
  {
   "cell_type": "code",
   "execution_count": 5,
   "id": "315db0b5-ece3-4dd5-ab87-2bddc82d399d",
   "metadata": {},
   "outputs": [],
   "source": [
    "from afa.data_modelling.datasets.synthetic_data_generation.data_generator_ts import DataGenerator_ts"
   ]
  },
  {
   "cell_type": "code",
   "execution_count": 5,
   "id": "2f04874b-e0b7-466d-9fab-1be1d0423312",
   "metadata": {},
   "outputs": [],
   "source": [
    "data_generator = DataGenerator_ts(\n",
    "                        data_dir           = data_dir,  \n",
    "                        dataset_name       = dataset_name , \n",
    "                        n_datapts          = 100, \n",
    "                        test_size          = 0,\n",
    "                        n_features_static  = 1,\n",
    "                        n_features_ts      = 4, \n",
    "                        n_timepts          = 5,\n",
    "                        table_style        = \"EAV\",\n",
    "                        compression        = 'gzip',\n",
    "                        n_classes          = 2)"
   ]
  },
  {
   "cell_type": "code",
   "execution_count": 6,
   "id": "4e817462-660e-432b-8f99-cd3930f15a0d",
   "metadata": {},
   "outputs": [],
   "source": [
    "df_static_train, df_ts_train, df_static_test, df_ts_test  = data_generator.generate_data()"
   ]
  },
  {
   "cell_type": "markdown",
   "id": "acf3349a-cdf2-4fd7-98f8-050456ab1c34",
   "metadata": {},
   "source": [
    "## Load data\n",
    "Check if data was saved correctly and can be loaded "
   ]
  },
  {
   "cell_type": "code",
   "execution_count": 6,
   "id": "acfb8d13-d8e3-4143-b462-89d2ca3d26d7",
   "metadata": {},
   "outputs": [
    {
     "name": "stderr",
     "output_type": "stream",
     "text": [
      "2023-02-28 11:07:00.319862: I tensorflow/core/platform/cpu_feature_guard.cc:193] This TensorFlow binary is optimized with oneAPI Deep Neural Network Library (oneDNN) to use the following CPU instructions in performance-critical operations:  AVX2 FMA\n",
      "To enable them in other operations, rebuild TensorFlow with the appropriate compiler flags.\n",
      "2023-02-28 11:07:08.541786: W tensorflow/compiler/xla/stream_executor/platform/default/dso_loader.cc:64] Could not load dynamic library 'libcudart.so.11.0'; dlerror: libcudart.so.11.0: cannot open shared object file: No such file or directory\n",
      "2023-02-28 11:07:08.541827: I tensorflow/compiler/xla/stream_executor/cuda/cudart_stub.cc:29] Ignore above cudart dlerror if you do not have a GPU set up on your machine.\n",
      "2023-02-28 11:07:23.435187: W tensorflow/compiler/xla/stream_executor/platform/default/dso_loader.cc:64] Could not load dynamic library 'libnvinfer.so.7'; dlerror: libnvinfer.so.7: cannot open shared object file: No such file or directory\n",
      "2023-02-28 11:07:23.439334: W tensorflow/compiler/xla/stream_executor/platform/default/dso_loader.cc:64] Could not load dynamic library 'libnvinfer_plugin.so.7'; dlerror: libnvinfer_plugin.so.7: cannot open shared object file: No such file or directory\n",
      "2023-02-28 11:07:23.439356: W tensorflow/compiler/tf2tensorrt/utils/py_utils.cc:38] TF-TRT Warning: Cannot dlopen some TensorRT libraries. If you would like to use Nvidia GPU with TensorRT, please make sure the missing libraries mentioned above are installed properly.\n"
     ]
    }
   ],
   "source": [
    "from afa.data_modelling.datasets.data_loader.data_loader_ts import DataLoader_ts"
   ]
  },
  {
   "cell_type": "code",
   "execution_count": 4,
   "id": "c1f72073",
   "metadata": {},
   "outputs": [],
   "source": [
    "dataset_name = 'miiv'\n",
    "data_dir = \"../../../data/\" + dataset_name + '/' #+ \"/fully_observed/\" "
   ]
  },
  {
   "cell_type": "code",
   "execution_count": null,
   "id": "8143b323",
   "metadata": {},
   "outputs": [
    {
     "data": {
      "text/html": [
       "<div>\n",
       "<style scoped>\n",
       "    .dataframe tbody tr th:only-of-type {\n",
       "        vertical-align: middle;\n",
       "    }\n",
       "\n",
       "    .dataframe tbody tr th {\n",
       "        vertical-align: top;\n",
       "    }\n",
       "\n",
       "    .dataframe thead th {\n",
       "        text-align: right;\n",
       "    }\n",
       "</style>\n",
       "<table border=\"1\" class=\"dataframe\">\n",
       "  <thead>\n",
       "    <tr style=\"text-align: right;\">\n",
       "      <th></th>\n",
       "      <th>id</th>\n",
       "      <th>time</th>\n",
       "      <th>variable</th>\n",
       "      <th>value</th>\n",
       "    </tr>\n",
       "  </thead>\n",
       "  <tbody>\n",
       "    <tr>\n",
       "      <th>0</th>\n",
       "      <td>30000484</td>\n",
       "      <td>0 days 03:00:00</td>\n",
       "      <td>alb</td>\n",
       "      <td>2.5</td>\n",
       "    </tr>\n",
       "    <tr>\n",
       "      <th>1</th>\n",
       "      <td>30001336</td>\n",
       "      <td>0 days 00:00:00</td>\n",
       "      <td>alb</td>\n",
       "      <td>3.3</td>\n",
       "    </tr>\n",
       "    <tr>\n",
       "      <th>2</th>\n",
       "      <td>30001446</td>\n",
       "      <td>0 days 01:00:00</td>\n",
       "      <td>alb</td>\n",
       "      <td>1.8</td>\n",
       "    </tr>\n",
       "    <tr>\n",
       "      <th>3</th>\n",
       "      <td>30001446</td>\n",
       "      <td>1 days 00:00:00</td>\n",
       "      <td>alb</td>\n",
       "      <td>2.7</td>\n",
       "    </tr>\n",
       "    <tr>\n",
       "      <th>4</th>\n",
       "      <td>30001555</td>\n",
       "      <td>0 days 13:00:00</td>\n",
       "      <td>alb</td>\n",
       "      <td>2.7</td>\n",
       "    </tr>\n",
       "  </tbody>\n",
       "</table>\n",
       "</div>"
      ],
      "text/plain": [
       "         id             time variable  value\n",
       "0  30000484  0 days 03:00:00      alb    2.5\n",
       "1  30001336  0 days 00:00:00      alb    3.3\n",
       "2  30001446  0 days 01:00:00      alb    1.8\n",
       "3  30001446  1 days 00:00:00      alb    2.7\n",
       "4  30001555  0 days 13:00:00      alb    2.7"
      ]
     },
     "execution_count": 37,
     "metadata": {},
     "output_type": "execute_result"
    }
   ],
   "source": [
    "\"\"\"JOSH\"\"\"\n",
    "import pandas as pd\n",
    "\n",
    "path = '~/Documents/data/miiv/miiv_ts_eav.csv.gz'\n",
    "df = pd.read_csv(path)\n",
    "df = df.drop(columns=df.columns[0])\n",
    "# df = df.rename(columns={'stay_id':'id'})\n",
    "df.head()"
   ]
  },
  {
   "cell_type": "code",
   "execution_count": 38,
   "id": "9c09b87f",
   "metadata": {},
   "outputs": [
    {
     "ename": "KeyboardInterrupt",
     "evalue": "",
     "output_type": "error",
     "traceback": [
      "\u001b[0;31m---------------------------------------------------------------------------\u001b[0m",
      "\u001b[0;31mKeyboardInterrupt\u001b[0m                         Traceback (most recent call last)",
      "Cell \u001b[0;32mIn[38], line 2\u001b[0m\n\u001b[1;32m      1\u001b[0m \u001b[39mfrom\u001b[39;00m \u001b[39mafa\u001b[39;00m\u001b[39m.\u001b[39;00m\u001b[39mdata_modelling\u001b[39;00m\u001b[39m.\u001b[39;00m\u001b[39mdatasets\u001b[39;00m\u001b[39m.\u001b[39;00m\u001b[39mutils_ts\u001b[39;00m \u001b[39mimport\u001b[39;00m wide_to_eav, check_eav\n\u001b[0;32m----> 2\u001b[0m df_eav \u001b[39m=\u001b[39m wide_to_eav(df)\n\u001b[1;32m      3\u001b[0m \u001b[39mprint\u001b[39m(df\u001b[39m.\u001b[39mhead())\n\u001b[1;32m      4\u001b[0m \u001b[39mprint\u001b[39m(check_eav(df_eav))\n",
      "File \u001b[0;32m~/Documents/afa_ts/afa/data_modelling/datasets/utils_ts.py:97\u001b[0m, in \u001b[0;36mwide_to_eav\u001b[0;34m(df)\u001b[0m\n\u001b[1;32m     94\u001b[0m df_eav \u001b[39m=\u001b[39m pd\u001b[39m.\u001b[39mmelt(df , id_vars\u001b[39m=\u001b[39m[\u001b[39m'\u001b[39m\u001b[39mid\u001b[39m\u001b[39m'\u001b[39m, \u001b[39m'\u001b[39m\u001b[39mtime\u001b[39m\u001b[39m'\u001b[39m], value_vars\u001b[39m=\u001b[39mdf\u001b[39m.\u001b[39mcolumns[\u001b[39m2\u001b[39m:])\n\u001b[1;32m     96\u001b[0m \u001b[39m# remove nans\u001b[39;00m\n\u001b[0;32m---> 97\u001b[0m df_eav \u001b[39m=\u001b[39m df_eav[\u001b[39m~\u001b[39;49mdf_eav[\u001b[39m'\u001b[39;49m\u001b[39mvalue\u001b[39;49m\u001b[39m'\u001b[39;49m]\u001b[39m.\u001b[39;49misna()]\n\u001b[1;32m     99\u001b[0m \u001b[39mreturn\u001b[39;00m df_eav\n",
      "File \u001b[0;32m~/Documents/afa_ts/afa_env/lib/python3.8/site-packages/pandas/core/frame.py:3798\u001b[0m, in \u001b[0;36mDataFrame.__getitem__\u001b[0;34m(self, key)\u001b[0m\n\u001b[1;32m   3796\u001b[0m \u001b[39m# Do we have a (boolean) 1d indexer?\u001b[39;00m\n\u001b[1;32m   3797\u001b[0m \u001b[39mif\u001b[39;00m com\u001b[39m.\u001b[39mis_bool_indexer(key):\n\u001b[0;32m-> 3798\u001b[0m     \u001b[39mreturn\u001b[39;00m \u001b[39mself\u001b[39;49m\u001b[39m.\u001b[39;49m_getitem_bool_array(key)\n\u001b[1;32m   3800\u001b[0m \u001b[39m# We are left with two options: a single key, and a collection of keys,\u001b[39;00m\n\u001b[1;32m   3801\u001b[0m \u001b[39m# We interpret tuples as collections only for non-MultiIndex\u001b[39;00m\n\u001b[1;32m   3802\u001b[0m is_single_key \u001b[39m=\u001b[39m \u001b[39misinstance\u001b[39m(key, \u001b[39mtuple\u001b[39m) \u001b[39mor\u001b[39;00m \u001b[39mnot\u001b[39;00m is_list_like(key)\n",
      "File \u001b[0;32m~/Documents/afa_ts/afa_env/lib/python3.8/site-packages/pandas/core/frame.py:3852\u001b[0m, in \u001b[0;36mDataFrame._getitem_bool_array\u001b[0;34m(self, key)\u001b[0m\n\u001b[1;32m   3849\u001b[0m \u001b[39m# check_bool_indexer will throw exception if Series key cannot\u001b[39;00m\n\u001b[1;32m   3850\u001b[0m \u001b[39m# be reindexed to match DataFrame rows\u001b[39;00m\n\u001b[1;32m   3851\u001b[0m key \u001b[39m=\u001b[39m check_bool_indexer(\u001b[39mself\u001b[39m\u001b[39m.\u001b[39mindex, key)\n\u001b[0;32m-> 3852\u001b[0m indexer \u001b[39m=\u001b[39m key\u001b[39m.\u001b[39;49mnonzero()[\u001b[39m0\u001b[39m]\n\u001b[1;32m   3853\u001b[0m \u001b[39mreturn\u001b[39;00m \u001b[39mself\u001b[39m\u001b[39m.\u001b[39m_take_with_is_copy(indexer, axis\u001b[39m=\u001b[39m\u001b[39m0\u001b[39m)\n",
      "\u001b[0;31mKeyboardInterrupt\u001b[0m: "
     ]
    }
   ],
   "source": [
    "from afa.data_modelling.datasets.utils_ts import wide_to_eav, check_eav\n",
    "df_eav = wide_to_eav(df)\n",
    "print(df.head())\n",
    "print(check_eav(df_eav))\n",
    "print(df_eav.columns)\n"
   ]
  },
  {
   "cell_type": "code",
   "execution_count": 1,
   "id": "21477923",
   "metadata": {},
   "outputs": [
    {
     "ename": "NameError",
     "evalue": "name 'check_eav' is not defined",
     "output_type": "error",
     "traceback": [
      "\u001b[0;31m---------------------------------------------------------------------------\u001b[0m",
      "\u001b[0;31mNameError\u001b[0m                                 Traceback (most recent call last)",
      "Cell \u001b[0;32mIn[1], line 1\u001b[0m\n\u001b[0;32m----> 1\u001b[0m \u001b[39mprint\u001b[39m(check_eav(df))\n",
      "\u001b[0;31mNameError\u001b[0m: name 'check_eav' is not defined"
     ]
    }
   ],
   "source": [
    "print(check_eav(df))"
   ]
  },
  {
   "cell_type": "code",
   "execution_count": 41,
   "id": "a70afe97",
   "metadata": {},
   "outputs": [],
   "source": [
    "df.to_csv('~/Documents/data/miiv/miiv_ts_eav.csv.gz', compression='infer', columns=df.columns, index=False)"
   ]
  },
  {
   "cell_type": "code",
   "execution_count": 39,
   "id": "0084fc65-ec37-4ea7-a0cc-8ccd894a8658",
   "metadata": {},
   "outputs": [],
   "source": [
    "data_file          = data_dir + dataset_name + '_static.csv.gz' \n",
    "temporal_data_file = data_dir + dataset_name + '_ts_wide.csv.gz' \n",
    "superfeature_mapping_file = None\n",
    "\n",
    "data_file =          '../../../data/miiv/miiv_static.parquet'\n",
    "temporal_data_file = '../../../data/miiv/miiv_ts_wide.parquet'\n",
    "\n",
    "data_loader = DataLoader_ts(data_file                  = data_file,\n",
    "                            temporal_data_file         = temporal_data_file,\n",
    "                            superfeature_mapping_file  = superfeature_mapping_file )\n",
    "\n",
    "dataset = data_loader.load(temporal_only_nrows=10000, temporal_is_wide=True) "
   ]
  },
  {
   "cell_type": "code",
   "execution_count": 40,
   "id": "0f5036b5-61f9-4bb8-8938-ae240864a50a",
   "metadata": {},
   "outputs": [
    {
     "data": {
      "text/html": [
       "<div>\n",
       "<style scoped>\n",
       "    .dataframe tbody tr th:only-of-type {\n",
       "        vertical-align: middle;\n",
       "    }\n",
       "\n",
       "    .dataframe tbody tr th {\n",
       "        vertical-align: top;\n",
       "    }\n",
       "\n",
       "    .dataframe thead th {\n",
       "        text-align: right;\n",
       "    }\n",
       "</style>\n",
       "<table border=\"1\" class=\"dataframe\">\n",
       "  <thead>\n",
       "    <tr style=\"text-align: right;\">\n",
       "      <th></th>\n",
       "      <th>id</th>\n",
       "      <th>time</th>\n",
       "      <th>label</th>\n",
       "      <th>alb</th>\n",
       "      <th>alp</th>\n",
       "      <th>alt</th>\n",
       "      <th>ast</th>\n",
       "      <th>be</th>\n",
       "      <th>bicar</th>\n",
       "      <th>bili</th>\n",
       "      <th>...</th>\n",
       "      <th>phos</th>\n",
       "      <th>plt</th>\n",
       "      <th>po2</th>\n",
       "      <th>ptt</th>\n",
       "      <th>resp</th>\n",
       "      <th>sbp</th>\n",
       "      <th>temp</th>\n",
       "      <th>tnt</th>\n",
       "      <th>urine</th>\n",
       "      <th>wbc</th>\n",
       "    </tr>\n",
       "  </thead>\n",
       "  <tbody>\n",
       "    <tr>\n",
       "      <th>0</th>\n",
       "      <td>30000153</td>\n",
       "      <td>0 days 00:00:00</td>\n",
       "      <td>False</td>\n",
       "      <td>NaN</td>\n",
       "      <td>NaN</td>\n",
       "      <td>NaN</td>\n",
       "      <td>NaN</td>\n",
       "      <td>NaN</td>\n",
       "      <td>NaN</td>\n",
       "      <td>NaN</td>\n",
       "      <td>...</td>\n",
       "      <td>NaN</td>\n",
       "      <td>NaN</td>\n",
       "      <td>NaN</td>\n",
       "      <td>NaN</td>\n",
       "      <td>14.0</td>\n",
       "      <td>124.5</td>\n",
       "      <td>36.000000</td>\n",
       "      <td>NaN</td>\n",
       "      <td>280.0</td>\n",
       "      <td>NaN</td>\n",
       "    </tr>\n",
       "    <tr>\n",
       "      <th>1</th>\n",
       "      <td>30000153</td>\n",
       "      <td>0 days 01:00:00</td>\n",
       "      <td>False</td>\n",
       "      <td>NaN</td>\n",
       "      <td>NaN</td>\n",
       "      <td>NaN</td>\n",
       "      <td>NaN</td>\n",
       "      <td>-3.0</td>\n",
       "      <td>NaN</td>\n",
       "      <td>NaN</td>\n",
       "      <td>...</td>\n",
       "      <td>NaN</td>\n",
       "      <td>NaN</td>\n",
       "      <td>242.0</td>\n",
       "      <td>NaN</td>\n",
       "      <td>16.0</td>\n",
       "      <td>141.0</td>\n",
       "      <td>37.277778</td>\n",
       "      <td>NaN</td>\n",
       "      <td>45.0</td>\n",
       "      <td>NaN</td>\n",
       "    </tr>\n",
       "    <tr>\n",
       "      <th>2</th>\n",
       "      <td>30000153</td>\n",
       "      <td>0 days 02:00:00</td>\n",
       "      <td>False</td>\n",
       "      <td>NaN</td>\n",
       "      <td>NaN</td>\n",
       "      <td>NaN</td>\n",
       "      <td>NaN</td>\n",
       "      <td>NaN</td>\n",
       "      <td>NaN</td>\n",
       "      <td>NaN</td>\n",
       "      <td>...</td>\n",
       "      <td>NaN</td>\n",
       "      <td>NaN</td>\n",
       "      <td>NaN</td>\n",
       "      <td>NaN</td>\n",
       "      <td>NaN</td>\n",
       "      <td>NaN</td>\n",
       "      <td>NaN</td>\n",
       "      <td>NaN</td>\n",
       "      <td>50.0</td>\n",
       "      <td>NaN</td>\n",
       "    </tr>\n",
       "    <tr>\n",
       "      <th>3</th>\n",
       "      <td>30000153</td>\n",
       "      <td>0 days 03:00:00</td>\n",
       "      <td>False</td>\n",
       "      <td>NaN</td>\n",
       "      <td>NaN</td>\n",
       "      <td>NaN</td>\n",
       "      <td>NaN</td>\n",
       "      <td>-4.0</td>\n",
       "      <td>19.0</td>\n",
       "      <td>NaN</td>\n",
       "      <td>...</td>\n",
       "      <td>3.1</td>\n",
       "      <td>173.0</td>\n",
       "      <td>215.0</td>\n",
       "      <td>25.3</td>\n",
       "      <td>14.0</td>\n",
       "      <td>116.0</td>\n",
       "      <td>37.500000</td>\n",
       "      <td>NaN</td>\n",
       "      <td>50.0</td>\n",
       "      <td>17.0</td>\n",
       "    </tr>\n",
       "    <tr>\n",
       "      <th>4</th>\n",
       "      <td>30000153</td>\n",
       "      <td>0 days 04:00:00</td>\n",
       "      <td>False</td>\n",
       "      <td>NaN</td>\n",
       "      <td>NaN</td>\n",
       "      <td>NaN</td>\n",
       "      <td>NaN</td>\n",
       "      <td>NaN</td>\n",
       "      <td>NaN</td>\n",
       "      <td>NaN</td>\n",
       "      <td>...</td>\n",
       "      <td>NaN</td>\n",
       "      <td>NaN</td>\n",
       "      <td>NaN</td>\n",
       "      <td>NaN</td>\n",
       "      <td>20.0</td>\n",
       "      <td>111.0</td>\n",
       "      <td>NaN</td>\n",
       "      <td>NaN</td>\n",
       "      <td>45.0</td>\n",
       "      <td>NaN</td>\n",
       "    </tr>\n",
       "    <tr>\n",
       "      <th>...</th>\n",
       "      <td>...</td>\n",
       "      <td>...</td>\n",
       "      <td>...</td>\n",
       "      <td>...</td>\n",
       "      <td>...</td>\n",
       "      <td>...</td>\n",
       "      <td>...</td>\n",
       "      <td>...</td>\n",
       "      <td>...</td>\n",
       "      <td>...</td>\n",
       "      <td>...</td>\n",
       "      <td>...</td>\n",
       "      <td>...</td>\n",
       "      <td>...</td>\n",
       "      <td>...</td>\n",
       "      <td>...</td>\n",
       "      <td>...</td>\n",
       "      <td>...</td>\n",
       "      <td>...</td>\n",
       "      <td>...</td>\n",
       "      <td>...</td>\n",
       "    </tr>\n",
       "    <tr>\n",
       "      <th>9995</th>\n",
       "      <td>30031755</td>\n",
       "      <td>4 days 07:00:00</td>\n",
       "      <td>False</td>\n",
       "      <td>NaN</td>\n",
       "      <td>NaN</td>\n",
       "      <td>NaN</td>\n",
       "      <td>NaN</td>\n",
       "      <td>NaN</td>\n",
       "      <td>NaN</td>\n",
       "      <td>NaN</td>\n",
       "      <td>...</td>\n",
       "      <td>NaN</td>\n",
       "      <td>NaN</td>\n",
       "      <td>NaN</td>\n",
       "      <td>NaN</td>\n",
       "      <td>16.0</td>\n",
       "      <td>80.0</td>\n",
       "      <td>NaN</td>\n",
       "      <td>NaN</td>\n",
       "      <td>NaN</td>\n",
       "      <td>NaN</td>\n",
       "    </tr>\n",
       "    <tr>\n",
       "      <th>9996</th>\n",
       "      <td>30031755</td>\n",
       "      <td>4 days 08:00:00</td>\n",
       "      <td>False</td>\n",
       "      <td>NaN</td>\n",
       "      <td>NaN</td>\n",
       "      <td>NaN</td>\n",
       "      <td>NaN</td>\n",
       "      <td>NaN</td>\n",
       "      <td>NaN</td>\n",
       "      <td>NaN</td>\n",
       "      <td>...</td>\n",
       "      <td>NaN</td>\n",
       "      <td>NaN</td>\n",
       "      <td>NaN</td>\n",
       "      <td>NaN</td>\n",
       "      <td>16.0</td>\n",
       "      <td>85.0</td>\n",
       "      <td>35.888889</td>\n",
       "      <td>NaN</td>\n",
       "      <td>NaN</td>\n",
       "      <td>NaN</td>\n",
       "    </tr>\n",
       "    <tr>\n",
       "      <th>9997</th>\n",
       "      <td>30031755</td>\n",
       "      <td>4 days 09:00:00</td>\n",
       "      <td>False</td>\n",
       "      <td>NaN</td>\n",
       "      <td>NaN</td>\n",
       "      <td>NaN</td>\n",
       "      <td>NaN</td>\n",
       "      <td>NaN</td>\n",
       "      <td>NaN</td>\n",
       "      <td>NaN</td>\n",
       "      <td>...</td>\n",
       "      <td>NaN</td>\n",
       "      <td>NaN</td>\n",
       "      <td>NaN</td>\n",
       "      <td>NaN</td>\n",
       "      <td>15.0</td>\n",
       "      <td>75.5</td>\n",
       "      <td>NaN</td>\n",
       "      <td>NaN</td>\n",
       "      <td>NaN</td>\n",
       "      <td>NaN</td>\n",
       "    </tr>\n",
       "    <tr>\n",
       "      <th>9998</th>\n",
       "      <td>30031755</td>\n",
       "      <td>4 days 10:00:00</td>\n",
       "      <td>False</td>\n",
       "      <td>NaN</td>\n",
       "      <td>NaN</td>\n",
       "      <td>NaN</td>\n",
       "      <td>NaN</td>\n",
       "      <td>NaN</td>\n",
       "      <td>NaN</td>\n",
       "      <td>NaN</td>\n",
       "      <td>...</td>\n",
       "      <td>NaN</td>\n",
       "      <td>NaN</td>\n",
       "      <td>NaN</td>\n",
       "      <td>NaN</td>\n",
       "      <td>16.5</td>\n",
       "      <td>77.5</td>\n",
       "      <td>NaN</td>\n",
       "      <td>NaN</td>\n",
       "      <td>0.0</td>\n",
       "      <td>NaN</td>\n",
       "    </tr>\n",
       "    <tr>\n",
       "      <th>9999</th>\n",
       "      <td>30031755</td>\n",
       "      <td>4 days 11:00:00</td>\n",
       "      <td>False</td>\n",
       "      <td>NaN</td>\n",
       "      <td>NaN</td>\n",
       "      <td>NaN</td>\n",
       "      <td>NaN</td>\n",
       "      <td>NaN</td>\n",
       "      <td>23.0</td>\n",
       "      <td>NaN</td>\n",
       "      <td>...</td>\n",
       "      <td>4.7</td>\n",
       "      <td>NaN</td>\n",
       "      <td>NaN</td>\n",
       "      <td>NaN</td>\n",
       "      <td>15.0</td>\n",
       "      <td>81.5</td>\n",
       "      <td>NaN</td>\n",
       "      <td>NaN</td>\n",
       "      <td>NaN</td>\n",
       "      <td>NaN</td>\n",
       "    </tr>\n",
       "  </tbody>\n",
       "</table>\n",
       "<p>10000 rows × 51 columns</p>\n",
       "</div>"
      ],
      "text/plain": [
       "            id            time  label  alb  alp  alt  ast   be  bicar  bili  \\\n",
       "0     30000153 0 days 00:00:00  False  NaN  NaN  NaN  NaN  NaN    NaN   NaN   \n",
       "1     30000153 0 days 01:00:00  False  NaN  NaN  NaN  NaN -3.0    NaN   NaN   \n",
       "2     30000153 0 days 02:00:00  False  NaN  NaN  NaN  NaN  NaN    NaN   NaN   \n",
       "3     30000153 0 days 03:00:00  False  NaN  NaN  NaN  NaN -4.0   19.0   NaN   \n",
       "4     30000153 0 days 04:00:00  False  NaN  NaN  NaN  NaN  NaN    NaN   NaN   \n",
       "...        ...             ...    ...  ...  ...  ...  ...  ...    ...   ...   \n",
       "9995  30031755 4 days 07:00:00  False  NaN  NaN  NaN  NaN  NaN    NaN   NaN   \n",
       "9996  30031755 4 days 08:00:00  False  NaN  NaN  NaN  NaN  NaN    NaN   NaN   \n",
       "9997  30031755 4 days 09:00:00  False  NaN  NaN  NaN  NaN  NaN    NaN   NaN   \n",
       "9998  30031755 4 days 10:00:00  False  NaN  NaN  NaN  NaN  NaN    NaN   NaN   \n",
       "9999  30031755 4 days 11:00:00  False  NaN  NaN  NaN  NaN  NaN   23.0   NaN   \n",
       "\n",
       "      ...  phos    plt    po2   ptt  resp    sbp       temp  tnt  urine   wbc  \n",
       "0     ...   NaN    NaN    NaN   NaN  14.0  124.5  36.000000  NaN  280.0   NaN  \n",
       "1     ...   NaN    NaN  242.0   NaN  16.0  141.0  37.277778  NaN   45.0   NaN  \n",
       "2     ...   NaN    NaN    NaN   NaN   NaN    NaN        NaN  NaN   50.0   NaN  \n",
       "3     ...   3.1  173.0  215.0  25.3  14.0  116.0  37.500000  NaN   50.0  17.0  \n",
       "4     ...   NaN    NaN    NaN   NaN  20.0  111.0        NaN  NaN   45.0   NaN  \n",
       "...   ...   ...    ...    ...   ...   ...    ...        ...  ...    ...   ...  \n",
       "9995  ...   NaN    NaN    NaN   NaN  16.0   80.0        NaN  NaN    NaN   NaN  \n",
       "9996  ...   NaN    NaN    NaN   NaN  16.0   85.0  35.888889  NaN    NaN   NaN  \n",
       "9997  ...   NaN    NaN    NaN   NaN  15.0   75.5        NaN  NaN    NaN   NaN  \n",
       "9998  ...   NaN    NaN    NaN   NaN  16.5   77.5        NaN  NaN    0.0   NaN  \n",
       "9999  ...   4.7    NaN    NaN   NaN  15.0   81.5        NaN  NaN    NaN   NaN  \n",
       "\n",
       "[10000 rows x 51 columns]"
      ]
     },
     "execution_count": 40,
     "metadata": {},
     "output_type": "execute_result"
    }
   ],
   "source": [
    "# visualize pandas dataframe for static data: \n",
    "dataset.temporal_data"
   ]
  },
  {
   "cell_type": "markdown",
   "id": "4739aae3-8cbe-40e9-8fb6-5a0fa2bc6f55",
   "metadata": {},
   "source": [
    "## Define problem\n",
    "Check if problem definition works, see more in the `preparation01` tutorial"
   ]
  },
  {
   "cell_type": "code",
   "execution_count": 41,
   "id": "3a4b4222-bae3-452b-ace9-ec620089cbfc",
   "metadata": {},
   "outputs": [],
   "source": [
    "from afa.data_modelling.problem.problem_ts import ProblemMaker_ts"
   ]
  },
  {
   "cell_type": "code",
   "execution_count": 42,
   "id": "f1a2a90b-bd16-40e3-acf9-acfa1883a2bc",
   "metadata": {},
   "outputs": [
    {
     "name": "stderr",
     "output_type": "stream",
     "text": [
      "100%|██████████| 208/208 [00:00<00:00, 955.13it/s]\n",
      "100%|██████████| 208/208 [00:00<00:00, 442.01it/s]\n",
      "100%|██████████| 208/208 [00:00<00:00, 984.28it/s]\n"
     ]
    }
   ],
   "source": [
    "# define problem specifications\n",
    "label_name = 'Y_ts'\n",
    "label_name = 'label'\n",
    "problem = 'online'\n",
    "treatment = None\n",
    "max_seq_len = 10\n",
    "\n",
    "problem_maker = ProblemMaker_ts(    problem    = problem, \n",
    "                                    label      = [label_name], \n",
    "                                    treatment  = treatment, \n",
    "                                    max_seq_len = max_seq_len)\n",
    "\n",
    "dataset  = problem_maker.fit_transform(dataset)"
   ]
  },
  {
   "cell_type": "code",
   "execution_count": 53,
   "id": "607c9818-69b6-48bd-a8b3-a31da1026efe",
   "metadata": {},
   "outputs": [
    {
     "name": "stdout",
     "output_type": "stream",
     "text": [
      "{'data': ['age', 'sex', 'height', 'weight'],\n",
      " 'label': ['label'],\n",
      " 'super_data': ['sex', 'weight', 'age', 'height'],\n",
      " 'super_temporal': ['mcv', 'crp', 'o2sat', 'pco2', 'sbp', 'bili_dir', 'hgb', 'bicar', 'bun', 'fio2', 'fgn', 'cl', 'lact', 'temp', 'bili', 'ptt', 'methb', 'mchc', 'inr_pt', 'map',\n",
      "                    'na', 'k', 'phos', 'wbc', 'glu', 'po2', 'ck', 'alb', 'resp', 'urine', 'alt', 'ph', 'mg', 'crea', 'mch', 'lymph', 'ca', 'plt', 'tnt', 'be', 'cai', 'alp', 'ckmb',\n",
      "                    'neut', 'bnd', 'dbp', 'hr', 'ast'],\n",
      " 'temporal': ['alb', 'alp', 'alt', 'ast', 'be', 'bicar', 'bili', 'bili_dir', 'bnd', 'bun', 'ca', 'cai', 'ck', 'ckmb', 'cl', 'crea', 'crp', 'dbp', 'fgn', 'fio2', 'glu', 'hgb', 'hr',\n",
      "              'inr_pt', 'k', 'lact', 'lymph', 'map', 'mch', 'mchc', 'mcv', 'methb', 'mg', 'na', 'neut', 'o2sat', 'pco2', 'ph', 'phos', 'plt', 'po2', 'ptt', 'resp', 'sbp', 'temp',\n",
      "              'tnt', 'urine', 'wbc'],\n",
      " 'treatment': None}\n"
     ]
    }
   ],
   "source": [
    "from pprint import pprint\n",
    "# check if features/superfeatures/labels etc have been correctly assigned \n",
    "pprint(dataset.feature_name, compact=True, width=180)"
   ]
  },
  {
   "cell_type": "markdown",
   "id": "1e6cd16e-76d3-47d8-b203-2104513df812",
   "metadata": {},
   "source": [
    "## Explain the synthetic data generation process\n",
    "Store information in reports folder in latex / markdown format"
   ]
  },
  {
   "cell_type": "code",
   "execution_count": 45,
   "id": "de48c4fa-2a08-4dd0-a672-bf94289430a0",
   "metadata": {},
   "outputs": [
    {
     "ename": "NameError",
     "evalue": "name 'data_generator' is not defined",
     "output_type": "error",
     "traceback": [
      "\u001b[0;31m---------------------------------------------------------------------------\u001b[0m",
      "\u001b[0;31mNameError\u001b[0m                                 Traceback (most recent call last)",
      "Cell \u001b[0;32mIn[45], line 2\u001b[0m\n\u001b[1;32m      1\u001b[0m explanation_file \u001b[39m=\u001b[39m data_dir \u001b[39m+\u001b[39m \u001b[39m'\u001b[39m\u001b[39msynthetic_data_report\u001b[39m\u001b[39m'\u001b[39m\n\u001b[0;32m----> 2\u001b[0m data_generator\u001b[39m.\u001b[39mexplain(file\u001b[39m=\u001b[39m explanation_file \u001b[39m+\u001b[39m \u001b[39m'\u001b[39m\u001b[39m.md\u001b[39m\u001b[39m'\u001b[39m  , \u001b[39mformat\u001b[39m\u001b[39m=\u001b[39m\u001b[39m'\u001b[39m\u001b[39mmarkdown\u001b[39m\u001b[39m'\u001b[39m)\n\u001b[1;32m      3\u001b[0m \u001b[39m# data_generator.explain(file= explanation_file + '.tex'  , format='latex')\u001b[39;00m\n",
      "\u001b[0;31mNameError\u001b[0m: name 'data_generator' is not defined"
     ]
    }
   ],
   "source": [
    "explanation_file = data_dir + 'synthetic_data_report'\n",
    "data_generator.explain(file= explanation_file + '.md'  , format='markdown')\n",
    "# data_generator.explain(file= explanation_file + '.tex'  , format='latex')"
   ]
  },
  {
   "cell_type": "code",
   "execution_count": null,
   "id": "090171c4",
   "metadata": {},
   "outputs": [],
   "source": []
  },
  {
   "cell_type": "code",
   "execution_count": null,
   "id": "e9a38e31",
   "metadata": {},
   "outputs": [],
   "source": []
  },
  {
   "cell_type": "code",
   "execution_count": null,
   "id": "7aeb81f8-9bb8-4bf3-bcfe-07c9d393b66d",
   "metadata": {},
   "outputs": [],
   "source": []
  }
 ],
 "metadata": {
  "kernelspec": {
   "display_name": "afa_env",
   "language": "python",
   "name": "python3"
  },
  "language_info": {
   "codemirror_mode": {
    "name": "ipython",
    "version": 3
   },
   "file_extension": ".py",
   "mimetype": "text/x-python",
   "name": "python",
   "nbconvert_exporter": "python",
   "pygments_lexer": "ipython3",
   "version": "3.8.10 (default, Mar 13 2023, 10:26:41) \n[GCC 9.4.0]"
  },
  "toc": {
   "base_numbering": 1,
   "nav_menu": {},
   "number_sections": true,
   "sideBar": true,
   "skip_h1_title": false,
   "title_cell": "Table of Contents",
   "title_sidebar": "Contents",
   "toc_cell": false,
   "toc_position": {
    "height": "calc(100% - 180px)",
    "left": "10px",
    "top": "150px",
    "width": "282px"
   },
   "toc_section_display": true,
   "toc_window_display": true
  },
  "varInspector": {
   "cols": {
    "lenName": 16,
    "lenType": 16,
    "lenVar": 40
   },
   "kernels_config": {
    "python": {
     "delete_cmd_postfix": "",
     "delete_cmd_prefix": "del ",
     "library": "var_list.py",
     "varRefreshCmd": "print(var_dic_list())"
    },
    "r": {
     "delete_cmd_postfix": ") ",
     "delete_cmd_prefix": "rm(",
     "library": "var_list.r",
     "varRefreshCmd": "cat(var_dic_list()) "
    }
   },
   "oldHeight": 713.852,
   "position": {
    "height": "40px",
    "left": "1650px",
    "right": "20px",
    "top": "120px",
    "width": "250px"
   },
   "types_to_exclude": [
    "module",
    "function",
    "builtin_function_or_method",
    "instance",
    "_Feature"
   ],
   "varInspector_section_display": "none",
   "window_display": true
  },
  "vscode": {
   "interpreter": {
    "hash": "c7b4046880187643253f6628bf550833ec82b05e290730cdc21121f8b3319a95"
   }
  }
 },
 "nbformat": 4,
 "nbformat_minor": 5
}
