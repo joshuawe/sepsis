{
 "cells": [
  {
   "cell_type": "markdown",
   "id": "738d755b",
   "metadata": {},
   "source": [
    "# Define (1) prediction problem, (2) superfeatures and (3) data split"
   ]
  },
  {
   "cell_type": "markdown",
   "id": "0d7cd1d6-a92c-428c-a091-05d2ae4cd7d8",
   "metadata": {
    "tags": []
   },
   "source": [
    "This tutorial shows how to define the prediction problem (what to predict) and the superfeatures (groups of features that are usually missing jointly) for your dataset.\n",
    "\n",
    "Note: Also define a datasplit"
   ]
  },
  {
   "cell_type": "code",
   "execution_count": 1,
   "id": "06b963d0-edd6-46e5-9e7a-a8a5d68f621b",
   "metadata": {},
   "outputs": [],
   "source": [
    "%load_ext autoreload\n",
    "%autoreload 2"
   ]
  },
  {
   "cell_type": "markdown",
   "id": "f69cdcd0-7537-4270-854f-99a1f654bed6",
   "metadata": {},
   "source": [
    "### Define paths "
   ]
  },
  {
   "cell_type": "code",
   "execution_count": 2,
   "id": "0bd2ec3b-f9e9-4e7d-8d50-170c15d550ee",
   "metadata": {},
   "outputs": [],
   "source": [
    "# which dataset to work on \n",
    "dataset_name   = \"miiv\""
   ]
  },
  {
   "cell_type": "code",
   "execution_count": 3,
   "id": "f8e8a6db-a061-4584-8a2d-4774ccff7626",
   "metadata": {},
   "outputs": [],
   "source": [
    "# data specifications \n",
    "data_dir            = \"../../../data/ts/\" + dataset_name + \"/fully_observed/\" \n",
    "data_file          = data_dir + dataset_name + '_static.parquet' \n",
    "temporal_data_file = data_dir + dataset_name + '_ts_wide.parquet' \n",
    "\n",
    "# file to save problem\n",
    "problem_file = data_dir + 'problem/' + 'problem.yaml'\n",
    "\n",
    "# file to save superfeatures\n",
    "superfeature_mapping_file = data_dir + 'superfeatures.csv'\n",
    "\n",
    "# file for datasplit \n",
    "folds_file = data_dir + 'folds/' + 'fold_list.hkl'"
   ]
  },
  {
   "cell_type": "markdown",
   "id": "bf457065-8f32-4143-abe8-eb8de3f808b7",
   "metadata": {},
   "source": [
    "## Define problem"
   ]
  },
  {
   "cell_type": "markdown",
   "id": "42a5c7a2-f538-4794-8930-b592838133ec",
   "metadata": {},
   "source": [
    "We define the problem, by setting what we want to predict. We save the problem in a .yaml file for faster loading."
   ]
  },
  {
   "cell_type": "code",
   "execution_count": 4,
   "id": "2c57d67d-4bdd-4fee-9dcc-bd597afec56b",
   "metadata": {},
   "outputs": [],
   "source": [
    "from afa.data_modelling.problem.utils import load_problem_specs, save_problem_specs"
   ]
  },
  {
   "cell_type": "code",
   "execution_count": 5,
   "id": "dac5fa39-d563-4866-ab08-9a1c93e76c19",
   "metadata": {},
   "outputs": [],
   "source": [
    "# define problem specifications\n",
    "problem_specs = { 'label_name' : ['label'], \n",
    "                  'problem'    : 'online',\n",
    "                  'treatment' : None ,\n",
    "                  'max_seq_len' : 170}\n",
    "\n",
    "# save\n",
    "save_problem_specs( problem_specs  = problem_specs , problem_file = problem_file ) "
   ]
  },
  {
   "cell_type": "code",
   "execution_count": 6,
   "id": "7c397bb0-24ee-4d30-a347-4df23f1bc844",
   "metadata": {},
   "outputs": [
    {
     "data": {
      "text/plain": [
       "{'label_name': ['label'],\n",
       " 'max_seq_len': 170,\n",
       " 'problem': 'online',\n",
       " 'treatment': None}"
      ]
     },
     "execution_count": 6,
     "metadata": {},
     "output_type": "execute_result"
    }
   ],
   "source": [
    "problem_specs = load_problem_specs(problem_file = problem_file)\n",
    "problem_specs"
   ]
  },
  {
   "cell_type": "markdown",
   "id": "8e66f5f7-f068-42ab-aac2-a50d8527e155",
   "metadata": {},
   "source": [
    "## Define superfeature_mapping"
   ]
  },
  {
   "cell_type": "markdown",
   "id": "743faf11-e1d9-45ed-bcb0-43a0d9345d56",
   "metadata": {},
   "source": [
    "Superfeatures contain multiple features that are usually acquired/ missing jointly. Think e.g. of an image where the image is the superfeature and the pixels are the features.   \n",
    "They are thus especially important for defining the missingness process. \n",
    "If no superfeatures are defined, the default assumption is that every feature is also its own superfeature. \n",
    "\n",
    "Note: The superfeature generation for synthetic data is already included in the preparation00 tutorial. \n",
    "\n",
    "You can test the superfeature mapping by loading the data with the specified file in tutorial_classification_static.ipynb"
   ]
  },
  {
   "cell_type": "markdown",
   "id": "d0ed0f84-9fb1-4840-bef7-f4f8518c7590",
   "metadata": {},
   "source": [
    "### Option 1: Create superfeature mapping directly via a .csv file\n",
    "Fill a .csv file by \n",
    "- listing superfeature names as columnnames\n",
    "- writing the feature names below the corresponding superfeatures (can have different length columns). Make sure the feature names are spelled exactly how you load them in the dataframe "
   ]
  },
  {
   "cell_type": "markdown",
   "id": "fe351046-f008-4dc2-93a5-e926b3b53441",
   "metadata": {},
   "source": [
    "### Option 2: Define them here and save the mapping \n",
    "A second option is to define them as a dictionary and save it. "
   ]
  },
  {
   "cell_type": "code",
   "execution_count": 7,
   "id": "becedc7a-d196-43b0-9396-2254cf7417e4",
   "metadata": {},
   "outputs": [],
   "source": [
    "from afa.data_modelling.datasets.superfeatures.utils import save_name_mapping"
   ]
  },
  {
   "cell_type": "code",
   "execution_count": 8,
   "id": "311329bd-d98a-4711-9acc-712a8ac8c48c",
   "metadata": {},
   "outputs": [],
   "source": [
    "superfeature2feature_name_mapping = \\\n",
    "    { 'supercrp' : ['crp'], \n",
    "      'superY'  : ['mch', 'map' ] }\n",
    "\n",
    "save_name_mapping( superfeature2feature_name_mapping , mapping_file  = superfeature_mapping_file   )  "
   ]
  },
  {
   "cell_type": "markdown",
   "id": "7fd50cb8-f3a2-499f-8a90-f6cd70a9b0ca",
   "metadata": {},
   "source": [
    "### Option 3: Prepared superfeature mappings (not recommended)\n",
    "Lastly, for specific datasets, the superfeature mapping creation can be stored automatically executed. "
   ]
  },
  {
   "cell_type": "code",
   "execution_count": 30,
   "id": "93ed9d65-7c78-4cfc-9cb8-07b3277e2d36",
   "metadata": {},
   "outputs": [
    {
     "name": "stdout",
     "output_type": "stream",
     "text": [
      "Superfeature mapping not defined for specified dataset\n"
     ]
    },
    {
     "ename": "UnboundLocalError",
     "evalue": "local variable 'superfeature2feature_name_mapping' referenced before assignment",
     "output_type": "error",
     "traceback": [
      "\u001b[0;31m---------------------------------------------------------------------------\u001b[0m",
      "\u001b[0;31mUnboundLocalError\u001b[0m                         Traceback (most recent call last)",
      "Cell \u001b[0;32mIn[30], line 2\u001b[0m\n\u001b[1;32m      1\u001b[0m \u001b[39mfrom\u001b[39;00m \u001b[39mafa\u001b[39;00m\u001b[39m.\u001b[39;00m\u001b[39mconfigurations\u001b[39;00m\u001b[39m.\u001b[39;00m\u001b[39mdata_settings\u001b[39;00m\u001b[39m.\u001b[39;00m\u001b[39mdefine_data_settings_ts\u001b[39;00m \u001b[39mimport\u001b[39;00m generate_superfeature_mapping_ts\n\u001b[0;32m----> 2\u001b[0m superfeature2feature_name_mapping \u001b[39m=\u001b[39m generate_superfeature_mapping_ts( dataset_name ,  data_dir \u001b[39m=\u001b[39;49m data_dir )\n",
      "File \u001b[0;32m~/Documents/afa_ts/afa/configurations/data_settings/define_data_settings_ts.py:39\u001b[0m, in \u001b[0;36mgenerate_superfeature_mapping_ts\u001b[0;34m(dataset_name, data_dir)\u001b[0m\n\u001b[1;32m     36\u001b[0m \u001b[39melse\u001b[39;00m:\n\u001b[1;32m     37\u001b[0m     \u001b[39mprint\u001b[39m(\u001b[39m\"\u001b[39m\u001b[39mSuperfeature mapping not defined for specified dataset\u001b[39m\u001b[39m\"\u001b[39m)\n\u001b[0;32m---> 39\u001b[0m save_name_mapping( superfeature2feature_name_mapping , mapping_file \u001b[39m=\u001b[39m superfeature_mapping_file   )\n\u001b[1;32m     42\u001b[0m \u001b[39mreturn\u001b[39;00m superfeature2feature_name_mapping\n",
      "\u001b[0;31mUnboundLocalError\u001b[0m: local variable 'superfeature2feature_name_mapping' referenced before assignment"
     ]
    }
   ],
   "source": [
    "from afa.configurations.data_settings.define_data_settings_ts import generate_superfeature_mapping_ts\n",
    "superfeature2feature_name_mapping = generate_superfeature_mapping_ts( dataset_name ,  data_dir = data_dir )"
   ]
  },
  {
   "cell_type": "markdown",
   "id": "ba9d6dc3-1d24-40b2-84b0-cf053b29195c",
   "metadata": {},
   "source": [
    "### Test by loading superfeature mapping "
   ]
  },
  {
   "cell_type": "markdown",
   "id": "8e8fdca0-54c5-4017-ab5b-cf65f083261c",
   "metadata": {},
   "source": [
    "#### Test 1: load superfeature mapping by itself "
   ]
  },
  {
   "cell_type": "code",
   "execution_count": 9,
   "id": "0fe526a9-fd5c-41bf-bcb9-21062f7160fd",
   "metadata": {},
   "outputs": [],
   "source": [
    "from afa.data_modelling.datasets.superfeatures.utils import load_superfeature2feature_name_mapping\n",
    "superfeature2feature_name_mapping = load_superfeature2feature_name_mapping( superfeature_mapping_file) "
   ]
  },
  {
   "cell_type": "code",
   "execution_count": 10,
   "id": "f0737e6e-ea75-4696-b5dc-9cc1fb86854a",
   "metadata": {},
   "outputs": [
    {
     "data": {
      "text/plain": [
       "{'supercrp': ['crp'], 'superY': ['mch', 'map']}"
      ]
     },
     "execution_count": 10,
     "metadata": {},
     "output_type": "execute_result"
    }
   ],
   "source": [
    "superfeature2feature_name_mapping"
   ]
  },
  {
   "cell_type": "markdown",
   "id": "14675d04-8b2e-47a0-9e45-21af78a39bc3",
   "metadata": {},
   "source": [
    "## Test: load dataset with problem and superfeature mapping "
   ]
  },
  {
   "cell_type": "code",
   "execution_count": 4,
   "id": "847253f5-375a-4ffd-8b11-228ec8767542",
   "metadata": {},
   "outputs": [
    {
     "name": "stderr",
     "output_type": "stream",
     "text": [
      "2023-03-26 12:30:51.602673: I tensorflow/core/platform/cpu_feature_guard.cc:193] This TensorFlow binary is optimized with oneAPI Deep Neural Network Library (oneDNN) to use the following CPU instructions in performance-critical operations:  AVX2 FMA\n",
      "To enable them in other operations, rebuild TensorFlow with the appropriate compiler flags.\n",
      "2023-03-26 12:30:51.677388: W tensorflow/compiler/xla/stream_executor/platform/default/dso_loader.cc:64] Could not load dynamic library 'libcudart.so.11.0'; dlerror: libcudart.so.11.0: cannot open shared object file: No such file or directory\n",
      "2023-03-26 12:30:51.677403: I tensorflow/compiler/xla/stream_executor/cuda/cudart_stub.cc:29] Ignore above cudart dlerror if you do not have a GPU set up on your machine.\n",
      "2023-03-26 12:30:54.036971: W tensorflow/compiler/xla/stream_executor/platform/default/dso_loader.cc:64] Could not load dynamic library 'libnvinfer.so.7'; dlerror: libnvinfer.so.7: cannot open shared object file: No such file or directory\n",
      "2023-03-26 12:30:54.037049: W tensorflow/compiler/xla/stream_executor/platform/default/dso_loader.cc:64] Could not load dynamic library 'libnvinfer_plugin.so.7'; dlerror: libnvinfer_plugin.so.7: cannot open shared object file: No such file or directory\n",
      "2023-03-26 12:30:54.037058: W tensorflow/compiler/tf2tensorrt/utils/py_utils.cc:38] TF-TRT Warning: Cannot dlopen some TensorRT libraries. If you would like to use Nvidia GPU with TensorRT, please make sure the missing libraries mentioned above are installed properly.\n"
     ]
    }
   ],
   "source": [
    "from afa.data_modelling.datasets.data_loader.data_loader_ts import DataLoader_ts"
   ]
  },
  {
   "cell_type": "code",
   "execution_count": 6,
   "id": "e2dae7db-3ce0-40de-8a7c-d919fb4bd7db",
   "metadata": {},
   "outputs": [
    {
     "name": "stderr",
     "output_type": "stream",
     "text": [
      "Padding sequences: 100%|██████████| 67056/67056 [00:26<00:00, 2576.13it/s]\n",
      "Padding sequences: 100%|██████████| 67056/67056 [00:31<00:00, 2110.58it/s]\n",
      "Padding sequences: 100%|██████████| 67056/67056 [00:26<00:00, 2559.11it/s]\n"
     ]
    }
   ],
   "source": [
    "# load data\n",
    "data_loader = DataLoader_ts(data_file                  = data_file,\n",
    "                            temporal_data_file         = temporal_data_file,\n",
    "                            superfeature_mapping_file  = superfeature_mapping_file,\n",
    "                            problem_file               = problem_file)\n",
    "dataset = data_loader.load(temporal_only_nrows=None, temporal_is_wide=True)"
   ]
  },
  {
   "cell_type": "code",
   "execution_count": 13,
   "id": "2e036ac1-8536-42ee-a672-35f02160e7a8",
   "metadata": {},
   "outputs": [
    {
     "data": {
      "text/plain": [
       "{'supercrp': ['crp'],\n",
       " 'superY': ['mch', 'map'],\n",
       " 'plt': ['plt'],\n",
       " 'ca': ['ca'],\n",
       " 'methb': ['methb'],\n",
       " 'weight': ['weight'],\n",
       " 'bnd': ['bnd'],\n",
       " 'temp': ['temp'],\n",
       " 'cl': ['cl'],\n",
       " 'bun': ['bun'],\n",
       " 'mg': ['mg'],\n",
       " 'alp': ['alp'],\n",
       " 'mcv': ['mcv'],\n",
       " 'ckmb': ['ckmb'],\n",
       " 'bili': ['bili'],\n",
       " 'cai': ['cai'],\n",
       " 'o2sat': ['o2sat'],\n",
       " 'phos': ['phos'],\n",
       " 'crea': ['crea'],\n",
       " 'hr': ['hr'],\n",
       " 'na': ['na'],\n",
       " 'neut': ['neut'],\n",
       " 'ast': ['ast'],\n",
       " 'urine': ['urine'],\n",
       " 'sex': ['sex'],\n",
       " 'sbp': ['sbp'],\n",
       " 'ck': ['ck'],\n",
       " 'k': ['k'],\n",
       " 'be': ['be'],\n",
       " 'ph': ['ph'],\n",
       " 'alt': ['alt'],\n",
       " 'po2': ['po2'],\n",
       " 'ptt': ['ptt'],\n",
       " 'lact': ['lact'],\n",
       " 'fio2': ['fio2'],\n",
       " 'age': ['age'],\n",
       " 'bicar': ['bicar'],\n",
       " 'fgn': ['fgn'],\n",
       " 'inr_pt': ['inr_pt'],\n",
       " 'alb': ['alb'],\n",
       " 'pco2': ['pco2'],\n",
       " 'hgb': ['hgb'],\n",
       " 'resp': ['resp'],\n",
       " 'dbp': ['dbp'],\n",
       " 'tnt': ['tnt'],\n",
       " 'lymph': ['lymph'],\n",
       " 'wbc': ['wbc'],\n",
       " 'height': ['height'],\n",
       " 'mchc': ['mchc'],\n",
       " 'glu': ['glu'],\n",
       " 'bili_dir': ['bili_dir']}"
      ]
     },
     "execution_count": 13,
     "metadata": {},
     "output_type": "execute_result"
    }
   ],
   "source": [
    "# check superfeature mapping\n",
    "dataset.superfeature2feature_name_mapping"
   ]
  },
  {
   "cell_type": "code",
   "execution_count": 14,
   "id": "80840c63-45e6-4983-9018-b028053a587a",
   "metadata": {},
   "outputs": [
    {
     "name": "stdout",
     "output_type": "stream",
     "text": [
      "{'data': ['age', 'sex', 'height', 'weight'],\n",
      " 'label': ['label'],\n",
      " 'super_data': ['weight', 'sex', 'age', 'height'],\n",
      " 'super_temporal': ['supercrp', 'superY', 'plt', 'ca', 'methb', 'bnd', 'temp', 'cl', 'bun', 'mg', 'alp', 'mcv', 'ckmb', 'bili', 'cai', 'o2sat', 'phos', 'crea',\n",
      "                    'hr', 'na', 'neut', 'ast', 'urine', 'sbp', 'ck', 'k', 'be', 'ph', 'alt', 'po2', 'ptt', 'lact', 'fio2', 'bicar', 'fgn', 'inr_pt', 'alb',\n",
      "                    'pco2', 'hgb', 'resp', 'dbp', 'tnt', 'lymph', 'wbc', 'mchc', 'glu', 'bili_dir'],\n",
      " 'temporal': ['alb', 'alp', 'alt', 'ast', 'be', 'bicar', 'bili', 'bili_dir', 'bnd', 'bun', 'ca', 'cai', 'ck', 'ckmb', 'cl', 'crea', 'crp', 'dbp', 'fgn', 'fio2',\n",
      "              'glu', 'hgb', 'hr', 'inr_pt', 'k', 'lact', 'lymph', 'map', 'mch', 'mchc', 'mcv', 'methb', 'mg', 'na', 'neut', 'o2sat', 'pco2', 'ph', 'phos',\n",
      "              'plt', 'po2', 'ptt', 'resp', 'sbp', 'temp', 'tnt', 'urine', 'wbc'],\n",
      " 'treatment': None}\n"
     ]
    }
   ],
   "source": [
    "from pprint import pprint\n",
    "# check if resulting feature/superfeature names are correct \n",
    "pprint(dataset.feature_name, compact=True, width=160)"
   ]
  },
  {
   "cell_type": "markdown",
   "id": "bfa1323f-1e61-4f43-b7ac-3935acc2ca6d",
   "metadata": {},
   "source": [
    "## Define data split "
   ]
  },
  {
   "cell_type": "code",
   "execution_count": 15,
   "id": "6a9f46eb-2a45-4036-b4e0-e9633fa8b54a",
   "metadata": {},
   "outputs": [],
   "source": [
    "# define the datasplit \n",
    "dataset.multi_split( prob_list = [0.4,0.4,0.2], split_names = [\"train\", \"val\", \"test\"])\n",
    "\n",
    "# save the datasplot \n",
    "dataset.save_folds( data_dir ) "
   ]
  },
  {
   "cell_type": "code",
   "execution_count": 92,
   "id": "7f5c485d-a9c1-42d6-8c5d-1d27b7958397",
   "metadata": {},
   "outputs": [
    {
     "name": "stderr",
     "output_type": "stream",
     "text": [
      "Padding sequence: 100%|██████████| 67056/67056 [03:02<00:00, 367.80it/s]\n",
      "Padding sequence: 100%|██████████| 67056/67056 [04:37<00:00, 241.58it/s]\n",
      "Padding sequence: 100%|██████████| 67056/67056 [03:01<00:00, 370.03it/s]\n"
     ]
    }
   ],
   "source": [
    "# load data\n",
    "data_loader = DataLoader_ts(   data_file                  = data_file,\n",
    "                               temporal_data_file         = temporal_data_file,\n",
    "                               superfeature_mapping_file  = superfeature_mapping_file,\n",
    "                               problem_file               = problem_file, \n",
    "                               folds_file                 = folds_file)\n",
    "dataset = data_loader.load(temporal_only_nrows=None,temporal_is_wide=True) "
   ]
  },
  {
   "cell_type": "code",
   "execution_count": 16,
   "id": "a7f14572-d44e-4ee8-8047-c5a0f616bea3",
   "metadata": {},
   "outputs": [],
   "source": [
    "data = dataset.get_data(fold = 0, split = \"train\") "
   ]
  },
  {
   "cell_type": "code",
   "execution_count": null,
   "id": "536c2edc",
   "metadata": {},
   "outputs": [],
   "source": []
  },
  {
   "cell_type": "code",
   "execution_count": 17,
   "id": "7759f60a-9b21-4e8f-bc70-fb8f896ae545",
   "metadata": {},
   "outputs": [
    {
     "data": {
      "text/plain": [
       "dict_keys(['feature', 'label', 'treatment', 'temporal_feature', 'time', 'superR', 'temporal_superR'])"
      ]
     },
     "execution_count": 17,
     "metadata": {},
     "output_type": "execute_result"
    }
   ],
   "source": [
    "data.keys()"
   ]
  },
  {
   "cell_type": "code",
   "execution_count": null,
   "id": "49866e72-af09-4501-a0a1-fceeb9da45c7",
   "metadata": {},
   "outputs": [],
   "source": []
  },
  {
   "cell_type": "code",
   "execution_count": null,
   "id": "bfcb1901",
   "metadata": {},
   "outputs": [],
   "source": [
    "# Temp\n",
    "\n",
    "dataset.temporal_data"
   ]
  }
 ],
 "metadata": {
  "kernelspec": {
   "display_name": "afa_env",
   "language": "python",
   "name": "python3"
  },
  "language_info": {
   "codemirror_mode": {
    "name": "ipython",
    "version": 3
   },
   "file_extension": ".py",
   "mimetype": "text/x-python",
   "name": "python",
   "nbconvert_exporter": "python",
   "pygments_lexer": "ipython3",
   "version": "3.8.10"
  },
  "toc": {
   "base_numbering": 1,
   "nav_menu": {},
   "number_sections": true,
   "sideBar": true,
   "skip_h1_title": false,
   "title_cell": "Table of Contents",
   "title_sidebar": "Contents",
   "toc_cell": false,
   "toc_position": {
    "height": "calc(100% - 180px)",
    "left": "10px",
    "top": "150px",
    "width": "282px"
   },
   "toc_section_display": true,
   "toc_window_display": true
  },
  "varInspector": {
   "cols": {
    "lenName": 16,
    "lenType": 16,
    "lenVar": 40
   },
   "kernels_config": {
    "python": {
     "delete_cmd_postfix": "",
     "delete_cmd_prefix": "del ",
     "library": "var_list.py",
     "varRefreshCmd": "print(var_dic_list())"
    },
    "r": {
     "delete_cmd_postfix": ") ",
     "delete_cmd_prefix": "rm(",
     "library": "var_list.r",
     "varRefreshCmd": "cat(var_dic_list()) "
    }
   },
   "oldHeight": 713.852,
   "position": {
    "height": "40px",
    "left": "1650px",
    "right": "20px",
    "top": "120px",
    "width": "250px"
   },
   "types_to_exclude": [
    "module",
    "function",
    "builtin_function_or_method",
    "instance",
    "_Feature"
   ],
   "varInspector_section_display": "none",
   "window_display": true
  },
  "vscode": {
   "interpreter": {
    "hash": "c7b4046880187643253f6628bf550833ec82b05e290730cdc21121f8b3319a95"
   }
  }
 },
 "nbformat": 4,
 "nbformat_minor": 5
}
