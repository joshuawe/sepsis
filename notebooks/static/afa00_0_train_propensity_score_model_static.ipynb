{
 "cells": [
  {
   "cell_type": "markdown",
   "id": "c115955a-4824-4f80-8e54-7edbb8ccf86b",
   "metadata": {},
   "source": [
    "# (0.0) Train a propensity score (PS) model\n",
    "One option to resolve missingness for AFA is to use inverse probability weighting. \n",
    "This notebook trains PS models and saves the computed propensity scores for the dataset. "
   ]
  },
  {
   "cell_type": "code",
   "execution_count": 1,
   "id": "25e56fb6-07f1-46bf-b18b-de11562f0778",
   "metadata": {},
   "outputs": [],
   "source": [
    "%load_ext autoreload\n",
    "%autoreload 2\n"
   ]
  },
  {
   "cell_type": "markdown",
   "id": "da5d73e7-40a9-43fa-a44f-5fbe48138655",
   "metadata": {},
   "source": [
    "## Define paths "
   ]
  },
  {
   "cell_type": "markdown",
   "id": "a1634a6d-d316-4ee5-a934-b04405987e55",
   "metadata": {},
   "source": [
    "Paths for data"
   ]
  },
  {
   "cell_type": "code",
   "execution_count": 2,
   "id": "136ad704-9673-4784-b6de-4470ce58ac0d",
   "metadata": {},
   "outputs": [],
   "source": [
    "from afa.configurations.utils_static import specify_default_paths_static\n",
    "# which dataset to work on \n",
    "dataset_name   = \"synthetic_1\"\n",
    "\n",
    "# name for of missingness scenario \n",
    "miss_scenario  = 'MCAR_1'\n",
    "\n",
    "# automatically specify some path locations (change paths manually if needed) \n",
    "paths = specify_default_paths_static(dataset_name = dataset_name , miss_scenario = miss_scenario) \n",
    "\n",
    "\n",
    "# load additional propensity score models to compare\n",
    "# ps_model_gt_name = 'ps_model_' + miss_scenario + '_gt'\n",
    "ps_model_gt_name = 'ps_model_gt'  # to compare with \n",
    "ps_model_names = [ps_model_gt_name] \n",
    "paths['miss_model_files']['ps_values_dirs'] = [paths['data_dir'] + 'ps_models/' + ps_model_name + '/' + 'ps_values/' for ps_model_name in ps_model_names]"
   ]
  },
  {
   "cell_type": "markdown",
   "id": "0a02b0ed-e05c-4e7f-893e-7c21a477874e",
   "metadata": {},
   "source": [
    "Paths for model"
   ]
  },
  {
   "cell_type": "code",
   "execution_count": 3,
   "id": "56effe9e-240b-49e2-8335-34394d817ffa",
   "metadata": {},
   "outputs": [],
   "source": [
    "# name for agent (and predictor) \n",
    "ps_model_name         = 'ps_lr'\n",
    "\n",
    "# new (where to save the model) \n",
    "ps_model_dir = paths['data_dir']  + 'ps_models' + '/' + ps_model_name + '/'"
   ]
  },
  {
   "cell_type": "markdown",
   "id": "de399c70-166d-4d9d-a891-43b01052b150",
   "metadata": {},
   "source": [
    "## Load dataset with missingness \n",
    "At first, we want to load the dataset \n",
    "\n",
    "Includes loading: \n",
    "- superfeature mapping\n",
    "- problem\n",
    "- afa_problem \n",
    "- missingness_model"
   ]
  },
  {
   "cell_type": "code",
   "execution_count": 4,
   "id": "9864eb83-a3f4-4d56-9caa-6ebf5c4fa529",
   "metadata": {},
   "outputs": [
    {
     "name": "stderr",
     "output_type": "stream",
     "text": [
      "2023-02-17 17:29:53.133719: I tensorflow/core/platform/cpu_feature_guard.cc:193] This TensorFlow binary is optimized with oneAPI Deep Neural Network Library (oneDNN) to use the following CPU instructions in performance-critical operations:  AVX2 FMA\n",
      "To enable them in other operations, rebuild TensorFlow with the appropriate compiler flags.\n",
      "2023-02-17 17:29:53.265765: W tensorflow/compiler/xla/stream_executor/platform/default/dso_loader.cc:64] Could not load dynamic library 'libcudart.so.11.0'; dlerror: libcudart.so.11.0: cannot open shared object file: No such file or directory\n",
      "2023-02-17 17:29:53.265780: I tensorflow/compiler/xla/stream_executor/cuda/cudart_stub.cc:29] Ignore above cudart dlerror if you do not have a GPU set up on your machine.\n",
      "2023-02-17 17:29:53.945714: W tensorflow/compiler/xla/stream_executor/platform/default/dso_loader.cc:64] Could not load dynamic library 'libnvinfer.so.7'; dlerror: libnvinfer.so.7: cannot open shared object file: No such file or directory\n",
      "2023-02-17 17:29:53.945811: W tensorflow/compiler/xla/stream_executor/platform/default/dso_loader.cc:64] Could not load dynamic library 'libnvinfer_plugin.so.7'; dlerror: libnvinfer_plugin.so.7: cannot open shared object file: No such file or directory\n",
      "2023-02-17 17:29:53.945818: W tensorflow/compiler/tf2tensorrt/utils/py_utils.cc:38] TF-TRT Warning: Cannot dlopen some TensorRT libraries. If you would like to use Nvidia GPU with TensorRT, please make sure the missing libraries mentioned above are installed properly.\n"
     ]
    }
   ],
   "source": [
    "from afa.data_modelling.datasets.data_loader.data_loader_static import DataLoader_static"
   ]
  },
  {
   "cell_type": "code",
   "execution_count": 5,
   "id": "812acbbc-2207-490b-9db5-64b24d334ee7",
   "metadata": {},
   "outputs": [],
   "source": [
    "data_loader = DataLoader_static( data_file                  = paths['data_file'],\n",
    "                                 superfeature_mapping_file  = paths['superfeature_mapping_file'],\n",
    "                                 problem_file               = paths['problem_file'],\n",
    "                                 afa_problem_files          = paths['afa_problem_files'], \n",
    "                                 miss_model_files           = paths['miss_model_files'], \n",
    "                                 folds_file                 = paths['folds_file'] )\n",
    "dataset = data_loader.load() "
   ]
  },
  {
   "cell_type": "markdown",
   "id": "682f0788-f552-457c-97cd-c82254f81302",
   "metadata": {},
   "source": [
    "## Define propensity score model"
   ]
  },
  {
   "cell_type": "code",
   "execution_count": 6,
   "id": "4cc6196d-0076-42fa-8c4b-6cbbdf446668",
   "metadata": {},
   "outputs": [],
   "source": [
    "ps_model_params = {\n",
    "    'name' : ps_model_name, \n",
    "    'directory' : ps_model_dir,\n",
    "    'base_model_params' : {   'base_model_type': 'ann',\n",
    "                              'units':              1,\n",
    "                              'layers': 1,\n",
    "                              'learning_rate': 0.01,\n",
    "                              'batch_size' :128,\n",
    "                              'epochs': 500 }\n",
    "    }"
   ]
  },
  {
   "cell_type": "code",
   "execution_count": 7,
   "id": "32f8ebde-44f5-46b5-bbad-df1e5b809460",
   "metadata": {},
   "outputs": [
    {
     "name": "stdout",
     "output_type": "stream",
     "text": [
      "Change base_model to constant\n",
      "Change base_model to constant\n"
     ]
    }
   ],
   "source": [
    "from afa.data_modelling.missingness.propensity_scores.propensity_score_model_static import PropensityScoreModel_static \n",
    "\n",
    "ps_model = PropensityScoreModel_static(  name                         = ps_model_params['name'], \n",
    "                                         m_graph                      = dataset.miss_model.m_graph, \n",
    "                                         feature_name                 = dataset.feature_name,\n",
    "                                         target_superfeature_names    = dataset.afa_problem.target_superfeature_names,\n",
    "                                         model_params                 = ps_model_params,\n",
    "                                         directory                    = ps_model_params['directory']) "
   ]
  },
  {
   "cell_type": "markdown",
   "id": "f6ec89f1-1445-436b-8ad2-e6076737fdc7",
   "metadata": {},
   "source": [
    "## Fit propensity score model"
   ]
  },
  {
   "cell_type": "code",
   "execution_count": 8,
   "id": "13a9b0f5-609d-4a06-9097-ad01d2620849",
   "metadata": {},
   "outputs": [
    {
     "name": "stderr",
     "output_type": "stream",
     "text": [
      "2023-02-17 17:29:56.810652: I tensorflow/compiler/xla/stream_executor/cuda/cuda_gpu_executor.cc:967] could not open file to read NUMA node: /sys/bus/pci/devices/0000:01:00.0/numa_node\n",
      "Your kernel may have been built without NUMA support.\n",
      "2023-02-17 17:29:56.810900: W tensorflow/compiler/xla/stream_executor/platform/default/dso_loader.cc:64] Could not load dynamic library 'libcudart.so.11.0'; dlerror: libcudart.so.11.0: cannot open shared object file: No such file or directory\n",
      "2023-02-17 17:29:56.810998: W tensorflow/compiler/xla/stream_executor/platform/default/dso_loader.cc:64] Could not load dynamic library 'libcublas.so.11'; dlerror: libcublas.so.11: cannot open shared object file: No such file or directory\n",
      "2023-02-17 17:29:56.811048: W tensorflow/compiler/xla/stream_executor/platform/default/dso_loader.cc:64] Could not load dynamic library 'libcublasLt.so.11'; dlerror: libcublasLt.so.11: cannot open shared object file: No such file or directory\n",
      "2023-02-17 17:29:56.811097: W tensorflow/compiler/xla/stream_executor/platform/default/dso_loader.cc:64] Could not load dynamic library 'libcufft.so.10'; dlerror: libcufft.so.10: cannot open shared object file: No such file or directory\n",
      "2023-02-17 17:29:56.811145: W tensorflow/compiler/xla/stream_executor/platform/default/dso_loader.cc:64] Could not load dynamic library 'libcurand.so.10'; dlerror: libcurand.so.10: cannot open shared object file: No such file or directory\n",
      "2023-02-17 17:29:56.811193: W tensorflow/compiler/xla/stream_executor/platform/default/dso_loader.cc:64] Could not load dynamic library 'libcusolver.so.11'; dlerror: libcusolver.so.11: cannot open shared object file: No such file or directory\n",
      "2023-02-17 17:29:56.811240: W tensorflow/compiler/xla/stream_executor/platform/default/dso_loader.cc:64] Could not load dynamic library 'libcusparse.so.11'; dlerror: libcusparse.so.11: cannot open shared object file: No such file or directory\n",
      "2023-02-17 17:29:56.811290: W tensorflow/compiler/xla/stream_executor/platform/default/dso_loader.cc:64] Could not load dynamic library 'libcudnn.so.8'; dlerror: libcudnn.so.8: cannot open shared object file: No such file or directory\n",
      "2023-02-17 17:29:56.811298: W tensorflow/core/common_runtime/gpu/gpu_device.cc:1934] Cannot dlopen some GPU libraries. Please make sure the missing libraries mentioned above are installed properly if you would like to use GPU. Follow the guide at https://www.tensorflow.org/install/gpu for how to download and setup the required libraries for your platform.\n",
      "Skipping registering GPU devices...\n",
      "2023-02-17 17:29:56.811715: I tensorflow/core/platform/cpu_feature_guard.cc:193] This TensorFlow binary is optimized with oneAPI Deep Neural Network Library (oneDNN) to use the following CPU instructions in performance-critical operations:  AVX2 FMA\n",
      "To enable them in other operations, rebuild TensorFlow with the appropriate compiler flags.\n"
     ]
    },
    {
     "data": {
      "image/png": "[encoded data removed]",
      "text/plain": [
       "<Figure size 1152x360 with 2 Axes>"
      ]
     },
     "metadata": {
      "needs_background": "light"
     },
     "output_type": "display_data"
    }
   ],
   "source": [
    "ps_model.fit(dataset, fold = 0, train_split = 'train', valid_split = 'val', fit_again = True)"
   ]
  },
  {
   "cell_type": "markdown",
   "id": "0452a065-749e-4fd0-b974-43490612e61c",
   "metadata": {},
   "source": [
    "## Compute the propensity score for the dataset"
   ]
  },
  {
   "cell_type": "markdown",
   "id": "d4db8f63-f88f-4128-935f-8b15957fab34",
   "metadata": {},
   "source": [
    "We add the computed propensity scores to the dataset."
   ]
  },
  {
   "cell_type": "code",
   "execution_count": 9,
   "id": "dee08784-3137-485d-a4bf-02cfd0d6150a",
   "metadata": {},
   "outputs": [],
   "source": [
    "# compute ps values\n",
    "ps_values, ps_values_1 = ps_model.predict(dataset)"
   ]
  },
  {
   "cell_type": "code",
   "execution_count": 10,
   "id": "40dfbcfb-42cd-4a11-a8c4-db3336579f21",
   "metadata": {},
   "outputs": [],
   "source": [
    "# add ps_values\n",
    "dataset.miss_model.add_ps_values( ps_model_name , \n",
    "                                  ps_values = ps_values, \n",
    "                                  ps_values_1 = ps_values_1 )"
   ]
  },
  {
   "cell_type": "markdown",
   "id": "6e5eecf5-9569-4b35-8c90-4eb1dbd636fb",
   "metadata": {},
   "source": [
    "## Compare all propensity scores in dataset"
   ]
  },
  {
   "cell_type": "markdown",
   "id": "c0f6c479-af61-4851-92ef-8edf485c0448",
   "metadata": {},
   "source": [
    "We might have computed multiple different propensity scores (e.g. also the ground truth propensity score) using different models and want to compare their predictions now. "
   ]
  },
  {
   "cell_type": "code",
   "execution_count": 11,
   "id": "a81a2427-436b-43c0-b07f-4b684aebcd92",
   "metadata": {},
   "outputs": [
    {
     "data": {
      "image/png": "[encoded data removed]",
      "text/plain": [
       "<Figure size 288x360 with 1 Axes>"
      ]
     },
     "metadata": {
      "needs_background": "light"
     },
     "output_type": "display_data"
    }
   ],
   "source": [
    "# compare values for p(R=1|X)\n",
    "dataset.miss_model.plot_ps_comparison( values_1 = True)"
   ]
  },
  {
   "cell_type": "code",
   "execution_count": 12,
   "id": "93f1d5bb-ed49-4bd3-824a-03345e11b7ca",
   "metadata": {},
   "outputs": [
    {
     "data": {
      "image/png": "[encoded data removed]",
      "text/plain": [
       "<Figure size 288x360 with 1 Axes>"
      ]
     },
     "metadata": {
      "needs_background": "light"
     },
     "output_type": "display_data"
    }
   ],
   "source": [
    "# compare values for p(R=r|X)\n",
    "dataset.miss_model.plot_ps_comparison( values_1 = False)"
   ]
  },
  {
   "cell_type": "markdown",
   "id": "7447ac63-2388-4c5e-9f74-ad336310d2a6",
   "metadata": {},
   "source": [
    "## Save computed ps values"
   ]
  },
  {
   "cell_type": "code",
   "execution_count": 13,
   "id": "4c298377-0219-49c6-b8ba-551862fafea0",
   "metadata": {},
   "outputs": [],
   "source": [
    "dataset.miss_model.save( data_dir = paths['data_dir']) "
   ]
  },
  {
   "cell_type": "markdown",
   "id": "d2210643-531e-4afe-a715-065007dbfa69",
   "metadata": {},
   "source": [
    "## Reporting: summarize the propensity score model and its training performance\n",
    "Store information in reports folder in latex / markdown format."
   ]
  },
  {
   "cell_type": "code",
   "execution_count": 14,
   "id": "2380c51f-50da-437a-9422-8aee903b2942",
   "metadata": {},
   "outputs": [],
   "source": [
    "explanation_file = ps_model.directory + 'model_report.md'  # +  'reports/' + 'model_report' \n",
    "ps_model.explain(file= explanation_file, format = 'markdown')\n",
    "#ps_model.explain(file=  explanation_file + '.tex', format = 'latex')"
   ]
  },
  {
   "cell_type": "code",
   "execution_count": null,
   "id": "ca05d1bc-ee23-40e2-bc75-eb644b7c18a4",
   "metadata": {},
   "outputs": [],
   "source": []
  }
 ],
 "metadata": {
  "kernelspec": {
   "display_name": "afa_env",
   "language": "python",
   "name": "afa_env"
  },
  "language_info": {
   "codemirror_mode": {
    "name": "ipython",
    "version": 3
   },
   "file_extension": ".py",
   "mimetype": "text/x-python",
   "name": "python",
   "nbconvert_exporter": "python",
   "pygments_lexer": "ipython3",
   "version": "3.10.8"
  }
 },
 "nbformat": 4,
 "nbformat_minor": 5
}
