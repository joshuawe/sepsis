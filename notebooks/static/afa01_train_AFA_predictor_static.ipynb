{
 "cells": [
  {
   "cell_type": "markdown",
   "id": "8c30e44e-52d6-4634-b522-c267d9d25c18",
   "metadata": {},
   "source": [
    "# (1) Train predicator (classifier) for AFA \n",
    "The AFA problem contains the training of a classifier that is able to predict well based on any acquired subset of features. \n",
    "In this notebook we train and save such a classifier "
   ]
  },
  {
   "cell_type": "code",
   "execution_count": 1,
   "id": "8ef781ed-4103-4ab3-9f58-0839da5b5655",
   "metadata": {},
   "outputs": [],
   "source": [
    "%load_ext autoreload\n",
    "%autoreload 2"
   ]
  },
  {
   "cell_type": "markdown",
   "id": "57977939-d5d3-4f0c-bd02-170beb177566",
   "metadata": {},
   "source": [
    "## Define paths"
   ]
  },
  {
   "cell_type": "markdown",
   "id": "de01ecb4-228b-4953-bca7-390eeeb74aa7",
   "metadata": {},
   "source": [
    "Paths for data"
   ]
  },
  {
   "cell_type": "code",
   "execution_count": 2,
   "id": "d48c5748-725f-4cc6-80b9-908f1b32664d",
   "metadata": {},
   "outputs": [],
   "source": [
    "from afa.configurations.utils_static import specify_default_paths_static\n",
    "# which dataset to work on \n",
    "dataset_name   = \"synthetic_1\"\n",
    "\n",
    "# name for of missingness scenario \n",
    "miss_scenario  = 'MCAR_1'\n",
    "\n",
    "# automatically specify some path locations (change paths manually if needed) \n",
    "paths = specify_default_paths_static(dataset_name = dataset_name , miss_scenario = miss_scenario) "
   ]
  },
  {
   "cell_type": "markdown",
   "id": "d86f309b-441c-4c0b-a6d8-89837df5a91f",
   "metadata": {},
   "source": [
    "Paths for model"
   ]
  },
  {
   "cell_type": "code",
   "execution_count": 3,
   "id": "f28e2e44-576f-4371-9ab8-001a0ab989e9",
   "metadata": {},
   "outputs": [],
   "source": [
    "# name for predictor \n",
    "predictor_model_name  = 'logistic_regression'\n",
    "\n",
    "# new (where to save the model) \n",
    "predictor_model_dir = paths['data_dir'] + 'predictor_models' + '/' + predictor_model_name + '/'\n",
    "\n",
    "# reporting\n",
    "explanation_file = predictor_model_dir +  'reports/' + 'model_report' "
   ]
  },
  {
   "cell_type": "markdown",
   "id": "0c26bb79-a599-4ec2-8714-395774f29e86",
   "metadata": {},
   "source": [
    "## Load dataset with missingness \n",
    "At first, we want to load the dataset \n",
    "\n",
    "Includes loading: \n",
    "- superfeature mapping\n",
    "- problem\n",
    "- afa_problem \n",
    "- missingness_model"
   ]
  },
  {
   "cell_type": "code",
   "execution_count": 4,
   "id": "e389e952-73f7-4961-aaf3-7da80d5ebc9a",
   "metadata": {},
   "outputs": [
    {
     "name": "stderr",
     "output_type": "stream",
     "text": [
      "2023-02-17 17:41:39.960854: I tensorflow/core/platform/cpu_feature_guard.cc:193] This TensorFlow binary is optimized with oneAPI Deep Neural Network Library (oneDNN) to use the following CPU instructions in performance-critical operations:  AVX2 FMA\n",
      "To enable them in other operations, rebuild TensorFlow with the appropriate compiler flags.\n",
      "2023-02-17 17:41:40.108071: W tensorflow/compiler/xla/stream_executor/platform/default/dso_loader.cc:64] Could not load dynamic library 'libcudart.so.11.0'; dlerror: libcudart.so.11.0: cannot open shared object file: No such file or directory\n",
      "2023-02-17 17:41:40.108087: I tensorflow/compiler/xla/stream_executor/cuda/cudart_stub.cc:29] Ignore above cudart dlerror if you do not have a GPU set up on your machine.\n",
      "2023-02-17 17:41:40.669654: W tensorflow/compiler/xla/stream_executor/platform/default/dso_loader.cc:64] Could not load dynamic library 'libnvinfer.so.7'; dlerror: libnvinfer.so.7: cannot open shared object file: No such file or directory\n",
      "2023-02-17 17:41:40.669739: W tensorflow/compiler/xla/stream_executor/platform/default/dso_loader.cc:64] Could not load dynamic library 'libnvinfer_plugin.so.7'; dlerror: libnvinfer_plugin.so.7: cannot open shared object file: No such file or directory\n",
      "2023-02-17 17:41:40.669746: W tensorflow/compiler/tf2tensorrt/utils/py_utils.cc:38] TF-TRT Warning: Cannot dlopen some TensorRT libraries. If you would like to use Nvidia GPU with TensorRT, please make sure the missing libraries mentioned above are installed properly.\n"
     ]
    }
   ],
   "source": [
    "from afa.data_modelling.datasets.data_loader.data_loader_static import DataLoader_static"
   ]
  },
  {
   "cell_type": "code",
   "execution_count": 5,
   "id": "42cd08c0-44c4-4f01-88d7-33ccd11bc28a",
   "metadata": {},
   "outputs": [],
   "source": [
    "data_loader = DataLoader_static( data_file                  = paths['data_file'],\n",
    "                                 superfeature_mapping_file  = paths['superfeature_mapping_file'],\n",
    "                                 problem_file               = paths['problem_file'],\n",
    "                                 afa_problem_files          = paths['afa_problem_files'], \n",
    "                                 miss_model_files           = paths['miss_model_files'], \n",
    "                                 folds_file                 = paths['folds_file'] )\n",
    "dataset = data_loader.load() "
   ]
  },
  {
   "cell_type": "markdown",
   "id": "3539523a-b1e7-4b8f-b010-3082ae3817ff",
   "metadata": {},
   "source": [
    "## Create afa dataset with missingness \n",
    "To train an AFA predictor, we need to induce artificial missingness (such that the predictor is robust to the missingness pattern). \n",
    "Here, we use a simple model to create missingness randomly (MCAR)."
   ]
  },
  {
   "cell_type": "code",
   "execution_count": 6,
   "id": "f443fefb-ebed-4e35-bd9a-3b10988dc31a",
   "metadata": {},
   "outputs": [],
   "source": [
    "from afa.afa_datasets.utils_static import create_MCAR_afa_dataset_static"
   ]
  },
  {
   "cell_type": "code",
   "execution_count": 7,
   "id": "b8f3bc2c-8c2c-407b-9d28-b8779a262a7e",
   "metadata": {},
   "outputs": [
    {
     "name": "stdout",
     "output_type": "stream",
     "text": [
      "Change base_model to constant\n",
      "Change base_model to constant\n",
      "Set weight for constant model ...\n",
      "Set weight for constant model ...\n"
     ]
    }
   ],
   "source": [
    "afa_dataset = create_MCAR_afa_dataset_static( dataset, MCAR_ratio = 0.9, n_samples = 5)"
   ]
  },
  {
   "cell_type": "markdown",
   "id": "7c25e9b6-f18b-47fb-9240-58efb84201ca",
   "metadata": {},
   "source": [
    "## Train Predictor "
   ]
  },
  {
   "cell_type": "markdown",
   "id": "ea987f31-febe-4053-9b9e-10dca7a72cfd",
   "metadata": {},
   "source": [
    "### Initialize predictor "
   ]
  },
  {
   "cell_type": "code",
   "execution_count": 8,
   "id": "39e3df59-098e-4ccb-a5ee-9ba6e9f0c29b",
   "metadata": {},
   "outputs": [],
   "source": [
    "from afa.afa_models.afa_predictors.afa_predictor_static import AFAPredictor_static"
   ]
  },
  {
   "cell_type": "code",
   "execution_count": 9,
   "id": "c4921f92-6e4c-49df-803a-682423b8e0bf",
   "metadata": {
    "tags": []
   },
   "outputs": [],
   "source": [
    "predictor_model_params = {\n",
    "    'name' : predictor_model_name, \n",
    "    'directory': predictor_model_dir,\n",
    "    'base_model_params' : {   \n",
    "        'model_type': 'ImputeThenRegress',\n",
    "        'imputer_params' : {\n",
    "              'model_type': 'simple_imputer',\n",
    "              'mode' : 'imputation', \n",
    "            },\n",
    "        'predictor_params' : {\n",
    "              'model_type': 'ann',\n",
    "              'mode' : dataset.problem, \n",
    "              'units':              1,\n",
    "              'layers': 1,\n",
    "              'learning_rate': 0.01,\n",
    "              'batch_size' :128,\n",
    "              'epochs': 100\n",
    "          }\n",
    "    }\n",
    "}"
   ]
  },
  {
   "cell_type": "code",
   "execution_count": 10,
   "id": "399aeb50-ea4b-4d63-985d-b241a332e52e",
   "metadata": {},
   "outputs": [
    {
     "name": "stderr",
     "output_type": "stream",
     "text": [
      "2023-02-17 17:41:44.551301: I tensorflow/compiler/xla/stream_executor/cuda/cuda_gpu_executor.cc:967] could not open file to read NUMA node: /sys/bus/pci/devices/0000:01:00.0/numa_node\n",
      "Your kernel may have been built without NUMA support.\n",
      "2023-02-17 17:41:44.551462: W tensorflow/compiler/xla/stream_executor/platform/default/dso_loader.cc:64] Could not load dynamic library 'libcudart.so.11.0'; dlerror: libcudart.so.11.0: cannot open shared object file: No such file or directory\n",
      "2023-02-17 17:41:44.551506: W tensorflow/compiler/xla/stream_executor/platform/default/dso_loader.cc:64] Could not load dynamic library 'libcublas.so.11'; dlerror: libcublas.so.11: cannot open shared object file: No such file or directory\n",
      "2023-02-17 17:41:44.551545: W tensorflow/compiler/xla/stream_executor/platform/default/dso_loader.cc:64] Could not load dynamic library 'libcublasLt.so.11'; dlerror: libcublasLt.so.11: cannot open shared object file: No such file or directory\n",
      "2023-02-17 17:41:44.551584: W tensorflow/compiler/xla/stream_executor/platform/default/dso_loader.cc:64] Could not load dynamic library 'libcufft.so.10'; dlerror: libcufft.so.10: cannot open shared object file: No such file or directory\n",
      "2023-02-17 17:41:44.551622: W tensorflow/compiler/xla/stream_executor/platform/default/dso_loader.cc:64] Could not load dynamic library 'libcurand.so.10'; dlerror: libcurand.so.10: cannot open shared object file: No such file or directory\n",
      "2023-02-17 17:41:44.551683: W tensorflow/compiler/xla/stream_executor/platform/default/dso_loader.cc:64] Could not load dynamic library 'libcusolver.so.11'; dlerror: libcusolver.so.11: cannot open shared object file: No such file or directory\n",
      "2023-02-17 17:41:44.551726: W tensorflow/compiler/xla/stream_executor/platform/default/dso_loader.cc:64] Could not load dynamic library 'libcusparse.so.11'; dlerror: libcusparse.so.11: cannot open shared object file: No such file or directory\n",
      "2023-02-17 17:41:44.551765: W tensorflow/compiler/xla/stream_executor/platform/default/dso_loader.cc:64] Could not load dynamic library 'libcudnn.so.8'; dlerror: libcudnn.so.8: cannot open shared object file: No such file or directory\n",
      "2023-02-17 17:41:44.551772: W tensorflow/core/common_runtime/gpu/gpu_device.cc:1934] Cannot dlopen some GPU libraries. Please make sure the missing libraries mentioned above are installed properly if you would like to use GPU. Follow the guide at https://www.tensorflow.org/install/gpu for how to download and setup the required libraries for your platform.\n",
      "Skipping registering GPU devices...\n",
      "2023-02-17 17:41:44.552238: I tensorflow/core/platform/cpu_feature_guard.cc:193] This TensorFlow binary is optimized with oneAPI Deep Neural Network Library (oneDNN) to use the following CPU instructions in performance-critical operations:  AVX2 FMA\n",
      "To enable them in other operations, rebuild TensorFlow with the appropriate compiler flags.\n"
     ]
    }
   ],
   "source": [
    "afa_predictor = AFAPredictor_static(    name            = predictor_model_params['name'], \n",
    "                                        model_params    = predictor_model_params, \n",
    "                                        directory       = predictor_model_params['directory'])   "
   ]
  },
  {
   "cell_type": "code",
   "execution_count": 11,
   "id": "2b521049-ef7e-4b80-8a50-015475834a14",
   "metadata": {
    "tags": []
   },
   "outputs": [
    {
     "name": "stdout",
     "output_type": "stream",
     "text": [
      "WARNING:tensorflow:`period` argument is deprecated. Please use `save_freq` to specify the frequency in number of batches seen.\n",
      "Epoch 1/100\n"
     ]
    },
    {
     "name": "stderr",
     "output_type": "stream",
     "text": [
      "2023-02-17 17:41:44.994587: I tensorflow/core/profiler/lib/profiler_session.cc:101] Profiler session initializing.\n",
      "2023-02-17 17:41:44.994639: I tensorflow/core/profiler/lib/profiler_session.cc:116] Profiler session started.\n",
      "2023-02-17 17:41:44.995573: I tensorflow/core/profiler/backends/gpu/cupti_tracer.cc:1664] Profiler found 1 GPUs\n",
      "2023-02-17 17:41:44.995861: W tensorflow/compiler/xla/stream_executor/platform/default/dso_loader.cc:64] Could not load dynamic library 'libcupti.so.11.2'; dlerror: libcupti.so.11.2: cannot open shared object file: No such file or directory\n",
      "2023-02-17 17:41:44.996038: W tensorflow/compiler/xla/stream_executor/platform/default/dso_loader.cc:64] Could not load dynamic library 'libcupti.so'; dlerror: libcupti.so: cannot open shared object file: No such file or directory\n",
      "2023-02-17 17:41:44.996103: E tensorflow/core/profiler/backends/gpu/cupti_error_manager.cc:135] cuptiGetTimestamp: error 999: \n",
      "2023-02-17 17:41:44.996124: E tensorflow/core/profiler/backends/gpu/cupti_error_manager.cc:184] cuptiSubscribe: ignored due to a previous error.\n",
      "2023-02-17 17:41:44.996129: E tensorflow/core/profiler/backends/gpu/cupti_error_manager.cc:457] cuptiGetResultString: ignored due to a previous error.\n",
      "2023-02-17 17:41:44.996132: E tensorflow/core/profiler/backends/gpu/cupti_tracer.cc:1715] function cupti_interface_->Subscribe( &subscriber_, (CUpti_CallbackFunc)ApiCallback, this)failed with error \n",
      "2023-02-17 17:41:44.996685: I tensorflow/core/profiler/lib/profiler_session.cc:128] Profiler session tear down.\n",
      "2023-02-17 17:41:44.996760: E tensorflow/core/profiler/backends/gpu/cupti_error_manager.cc:140] cuptiFinalize: ignored due to a previous error.\n",
      "2023-02-17 17:41:44.996769: E tensorflow/core/profiler/backends/gpu/cupti_error_manager.cc:457] cuptiGetResultString: ignored due to a previous error.\n",
      "2023-02-17 17:41:44.996772: E tensorflow/core/profiler/backends/gpu/cupti_tracer.cc:1807] function cupti_interface_->Finalize()failed with error \n"
     ]
    },
    {
     "name": "stdout",
     "output_type": "stream",
     "text": [
      "1/1 [==============================] - 1s 613ms/step - loss: 1.7218 - binary_accuracy: 0.1481 - val_loss: 1.1164 - val_binary_accuracy: 0.3333\n",
      "Epoch 2/100\n",
      "1/1 [==============================] - 0s 27ms/step - loss: 1.7064 - binary_accuracy: 0.1667 - val_loss: 1.1076 - val_binary_accuracy: 0.3333\n",
      "Epoch 3/100\n",
      "1/1 [==============================] - 0s 31ms/step - loss: 1.6911 - binary_accuracy: 0.1667 - val_loss: 1.0989 - val_binary_accuracy: 0.3333\n",
      "Epoch 4/100\n",
      "1/1 [==============================] - 0s 29ms/step - loss: 1.6758 - binary_accuracy: 0.1667 - val_loss: 1.0903 - val_binary_accuracy: 0.3333\n",
      "Epoch 5/100\n",
      "1/1 [==============================] - 0s 28ms/step - loss: 1.6606 - binary_accuracy: 0.1852 - val_loss: 1.0819 - val_binary_accuracy: 0.3333\n",
      "Epoch 6/100\n",
      "1/1 [==============================] - 0s 28ms/step - loss: 1.6455 - binary_accuracy: 0.2037 - val_loss: 1.0735 - val_binary_accuracy: 0.3333\n",
      "Epoch 7/100\n",
      "1/1 [==============================] - 0s 30ms/step - loss: 1.6304 - binary_accuracy: 0.2037 - val_loss: 1.0653 - val_binary_accuracy: 0.3333\n",
      "Epoch 8/100\n",
      "1/1 [==============================] - 0s 37ms/step - loss: 1.6155 - binary_accuracy: 0.2037 - val_loss: 1.0572 - val_binary_accuracy: 0.3333\n",
      "Epoch 9/100\n",
      "1/1 [==============================] - 0s 29ms/step - loss: 1.6006 - binary_accuracy: 0.2037 - val_loss: 1.0494 - val_binary_accuracy: 0.3333\n",
      "Epoch 10/100\n",
      "1/1 [==============================] - ETA: 0s - loss: 1.5858 - binary_accuracy: 0.2037\n",
      "Epoch 10: saving model to ../../../data/static/synthetic_1/MCAR_1/predictor_models/logistic_regression/cp.ckpt\n",
      "1/1 [==============================] - 0s 117ms/step - loss: 1.5858 - binary_accuracy: 0.2037 - val_loss: 1.0417 - val_binary_accuracy: 0.3333\n",
      "Epoch 11/100\n",
      "1/1 [==============================] - 0s 27ms/step - loss: 1.5711 - binary_accuracy: 0.2222 - val_loss: 1.0342 - val_binary_accuracy: 0.3333\n",
      "Epoch 12/100\n",
      "1/1 [==============================] - 0s 27ms/step - loss: 1.5565 - binary_accuracy: 0.2222 - val_loss: 1.0270 - val_binary_accuracy: 0.3333\n",
      "Epoch 13/100\n",
      "1/1 [==============================] - 0s 26ms/step - loss: 1.5420 - binary_accuracy: 0.2222 - val_loss: 1.0201 - val_binary_accuracy: 0.3333\n",
      "Epoch 14/100\n",
      "1/1 [==============================] - 0s 26ms/step - loss: 1.5276 - binary_accuracy: 0.2222 - val_loss: 1.0135 - val_binary_accuracy: 0.3333\n",
      "Epoch 15/100\n",
      "1/1 [==============================] - 0s 26ms/step - loss: 1.5132 - binary_accuracy: 0.2222 - val_loss: 1.0071 - val_binary_accuracy: 0.3333\n",
      "Epoch 16/100\n",
      "1/1 [==============================] - 0s 27ms/step - loss: 1.4990 - binary_accuracy: 0.2222 - val_loss: 1.0011 - val_binary_accuracy: 0.3333\n",
      "Epoch 17/100\n",
      "1/1 [==============================] - 0s 27ms/step - loss: 1.4848 - binary_accuracy: 0.2407 - val_loss: 0.9955 - val_binary_accuracy: 0.3333\n",
      "Epoch 18/100\n",
      "1/1 [==============================] - 0s 29ms/step - loss: 1.4707 - binary_accuracy: 0.2407 - val_loss: 0.9903 - val_binary_accuracy: 0.3333\n",
      "Epoch 19/100\n",
      "1/1 [==============================] - 0s 28ms/step - loss: 1.4567 - binary_accuracy: 0.2407 - val_loss: 0.9854 - val_binary_accuracy: 0.3333\n",
      "Epoch 20/100\n",
      "1/1 [==============================] - ETA: 0s - loss: 1.4428 - binary_accuracy: 0.2407\n",
      "Epoch 20: saving model to ../../../data/static/synthetic_1/MCAR_1/predictor_models/logistic_regression/cp.ckpt\n",
      "1/1 [==============================] - 0s 122ms/step - loss: 1.4428 - binary_accuracy: 0.2407 - val_loss: 0.9809 - val_binary_accuracy: 0.3333\n",
      "Epoch 21/100\n",
      "1/1 [==============================] - 0s 28ms/step - loss: 1.4290 - binary_accuracy: 0.2407 - val_loss: 0.9767 - val_binary_accuracy: 0.3333\n",
      "Epoch 22/100\n",
      "1/1 [==============================] - 0s 30ms/step - loss: 1.4152 - binary_accuracy: 0.2407 - val_loss: 0.9730 - val_binary_accuracy: 0.3333\n",
      "Epoch 23/100\n",
      "1/1 [==============================] - ETA: 0s - loss: 1.4016 - binary_accuracy: 0.2407"
     ]
    },
    {
     "name": "stderr",
     "output_type": "stream",
     "text": [
      "2023-02-17 17:41:46.426880: I tensorflow/core/profiler/lib/profiler_session.cc:101] Profiler session initializing.\n",
      "2023-02-17 17:41:46.426911: I tensorflow/core/profiler/lib/profiler_session.cc:116] Profiler session started.\n",
      "2023-02-17 17:41:46.426954: E tensorflow/core/profiler/backends/gpu/cupti_error_manager.cc:133] cuptiGetTimestamp: ignored due to a previous error.\n",
      "2023-02-17 17:41:46.426963: E tensorflow/core/profiler/backends/gpu/cupti_error_manager.cc:184] cuptiSubscribe: ignored due to a previous error.\n",
      "2023-02-17 17:41:46.426966: E tensorflow/core/profiler/backends/gpu/cupti_error_manager.cc:457] cuptiGetResultString: ignored due to a previous error.\n",
      "2023-02-17 17:41:46.426969: E tensorflow/core/profiler/backends/gpu/cupti_tracer.cc:1715] function cupti_interface_->Subscribe( &subscriber_, (CUpti_CallbackFunc)ApiCallback, this)failed with error \n"
     ]
    },
    {
     "name": "stdout",
     "output_type": "stream",
     "text": [
      "1/1 [==============================] - 0s 28ms/step - loss: 1.4016 - binary_accuracy: 0.2407 - val_loss: 0.9695 - val_binary_accuracy: 0.3333\n",
      "Epoch 24/100\n",
      "1/1 [==============================] - 0s 28ms/step - loss: 1.3880 - binary_accuracy: 0.2407 - val_loss: 0.9664 - val_binary_accuracy: 0.3333\n",
      "Epoch 25/100\n",
      "1/1 [==============================] - 0s 28ms/step - loss: 1.3745 - binary_accuracy: 0.2407 - val_loss: 0.9636 - val_binary_accuracy: 0.3333\n",
      "Epoch 26/100\n",
      "1/1 [==============================] - 0s 27ms/step - loss: 1.3611 - binary_accuracy: 0.2593 - val_loss: 0.9611 - val_binary_accuracy: 0.3333\n",
      "Epoch 27/100\n",
      "1/1 [==============================] - 0s 27ms/step - loss: 1.3477 - binary_accuracy: 0.2593 - val_loss: 0.9588 - val_binary_accuracy: 0.3333\n",
      "Epoch 28/100\n",
      "1/1 [==============================] - 0s 28ms/step - loss: 1.3345 - binary_accuracy: 0.2593 - val_loss: 0.9567 - val_binary_accuracy: 0.3333\n",
      "Epoch 29/100\n",
      "1/1 [==============================] - 0s 27ms/step - loss: 1.3213 - binary_accuracy: 0.2593 - val_loss: 0.9548 - val_binary_accuracy: 0.3333\n",
      "Epoch 30/100\n",
      "1/1 [==============================] - ETA: 0s - loss: 1.3083 - binary_accuracy: 0.2593\n",
      "Epoch 30: saving model to ../../../data/static/synthetic_1/MCAR_1/predictor_models/logistic_regression/cp.ckpt\n",
      "1/1 [==============================] - 0s 119ms/step - loss: 1.3083 - binary_accuracy: 0.2593 - val_loss: 0.9531 - val_binary_accuracy: 0.1667\n",
      "Epoch 31/100\n",
      "1/1 [==============================] - 0s 30ms/step - loss: 1.2953 - binary_accuracy: 0.2593 - val_loss: 0.9515 - val_binary_accuracy: 0.1667\n",
      "Epoch 32/100\n",
      "1/1 [==============================] - 0s 29ms/step - loss: 1.2824 - binary_accuracy: 0.2593 - val_loss: 0.9500 - val_binary_accuracy: 0.1667\n",
      "Epoch 33/100\n",
      "1/1 [==============================] - 0s 31ms/step - loss: 1.2696 - binary_accuracy: 0.2593 - val_loss: 0.9486 - val_binary_accuracy: 0.1667\n",
      "Epoch 34/100\n",
      "1/1 [==============================] - 0s 28ms/step - loss: 1.2569 - binary_accuracy: 0.2593 - val_loss: 0.9473 - val_binary_accuracy: 0.1667\n",
      "Epoch 35/100\n",
      "1/1 [==============================] - 0s 33ms/step - loss: 1.2443 - binary_accuracy: 0.2778 - val_loss: 0.9461 - val_binary_accuracy: 0.1667\n",
      "Epoch 36/100\n",
      "1/1 [==============================] - 0s 28ms/step - loss: 1.2317 - binary_accuracy: 0.2778 - val_loss: 0.9448 - val_binary_accuracy: 0.1667\n",
      "Epoch 37/100\n",
      "1/1 [==============================] - 0s 27ms/step - loss: 1.2193 - binary_accuracy: 0.2778 - val_loss: 0.9436 - val_binary_accuracy: 0.1667\n",
      "Epoch 38/100\n",
      "1/1 [==============================] - 0s 27ms/step - loss: 1.2070 - binary_accuracy: 0.2778 - val_loss: 0.9424 - val_binary_accuracy: 0.1667\n",
      "Epoch 39/100\n",
      "1/1 [==============================] - 0s 28ms/step - loss: 1.1948 - binary_accuracy: 0.2778 - val_loss: 0.9411 - val_binary_accuracy: 0.3333\n",
      "Epoch 40/100\n",
      "1/1 [==============================] - ETA: 0s - loss: 1.1827 - binary_accuracy: 0.2778\n",
      "Epoch 40: saving model to ../../../data/static/synthetic_1/MCAR_1/predictor_models/logistic_regression/cp.ckpt\n",
      "1/1 [==============================] - 0s 175ms/step - loss: 1.1827 - binary_accuracy: 0.2778 - val_loss: 0.9398 - val_binary_accuracy: 0.3333\n",
      "Epoch 41/100\n",
      "1/1 [==============================] - ETA: 0s - loss: 1.1708 - binary_accuracy: 0.2778"
     ]
    },
    {
     "name": "stderr",
     "output_type": "stream",
     "text": [
      "2023-02-17 17:41:47.216889: I tensorflow/core/profiler/lib/profiler_session.cc:67] Profiler session collecting data.\n",
      "2023-02-17 17:41:47.217505: E tensorflow/core/profiler/backends/gpu/cupti_error_manager.cc:140] cuptiFinalize: ignored due to a previous error.\n",
      "2023-02-17 17:41:47.217530: E tensorflow/core/profiler/backends/gpu/cupti_error_manager.cc:457] cuptiGetResultString: ignored due to a previous error.\n",
      "2023-02-17 17:41:47.217537: E tensorflow/core/profiler/backends/gpu/cupti_tracer.cc:1807] function cupti_interface_->Finalize()failed with error \n",
      "2023-02-17 17:41:47.235432: E tensorflow/core/profiler/backends/gpu/cupti_error_manager.cc:133] cuptiGetTimestamp: ignored due to a previous error.\n",
      "2023-02-17 17:41:47.235481: E tensorflow/core/profiler/backends/gpu/cupti_error_manager.cc:133] cuptiGetTimestamp: ignored due to a previous error.\n",
      "2023-02-17 17:41:47.235489: I tensorflow/core/profiler/backends/gpu/cupti_collector.cc:522]  GpuTracer has collected 0 callback api events and 0 activity events. \n",
      "2023-02-17 17:41:47.236957: I tensorflow/core/profiler/lib/profiler_session.cc:128] Profiler session tear down.\n",
      "2023-02-17 17:41:47.261009: I tensorflow/core/profiler/rpc/client/save_profile.cc:164] Collecting XSpace to repository: ../../../data/static/synthetic_1/MCAR_1/predictor_models/logistic_regression/logs/20230217-174144/plugins/profile/2023_02_17_17_41_47/NB082969.xplane.pb\n"
     ]
    },
    {
     "name": "stdout",
     "output_type": "stream",
     "text": [
      "1/1 [==============================] - 0s 29ms/step - loss: 1.1708 - binary_accuracy: 0.2778 - val_loss: 0.9385 - val_binary_accuracy: 0.3333\n",
      "Epoch 42/100\n",
      "1/1 [==============================] - 0s 31ms/step - loss: 1.1589 - binary_accuracy: 0.2778 - val_loss: 0.9370 - val_binary_accuracy: 0.3333\n",
      "Epoch 43/100\n",
      "1/1 [==============================] - 0s 28ms/step - loss: 1.1471 - binary_accuracy: 0.2778 - val_loss: 0.9355 - val_binary_accuracy: 0.3333\n",
      "Epoch 44/100\n",
      "1/1 [==============================] - 0s 27ms/step - loss: 1.1355 - binary_accuracy: 0.2778 - val_loss: 0.9339 - val_binary_accuracy: 0.3333\n",
      "Epoch 45/100\n",
      "1/1 [==============================] - 0s 32ms/step - loss: 1.1240 - binary_accuracy: 0.2778 - val_loss: 0.9321 - val_binary_accuracy: 0.3333\n",
      "Epoch 46/100\n",
      "1/1 [==============================] - 0s 35ms/step - loss: 1.1125 - binary_accuracy: 0.2778 - val_loss: 0.9302 - val_binary_accuracy: 0.3333\n",
      "Epoch 47/100\n",
      "1/1 [==============================] - 0s 32ms/step - loss: 1.1013 - binary_accuracy: 0.2778 - val_loss: 0.9282 - val_binary_accuracy: 0.3333\n",
      "Epoch 48/100\n",
      "1/1 [==============================] - 0s 28ms/step - loss: 1.0901 - binary_accuracy: 0.2778 - val_loss: 0.9260 - val_binary_accuracy: 0.3333\n",
      "Epoch 49/100\n",
      "1/1 [==============================] - 0s 26ms/step - loss: 1.0790 - binary_accuracy: 0.2778 - val_loss: 0.9236 - val_binary_accuracy: 0.3333\n",
      "Epoch 50/100\n",
      "1/1 [==============================] - ETA: 0s - loss: 1.0681 - binary_accuracy: 0.2778\n",
      "Epoch 50: saving model to ../../../data/static/synthetic_1/MCAR_1/predictor_models/logistic_regression/cp.ckpt\n",
      "1/1 [==============================] - 0s 119ms/step - loss: 1.0681 - binary_accuracy: 0.2778 - val_loss: 0.9210 - val_binary_accuracy: 0.3333\n",
      "Epoch 51/100\n",
      "1/1 [==============================] - 0s 27ms/step - loss: 1.0573 - binary_accuracy: 0.2778 - val_loss: 0.9182 - val_binary_accuracy: 0.3333\n",
      "Epoch 52/100\n",
      "1/1 [==============================] - 0s 26ms/step - loss: 1.0466 - binary_accuracy: 0.2963 - val_loss: 0.9153 - val_binary_accuracy: 0.3333\n",
      "Epoch 53/100\n",
      "1/1 [==============================] - 0s 29ms/step - loss: 1.0361 - binary_accuracy: 0.3148 - val_loss: 0.9121 - val_binary_accuracy: 0.3333\n",
      "Epoch 54/100\n",
      "1/1 [==============================] - 0s 29ms/step - loss: 1.0257 - binary_accuracy: 0.3333 - val_loss: 0.9087 - val_binary_accuracy: 0.3333\n",
      "Epoch 55/100\n",
      "1/1 [==============================] - 0s 28ms/step - loss: 1.0154 - binary_accuracy: 0.3333 - val_loss: 0.9051 - val_binary_accuracy: 0.3333\n",
      "Epoch 56/100\n",
      "1/1 [==============================] - 0s 31ms/step - loss: 1.0052 - binary_accuracy: 0.3333 - val_loss: 0.9012 - val_binary_accuracy: 0.3333\n",
      "Epoch 57/100\n",
      "1/1 [==============================] - 0s 28ms/step - loss: 0.9952 - binary_accuracy: 0.3519 - val_loss: 0.8971 - val_binary_accuracy: 0.3333\n",
      "Epoch 58/100\n",
      "1/1 [==============================] - 0s 28ms/step - loss: 0.9853 - binary_accuracy: 0.3704 - val_loss: 0.8928 - val_binary_accuracy: 0.3333\n",
      "Epoch 59/100\n",
      "1/1 [==============================] - 0s 28ms/step - loss: 0.9755 - binary_accuracy: 0.3889 - val_loss: 0.8883 - val_binary_accuracy: 0.3333\n",
      "Epoch 60/100\n",
      "1/1 [==============================] - ETA: 0s - loss: 0.9658 - binary_accuracy: 0.3889\n",
      "Epoch 60: saving model to ../../../data/static/synthetic_1/MCAR_1/predictor_models/logistic_regression/cp.ckpt\n",
      "1/1 [==============================] - 0s 114ms/step - loss: 0.9658 - binary_accuracy: 0.3889 - val_loss: 0.8835 - val_binary_accuracy: 0.3333\n",
      "Epoch 61/100\n",
      "1/1 [==============================] - 0s 29ms/step - loss: 0.9563 - binary_accuracy: 0.3889 - val_loss: 0.8785 - val_binary_accuracy: 0.3333\n",
      "Epoch 62/100\n",
      "1/1 [==============================] - 0s 26ms/step - loss: 0.9469 - binary_accuracy: 0.4074 - val_loss: 0.8734 - val_binary_accuracy: 0.3333\n",
      "Epoch 63/100\n",
      "1/1 [==============================] - 0s 26ms/step - loss: 0.9376 - binary_accuracy: 0.4259 - val_loss: 0.8680 - val_binary_accuracy: 0.3333\n",
      "Epoch 64/100\n",
      "1/1 [==============================] - 0s 26ms/step - loss: 0.9285 - binary_accuracy: 0.4444 - val_loss: 0.8624 - val_binary_accuracy: 0.3333\n",
      "Epoch 65/100\n",
      "1/1 [==============================] - 0s 29ms/step - loss: 0.9195 - binary_accuracy: 0.4444 - val_loss: 0.8567 - val_binary_accuracy: 0.3333\n",
      "Epoch 66/100\n",
      "1/1 [==============================] - 0s 32ms/step - loss: 0.9106 - binary_accuracy: 0.4630 - val_loss: 0.8509 - val_binary_accuracy: 0.3333\n",
      "Epoch 67/100\n",
      "1/1 [==============================] - 0s 26ms/step - loss: 0.9018 - binary_accuracy: 0.4444 - val_loss: 0.8449 - val_binary_accuracy: 0.3333\n",
      "Epoch 68/100\n",
      "1/1 [==============================] - 0s 27ms/step - loss: 0.8932 - binary_accuracy: 0.4444 - val_loss: 0.8387 - val_binary_accuracy: 0.3333\n",
      "Epoch 69/100\n",
      "1/1 [==============================] - 0s 31ms/step - loss: 0.8847 - binary_accuracy: 0.4444 - val_loss: 0.8325 - val_binary_accuracy: 0.3333\n",
      "Epoch 70/100\n",
      "1/1 [==============================] - ETA: 0s - loss: 0.8764 - binary_accuracy: 0.4630\n",
      "Epoch 70: saving model to ../../../data/static/synthetic_1/MCAR_1/predictor_models/logistic_regression/cp.ckpt\n",
      "1/1 [==============================] - 0s 101ms/step - loss: 0.8764 - binary_accuracy: 0.4630 - val_loss: 0.8262 - val_binary_accuracy: 0.3333\n",
      "Epoch 71/100\n",
      "1/1 [==============================] - 0s 26ms/step - loss: 0.8681 - binary_accuracy: 0.4630 - val_loss: 0.8198 - val_binary_accuracy: 0.3333\n",
      "Epoch 72/100\n",
      "1/1 [==============================] - 0s 26ms/step - loss: 0.8600 - binary_accuracy: 0.4630 - val_loss: 0.8134 - val_binary_accuracy: 0.3333\n",
      "Epoch 73/100\n",
      "1/1 [==============================] - 0s 28ms/step - loss: 0.8520 - binary_accuracy: 0.4630 - val_loss: 0.8069 - val_binary_accuracy: 0.3333\n",
      "Epoch 74/100\n",
      "1/1 [==============================] - 0s 27ms/step - loss: 0.8442 - binary_accuracy: 0.4815 - val_loss: 0.8004 - val_binary_accuracy: 0.3333\n",
      "Epoch 75/100\n",
      "1/1 [==============================] - 0s 32ms/step - loss: 0.8365 - binary_accuracy: 0.4815 - val_loss: 0.7938 - val_binary_accuracy: 0.3333\n",
      "Epoch 76/100\n",
      "1/1 [==============================] - 0s 28ms/step - loss: 0.8289 - binary_accuracy: 0.4815 - val_loss: 0.7873 - val_binary_accuracy: 0.3333\n",
      "Epoch 77/100\n",
      "1/1 [==============================] - 0s 27ms/step - loss: 0.8214 - binary_accuracy: 0.4815 - val_loss: 0.7808 - val_binary_accuracy: 0.3333\n",
      "Epoch 78/100\n",
      "1/1 [==============================] - 0s 29ms/step - loss: 0.8141 - binary_accuracy: 0.4815 - val_loss: 0.7743 - val_binary_accuracy: 0.3333\n",
      "Epoch 79/100\n",
      "1/1 [==============================] - 0s 27ms/step - loss: 0.8069 - binary_accuracy: 0.5000 - val_loss: 0.7678 - val_binary_accuracy: 0.3333\n",
      "Epoch 80/100\n",
      "1/1 [==============================] - ETA: 0s - loss: 0.7998 - binary_accuracy: 0.5000\n",
      "Epoch 80: saving model to ../../../data/static/synthetic_1/MCAR_1/predictor_models/logistic_regression/cp.ckpt\n",
      "1/1 [==============================] - 0s 115ms/step - loss: 0.7998 - binary_accuracy: 0.5000 - val_loss: 0.7614 - val_binary_accuracy: 0.3333\n",
      "Epoch 81/100\n",
      "1/1 [==============================] - 0s 28ms/step - loss: 0.7928 - binary_accuracy: 0.5000 - val_loss: 0.7550 - val_binary_accuracy: 0.3333\n",
      "Epoch 82/100\n",
      "1/1 [==============================] - 0s 29ms/step - loss: 0.7860 - binary_accuracy: 0.5000 - val_loss: 0.7487 - val_binary_accuracy: 0.3333\n",
      "Epoch 83/100\n",
      "1/1 [==============================] - 0s 30ms/step - loss: 0.7792 - binary_accuracy: 0.5000 - val_loss: 0.7425 - val_binary_accuracy: 0.3333\n",
      "Epoch 84/100\n",
      "1/1 [==============================] - 0s 32ms/step - loss: 0.7726 - binary_accuracy: 0.5000 - val_loss: 0.7364 - val_binary_accuracy: 0.3333\n",
      "Epoch 85/100\n",
      "1/1 [==============================] - 0s 31ms/step - loss: 0.7662 - binary_accuracy: 0.5185 - val_loss: 0.7303 - val_binary_accuracy: 0.3333\n",
      "Epoch 86/100\n",
      "1/1 [==============================] - 0s 31ms/step - loss: 0.7598 - binary_accuracy: 0.5185 - val_loss: 0.7243 - val_binary_accuracy: 0.3333\n",
      "Epoch 87/100\n",
      "1/1 [==============================] - 0s 30ms/step - loss: 0.7536 - binary_accuracy: 0.5370 - val_loss: 0.7184 - val_binary_accuracy: 0.3333\n",
      "Epoch 88/100\n",
      "1/1 [==============================] - 0s 27ms/step - loss: 0.7475 - binary_accuracy: 0.5556 - val_loss: 0.7126 - val_binary_accuracy: 0.3333\n",
      "Epoch 89/100\n",
      "1/1 [==============================] - 0s 30ms/step - loss: 0.7414 - binary_accuracy: 0.5556 - val_loss: 0.7069 - val_binary_accuracy: 0.5000\n",
      "Epoch 90/100\n",
      "1/1 [==============================] - ETA: 0s - loss: 0.7356 - binary_accuracy: 0.5556\n",
      "Epoch 90: saving model to ../../../data/static/synthetic_1/MCAR_1/predictor_models/logistic_regression/cp.ckpt\n",
      "1/1 [==============================] - 0s 108ms/step - loss: 0.7356 - binary_accuracy: 0.5556 - val_loss: 0.7012 - val_binary_accuracy: 0.5000\n",
      "Epoch 91/100\n",
      "1/1 [==============================] - 0s 27ms/step - loss: 0.7298 - binary_accuracy: 0.5741 - val_loss: 0.6957 - val_binary_accuracy: 0.5000\n",
      "Epoch 92/100\n",
      "1/1 [==============================] - 0s 26ms/step - loss: 0.7241 - binary_accuracy: 0.5741 - val_loss: 0.6903 - val_binary_accuracy: 0.5000\n",
      "Epoch 93/100\n",
      "1/1 [==============================] - 0s 28ms/step - loss: 0.7186 - binary_accuracy: 0.5741 - val_loss: 0.6849 - val_binary_accuracy: 0.5000\n",
      "Epoch 94/100\n",
      "1/1 [==============================] - 0s 31ms/step - loss: 0.7131 - binary_accuracy: 0.5741 - val_loss: 0.6797 - val_binary_accuracy: 0.5000\n",
      "Epoch 95/100\n",
      "1/1 [==============================] - 0s 28ms/step - loss: 0.7078 - binary_accuracy: 0.5741 - val_loss: 0.6745 - val_binary_accuracy: 0.5000\n",
      "Epoch 96/100\n",
      "1/1 [==============================] - 0s 28ms/step - loss: 0.7025 - binary_accuracy: 0.5741 - val_loss: 0.6695 - val_binary_accuracy: 0.5000\n",
      "Epoch 97/100\n",
      "1/1 [==============================] - 0s 28ms/step - loss: 0.6974 - binary_accuracy: 0.5741 - val_loss: 0.6645 - val_binary_accuracy: 0.5000\n",
      "Epoch 98/100\n",
      "1/1 [==============================] - 0s 32ms/step - loss: 0.6924 - binary_accuracy: 0.5741 - val_loss: 0.6597 - val_binary_accuracy: 0.5000\n",
      "Epoch 99/100\n",
      "1/1 [==============================] - 0s 29ms/step - loss: 0.6874 - binary_accuracy: 0.5741 - val_loss: 0.6549 - val_binary_accuracy: 0.5000\n",
      "Epoch 100/100\n",
      "1/1 [==============================] - ETA: 0s - loss: 0.6826 - binary_accuracy: 0.5926\n",
      "Epoch 100: saving model to ../../../data/static/synthetic_1/MCAR_1/predictor_models/logistic_regression/cp.ckpt\n",
      "1/1 [==============================] - 0s 115ms/step - loss: 0.6826 - binary_accuracy: 0.5926 - val_loss: 0.6502 - val_binary_accuracy: 0.5000\n",
      "1/1 [==============================] - 0s 57ms/step\n"
     ]
    },
    {
     "data": {
      "image/png": "[encoded data removed]",
      "text/plain": [
       "<Figure size 1152x360 with 1 Axes>"
      ]
     },
     "metadata": {
      "needs_background": "light"
     },
     "output_type": "display_data"
    }
   ],
   "source": [
    "afa_predictor.fit(afa_dataset, \n",
    "                  fold = 0, \n",
    "                  train_split = 'train', \n",
    "                  valid_split = 'val', \n",
    "                  fit_again = False)"
   ]
  },
  {
   "cell_type": "code",
   "execution_count": 12,
   "id": "9df65e1c-7a7b-472f-9234-8e4e0b075e5b",
   "metadata": {},
   "outputs": [
    {
     "name": "stdout",
     "output_type": "stream",
     "text": [
      "1/1 [==============================] - 0s 14ms/step\n"
     ]
    }
   ],
   "source": [
    "label_pred = afa_predictor.predict( afa_dataset, fold = 0, split = 'val', n_samples = 1 )"
   ]
  },
  {
   "cell_type": "code",
   "execution_count": 13,
   "id": "02de1750-1f77-4c11-87ad-a7036d4984ef",
   "metadata": {},
   "outputs": [
    {
     "data": {
      "text/plain": [
       "(20, 1)"
      ]
     },
     "execution_count": 13,
     "metadata": {},
     "output_type": "execute_result"
    }
   ],
   "source": [
    "label_pred.shape"
   ]
  },
  {
   "cell_type": "markdown",
   "id": "5b54ad5d-82f9-492d-b2ff-f91e4047aee3",
   "metadata": {},
   "source": [
    "### Write report"
   ]
  },
  {
   "cell_type": "code",
   "execution_count": 17,
   "id": "5d7bfd91-a0d0-45c7-b95a-182c528d3541",
   "metadata": {},
   "outputs": [],
   "source": [
    "explanation_file = afa_predictor.directory + 'model_report.md'  # +  'reports/' + 'model_report' \n",
    "afa_predictor.explain(file= explanation_file, format = 'markdown')"
   ]
  },
  {
   "cell_type": "code",
   "execution_count": null,
   "id": "f649d771-b660-4218-9327-2166d2b3417f",
   "metadata": {},
   "outputs": [],
   "source": []
  }
 ],
 "metadata": {
  "kernelspec": {
   "display_name": "afa_env",
   "language": "python",
   "name": "afa_env"
  },
  "language_info": {
   "codemirror_mode": {
    "name": "ipython",
    "version": 3
   },
   "file_extension": ".py",
   "mimetype": "text/x-python",
   "name": "python",
   "nbconvert_exporter": "python",
   "pygments_lexer": "ipython3",
   "version": "3.10.8"
  }
 },
 "nbformat": 4,
 "nbformat_minor": 5
}
