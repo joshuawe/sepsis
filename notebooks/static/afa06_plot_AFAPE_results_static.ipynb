{
 "cells": [
  {
   "cell_type": "markdown",
   "id": "45f4a932-fe58-4c41-b076-38e047fad36e",
   "metadata": {},
   "source": [
    "# Plot AFAPE Results\n",
    "Plot the results for different agents "
   ]
  },
  {
   "cell_type": "code",
   "execution_count": 1,
   "id": "5e8f4066-9aef-46b0-a6cb-041b73a474d3",
   "metadata": {},
   "outputs": [],
   "source": [
    "%load_ext autoreload\n",
    "%autoreload 2"
   ]
  },
  {
   "cell_type": "markdown",
   "id": "08362dfa-cf4e-422d-9023-ad7ecb7ecacc",
   "metadata": {},
   "source": [
    "## Define paths"
   ]
  },
  {
   "cell_type": "code",
   "execution_count": 2,
   "id": "7713e2c6-761b-434a-a61f-e41e593028cf",
   "metadata": {},
   "outputs": [],
   "source": [
    "# which dataset to work on \n",
    "dataset_name   = \"synthetic_1\"\n",
    "\n",
    "# name for of missingness scenario \n",
    "miss_scenario  = 'MCAR_1'\n",
    "\n",
    "# name for agents\n",
    "agent_names  = ['DQN'] #, 'Random 10%']\n",
    "n_agents = len(agent_names) \n",
    "\n",
    "# name for mi datasets\n",
    "mi_model_name = 'mi_simple'\n",
    "\n",
    "# included estimators\n",
    "included_estimator_types =  ['blocking', 'ground_truth', mi_model_name ]"
   ]
  },
  {
   "cell_type": "code",
   "execution_count": 3,
   "id": "8eb5607e-6445-4dbf-897e-8640af4492dc",
   "metadata": {},
   "outputs": [],
   "source": [
    "# other specifications \n",
    "data_dir       = \"../../../data/static/\" + dataset_name + \"/\" + miss_scenario + \"/\" \n",
    "agent_dirs     = [data_dir + 'afa_agents' + '/' + agent_name + '/' for agent_name in agent_names]\n",
    "\n",
    "# find all bootstrap results files\n",
    "agent_bootstrap_files_list = []\n",
    "for agent_i in range(n_agents):\n",
    "    agent_bootstrap_files = {}\n",
    "    for included_estimator_type in included_estimator_types:\n",
    "        agent_bootstrap_files[included_estimator_type] = agent_dirs[agent_i] + included_estimator_type + '_' + 'J_bootstraps.hkl'\n",
    "    agent_bootstrap_files_list.append(agent_bootstrap_files)"
   ]
  },
  {
   "cell_type": "markdown",
   "id": "ad1b408c-a49d-48c1-b3a6-a87c80246a6a",
   "metadata": {},
   "source": [
    "## Write a Report"
   ]
  },
  {
   "cell_type": "code",
   "execution_count": 4,
   "id": "da2e3096-42d0-4894-8977-575a03329961",
   "metadata": {},
   "outputs": [],
   "source": [
    "from afa.afa_models.afa_estimators.afa_report import AFAReport"
   ]
  },
  {
   "cell_type": "code",
   "execution_count": 5,
   "id": "3e1a481b-0cc9-464d-9444-fc6dc86acc07",
   "metadata": {},
   "outputs": [
    {
     "name": "stdout",
     "output_type": "stream",
     "text": [
      "Agent:  DQN\n",
      "\\begin{longtable}{lrrr}\n",
      "\\hline\n",
      " Estimator    &   Estimate &   Error &   Error (\\%) \\\\\n",
      "\\hline\n",
      "\\endhead\n",
      " Blocking     &      0.904 &   0.157 &      0.1484 \\\\\n",
      " CC           &      1.006 &   0.055 &      0.0514 \\\\\n",
      " IPW\\_miss\\_gt  &      1.006 &   0.055 &      0.0514 \\\\\n",
      " Ground\\_truth &      1.061 &   0     &      0      \\\\\n",
      " mi\\_simple    &      1.827 &   0.766 &      0.7225 \\\\\n",
      "\\hline\n",
      "\\end{longtable}\n"
     ]
    },
    {
     "data": {
      "image/png": "[encoded data removed]",
      "text/plain": [
       "<Figure size 288x432 with 1 Axes>"
      ]
     },
     "metadata": {
      "needs_background": "light"
     },
     "output_type": "display_data"
    }
   ],
   "source": [
    "afa_report = AFAReport( agent_bootstrap_files_list = agent_bootstrap_files_list, \n",
    "                        agent_names                = agent_names, \n",
    "                        dataset_name               = dataset_name, \n",
    "                        miss_scenario              = miss_scenario) \n",
    "\n",
    "explanation_file = data_dir + 'afape_report.md'  # +  'reports/' + 'model_report' \n",
    "afa_report.explain(file= explanation_file, format = 'markdown')"
   ]
  }
 ],
 "metadata": {
  "kernelspec": {
   "display_name": "afa_env",
   "language": "python",
   "name": "afa_env"
  },
  "language_info": {
   "codemirror_mode": {
    "name": "ipython",
    "version": 3
   },
   "file_extension": ".py",
   "mimetype": "text/x-python",
   "name": "python",
   "nbconvert_exporter": "python",
   "pygments_lexer": "ipython3",
   "version": "3.10.8"
  }
 },
 "nbformat": 4,
 "nbformat_minor": 5
}
