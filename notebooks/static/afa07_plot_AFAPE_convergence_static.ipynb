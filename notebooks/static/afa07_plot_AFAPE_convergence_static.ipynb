{
 "cells": [
  {
   "cell_type": "markdown",
   "id": "45f4a932-fe58-4c41-b076-38e047fad36e",
   "metadata": {},
   "source": [
    "# Plot AFAPE results (convergence plot) \n",
    "Plot the results for one agent, but as a function of the number of datapoints (convergence plot) "
   ]
  },
  {
   "cell_type": "code",
   "execution_count": 1,
   "id": "c94650b6-85e7-471f-8330-fdf9b63661a2",
   "metadata": {},
   "outputs": [],
   "source": [
    "%load_ext autoreload\n",
    "%autoreload 2"
   ]
  },
  {
   "cell_type": "markdown",
   "id": "08362dfa-cf4e-422d-9023-ad7ecb7ecacc",
   "metadata": {},
   "source": [
    "## Define paths"
   ]
  },
  {
   "cell_type": "code",
   "execution_count": 2,
   "id": "7713e2c6-761b-434a-a61f-e41e593028cf",
   "metadata": {},
   "outputs": [],
   "source": [
    "# which dataset to work on \n",
    "dataset_name   = \"synthetic_1\"\n",
    "\n",
    "# name for of missingness scenario \n",
    "miss_scenario  = 'MCAR_1'\n",
    "\n",
    "# name for agent \n",
    "agent_name  = 'DQN'\n",
    "\n",
    "# name for mi datasets\n",
    "mi_model_name = 'mi_simple'\n",
    "\n",
    "# included estimators\n",
    "included_estimator_types =  ['blocking', 'ground_truth', mi_model_name ]"
   ]
  },
  {
   "cell_type": "code",
   "execution_count": 3,
   "id": "8eb5607e-6445-4dbf-897e-8640af4492dc",
   "metadata": {},
   "outputs": [],
   "source": [
    "# other specifications \n",
    "data_dir       = \"../../../data/static/\" + dataset_name + \"/\" + miss_scenario + \"/\" \n",
    "agent_dir = data_dir + 'afa_agents' + '/' + agent_name + '/'\n",
    "\n",
    "# find all bootstrap results files\n",
    "agent_bootstrap_files = {}\n",
    "for included_estimator_type in included_estimator_types:\n",
    "    agent_bootstrap_files[included_estimator_type] = agent_dir + included_estimator_type + '_' + 'J_bootstraps_convergence.hkl'"
   ]
  },
  {
   "cell_type": "markdown",
   "id": "b24da860-0b57-4591-bc97-66f3d2e51ddc",
   "metadata": {},
   "source": [
    "## Write a Report"
   ]
  },
  {
   "cell_type": "code",
   "execution_count": 4,
   "id": "2b3b0051-84ad-4d10-a0b3-33ca83fb5e12",
   "metadata": {},
   "outputs": [],
   "source": [
    "from afa.afa_models.afa_estimators.afa_convergence_report import AFAConvergenceReport"
   ]
  },
  {
   "cell_type": "code",
   "execution_count": 5,
   "id": "29d8c276-1b00-4add-8c36-f06f369bbb61",
   "metadata": {},
   "outputs": [
    {
     "name": "stdout",
     "output_type": "stream",
     "text": [
      "Ground truth E[C|do(R_bar = 1)] = 0.7194444444444444\n"
     ]
    }
   ],
   "source": [
    "afa_convergence_report = AFAConvergenceReport(  agent_bootstrap_files = agent_bootstrap_files, \n",
    "                                                agent_name                 = agent_name, \n",
    "                                                dataset_name               = dataset_name, \n",
    "                                                miss_scenario              = miss_scenario) \n",
    "\n",
    "explanation_file = agent_dir  + 'afape_convergence_report.md'  # +  'reports/' + 'model_report' \n",
    "afa_convergence_report.explain(file= explanation_file, format = 'markdown')"
   ]
  },
  {
   "cell_type": "code",
   "execution_count": null,
   "id": "6b1b3174-77b3-44e7-a414-345bbd1f96c4",
   "metadata": {},
   "outputs": [],
   "source": []
  }
 ],
 "metadata": {
  "kernelspec": {
   "display_name": "afa_env",
   "language": "python",
   "name": "afa_env"
  },
  "language_info": {
   "codemirror_mode": {
    "name": "ipython",
    "version": 3
   },
   "file_extension": ".py",
   "mimetype": "text/x-python",
   "name": "python",
   "nbconvert_exporter": "python",
   "pygments_lexer": "ipython3",
   "version": "3.10.8"
  }
 },
 "nbformat": 4,
 "nbformat_minor": 5
}
