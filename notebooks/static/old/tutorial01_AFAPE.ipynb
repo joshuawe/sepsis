{
 "cells": [
  {
   "cell_type": "markdown",
   "id": "2b042bd6-b878-4c25-9564-0bb1cc59cc74",
   "metadata": {},
   "source": [
    "# AFAPE: Active Feature Acquisition Performance Evaluation\n",
    "In AFAPE, we want to know the counterfactual cost an AFA agent and classifier would create if there was no missingness (in the target superfeatures). This notebooks shows how to solve the AFAPE problem. "
   ]
  },
  {
   "cell_type": "code",
   "execution_count": null,
   "id": "afa73d7e-347f-4a90-ad27-ae7c8b9e66d9",
   "metadata": {},
   "outputs": [],
   "source": []
  },
  {
   "cell_type": "code",
   "execution_count": null,
   "id": "08c3456d-5461-42ef-8c4f-a71517980b18",
   "metadata": {},
   "outputs": [],
   "source": []
  },
  {
   "cell_type": "code",
   "execution_count": null,
   "id": "1dcfec85-7fd9-461a-9b61-4709bd5ded60",
   "metadata": {},
   "outputs": [],
   "source": []
  }
 ],
 "metadata": {
  "kernelspec": {
   "display_name": "afa_env",
   "language": "python",
   "name": "afa_env"
  },
  "language_info": {
   "codemirror_mode": {
    "name": "ipython",
    "version": 3
   },
   "file_extension": ".py",
   "mimetype": "text/x-python",
   "name": "python",
   "nbconvert_exporter": "python",
   "pygments_lexer": "ipython3",
   "version": "3.10.8"
  }
 },
 "nbformat": 4,
 "nbformat_minor": 5
}
