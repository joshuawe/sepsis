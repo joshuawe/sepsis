{
 "cells": [
  {
   "cell_type": "markdown",
   "id": "738d755b",
   "metadata": {},
   "source": [
    "# (0) Generate a synthetic static dataset"
   ]
  },
  {
   "cell_type": "markdown",
   "id": "0d7cd1d6-a92c-428c-a091-05d2ae4cd7d8",
   "metadata": {
    "tags": []
   },
   "source": [
    "Generate a synthetic dataset with \n",
    "- features X\n",
    "- label Y \n",
    "\n",
    "Note: data is stored in the folder \"../../../data/static/\" + dataset relativ to this directory"
   ]
  },
  {
   "cell_type": "code",
   "execution_count": 1,
   "id": "83ebac83-5b5c-45e0-997c-1dc4edfc7cb4",
   "metadata": {},
   "outputs": [],
   "source": [
    "%load_ext autoreload\n",
    "%autoreload 2"
   ]
  },
  {
   "cell_type": "markdown",
   "id": "a1238f97-f069-4d54-8de3-080e4e98f948",
   "metadata": {},
   "source": [
    "### Define paths "
   ]
  },
  {
   "cell_type": "code",
   "execution_count": 2,
   "id": "4e736192-d821-4035-9908-477bafb53859",
   "metadata": {},
   "outputs": [],
   "source": [
    "# which dataset to work on \n",
    "dataset_name   = \"synthetic_1\""
   ]
  },
  {
   "cell_type": "code",
   "execution_count": 3,
   "id": "327594a1-9fb5-4099-919a-abf2ffd341cc",
   "metadata": {},
   "outputs": [],
   "source": [
    "# data specifications \n",
    "data_dir            = \"../../../data/static/\" + dataset_name + \"/fully_observed/\" \n",
    "data_file = data_dir  + dataset_name + '.csv'"
   ]
  },
  {
   "cell_type": "markdown",
   "id": "f2c96fe7",
   "metadata": {},
   "source": [
    "## Data Generation"
   ]
  },
  {
   "cell_type": "code",
   "execution_count": 4,
   "id": "315db0b5-ece3-4dd5-ab87-2bddc82d399d",
   "metadata": {},
   "outputs": [],
   "source": [
    "from afa.data_modelling.datasets.synthetic_data_generation.data_generator_static import DataGenerator_static"
   ]
  },
  {
   "cell_type": "code",
   "execution_count": 5,
   "id": "2f04874b-e0b7-466d-9fab-1be1d0423312",
   "metadata": {},
   "outputs": [],
   "source": [
    "data_generator = DataGenerator_static(\n",
    "                        data_dir        = data_dir,  \n",
    "                        dataset_name    = dataset_name , \n",
    "                        n_datapts       = 100, \n",
    "                        test_size       = 0,\n",
    "                        n_features      = 4, \n",
    "                        n_redundant     = 0, \n",
    "                        n_informative   = 3,\n",
    "                        n_classes       = 2,\n",
    "                        random_state    = 42 ) "
   ]
  },
  {
   "cell_type": "code",
   "execution_count": 6,
   "id": "4e817462-660e-432b-8f99-cd3930f15a0d",
   "metadata": {},
   "outputs": [],
   "source": [
    "df_train, df_test  = data_generator.generate_data()"
   ]
  },
  {
   "cell_type": "markdown",
   "id": "acf3349a-cdf2-4fd7-98f8-050456ab1c34",
   "metadata": {},
   "source": [
    "## Load data\n",
    "Check if data was saved correctly and can be loaded "
   ]
  },
  {
   "cell_type": "code",
   "execution_count": 7,
   "id": "acfb8d13-d8e3-4143-b462-89d2ca3d26d7",
   "metadata": {},
   "outputs": [
    {
     "name": "stderr",
     "output_type": "stream",
     "text": [
      "2023-02-18 23:21:40.566319: I tensorflow/core/platform/cpu_feature_guard.cc:193] This TensorFlow binary is optimized with oneAPI Deep Neural Network Library (oneDNN) to use the following CPU instructions in performance-critical operations:  AVX2 FMA\n",
      "To enable them in other operations, rebuild TensorFlow with the appropriate compiler flags.\n",
      "2023-02-18 23:21:40.682444: W tensorflow/compiler/xla/stream_executor/platform/default/dso_loader.cc:64] Could not load dynamic library 'libcudart.so.11.0'; dlerror: libcudart.so.11.0: cannot open shared object file: No such file or directory\n",
      "2023-02-18 23:21:40.682463: I tensorflow/compiler/xla/stream_executor/cuda/cudart_stub.cc:29] Ignore above cudart dlerror if you do not have a GPU set up on your machine.\n",
      "2023-02-18 23:21:41.325810: W tensorflow/compiler/xla/stream_executor/platform/default/dso_loader.cc:64] Could not load dynamic library 'libnvinfer.so.7'; dlerror: libnvinfer.so.7: cannot open shared object file: No such file or directory\n",
      "2023-02-18 23:21:41.325920: W tensorflow/compiler/xla/stream_executor/platform/default/dso_loader.cc:64] Could not load dynamic library 'libnvinfer_plugin.so.7'; dlerror: libnvinfer_plugin.so.7: cannot open shared object file: No such file or directory\n",
      "2023-02-18 23:21:41.325930: W tensorflow/compiler/tf2tensorrt/utils/py_utils.cc:38] TF-TRT Warning: Cannot dlopen some TensorRT libraries. If you would like to use Nvidia GPU with TensorRT, please make sure the missing libraries mentioned above are installed properly.\n"
     ]
    }
   ],
   "source": [
    "from afa.data_modelling.datasets.data_loader.data_loader_static import DataLoader_static"
   ]
  },
  {
   "cell_type": "code",
   "execution_count": 8,
   "id": "0084fc65-ec37-4ea7-a0cc-8ccd894a8658",
   "metadata": {},
   "outputs": [],
   "source": [
    "superfeature_mapping_file = None\n",
    "data_loader = DataLoader_static( data_file                  = data_file,\n",
    "                                 superfeature_mapping_file  = superfeature_mapping_file )\n",
    "\n",
    "dataset = data_loader.load() "
   ]
  },
  {
   "cell_type": "code",
   "execution_count": 9,
   "id": "0f5036b5-61f9-4bb8-8938-ae240864a50a",
   "metadata": {},
   "outputs": [
    {
     "data": {
      "text/html": [
       "<div>\n",
       "<style scoped>\n",
       "    .dataframe tbody tr th:only-of-type {\n",
       "        vertical-align: middle;\n",
       "    }\n",
       "\n",
       "    .dataframe tbody tr th {\n",
       "        vertical-align: top;\n",
       "    }\n",
       "\n",
       "    .dataframe thead th {\n",
       "        text-align: right;\n",
       "    }\n",
       "</style>\n",
       "<table border=\"1\" class=\"dataframe\">\n",
       "  <thead>\n",
       "    <tr style=\"text-align: right;\">\n",
       "      <th></th>\n",
       "      <th>id</th>\n",
       "      <th>X0</th>\n",
       "      <th>X1</th>\n",
       "      <th>X2</th>\n",
       "      <th>X3</th>\n",
       "      <th>Y</th>\n",
       "    </tr>\n",
       "  </thead>\n",
       "  <tbody>\n",
       "    <tr>\n",
       "      <th>0</th>\n",
       "      <td>0</td>\n",
       "      <td>-1.014128</td>\n",
       "      <td>-0.933042</td>\n",
       "      <td>0.322719</td>\n",
       "      <td>0.766160</td>\n",
       "      <td>0.0</td>\n",
       "    </tr>\n",
       "    <tr>\n",
       "      <th>1</th>\n",
       "      <td>1</td>\n",
       "      <td>1.466984</td>\n",
       "      <td>-1.275895</td>\n",
       "      <td>-2.123896</td>\n",
       "      <td>1.068270</td>\n",
       "      <td>1.0</td>\n",
       "    </tr>\n",
       "    <tr>\n",
       "      <th>2</th>\n",
       "      <td>2</td>\n",
       "      <td>-2.111619</td>\n",
       "      <td>-0.480863</td>\n",
       "      <td>-0.822220</td>\n",
       "      <td>-0.517866</td>\n",
       "      <td>0.0</td>\n",
       "    </tr>\n",
       "    <tr>\n",
       "      <th>3</th>\n",
       "      <td>3</td>\n",
       "      <td>0.947384</td>\n",
       "      <td>-1.151891</td>\n",
       "      <td>-0.401220</td>\n",
       "      <td>1.437839</td>\n",
       "      <td>1.0</td>\n",
       "    </tr>\n",
       "    <tr>\n",
       "      <th>4</th>\n",
       "      <td>4</td>\n",
       "      <td>1.107374</td>\n",
       "      <td>-2.332309</td>\n",
       "      <td>0.519347</td>\n",
       "      <td>3.167356</td>\n",
       "      <td>1.0</td>\n",
       "    </tr>\n",
       "    <tr>\n",
       "      <th>...</th>\n",
       "      <td>...</td>\n",
       "      <td>...</td>\n",
       "      <td>...</td>\n",
       "      <td>...</td>\n",
       "      <td>...</td>\n",
       "      <td>...</td>\n",
       "    </tr>\n",
       "    <tr>\n",
       "      <th>95</th>\n",
       "      <td>95</td>\n",
       "      <td>-1.538640</td>\n",
       "      <td>-0.805087</td>\n",
       "      <td>-0.825497</td>\n",
       "      <td>0.838788</td>\n",
       "      <td>0.0</td>\n",
       "    </tr>\n",
       "    <tr>\n",
       "      <th>96</th>\n",
       "      <td>96</td>\n",
       "      <td>-2.181807</td>\n",
       "      <td>-0.716707</td>\n",
       "      <td>0.244967</td>\n",
       "      <td>0.600542</td>\n",
       "      <td>0.0</td>\n",
       "    </tr>\n",
       "    <tr>\n",
       "      <th>97</th>\n",
       "      <td>97</td>\n",
       "      <td>1.309143</td>\n",
       "      <td>0.062745</td>\n",
       "      <td>0.950424</td>\n",
       "      <td>-0.916990</td>\n",
       "      <td>0.0</td>\n",
       "    </tr>\n",
       "    <tr>\n",
       "      <th>98</th>\n",
       "      <td>98</td>\n",
       "      <td>-0.324171</td>\n",
       "      <td>-0.556056</td>\n",
       "      <td>-0.288659</td>\n",
       "      <td>-1.245058</td>\n",
       "      <td>0.0</td>\n",
       "    </tr>\n",
       "    <tr>\n",
       "      <th>99</th>\n",
       "      <td>99</td>\n",
       "      <td>1.391959</td>\n",
       "      <td>1.039758</td>\n",
       "      <td>1.058424</td>\n",
       "      <td>0.470220</td>\n",
       "      <td>1.0</td>\n",
       "    </tr>\n",
       "  </tbody>\n",
       "</table>\n",
       "<p>100 rows × 6 columns</p>\n",
       "</div>"
      ],
      "text/plain": [
       "    id        X0        X1        X2        X3    Y\n",
       "0    0 -1.014128 -0.933042  0.322719  0.766160  0.0\n",
       "1    1  1.466984 -1.275895 -2.123896  1.068270  1.0\n",
       "2    2 -2.111619 -0.480863 -0.822220 -0.517866  0.0\n",
       "3    3  0.947384 -1.151891 -0.401220  1.437839  1.0\n",
       "4    4  1.107374 -2.332309  0.519347  3.167356  1.0\n",
       "..  ..       ...       ...       ...       ...  ...\n",
       "95  95 -1.538640 -0.805087 -0.825497  0.838788  0.0\n",
       "96  96 -2.181807 -0.716707  0.244967  0.600542  0.0\n",
       "97  97  1.309143  0.062745  0.950424 -0.916990  0.0\n",
       "98  98 -0.324171 -0.556056 -0.288659 -1.245058  0.0\n",
       "99  99  1.391959  1.039758  1.058424  0.470220  1.0\n",
       "\n",
       "[100 rows x 6 columns]"
      ]
     },
     "execution_count": 9,
     "metadata": {},
     "output_type": "execute_result"
    }
   ],
   "source": [
    "# visualize pandas dataframe: \n",
    "dataset.data"
   ]
  },
  {
   "cell_type": "markdown",
   "id": "4739aae3-8cbe-40e9-8fb6-5a0fa2bc6f55",
   "metadata": {},
   "source": [
    "## Define problem\n",
    "Check if problem definition works, see more in the `preparation01` tutorial"
   ]
  },
  {
   "cell_type": "code",
   "execution_count": 10,
   "id": "3a4b4222-bae3-452b-ace9-ec620089cbfc",
   "metadata": {},
   "outputs": [],
   "source": [
    "from afa.data_modelling.problem.problem_static import ProblemMaker_static"
   ]
  },
  {
   "cell_type": "code",
   "execution_count": 11,
   "id": "f1a2a90b-bd16-40e3-acf9-acfa1883a2bc",
   "metadata": {},
   "outputs": [],
   "source": [
    "# define problem specifications\n",
    "label_name = 'Y'\n",
    "problem    = 'classification'\n",
    "treatment  = None\n",
    "\n",
    "problem_maker = ProblemMaker_static(problem=problem, label=[label_name], treatment=treatment)\n",
    "\n",
    "dataset  = problem_maker.fit_transform(dataset)"
   ]
  },
  {
   "cell_type": "code",
   "execution_count": 12,
   "id": "607c9818-69b6-48bd-a8b3-a31da1026efe",
   "metadata": {},
   "outputs": [
    {
     "data": {
      "text/plain": [
       "{'data': ['X0', 'X1', 'X2', 'X3'],\n",
       " 'treatment': None,\n",
       " 'label': ['Y'],\n",
       " 'super_data': ['X2', 'X1', 'X0', 'X3']}"
      ]
     },
     "execution_count": 12,
     "metadata": {},
     "output_type": "execute_result"
    }
   ],
   "source": [
    "# check if features/superfeatures/labels etc have been correctly assigned \n",
    "dataset.feature_name"
   ]
  },
  {
   "cell_type": "markdown",
   "id": "1e6cd16e-76d3-47d8-b203-2104513df812",
   "metadata": {},
   "source": [
    "## Explain the synthetic data generation process\n",
    "Store information in reports folder in latex / markdown format"
   ]
  },
  {
   "cell_type": "code",
   "execution_count": 15,
   "id": "de48c4fa-2a08-4dd0-a672-bf94289430a0",
   "metadata": {},
   "outputs": [],
   "source": [
    "explanation_file = data_dir + 'synthetic_data_report'\n",
    "data_generator.explain(file= explanation_file + '.md'  , format='markdown')\n",
    "# data_generator.explain(file= explanation_file + '.tex'  , format='latex')"
   ]
  },
  {
   "cell_type": "markdown",
   "id": "97bc8163",
   "metadata": {},
   "source": [
    "## Optional: Check feature importance\n",
    "Use the feature-importance option of a random-forest classifier "
   ]
  },
  {
   "cell_type": "code",
   "execution_count": 14,
   "id": "53a54529",
   "metadata": {
    "ExecuteTime": {
     "end_time": "2022-12-05T18:14:15.469871Z",
     "start_time": "2022-12-05T18:13:51.355319Z"
    }
   },
   "outputs": [
    {
     "data": {
      "image/png": "[encoded data removed]",
      "text/plain": [
       "<Figure size 432x288 with 1 Axes>"
      ]
     },
     "metadata": {
      "needs_background": "light"
     },
     "output_type": "display_data"
    }
   ],
   "source": [
    "from sklearn.ensemble import RandomForestClassifier\n",
    "import pandas as pd\n",
    "import numpy as np\n",
    "import matplotlib.pyplot as plt\n",
    "\n",
    "X = dataset.feature\n",
    "y = dataset.label\n",
    "feature_names = dataset.feature_name['data']   #[f\"feature {i}\" for i in range(n_features)]\n",
    "\n",
    "def plot_feature_importances(X, y, feature_names):\n",
    "    \"\"\"\n",
    "    Plot feature importances using a random forest classifier\n",
    "    \"\"\"\n",
    "    \n",
    "    forest = RandomForestClassifier(random_state=0)\n",
    "    forest.fit(X, y)\n",
    "\n",
    "\n",
    "    importances = forest.feature_importances_\n",
    "    std = np.std([tree.feature_importances_ for tree in forest.estimators_], axis=0)\n",
    "\n",
    "    forest_importances = pd.Series(importances, index=feature_names)\n",
    "\n",
    "    # plot\n",
    "    fig, ax = plt.subplots()\n",
    "    forest_importances.plot.bar(yerr=std, ax=ax)\n",
    "    ax.set_title(\"Feature importances using MDI\")\n",
    "    ax.set_ylabel(\"Mean decrease in impurity\")\n",
    "    fig.tight_layout()\n",
    "    \n",
    "    \n",
    "plot_feature_importances(X, y, feature_names )"
   ]
  },
  {
   "cell_type": "code",
   "execution_count": null,
   "id": "090171c4",
   "metadata": {},
   "outputs": [],
   "source": []
  },
  {
   "cell_type": "code",
   "execution_count": null,
   "id": "e9a38e31",
   "metadata": {},
   "outputs": [],
   "source": []
  },
  {
   "cell_type": "code",
   "execution_count": null,
   "id": "7aeb81f8-9bb8-4bf3-bcfe-07c9d393b66d",
   "metadata": {},
   "outputs": [],
   "source": []
  }
 ],
 "metadata": {
  "kernelspec": {
   "display_name": "afa_env",
   "language": "python",
   "name": "afa_env"
  },
  "language_info": {
   "codemirror_mode": {
    "name": "ipython",
    "version": 3
   },
   "file_extension": ".py",
   "mimetype": "text/x-python",
   "name": "python",
   "nbconvert_exporter": "python",
   "pygments_lexer": "ipython3",
   "version": "3.10.8"
  },
  "toc": {
   "base_numbering": 1,
   "nav_menu": {},
   "number_sections": true,
   "sideBar": true,
   "skip_h1_title": false,
   "title_cell": "Table of Contents",
   "title_sidebar": "Contents",
   "toc_cell": false,
   "toc_position": {
    "height": "calc(100% - 180px)",
    "left": "10px",
    "top": "150px",
    "width": "282px"
   },
   "toc_section_display": true,
   "toc_window_display": true
  },
  "varInspector": {
   "cols": {
    "lenName": 16,
    "lenType": 16,
    "lenVar": 40
   },
   "kernels_config": {
    "python": {
     "delete_cmd_postfix": "",
     "delete_cmd_prefix": "del ",
     "library": "var_list.py",
     "varRefreshCmd": "print(var_dic_list())"
    },
    "r": {
     "delete_cmd_postfix": ") ",
     "delete_cmd_prefix": "rm(",
     "library": "var_list.r",
     "varRefreshCmd": "cat(var_dic_list()) "
    }
   },
   "oldHeight": 713.852,
   "position": {
    "height": "40px",
    "left": "1650px",
    "right": "20px",
    "top": "120px",
    "width": "250px"
   },
   "types_to_exclude": [
    "module",
    "function",
    "builtin_function_or_method",
    "instance",
    "_Feature"
   ],
   "varInspector_section_display": "none",
   "window_display": true
  }
 },
 "nbformat": 4,
 "nbformat_minor": 5
}
