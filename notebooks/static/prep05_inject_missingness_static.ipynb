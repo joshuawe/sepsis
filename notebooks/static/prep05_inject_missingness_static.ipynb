{
 "cells": [
  {
   "cell_type": "markdown",
   "id": "5a5a8c56",
   "metadata": {
    "tags": []
   },
   "source": [
    "# Inject missingness into the (static) dataset\n",
    "Insert missingness into a dataset and save the corresponding ground truth m_graph and missingness model parameters. \n",
    "We use an AFAAgent that is based on a propensity score model to model the desired missingness and sample from it. \n",
    "\n",
    "__Note__: Only suitable for fully observed datasets where we want to test what happens under missingness. If your dataset already has missingness, please run `preparation03_missingness_assumptions` instead to define what you know about the missing data process. "
   ]
  },
  {
   "cell_type": "code",
   "execution_count": 1,
   "id": "d32b4bc6-29ca-45d8-a7cb-98d42731a2ca",
   "metadata": {},
   "outputs": [],
   "source": [
    "%load_ext autoreload\n",
    "%autoreload 2"
   ]
  },
  {
   "cell_type": "markdown",
   "id": "b0c45829-3457-4106-9d15-74bcd3138663",
   "metadata": {},
   "source": [
    "### Define paths "
   ]
  },
  {
   "cell_type": "code",
   "execution_count": 2,
   "id": "b6e4c50f-5041-438e-878d-cdd68f7dc96d",
   "metadata": {},
   "outputs": [],
   "source": [
    "from afa.configurations.utils_static import specify_default_paths_static\n",
    "# which dataset to work on \n",
    "dataset_name   = \"synthetic_1\"\n",
    "\n",
    "# name for of missingness scenario \n",
    "miss_scenario  = 'MNAR_1'\n",
    "\n",
    "# original data paths\n",
    "paths_gt = specify_default_paths_static(dataset_name = dataset_name , miss_scenario = None) \n",
    "\n",
    "# new missing data paths\n",
    "paths_miss = specify_default_paths_static(dataset_name = dataset_name , miss_scenario = miss_scenario) \n",
    "\n",
    "# save miss model files also in ground truth folder\n",
    "m_graph_adj_gt_file     = paths_miss['data_dir']  + 'm_graphs/'  + 'ground_truth/' + 'm_graph_adjacencies.csv'\n",
    "ps_model_weights_gt_file   = paths_miss['data_dir']  + 'm_graphs/'  + 'ground_truth/' + 'weights.csv'"
   ]
  },
  {
   "cell_type": "markdown",
   "id": "2a7d60d1-30f8-4129-a5c0-59dbbb0b79f7",
   "metadata": {},
   "source": [
    "## Load dataset without missingness \n",
    "At first, we want to load the dataset\n",
    "\n",
    "Includes loading: \n",
    "- superfeature mapping\n",
    "- problem\n",
    "- afa_problem "
   ]
  },
  {
   "cell_type": "code",
   "execution_count": 3,
   "id": "523a5c14-a283-4f52-a764-67449bd0118d",
   "metadata": {},
   "outputs": [
    {
     "name": "stderr",
     "output_type": "stream",
     "text": [
      "2023-02-19 00:14:20.330022: I tensorflow/core/platform/cpu_feature_guard.cc:193] This TensorFlow binary is optimized with oneAPI Deep Neural Network Library (oneDNN) to use the following CPU instructions in performance-critical operations:  AVX2 FMA\n",
      "To enable them in other operations, rebuild TensorFlow with the appropriate compiler flags.\n",
      "2023-02-19 00:14:20.463853: W tensorflow/compiler/xla/stream_executor/platform/default/dso_loader.cc:64] Could not load dynamic library 'libcudart.so.11.0'; dlerror: libcudart.so.11.0: cannot open shared object file: No such file or directory\n",
      "2023-02-19 00:14:20.463872: I tensorflow/compiler/xla/stream_executor/cuda/cudart_stub.cc:29] Ignore above cudart dlerror if you do not have a GPU set up on your machine.\n",
      "2023-02-19 00:14:21.098204: W tensorflow/compiler/xla/stream_executor/platform/default/dso_loader.cc:64] Could not load dynamic library 'libnvinfer.so.7'; dlerror: libnvinfer.so.7: cannot open shared object file: No such file or directory\n",
      "2023-02-19 00:14:21.098309: W tensorflow/compiler/xla/stream_executor/platform/default/dso_loader.cc:64] Could not load dynamic library 'libnvinfer_plugin.so.7'; dlerror: libnvinfer_plugin.so.7: cannot open shared object file: No such file or directory\n",
      "2023-02-19 00:14:21.098318: W tensorflow/compiler/tf2tensorrt/utils/py_utils.cc:38] TF-TRT Warning: Cannot dlopen some TensorRT libraries. If you would like to use Nvidia GPU with TensorRT, please make sure the missing libraries mentioned above are installed properly.\n"
     ]
    }
   ],
   "source": [
    "from afa.data_modelling.datasets.data_loader.data_loader_static import DataLoader_static"
   ]
  },
  {
   "cell_type": "code",
   "execution_count": 4,
   "id": "cb15b78a-8bd5-4a1e-a66f-9703ac41e90b",
   "metadata": {},
   "outputs": [],
   "source": [
    "# load dataset \n",
    "data_loader = DataLoader_static( data_file                  = paths_gt['data_file'],\n",
    "                                 superfeature_mapping_file  = paths_gt['superfeature_mapping_file'],\n",
    "                                 problem_file               = paths_gt['problem_file'],\n",
    "                                 afa_problem_files          = paths_gt['afa_problem_files'],\n",
    "                                 folds_file                 = paths_gt['folds_file'])\n",
    "dataset = data_loader.load() "
   ]
  },
  {
   "cell_type": "markdown",
   "id": "a15a3ac2-c2fd-4cf4-bef9-54fbde4dd53c",
   "metadata": {},
   "source": [
    "## Define agent to induce missingness\n",
    "Here we use an AFAMechanismAgent (which uses PropensityScoreModel). \n",
    "This requires defining:\n",
    "- an m_graph (through an adjacency matrix) \n",
    "- weights for a logistic regression model / constant model that defines the propensity score "
   ]
  },
  {
   "cell_type": "markdown",
   "id": "5a691bc6-d1fe-4e9f-8163-57d1c7f41783",
   "metadata": {},
   "source": [
    "### Define missing data_graph and ps_model weights"
   ]
  },
  {
   "cell_type": "markdown",
   "id": "5e3c89bb-bbd5-4d5f-889f-4851f059a52e",
   "metadata": {},
   "source": [
    "#### Option 1: Create corresponding files directly as .csv file\n",
    "__m-graph__:  \n",
    "Fill a .csv file containing the edges in the m_graph\n",
    "- column_names: name of the superfeature missingness indicators (superR) with format 'R_' + superfeature_name\n",
    "- row_names: name of the features and then name of the superR\n",
    "- entry(i,j) = 1  \n",
    "    if node of index i has an arrow to node of column j \n",
    "    \n",
    "__ps_model_weights__: \n",
    "Fill a .csv file containing the edges in the m_graph\n",
    "- column_names: name of the superfeature missingness indicators (superR) with format 'R_' + superfeature_name\n",
    "- row_names: \n",
    "    - row 1: bias \n",
    "    - other rows: names of the parents \n",
    "        - entry(i,j) = 1  \n",
    "            linear weight of parent on superR"
   ]
  },
  {
   "cell_type": "markdown",
   "id": "bc60d4ae-1fb3-4749-91e6-fe7d78c8cf5d",
   "metadata": {},
   "source": [
    "#### Option 2: Define here and save\n",
    "Define the adjacency matrix of the m_graph and the weights using a pandas df"
   ]
  },
  {
   "cell_type": "code",
   "execution_count": 5,
   "id": "f585fc3a-06c7-471c-b314-d22bb798b968",
   "metadata": {},
   "outputs": [],
   "source": [
    "from afa.data_modelling.missingness.missing_data_graph.utils import save_m_graph_adjacency_matrix\n",
    "import pandas as pd\n",
    "# missing data graph\n",
    "m_graph_adj = pd.DataFrame([[1, 1], [0, 0], [0, 0], [0, 0], [0, 0]], \n",
    "                            index   = ['X0', 'X1', 'X2', 'X3' , 'R_superX0'], \n",
    "                            columns = ['R_superX1', 'R_superX2'])\n",
    "\n",
    "save_m_graph_adjacency_matrix( m_graph_adj ,  m_graph_adj_file = m_graph_adj_gt_file   ) \n"
   ]
  },
  {
   "cell_type": "code",
   "execution_count": 6,
   "id": "54d1d286-a496-40bf-8eeb-4c7e71ca5587",
   "metadata": {},
   "outputs": [
    {
     "data": {
      "text/html": [
       "<div>\n",
       "<style scoped>\n",
       "    .dataframe tbody tr th:only-of-type {\n",
       "        vertical-align: middle;\n",
       "    }\n",
       "\n",
       "    .dataframe tbody tr th {\n",
       "        vertical-align: top;\n",
       "    }\n",
       "\n",
       "    .dataframe thead th {\n",
       "        text-align: right;\n",
       "    }\n",
       "</style>\n",
       "<table border=\"1\" class=\"dataframe\">\n",
       "  <thead>\n",
       "    <tr style=\"text-align: right;\">\n",
       "      <th></th>\n",
       "      <th>R_superX1</th>\n",
       "      <th>R_superX2</th>\n",
       "    </tr>\n",
       "  </thead>\n",
       "  <tbody>\n",
       "    <tr>\n",
       "      <th>bias</th>\n",
       "      <td>-3.0</td>\n",
       "      <td>-3.0</td>\n",
       "    </tr>\n",
       "    <tr>\n",
       "      <th>X0</th>\n",
       "      <td>2.0</td>\n",
       "      <td>2.0</td>\n",
       "    </tr>\n",
       "    <tr>\n",
       "      <th>X1</th>\n",
       "      <td>NaN</td>\n",
       "      <td>NaN</td>\n",
       "    </tr>\n",
       "    <tr>\n",
       "      <th>X2</th>\n",
       "      <td>NaN</td>\n",
       "      <td>NaN</td>\n",
       "    </tr>\n",
       "    <tr>\n",
       "      <th>X3</th>\n",
       "      <td>NaN</td>\n",
       "      <td>NaN</td>\n",
       "    </tr>\n",
       "  </tbody>\n",
       "</table>\n",
       "</div>"
      ],
      "text/plain": [
       "      R_superX1  R_superX2\n",
       "bias       -3.0       -3.0\n",
       "X0          2.0        2.0\n",
       "X1          NaN        NaN\n",
       "X2          NaN        NaN\n",
       "X3          NaN        NaN"
      ]
     },
     "execution_count": 6,
     "metadata": {},
     "output_type": "execute_result"
    }
   ],
   "source": [
    "from afa.data_modelling.missingness.propensity_scores.utils import save_logistic_regression_ps_model_weights, load_logistic_regression_ps_model_weights\n",
    "import numpy as np \n",
    "# weights for ps model \n",
    "weights_df  = pd.DataFrame( [[-3, -3],[2, 2],[np.nan, np.nan],[np.nan, np.nan],[np.nan, np.nan]], \n",
    "                            index   = ['bias', 'X0', 'X1', 'X2', 'X3'], \n",
    "                            columns = ['R_superX1', 'R_superX2'])\n",
    "save_logistic_regression_ps_model_weights( weights_df = weights_df,  ps_model_weights_file = ps_model_weights_gt_file) \n",
    "weights_df"
   ]
  },
  {
   "cell_type": "markdown",
   "id": "c68c78cd-6098-4cf3-9718-ca2f8dcd9ae4",
   "metadata": {},
   "source": [
    "#### Option 3 (not recommended): Prepared m_graphs and weights \n",
    "Lastly, for specific datasets, the creation can be automatically stored using hard-coded specifications. "
   ]
  },
  {
   "cell_type": "code",
   "execution_count": 7,
   "id": "27973600-3893-4765-8d33-8a937ea8b771",
   "metadata": {},
   "outputs": [],
   "source": [
    "# PROBLEM: THE FILES HERE ARE WRONG\n",
    "from afa.configurations.data_settings.define_data_settings_static import generate_m_graphs_and_weights_static\n",
    "m_graph_adj, weights_df = generate_m_graphs_and_weights_static( dataset_name , miss_scenario ,  data_dir = paths_miss['data_dir']  )"
   ]
  },
  {
   "cell_type": "code",
   "execution_count": 8,
   "id": "83481d77-2bbb-408f-9dce-44a52533203c",
   "metadata": {},
   "outputs": [
    {
     "data": {
      "text/html": [
       "<div>\n",
       "<style scoped>\n",
       "    .dataframe tbody tr th:only-of-type {\n",
       "        vertical-align: middle;\n",
       "    }\n",
       "\n",
       "    .dataframe tbody tr th {\n",
       "        vertical-align: top;\n",
       "    }\n",
       "\n",
       "    .dataframe thead th {\n",
       "        text-align: right;\n",
       "    }\n",
       "</style>\n",
       "<table border=\"1\" class=\"dataframe\">\n",
       "  <thead>\n",
       "    <tr style=\"text-align: right;\">\n",
       "      <th></th>\n",
       "      <th>R_superX1</th>\n",
       "      <th>R_superX2</th>\n",
       "    </tr>\n",
       "  </thead>\n",
       "  <tbody>\n",
       "    <tr>\n",
       "      <th>bias</th>\n",
       "      <td>0.7</td>\n",
       "      <td>-2.0</td>\n",
       "    </tr>\n",
       "    <tr>\n",
       "      <th>X0</th>\n",
       "      <td>NaN</td>\n",
       "      <td>NaN</td>\n",
       "    </tr>\n",
       "    <tr>\n",
       "      <th>X1</th>\n",
       "      <td>NaN</td>\n",
       "      <td>2.0</td>\n",
       "    </tr>\n",
       "    <tr>\n",
       "      <th>X2</th>\n",
       "      <td>NaN</td>\n",
       "      <td>NaN</td>\n",
       "    </tr>\n",
       "    <tr>\n",
       "      <th>X3</th>\n",
       "      <td>NaN</td>\n",
       "      <td>NaN</td>\n",
       "    </tr>\n",
       "  </tbody>\n",
       "</table>\n",
       "</div>"
      ],
      "text/plain": [
       "      R_superX1  R_superX2\n",
       "bias        0.7       -2.0\n",
       "X0          NaN        NaN\n",
       "X1          NaN        2.0\n",
       "X2          NaN        NaN\n",
       "X3          NaN        NaN"
      ]
     },
     "execution_count": 8,
     "metadata": {},
     "output_type": "execute_result"
    }
   ],
   "source": [
    "weights_df"
   ]
  },
  {
   "cell_type": "markdown",
   "id": "9c0f323b-913c-4e6e-b9d5-e79736bc67cf",
   "metadata": {},
   "source": [
    "### Initialize a Agent (using PropensityScoreModel)"
   ]
  },
  {
   "cell_type": "code",
   "execution_count": 9,
   "id": "2fe440f7-74b9-490c-babd-cd676fa2166e",
   "metadata": {},
   "outputs": [],
   "source": [
    "from afa.data_modelling.missingness.missing_data_graph.utils import load_m_graph_adjacency_matrix\n",
    "from afa.data_modelling.missingness.missing_data_graph.missing_data_graph_static import MissingDataGraph_static\n",
    "from afa.data_modelling.models.static_models.joint_models.utils import load_joint_model_weights_static\n",
    "from afa.data_modelling.missingness.propensity_scores.propensity_score_model_static import PropensityScoreModel_static\n",
    "from afa.afa_models.afa_agents.afa_mechanism_agents.afa_mechanism_agent_static import AFAMechanismAgent_static"
   ]
  },
  {
   "cell_type": "code",
   "execution_count": 10,
   "id": "fb12b015-fcd4-46c9-a4fa-2798f407b0e7",
   "metadata": {},
   "outputs": [
    {
     "data": {
      "image/png": "[encoded data removed]",
      "text/plain": [
       "<Figure size 432x288 with 1 Axes>"
      ]
     },
     "metadata": {},
     "output_type": "display_data"
    },
    {
     "data": {
      "image/png": "[encoded data removed]",
      "text/plain": [
       "<Figure size 432x288 with 1 Axes>"
      ]
     },
     "execution_count": 10,
     "metadata": {},
     "output_type": "execute_result"
    }
   ],
   "source": [
    "# 1. load m_graph \n",
    "m_graph_adj = load_m_graph_adjacency_matrix( m_graph_adj_file = m_graph_adj_gt_file )\n",
    "m_graph     = MissingDataGraph_static(   m_graph_adj  = m_graph_adj ) \n",
    "\n",
    "# visualize\n",
    "m_graph.plot() "
   ]
  },
  {
   "cell_type": "code",
   "execution_count": 11,
   "id": "5b4d3c4f-4815-4035-9146-1c2de38ce79a",
   "metadata": {},
   "outputs": [
    {
     "name": "stdout",
     "output_type": "stream",
     "text": [
      "Change base_model to constant\n",
      "Set weight for constant model ...\n"
     ]
    },
    {
     "name": "stderr",
     "output_type": "stream",
     "text": [
      "2023-02-19 00:14:26.659070: I tensorflow/compiler/xla/stream_executor/cuda/cuda_gpu_executor.cc:967] could not open file to read NUMA node: /sys/bus/pci/devices/0000:01:00.0/numa_node\n",
      "Your kernel may have been built without NUMA support.\n",
      "2023-02-19 00:14:26.659194: W tensorflow/compiler/xla/stream_executor/platform/default/dso_loader.cc:64] Could not load dynamic library 'libcudart.so.11.0'; dlerror: libcudart.so.11.0: cannot open shared object file: No such file or directory\n",
      "2023-02-19 00:14:26.659260: W tensorflow/compiler/xla/stream_executor/platform/default/dso_loader.cc:64] Could not load dynamic library 'libcublas.so.11'; dlerror: libcublas.so.11: cannot open shared object file: No such file or directory\n",
      "2023-02-19 00:14:26.659314: W tensorflow/compiler/xla/stream_executor/platform/default/dso_loader.cc:64] Could not load dynamic library 'libcublasLt.so.11'; dlerror: libcublasLt.so.11: cannot open shared object file: No such file or directory\n",
      "2023-02-19 00:14:26.659367: W tensorflow/compiler/xla/stream_executor/platform/default/dso_loader.cc:64] Could not load dynamic library 'libcufft.so.10'; dlerror: libcufft.so.10: cannot open shared object file: No such file or directory\n",
      "2023-02-19 00:14:26.659421: W tensorflow/compiler/xla/stream_executor/platform/default/dso_loader.cc:64] Could not load dynamic library 'libcurand.so.10'; dlerror: libcurand.so.10: cannot open shared object file: No such file or directory\n",
      "2023-02-19 00:14:26.659474: W tensorflow/compiler/xla/stream_executor/platform/default/dso_loader.cc:64] Could not load dynamic library 'libcusolver.so.11'; dlerror: libcusolver.so.11: cannot open shared object file: No such file or directory\n",
      "2023-02-19 00:14:26.659527: W tensorflow/compiler/xla/stream_executor/platform/default/dso_loader.cc:64] Could not load dynamic library 'libcusparse.so.11'; dlerror: libcusparse.so.11: cannot open shared object file: No such file or directory\n",
      "2023-02-19 00:14:26.659580: W tensorflow/compiler/xla/stream_executor/platform/default/dso_loader.cc:64] Could not load dynamic library 'libcudnn.so.8'; dlerror: libcudnn.so.8: cannot open shared object file: No such file or directory\n",
      "2023-02-19 00:14:26.659588: W tensorflow/core/common_runtime/gpu/gpu_device.cc:1934] Cannot dlopen some GPU libraries. Please make sure the missing libraries mentioned above are installed properly if you would like to use GPU. Follow the guide at https://www.tensorflow.org/install/gpu for how to download and setup the required libraries for your platform.\n",
      "Skipping registering GPU devices...\n",
      "2023-02-19 00:14:26.659836: I tensorflow/core/platform/cpu_feature_guard.cc:193] This TensorFlow binary is optimized with oneAPI Deep Neural Network Library (oneDNN) to use the following CPU instructions in performance-critical operations:  AVX2 FMA\n",
      "To enable them in other operations, rebuild TensorFlow with the appropriate compiler flags.\n"
     ]
    },
    {
     "name": "stdout",
     "output_type": "stream",
     "text": [
      "1/1 [==============================] - 1s 509ms/step - loss: 0.6931 - binary_accuracy: 1.0000\n",
      "Set weights for ann ...\n"
     ]
    }
   ],
   "source": [
    "# 2. load weights\n",
    "weights_df = load_logistic_regression_ps_model_weights( ps_model_weights_file = ps_model_weights_gt_file) \n",
    "\n",
    "# 3. initialize params\n",
    "ps_model_params = {}\n",
    "ps_model_params['base_model_params'] = {  'base_model_type': 'ann',\n",
    "                                          'units': 1 ,\n",
    "                                          'layers': 1,\n",
    "                                          'learning_rate': 0.01,\n",
    "                                          'epochs': 100,\n",
    "                                          'checkpoint_dir': '',\n",
    "                                          'gt_weights': weights_df}\n",
    "\n",
    "# 4. init ps model\n",
    "ps_model_name = 'ps_model_gt'\n",
    "ps_model = PropensityScoreModel_static( name            = ps_model_name, \n",
    "                                        m_graph         = m_graph, \n",
    "                                        feature_name    = dataset.feature_name,\n",
    "                                        target_superfeature_names    = dataset.afa_problem.target_superfeature_names,\n",
    "                                        model_params = ps_model_params ) "
   ]
  },
  {
   "cell_type": "code",
   "execution_count": 12,
   "id": "17dcc610-2cee-43f8-b534-a56173edfc45",
   "metadata": {},
   "outputs": [],
   "source": [
    "afa_agent = AFAMechanismAgent_static(  name      = miss_scenario + '_agent',\n",
    "                                       ps_model  = ps_model \n",
    "                                 )"
   ]
  },
  {
   "cell_type": "markdown",
   "id": "b15716ad-4fe6-4677-b3ab-e0fffe5bf9cd",
   "metadata": {},
   "source": [
    "## Create new dataset using the defined agent"
   ]
  },
  {
   "cell_type": "markdown",
   "id": "4958b8ef-bb87-4931-8c70-dabf64f3ce67",
   "metadata": {},
   "source": [
    "Run the agent as an afa agent over the dataset to create an afa_dataset. Then create a new regular dataset out of it"
   ]
  },
  {
   "cell_type": "code",
   "execution_count": 13,
   "id": "f449c645-8db5-47a7-84f3-d76d9f9c9b9e",
   "metadata": {},
   "outputs": [],
   "source": [
    "from afa.afa_datasets.afa_dataset_static import AFADataset_static "
   ]
  },
  {
   "cell_type": "code",
   "execution_count": 14,
   "id": "e849ce84-b6fc-4910-a787-da85a732470d",
   "metadata": {},
   "outputs": [
    {
     "name": "stdout",
     "output_type": "stream",
     "text": [
      "4/4 [==============================] - 0s 2ms/step\n"
     ]
    }
   ],
   "source": [
    "afa_results = afa_agent.predict(dataset, ids = None, fold = None, split = None,  n_samples = 1) \n",
    "\n",
    "# create an afa_dataset out of the generated afa_results\n",
    "afa_dataset = AFADataset_static(  dataset = dataset, model = afa_agent, results = afa_results) \n",
    "\n",
    "# check retrieving data \n",
    "data = afa_dataset.get_data( fold = None, split = None, n_samples = 1) "
   ]
  },
  {
   "cell_type": "code",
   "execution_count": 15,
   "id": "96c59dcf-2443-4d51-9692-eaff3a512910",
   "metadata": {},
   "outputs": [],
   "source": [
    "dataset_new =  afa_dataset.create_new_dataset()"
   ]
  },
  {
   "cell_type": "markdown",
   "id": "3f070900-2e05-473b-9e11-9593363312c7",
   "metadata": {},
   "source": [
    "## Visualize newly created missingness "
   ]
  },
  {
   "cell_type": "code",
   "execution_count": 16,
   "id": "ba91e063-b841-49e2-ad94-8fa2a3196fc7",
   "metadata": {},
   "outputs": [
    {
     "data": {
      "image/png": "[encoded data removed]",
      "text/plain": [
       "<Figure size 576x1440 with 5 Axes>"
      ]
     },
     "metadata": {
      "needs_background": "light"
     },
     "output_type": "display_data"
    }
   ],
   "source": [
    "fig = dataset_new.plot_missingness_stats()"
   ]
  },
  {
   "cell_type": "markdown",
   "id": "3aed3069-fb9b-4255-a131-ccb679221c99",
   "metadata": {},
   "source": [
    "## Add the ground truth propensity score to the dataset"
   ]
  },
  {
   "cell_type": "markdown",
   "id": "5846ae35-dd97-456c-a89a-cd1196845ee8",
   "metadata": {},
   "source": [
    "For comparison reasons we might be interested in the ground truth propensity score and add it back to dataset_new "
   ]
  },
  {
   "cell_type": "code",
   "execution_count": 17,
   "id": "976dfca1-c99a-4f38-8352-7baa5a6779e5",
   "metadata": {},
   "outputs": [],
   "source": [
    "from afa.data_modelling.missingness.missingness_model import MissingnessModel"
   ]
  },
  {
   "cell_type": "code",
   "execution_count": 18,
   "id": "769f9505-a10f-43bb-82d9-855890af14fd",
   "metadata": {},
   "outputs": [
    {
     "name": "stdout",
     "output_type": "stream",
     "text": [
      "4/4 [==============================] - 0s 2ms/step\n",
      "4/4 [==============================] - 0s 1ms/step\n"
     ]
    }
   ],
   "source": [
    "# compute ps values\n",
    "ps_values, ps_values_1 = ps_model.predict(dataset_new)"
   ]
  },
  {
   "cell_type": "code",
   "execution_count": 19,
   "id": "1ba88360-18f9-4ccb-bf7d-4e0d82310459",
   "metadata": {},
   "outputs": [],
   "source": [
    "# init miss_model in dataset\n",
    "miss_model = MissingnessModel(m_graph)\n",
    "dataset_new.miss_model = miss_model "
   ]
  },
  {
   "cell_type": "code",
   "execution_count": 20,
   "id": "a26f026d-9dc7-45b4-a30e-34384c3d624d",
   "metadata": {},
   "outputs": [],
   "source": [
    "# add to dataset\n",
    "dataset_new.miss_model.add_ps_values( ps_model_name , \n",
    "                                      ps_values = ps_values, \n",
    "                                      ps_values_1 = ps_values_1 )"
   ]
  },
  {
   "cell_type": "markdown",
   "id": "cf14cc65-7119-488b-b488-93347fd15871",
   "metadata": {},
   "source": [
    "## Save the new dataset"
   ]
  },
  {
   "cell_type": "code",
   "execution_count": 27,
   "id": "0446da14-a339-485f-8fda-888c36dde579",
   "metadata": {},
   "outputs": [],
   "source": [
    "dataset_new.save( data_dir = paths_miss['data_dir'], \n",
    "                  dataset_name = dataset_name + '_' + miss_scenario, \n",
    "                  save_folds = True) "
   ]
  },
  {
   "cell_type": "code",
   "execution_count": 25,
   "id": "a2d85fe4-55d1-465e-9c51-36f7bdc6e123",
   "metadata": {},
   "outputs": [],
   "source": [
    "dataset_new.miss_model.save(paths_miss['data_dir'])"
   ]
  },
  {
   "cell_type": "markdown",
   "id": "febf5c68-87ab-42ab-9270-a1320ee59985",
   "metadata": {},
   "source": [
    "## Reporting: summarize the whole dataset (with missingness) \n",
    "Store information in reports folder in latex / markdown format."
   ]
  },
  {
   "cell_type": "code",
   "execution_count": 22,
   "id": "786965fe-9b81-45e4-b6f1-7dd2eedce1cf",
   "metadata": {},
   "outputs": [
    {
     "data": {
      "image/png": "[encoded data removed]",
      "text/plain": [
       "<Figure size 576x1440 with 5 Axes>"
      ]
     },
     "metadata": {
      "needs_background": "light"
     },
     "output_type": "display_data"
    },
    {
     "data": {
      "image/png": "[encoded data removed]",
      "text/plain": [
       "<Figure size 432x288 with 1 Axes>"
      ]
     },
     "metadata": {},
     "output_type": "display_data"
    }
   ],
   "source": [
    "# reporting\n",
    "explanation_file = paths_miss['data_dir'] + 'dataset_report'\n",
    "dataset_new.explain(file=  explanation_file + '.md', format = 'markdown')\n",
    "# dataset_new.explain(file=  explanation_file + '.tex', format = 'latex')"
   ]
  },
  {
   "cell_type": "code",
   "execution_count": null,
   "id": "3939a176-5151-4330-b2df-6753085e3b72",
   "metadata": {},
   "outputs": [],
   "source": []
  },
  {
   "cell_type": "code",
   "execution_count": null,
   "id": "4b53f16b-336d-45a5-85a2-e18fab8792be",
   "metadata": {},
   "outputs": [],
   "source": []
  },
  {
   "cell_type": "code",
   "execution_count": null,
   "id": "41ad9d44-5228-4161-ba5e-7c9bafcb2fed",
   "metadata": {},
   "outputs": [],
   "source": []
  },
  {
   "cell_type": "code",
   "execution_count": null,
   "id": "ffff3d59-b634-4f01-a384-3dab3267b108",
   "metadata": {},
   "outputs": [],
   "source": []
  },
  {
   "cell_type": "code",
   "execution_count": null,
   "id": "a762c4a0-bbaa-4972-8557-ce3636241b08",
   "metadata": {},
   "outputs": [],
   "source": []
  },
  {
   "cell_type": "code",
   "execution_count": null,
   "id": "da79f914-5fa5-4c9a-a09f-6ae6f7a735ed",
   "metadata": {},
   "outputs": [],
   "source": []
  },
  {
   "cell_type": "code",
   "execution_count": null,
   "id": "54c9e013",
   "metadata": {},
   "outputs": [],
   "source": []
  },
  {
   "cell_type": "code",
   "execution_count": null,
   "id": "dc673cb7",
   "metadata": {},
   "outputs": [],
   "source": []
  }
 ],
 "metadata": {
  "kernelspec": {
   "display_name": "afa_env",
   "language": "python",
   "name": "afa_env"
  },
  "language_info": {
   "codemirror_mode": {
    "name": "ipython",
    "version": 3
   },
   "file_extension": ".py",
   "mimetype": "text/x-python",
   "name": "python",
   "nbconvert_exporter": "python",
   "pygments_lexer": "ipython3",
   "version": "3.10.8"
  },
  "toc": {
   "base_numbering": 1,
   "nav_menu": {},
   "number_sections": true,
   "sideBar": true,
   "skip_h1_title": false,
   "title_cell": "Table of Contents",
   "title_sidebar": "Contents",
   "toc_cell": false,
   "toc_position": {
    "height": "calc(100% - 180px)",
    "left": "10px",
    "top": "150px",
    "width": "297px"
   },
   "toc_section_display": true,
   "toc_window_display": true
  },
  "varInspector": {
   "cols": {
    "lenName": 16,
    "lenType": 16,
    "lenVar": 40
   },
   "kernels_config": {
    "python": {
     "delete_cmd_postfix": "",
     "delete_cmd_prefix": "del ",
     "library": "var_list.py",
     "varRefreshCmd": "print(var_dic_list())"
    },
    "r": {
     "delete_cmd_postfix": ") ",
     "delete_cmd_prefix": "rm(",
     "library": "var_list.r",
     "varRefreshCmd": "cat(var_dic_list()) "
    }
   },
   "types_to_exclude": [
    "module",
    "function",
    "builtin_function_or_method",
    "instance",
    "_Feature"
   ],
   "window_display": false
  }
 },
 "nbformat": 4,
 "nbformat_minor": 5
}
