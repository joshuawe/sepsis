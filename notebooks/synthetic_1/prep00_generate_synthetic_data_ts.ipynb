{
 "cells": [
  {
   "attachments": {},
   "cell_type": "markdown",
   "id": "738d755b",
   "metadata": {},
   "source": [
    "\n",
    "# (0) Generate a synthetic static dataset"
   ]
  },
  {
   "cell_type": "markdown",
   "id": "0d7cd1d6-a92c-428c-a091-05d2ae4cd7d8",
   "metadata": {
    "tags": []
   },
   "source": [
    "Generate a synthetic dataset with \n",
    "- features X\n",
    "- temporal features X_ts\n",
    "- label Y \n",
    "\n",
    "Note: data is stored in the folder \"../../../data/ts/\" + dataset relativ to this directory"
   ]
  },
  {
   "cell_type": "code",
   "execution_count": 1,
   "id": "83ebac83-5b5c-45e0-997c-1dc4edfc7cb4",
   "metadata": {},
   "outputs": [],
   "source": [
    "%load_ext autoreload\n",
    "%autoreload 2"
   ]
  },
  {
   "cell_type": "markdown",
   "id": "a1238f97-f069-4d54-8de3-080e4e98f948",
   "metadata": {},
   "source": [
    "### Define paths "
   ]
  },
  {
   "cell_type": "code",
   "execution_count": 2,
   "id": "4e736192-d821-4035-9908-477bafb53859",
   "metadata": {},
   "outputs": [],
   "source": [
    "# which dataset to work on \n",
    "dataset_name   = \"synthetic_1\""
   ]
  },
  {
   "cell_type": "code",
   "execution_count": 3,
   "id": "327594a1-9fb5-4099-919a-abf2ffd341cc",
   "metadata": {},
   "outputs": [],
   "source": [
    "# data specifications \n",
    "data_dir            = \"../../../data/ts/\" + dataset_name + \"/fully_observed/\" "
   ]
  },
  {
   "cell_type": "markdown",
   "id": "f2c96fe7",
   "metadata": {},
   "source": [
    "## Data Generation"
   ]
  },
  {
   "cell_type": "code",
   "execution_count": 4,
   "id": "315db0b5-ece3-4dd5-ab87-2bddc82d399d",
   "metadata": {},
   "outputs": [],
   "source": [
    "from afa.data_modelling.datasets.synthetic_data_generation.data_generator_ts import DataGenerator_ts"
   ]
  },
  {
   "cell_type": "code",
   "execution_count": 5,
   "id": "2f04874b-e0b7-466d-9fab-1be1d0423312",
   "metadata": {},
   "outputs": [],
   "source": [
    "data_generator = DataGenerator_ts(\n",
    "                        data_dir           = data_dir,  \n",
    "                        dataset_name       = dataset_name , \n",
    "                        n_datapts          = 100, \n",
    "                        test_size          = 0,\n",
    "                        n_features_static  = 1,\n",
    "                        n_features_ts      = 4, \n",
    "                        n_timepts          = 5,\n",
    "                        table_style        = \"EAV\",\n",
    "                        compression        = 'gzip',\n",
    "                        n_classes          = 2)"
   ]
  },
  {
   "cell_type": "code",
   "execution_count": 6,
   "id": "4e817462-660e-432b-8f99-cd3930f15a0d",
   "metadata": {},
   "outputs": [],
   "source": [
    "df_static_train, df_ts_train, df_static_test, df_ts_test  = data_generator.generate_data()"
   ]
  },
  {
   "cell_type": "markdown",
   "id": "acf3349a-cdf2-4fd7-98f8-050456ab1c34",
   "metadata": {},
   "source": [
    "## Load data\n",
    "Check if data was saved correctly and can be loaded "
   ]
  },
  {
   "cell_type": "code",
   "execution_count": 5,
   "id": "acfb8d13-d8e3-4143-b462-89d2ca3d26d7",
   "metadata": {},
   "outputs": [
    {
     "name": "stderr",
     "output_type": "stream",
     "text": [
      "2023-03-02 13:49:03.941535: I tensorflow/core/platform/cpu_feature_guard.cc:193] This TensorFlow binary is optimized with oneAPI Deep Neural Network Library (oneDNN) to use the following CPU instructions in performance-critical operations:  AVX2 FMA\n",
      "To enable them in other operations, rebuild TensorFlow with the appropriate compiler flags.\n",
      "2023-03-02 13:49:04.037439: W tensorflow/compiler/xla/stream_executor/platform/default/dso_loader.cc:64] Could not load dynamic library 'libcudart.so.11.0'; dlerror: libcudart.so.11.0: cannot open shared object file: No such file or directory\n",
      "2023-03-02 13:49:04.037454: I tensorflow/compiler/xla/stream_executor/cuda/cudart_stub.cc:29] Ignore above cudart dlerror if you do not have a GPU set up on your machine.\n",
      "2023-03-02 13:49:15.635760: W tensorflow/compiler/xla/stream_executor/platform/default/dso_loader.cc:64] Could not load dynamic library 'libnvinfer.so.7'; dlerror: libnvinfer.so.7: cannot open shared object file: No such file or directory\n",
      "2023-03-02 13:49:15.637364: W tensorflow/compiler/xla/stream_executor/platform/default/dso_loader.cc:64] Could not load dynamic library 'libnvinfer_plugin.so.7'; dlerror: libnvinfer_plugin.so.7: cannot open shared object file: No such file or directory\n",
      "2023-03-02 13:49:15.637373: W tensorflow/compiler/tf2tensorrt/utils/py_utils.cc:38] TF-TRT Warning: Cannot dlopen some TensorRT libraries. If you would like to use Nvidia GPU with TensorRT, please make sure the missing libraries mentioned above are installed properly.\n"
     ]
    }
   ],
   "source": [
    "from afa.data_modelling.datasets.data_loader.data_loader_ts import DataLoader_ts"
   ]
  },
  {
   "cell_type": "code",
   "execution_count": 6,
   "id": "0084fc65-ec37-4ea7-a0cc-8ccd894a8658",
   "metadata": {},
   "outputs": [],
   "source": [
    "data_file          = data_dir + dataset_name + '_static.csv.gz' \n",
    "temporal_data_file = data_dir + dataset_name + '_ts_eav.csv.gz' \n",
    "superfeature_mapping_file = None\n",
    "\n",
    "data_loader = DataLoader_ts( data_file                  = data_file,\n",
    "                             temporal_data_file         = temporal_data_file,\n",
    "                             superfeature_mapping_file  = superfeature_mapping_file )\n",
    "\n",
    "dataset = data_loader.load() "
   ]
  },
  {
   "cell_type": "code",
   "execution_count": 7,
   "id": "0f5036b5-61f9-4bb8-8938-ae240864a50a",
   "metadata": {},
   "outputs": [
    {
     "data": {
      "text/html": [
       "<div>\n",
       "<style scoped>\n",
       "    .dataframe tbody tr th:only-of-type {\n",
       "        vertical-align: middle;\n",
       "    }\n",
       "\n",
       "    .dataframe tbody tr th {\n",
       "        vertical-align: top;\n",
       "    }\n",
       "\n",
       "    .dataframe thead th {\n",
       "        text-align: right;\n",
       "    }\n",
       "</style>\n",
       "<table border=\"1\" class=\"dataframe\">\n",
       "  <thead>\n",
       "    <tr style=\"text-align: right;\">\n",
       "      <th>variable</th>\n",
       "      <th>id</th>\n",
       "      <th>time</th>\n",
       "      <th>X0_ts</th>\n",
       "      <th>X1_ts</th>\n",
       "      <th>X2_ts</th>\n",
       "      <th>X3_ts</th>\n",
       "      <th>Y_ts</th>\n",
       "    </tr>\n",
       "  </thead>\n",
       "  <tbody>\n",
       "    <tr>\n",
       "      <th>0</th>\n",
       "      <td>0</td>\n",
       "      <td>0</td>\n",
       "      <td>0.429527</td>\n",
       "      <td>0.962485</td>\n",
       "      <td>-0.910083</td>\n",
       "      <td>-0.304410</td>\n",
       "      <td>0.0</td>\n",
       "    </tr>\n",
       "    <tr>\n",
       "      <th>1</th>\n",
       "      <td>0</td>\n",
       "      <td>1</td>\n",
       "      <td>-0.266579</td>\n",
       "      <td>1.761697</td>\n",
       "      <td>-1.155467</td>\n",
       "      <td>0.498474</td>\n",
       "      <td>0.0</td>\n",
       "    </tr>\n",
       "    <tr>\n",
       "      <th>2</th>\n",
       "      <td>0</td>\n",
       "      <td>2</td>\n",
       "      <td>-0.412245</td>\n",
       "      <td>-0.651917</td>\n",
       "      <td>-0.357704</td>\n",
       "      <td>-0.374634</td>\n",
       "      <td>0.0</td>\n",
       "    </tr>\n",
       "    <tr>\n",
       "      <th>3</th>\n",
       "      <td>0</td>\n",
       "      <td>3</td>\n",
       "      <td>-1.080314</td>\n",
       "      <td>-0.472513</td>\n",
       "      <td>1.791534</td>\n",
       "      <td>0.606205</td>\n",
       "      <td>0.0</td>\n",
       "    </tr>\n",
       "    <tr>\n",
       "      <th>4</th>\n",
       "      <td>0</td>\n",
       "      <td>4</td>\n",
       "      <td>-2.335514</td>\n",
       "      <td>-0.189049</td>\n",
       "      <td>-0.197982</td>\n",
       "      <td>-0.462585</td>\n",
       "      <td>1.0</td>\n",
       "    </tr>\n",
       "    <tr>\n",
       "      <th>...</th>\n",
       "      <td>...</td>\n",
       "      <td>...</td>\n",
       "      <td>...</td>\n",
       "      <td>...</td>\n",
       "      <td>...</td>\n",
       "      <td>...</td>\n",
       "      <td>...</td>\n",
       "    </tr>\n",
       "    <tr>\n",
       "      <th>495</th>\n",
       "      <td>99</td>\n",
       "      <td>0</td>\n",
       "      <td>1.647702</td>\n",
       "      <td>-1.489371</td>\n",
       "      <td>-1.644126</td>\n",
       "      <td>0.350373</td>\n",
       "      <td>1.0</td>\n",
       "    </tr>\n",
       "    <tr>\n",
       "      <th>496</th>\n",
       "      <td>99</td>\n",
       "      <td>1</td>\n",
       "      <td>-1.721988</td>\n",
       "      <td>-0.364009</td>\n",
       "      <td>-0.585702</td>\n",
       "      <td>-0.533847</td>\n",
       "      <td>1.0</td>\n",
       "    </tr>\n",
       "    <tr>\n",
       "      <th>497</th>\n",
       "      <td>99</td>\n",
       "      <td>2</td>\n",
       "      <td>-1.537833</td>\n",
       "      <td>-0.418374</td>\n",
       "      <td>-0.577308</td>\n",
       "      <td>-0.355349</td>\n",
       "      <td>1.0</td>\n",
       "    </tr>\n",
       "    <tr>\n",
       "      <th>498</th>\n",
       "      <td>99</td>\n",
       "      <td>3</td>\n",
       "      <td>-1.910697</td>\n",
       "      <td>0.269552</td>\n",
       "      <td>-1.482798</td>\n",
       "      <td>-0.595961</td>\n",
       "      <td>1.0</td>\n",
       "    </tr>\n",
       "    <tr>\n",
       "      <th>499</th>\n",
       "      <td>99</td>\n",
       "      <td>4</td>\n",
       "      <td>-0.469713</td>\n",
       "      <td>0.640483</td>\n",
       "      <td>-1.084011</td>\n",
       "      <td>0.324239</td>\n",
       "      <td>1.0</td>\n",
       "    </tr>\n",
       "  </tbody>\n",
       "</table>\n",
       "<p>500 rows × 7 columns</p>\n",
       "</div>"
      ],
      "text/plain": [
       "variable  id  time     X0_ts     X1_ts     X2_ts     X3_ts  Y_ts\n",
       "0          0     0  0.429527  0.962485 -0.910083 -0.304410   0.0\n",
       "1          0     1 -0.266579  1.761697 -1.155467  0.498474   0.0\n",
       "2          0     2 -0.412245 -0.651917 -0.357704 -0.374634   0.0\n",
       "3          0     3 -1.080314 -0.472513  1.791534  0.606205   0.0\n",
       "4          0     4 -2.335514 -0.189049 -0.197982 -0.462585   1.0\n",
       "..        ..   ...       ...       ...       ...       ...   ...\n",
       "495       99     0  1.647702 -1.489371 -1.644126  0.350373   1.0\n",
       "496       99     1 -1.721988 -0.364009 -0.585702 -0.533847   1.0\n",
       "497       99     2 -1.537833 -0.418374 -0.577308 -0.355349   1.0\n",
       "498       99     3 -1.910697  0.269552 -1.482798 -0.595961   1.0\n",
       "499       99     4 -0.469713  0.640483 -1.084011  0.324239   1.0\n",
       "\n",
       "[500 rows x 7 columns]"
      ]
     },
     "execution_count": 7,
     "metadata": {},
     "output_type": "execute_result"
    }
   ],
   "source": [
    "# visualize pandas dataframe for static data: \n",
    "dataset.temporal_data"
   ]
  },
  {
   "cell_type": "markdown",
   "id": "4739aae3-8cbe-40e9-8fb6-5a0fa2bc6f55",
   "metadata": {},
   "source": [
    "## Define problem\n",
    "Check if problem definition works, see more in the `preparation01` tutorial"
   ]
  },
  {
   "cell_type": "code",
   "execution_count": 8,
   "id": "3a4b4222-bae3-452b-ace9-ec620089cbfc",
   "metadata": {},
   "outputs": [],
   "source": [
    "from afa.data_modelling.problem.problem_ts import ProblemMaker_ts"
   ]
  },
  {
   "cell_type": "code",
   "execution_count": 9,
   "id": "f1a2a90b-bd16-40e3-acf9-acfa1883a2bc",
   "metadata": {},
   "outputs": [
    {
     "name": "stderr",
     "output_type": "stream",
     "text": [
      "Padding sequence: 100%|██████████| 100/100 [00:00<00:00, 898.54it/s]\n",
      "Padding sequence: 100%|██████████| 100/100 [00:00<00:00, 876.62it/s]\n",
      "Padding sequence: 100%|██████████| 100/100 [00:00<00:00, 921.75it/s]\n"
     ]
    }
   ],
   "source": [
    "# define problem specifications\n",
    "label_name = 'Y_ts'\n",
    "problem = 'online'\n",
    "treatment = None\n",
    "max_seq_len = 10\n",
    "\n",
    "problem_maker = ProblemMaker_ts(    problem    = problem, \n",
    "                                    label      = [label_name], \n",
    "                                    treatment  = treatment, \n",
    "                                    max_seq_len = max_seq_len)\n",
    "\n",
    "dataset  = problem_maker.fit_transform(dataset)"
   ]
  },
  {
   "cell_type": "code",
   "execution_count": 10,
   "id": "607c9818-69b6-48bd-a8b3-a31da1026efe",
   "metadata": {},
   "outputs": [
    {
     "data": {
      "text/plain": [
       "{'temporal': ['X0_ts', 'X1_ts', 'X2_ts', 'X3_ts'],\n",
       " 'data': ['X0', 'Y'],\n",
       " 'treatment': None,\n",
       " 'label': ['Y_ts'],\n",
       " 'super_data': ['X0', 'Y'],\n",
       " 'super_temporal': ['X3_ts', 'X2_ts', 'X0_ts', 'X1_ts']}"
      ]
     },
     "execution_count": 10,
     "metadata": {},
     "output_type": "execute_result"
    }
   ],
   "source": [
    "# check if features/superfeatures/labels etc have been correctly assigned \n",
    "dataset.feature_name"
   ]
  },
  {
   "cell_type": "markdown",
   "id": "1e6cd16e-76d3-47d8-b203-2104513df812",
   "metadata": {},
   "source": [
    "## Explain the synthetic data generation process\n",
    "Store information in reports folder in latex / markdown format"
   ]
  },
  {
   "cell_type": "code",
   "execution_count": 11,
   "id": "de48c4fa-2a08-4dd0-a672-bf94289430a0",
   "metadata": {},
   "outputs": [
    {
     "ename": "NameError",
     "evalue": "name 'data_generator' is not defined",
     "output_type": "error",
     "traceback": [
      "\u001b[0;31m---------------------------------------------------------------------------\u001b[0m",
      "\u001b[0;31mNameError\u001b[0m                                 Traceback (most recent call last)",
      "Cell \u001b[0;32mIn[11], line 2\u001b[0m\n\u001b[1;32m      1\u001b[0m explanation_file \u001b[39m=\u001b[39m data_dir \u001b[39m+\u001b[39m \u001b[39m'\u001b[39m\u001b[39msynthetic_data_report\u001b[39m\u001b[39m'\u001b[39m\n\u001b[0;32m----> 2\u001b[0m data_generator\u001b[39m.\u001b[39mexplain(file\u001b[39m=\u001b[39m explanation_file \u001b[39m+\u001b[39m \u001b[39m'\u001b[39m\u001b[39m.md\u001b[39m\u001b[39m'\u001b[39m  , \u001b[39mformat\u001b[39m\u001b[39m=\u001b[39m\u001b[39m'\u001b[39m\u001b[39mmarkdown\u001b[39m\u001b[39m'\u001b[39m)\n\u001b[1;32m      3\u001b[0m \u001b[39m# data_generator.explain(file= explanation_file + '.tex'  , format='latex')\u001b[39;00m\n",
      "\u001b[0;31mNameError\u001b[0m: name 'data_generator' is not defined"
     ]
    }
   ],
   "source": [
    "explanation_file = data_dir + 'synthetic_data_report'\n",
    "data_generator.explain(file= explanation_file + '.md'  , format='markdown')\n",
    "# data_generator.explain(file= explanation_file + '.tex'  , format='latex')"
   ]
  },
  {
   "cell_type": "code",
   "execution_count": null,
   "id": "090171c4",
   "metadata": {},
   "outputs": [],
   "source": []
  },
  {
   "cell_type": "code",
   "execution_count": null,
   "id": "e9a38e31",
   "metadata": {},
   "outputs": [],
   "source": []
  },
  {
   "cell_type": "code",
   "execution_count": null,
   "id": "7aeb81f8-9bb8-4bf3-bcfe-07c9d393b66d",
   "metadata": {},
   "outputs": [],
   "source": []
  }
 ],
 "metadata": {
  "kernelspec": {
   "display_name": "afa_env",
   "language": "python",
   "name": "python3"
  },
  "language_info": {
   "codemirror_mode": {
    "name": "ipython",
    "version": 3
   },
   "file_extension": ".py",
   "mimetype": "text/x-python",
   "name": "python",
   "nbconvert_exporter": "python",
   "pygments_lexer": "ipython3",
   "version": "3.8.10"
  },
  "toc": {
   "base_numbering": 1,
   "nav_menu": {},
   "number_sections": true,
   "sideBar": true,
   "skip_h1_title": false,
   "title_cell": "Table of Contents",
   "title_sidebar": "Contents",
   "toc_cell": false,
   "toc_position": {
    "height": "calc(100% - 180px)",
    "left": "10px",
    "top": "150px",
    "width": "282px"
   },
   "toc_section_display": true,
   "toc_window_display": true
  },
  "varInspector": {
   "cols": {
    "lenName": 16,
    "lenType": 16,
    "lenVar": 40
   },
   "kernels_config": {
    "python": {
     "delete_cmd_postfix": "",
     "delete_cmd_prefix": "del ",
     "library": "var_list.py",
     "varRefreshCmd": "print(var_dic_list())"
    },
    "r": {
     "delete_cmd_postfix": ") ",
     "delete_cmd_prefix": "rm(",
     "library": "var_list.r",
     "varRefreshCmd": "cat(var_dic_list()) "
    }
   },
   "oldHeight": 713.852,
   "position": {
    "height": "40px",
    "left": "1650px",
    "right": "20px",
    "top": "120px",
    "width": "250px"
   },
   "types_to_exclude": [
    "module",
    "function",
    "builtin_function_or_method",
    "instance",
    "_Feature"
   ],
   "varInspector_section_display": "none",
   "window_display": true
  },
  "vscode": {
   "interpreter": {
    "hash": "c7b4046880187643253f6628bf550833ec82b05e290730cdc21121f8b3319a95"
   }
  }
 },
 "nbformat": 4,
 "nbformat_minor": 5
}
