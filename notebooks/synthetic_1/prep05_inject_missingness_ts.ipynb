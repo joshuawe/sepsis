{
 "cells": [
  {
   "cell_type": "markdown",
   "id": "5a5a8c56",
   "metadata": {
    "tags": []
   },
   "source": [
    "# (5) Inject missingness into the (time-series) dataset\n",
    "Insert missingness into a dataset and save the corresponding ground truth m_graph and missingness model parameters. \n",
    "We use an AFAAgent that is based on a propensity score model to model the desired missingness and sample from it. \n",
    "\n",
    "__Note__: Only suitable for fully observed datasets where we want to test what happens under missingness. If your dataset already has missingness, please run `preparation03_missingness_assumptions` instead to define what you know about the missing data process. "
   ]
  },
  {
   "cell_type": "code",
   "execution_count": 1,
   "id": "d32b4bc6-29ca-45d8-a7cb-98d42731a2ca",
   "metadata": {},
   "outputs": [],
   "source": [
    "%load_ext autoreload\n",
    "%autoreload 2"
   ]
  },
  {
   "cell_type": "markdown",
   "id": "b0c45829-3457-4106-9d15-74bcd3138663",
   "metadata": {},
   "source": [
    "### Define paths "
   ]
  },
  {
   "cell_type": "code",
   "execution_count": 2,
   "id": "b6e4c50f-5041-438e-878d-cdd68f7dc96d",
   "metadata": {},
   "outputs": [],
   "source": [
    "from afa.configurations.utils_ts import specify_default_paths_ts\n",
    "# which dataset to work on \n",
    "dataset_name   = \"synthetic_1\"\n",
    "\n",
    "# name for of missingness scenario \n",
    "miss_scenario  = 'MCAR_1'\n",
    "\n",
    "# original data paths\n",
    "paths_gt = specify_default_paths_ts(dataset_name = dataset_name , \n",
    "                                    miss_scenario = None) \n",
    "\n",
    "# new missing data paths\n",
    "paths_miss = specify_default_paths_ts(dataset_name = dataset_name , \n",
    "                                      miss_scenario = miss_scenario) \n",
    "\n",
    "# save miss model files also in ground truth folder\n",
    "m_graph_adj_gt_file     = paths_miss['data_dir']  + 'm_graphs/'  + 'ground_truth/' + 'm_graph_adjacencies.csv'\n",
    "ps_model_weights_gt_file   = paths_miss['data_dir']  + 'm_graphs/'  + 'ground_truth/' + 'weights.csv'"
   ]
  },
  {
   "cell_type": "markdown",
   "id": "2a7d60d1-30f8-4129-a5c0-59dbbb0b79f7",
   "metadata": {},
   "source": [
    "## Load dataset without missingness \n",
    "At first, we want to load the dataset\n",
    "\n",
    "Includes loading: \n",
    "- superfeature mapping\n",
    "- problem\n",
    "- afa_problem "
   ]
  },
  {
   "cell_type": "code",
   "execution_count": 3,
   "id": "523a5c14-a283-4f52-a764-67449bd0118d",
   "metadata": {},
   "outputs": [
    {
     "name": "stderr",
     "output_type": "stream",
     "text": [
      "2023-02-20 15:00:36.863022: I tensorflow/core/platform/cpu_feature_guard.cc:193] This TensorFlow binary is optimized with oneAPI Deep Neural Network Library (oneDNN) to use the following CPU instructions in performance-critical operations:  AVX2 FMA\n",
      "To enable them in other operations, rebuild TensorFlow with the appropriate compiler flags.\n",
      "2023-02-20 15:00:36.981586: W tensorflow/compiler/xla/stream_executor/platform/default/dso_loader.cc:64] Could not load dynamic library 'libcudart.so.11.0'; dlerror: libcudart.so.11.0: cannot open shared object file: No such file or directory\n",
      "2023-02-20 15:00:36.981604: I tensorflow/compiler/xla/stream_executor/cuda/cudart_stub.cc:29] Ignore above cudart dlerror if you do not have a GPU set up on your machine.\n",
      "2023-02-20 15:00:37.620281: W tensorflow/compiler/xla/stream_executor/platform/default/dso_loader.cc:64] Could not load dynamic library 'libnvinfer.so.7'; dlerror: libnvinfer.so.7: cannot open shared object file: No such file or directory\n",
      "2023-02-20 15:00:37.620377: W tensorflow/compiler/xla/stream_executor/platform/default/dso_loader.cc:64] Could not load dynamic library 'libnvinfer_plugin.so.7'; dlerror: libnvinfer_plugin.so.7: cannot open shared object file: No such file or directory\n",
      "2023-02-20 15:00:37.620385: W tensorflow/compiler/tf2tensorrt/utils/py_utils.cc:38] TF-TRT Warning: Cannot dlopen some TensorRT libraries. If you would like to use Nvidia GPU with TensorRT, please make sure the missing libraries mentioned above are installed properly.\n"
     ]
    }
   ],
   "source": [
    "from afa.data_modelling.datasets.data_loader.data_loader_ts import DataLoader_ts"
   ]
  },
  {
   "cell_type": "code",
   "execution_count": 4,
   "id": "cb15b78a-8bd5-4a1e-a66f-9703ac41e90b",
   "metadata": {},
   "outputs": [
    {
     "name": "stderr",
     "output_type": "stream",
     "text": [
      "100%|████████████████████████████████████████████████████████████████████████████████| 100/100 [00:00<00:00, 708.55it/s]\n",
      "100%|████████████████████████████████████████████████████████████████████████████████| 100/100 [00:00<00:00, 790.99it/s]\n",
      "100%|████████████████████████████████████████████████████████████████████████████████| 100/100 [00:00<00:00, 790.33it/s]\n"
     ]
    }
   ],
   "source": [
    "data_loader = DataLoader_ts(    data_file                  = paths_gt['data_file'],\n",
    "                                temporal_data_file         = paths_gt['temporal_data_file'],\n",
    "                                 superfeature_mapping_file = paths_gt['superfeature_mapping_file'],\n",
    "                                 problem_file              = paths_gt['problem_file'],\n",
    "                                 afa_problem_files         = paths_gt['afa_problem_files'],\n",
    "                                 folds_file                = paths_gt['folds_file'])\n",
    "\n",
    "dataset = data_loader.load() "
   ]
  },
  {
   "cell_type": "code",
   "execution_count": 11,
   "id": "148abb10-567c-4509-95ef-df70edfd2f23",
   "metadata": {},
   "outputs": [
    {
     "data": {
      "text/plain": [
       "(100, 5, 4)"
      ]
     },
     "execution_count": 11,
     "metadata": {},
     "output_type": "execute_result"
    }
   ],
   "source": [
    "dataset.temporal_feature.shape"
   ]
  },
  {
   "cell_type": "markdown",
   "id": "a15a3ac2-c2fd-4cf4-bef9-54fbde4dd53c",
   "metadata": {},
   "source": [
    "## Define agent to induce missingness\n",
    "Here we use an AFAMechanismAgent (which uses PropensityScoreModel). \n",
    "This requires defining:\n",
    "- an m_graph (through an adjacency matrix) \n",
    "- weights for a logistic regression model / constant model that defines the propensity score "
   ]
  },
  {
   "cell_type": "markdown",
   "id": "5a691bc6-d1fe-4e9f-8163-57d1c7f41783",
   "metadata": {},
   "source": [
    "### Define missing data_graph and ps_model weights"
   ]
  },
  {
   "cell_type": "markdown",
   "id": "5e3c89bb-bbd5-4d5f-889f-4851f059a52e",
   "metadata": {},
   "source": [
    "#### Option 1: Create corresponding files directly as .csv file\n",
    "__m-graph__:  \n",
    "Fill a .csv file containing the edges in the m_graph\n",
    "- column_names: name of the superfeature missingness indicators (superR) with format 'R_' + superfeature_name\n",
    "- row_names: name of the features and then name of the superR\n",
    "- entry(i,j) = 1  \n",
    "    if node of index i has an arrow to node of column j \n",
    "    \n",
    "__ps_model_weights__: \n",
    "Fill a .csv file containing the edges in the m_graph\n",
    "- column_names: name of the superfeature missingness indicators (superR) with format 'R_' + superfeature_name\n",
    "- row_names: \n",
    "    - row 1: bias \n",
    "    - other rows: names of the parents \n",
    "        - entry(i,j) = 1  \n",
    "            linear weight of parent on superR"
   ]
  },
  {
   "cell_type": "markdown",
   "id": "bc60d4ae-1fb3-4749-91e6-fe7d78c8cf5d",
   "metadata": {},
   "source": [
    "#### Option 2: Define here and save\n",
    "Define the adjacency matrix of the m_graph and the weights using a pandas df"
   ]
  },
  {
   "cell_type": "code",
   "execution_count": 12,
   "id": "f585fc3a-06c7-471c-b314-d22bb798b968",
   "metadata": {},
   "outputs": [
    {
     "data": {
      "text/html": [
       "<div>\n",
       "<style scoped>\n",
       "    .dataframe tbody tr th:only-of-type {\n",
       "        vertical-align: middle;\n",
       "    }\n",
       "\n",
       "    .dataframe tbody tr th {\n",
       "        vertical-align: top;\n",
       "    }\n",
       "\n",
       "    .dataframe thead th {\n",
       "        text-align: right;\n",
       "    }\n",
       "</style>\n",
       "<table border=\"1\" class=\"dataframe\">\n",
       "  <thead>\n",
       "    <tr style=\"text-align: right;\">\n",
       "      <th></th>\n",
       "      <th>R_superX1_ts</th>\n",
       "      <th>R_superX2_ts</th>\n",
       "    </tr>\n",
       "  </thead>\n",
       "  <tbody>\n",
       "    <tr>\n",
       "      <th>X0_ts</th>\n",
       "      <td>0</td>\n",
       "      <td>0</td>\n",
       "    </tr>\n",
       "    <tr>\n",
       "      <th>X1_ts</th>\n",
       "      <td>0</td>\n",
       "      <td>0</td>\n",
       "    </tr>\n",
       "  </tbody>\n",
       "</table>\n",
       "</div>"
      ],
      "text/plain": [
       "       R_superX1_ts  R_superX2_ts\n",
       "X0_ts             0             0\n",
       "X1_ts             0             0"
      ]
     },
     "execution_count": 12,
     "metadata": {},
     "output_type": "execute_result"
    }
   ],
   "source": [
    "from afa.data_modelling.missingness.missing_data_graph.utils import save_m_graph_adjacency_matrix\n",
    "import pandas as pd\n",
    "# missing data graph\n",
    "m_graph_adj = pd.DataFrame( [[0, 0], [0, 0]], \n",
    "                            index=['X0_ts', 'X1_ts' ], \n",
    "                            columns=['R_superX1_ts', 'R_superX2_ts'])\n",
    "\n",
    "save_m_graph_adjacency_matrix( m_graph_adj , m_graph_adj_file = m_graph_adj_gt_file  )  \n",
    "m_graph_adj"
   ]
  },
  {
   "cell_type": "code",
   "execution_count": 13,
   "id": "54d1d286-a496-40bf-8eeb-4c7e71ca5587",
   "metadata": {},
   "outputs": [
    {
     "data": {
      "text/html": [
       "<div>\n",
       "<style scoped>\n",
       "    .dataframe tbody tr th:only-of-type {\n",
       "        vertical-align: middle;\n",
       "    }\n",
       "\n",
       "    .dataframe tbody tr th {\n",
       "        vertical-align: top;\n",
       "    }\n",
       "\n",
       "    .dataframe thead th {\n",
       "        text-align: right;\n",
       "    }\n",
       "</style>\n",
       "<table border=\"1\" class=\"dataframe\">\n",
       "  <thead>\n",
       "    <tr style=\"text-align: right;\">\n",
       "      <th></th>\n",
       "      <th>R_superX1_ts</th>\n",
       "      <th>R_superX2_ts</th>\n",
       "    </tr>\n",
       "  </thead>\n",
       "  <tbody>\n",
       "    <tr>\n",
       "      <th>bias</th>\n",
       "      <td>0.9</td>\n",
       "      <td>0.95</td>\n",
       "    </tr>\n",
       "    <tr>\n",
       "      <th>X0_ts</th>\n",
       "      <td>NaN</td>\n",
       "      <td>NaN</td>\n",
       "    </tr>\n",
       "    <tr>\n",
       "      <th>X1_ts</th>\n",
       "      <td>NaN</td>\n",
       "      <td>NaN</td>\n",
       "    </tr>\n",
       "  </tbody>\n",
       "</table>\n",
       "</div>"
      ],
      "text/plain": [
       "       R_superX1_ts  R_superX2_ts\n",
       "bias            0.9          0.95\n",
       "X0_ts           NaN           NaN\n",
       "X1_ts           NaN           NaN"
      ]
     },
     "execution_count": 13,
     "metadata": {},
     "output_type": "execute_result"
    }
   ],
   "source": [
    "from afa.data_modelling.missingness.propensity_scores.utils import save_logistic_regression_ps_model_weights, load_logistic_regression_ps_model_weights\n",
    "import numpy as np \n",
    "# weights for ps model \n",
    "weights_df  = pd.DataFrame([[0.9, 0.95],[np.nan, np.nan],[np.nan, np.nan]], \n",
    "                        index   = ['bias', 'X0_ts',  'X1_ts'], \n",
    "                        columns = ['R_superX1_ts', 'R_superX2_ts'])\n",
    "save_logistic_regression_ps_model_weights(weights_df = weights_df,\n",
    "                                          ps_model_weights_file = ps_model_weights_gt_file) \n",
    "weights_df"
   ]
  },
  {
   "cell_type": "markdown",
   "id": "c68c78cd-6098-4cf3-9718-ca2f8dcd9ae4",
   "metadata": {},
   "source": [
    "#### Option 3 (not recommended): Prepared m_graphs and weights \n",
    "Lastly, for specific datasets, the creation can be automatically stored using hard-coded specifications. "
   ]
  },
  {
   "cell_type": "code",
   "execution_count": 14,
   "id": "27973600-3893-4765-8d33-8a937ea8b771",
   "metadata": {},
   "outputs": [],
   "source": [
    "from afa.configurations.data_settings.define_data_settings_ts import generate_m_graphs_and_weights_ts\n",
    "m_graph_adj, weights_df = generate_m_graphs_and_weights_ts( dataset_name , \n",
    "                                                           miss_scenario ,  \n",
    "                                                           data_dir = paths_miss['data_dir'])"
   ]
  },
  {
   "cell_type": "code",
   "execution_count": 15,
   "id": "83481d77-2bbb-408f-9dce-44a52533203c",
   "metadata": {},
   "outputs": [
    {
     "data": {
      "text/html": [
       "<div>\n",
       "<style scoped>\n",
       "    .dataframe tbody tr th:only-of-type {\n",
       "        vertical-align: middle;\n",
       "    }\n",
       "\n",
       "    .dataframe tbody tr th {\n",
       "        vertical-align: top;\n",
       "    }\n",
       "\n",
       "    .dataframe thead th {\n",
       "        text-align: right;\n",
       "    }\n",
       "</style>\n",
       "<table border=\"1\" class=\"dataframe\">\n",
       "  <thead>\n",
       "    <tr style=\"text-align: right;\">\n",
       "      <th></th>\n",
       "      <th>R_superX1_ts</th>\n",
       "      <th>R_superX2_ts</th>\n",
       "    </tr>\n",
       "  </thead>\n",
       "  <tbody>\n",
       "    <tr>\n",
       "      <th>bias</th>\n",
       "      <td>0.9</td>\n",
       "      <td>0.95</td>\n",
       "    </tr>\n",
       "    <tr>\n",
       "      <th>X0_ts</th>\n",
       "      <td>NaN</td>\n",
       "      <td>NaN</td>\n",
       "    </tr>\n",
       "    <tr>\n",
       "      <th>X1_ts</th>\n",
       "      <td>NaN</td>\n",
       "      <td>NaN</td>\n",
       "    </tr>\n",
       "  </tbody>\n",
       "</table>\n",
       "</div>"
      ],
      "text/plain": [
       "       R_superX1_ts  R_superX2_ts\n",
       "bias            0.9          0.95\n",
       "X0_ts           NaN           NaN\n",
       "X1_ts           NaN           NaN"
      ]
     },
     "execution_count": 15,
     "metadata": {},
     "output_type": "execute_result"
    }
   ],
   "source": [
    "weights_df"
   ]
  },
  {
   "cell_type": "markdown",
   "id": "9c0f323b-913c-4e6e-b9d5-e79736bc67cf",
   "metadata": {},
   "source": [
    "### Initialize a Agent (using PropensityScoreModel)"
   ]
  },
  {
   "cell_type": "code",
   "execution_count": 16,
   "id": "2fe440f7-74b9-490c-babd-cd676fa2166e",
   "metadata": {},
   "outputs": [],
   "source": [
    "from afa.data_modelling.missingness.missing_data_graph.utils import load_m_graph_adjacency_matrix\n",
    "from afa.data_modelling.missingness.missing_data_graph.missing_data_graph_ts import MissingDataGraph_ts\n",
    "from afa.data_modelling.models.temporal_models.joint_models.utils import load_joint_model_weights_ts\n",
    "from afa.data_modelling.missingness.propensity_scores.propensity_score_model_ts import PropensityScoreModel_ts\n",
    "from afa.afa_models.afa_agents.afa_mechanism_agents.afa_mechanism_agent_ts import AFAMechanismAgent_ts"
   ]
  },
  {
   "cell_type": "code",
   "execution_count": 17,
   "id": "fb12b015-fcd4-46c9-a4fa-2798f407b0e7",
   "metadata": {},
   "outputs": [
    {
     "data": {
      "image/png": "[encoded data removed]",
      "text/plain": [
       "<Figure size 432x288 with 1 Axes>"
      ]
     },
     "execution_count": 17,
     "metadata": {},
     "output_type": "execute_result"
    },
    {
     "data": {
      "image/png": "[encoded data removed]",
      "text/plain": [
       "<Figure size 432x288 with 1 Axes>"
      ]
     },
     "metadata": {},
     "output_type": "display_data"
    }
   ],
   "source": [
    "# 1. load m_graph \n",
    "m_graph_adj = load_m_graph_adjacency_matrix( m_graph_adj_file = m_graph_adj_gt_file )\n",
    "m_graph     = MissingDataGraph_ts(   m_graph_adj  = m_graph_adj ) \n",
    "\n",
    "# visualize\n",
    "m_graph.plot() "
   ]
  },
  {
   "cell_type": "code",
   "execution_count": 20,
   "id": "5b4d3c4f-4815-4035-9146-1c2de38ce79a",
   "metadata": {},
   "outputs": [
    {
     "name": "stdout",
     "output_type": "stream",
     "text": [
      "Change base_model to stationary_constant\n",
      "Change base_model to stationary_constant\n",
      "Set weight for constant stationary model ...\n",
      "Set weight for constant stationary model ...\n"
     ]
    }
   ],
   "source": [
    "# 2. load weights\n",
    "weights_df = load_logistic_regression_ps_model_weights( ps_model_weights_file = ps_model_weights_gt_file) \n",
    "\n",
    "# 3. initialize params\n",
    "ps_model_params = {}\n",
    "ps_model_params['base_model_params'] = {  'base_model_type': 'stationary_constant',\n",
    "                                          'gt_weights': weights_df}\n",
    "\n",
    "# 4. init ps model\n",
    "ps_model_name = 'ps_model_gt'\n",
    "ps_model = PropensityScoreModel_ts( name            = ps_model_name, \n",
    "                                    m_graph         = m_graph, \n",
    "                                    feature_name    = dataset.feature_name,\n",
    "                                    target_superfeature_names    = dataset.afa_problem.target_superfeature_names,\n",
    "                                    model_params = ps_model_params ) "
   ]
  },
  {
   "cell_type": "code",
   "execution_count": 21,
   "id": "17dcc610-2cee-43f8-b534-a56173edfc45",
   "metadata": {},
   "outputs": [],
   "source": [
    "afa_agent = AFAMechanismAgent_ts(  name      = miss_scenario + '_agent',\n",
    "                                       ps_model  = ps_model \n",
    "                                 )"
   ]
  },
  {
   "cell_type": "markdown",
   "id": "b15716ad-4fe6-4677-b3ab-e0fffe5bf9cd",
   "metadata": {},
   "source": [
    "## Create new dataset using the defined agent"
   ]
  },
  {
   "cell_type": "markdown",
   "id": "4958b8ef-bb87-4931-8c70-dabf64f3ce67",
   "metadata": {},
   "source": [
    "Run the agent as an afa agent over the dataset to create an afa_dataset. Then create a new regular dataset out of it"
   ]
  },
  {
   "cell_type": "code",
   "execution_count": 22,
   "id": "f449c645-8db5-47a7-84f3-d76d9f9c9b9e",
   "metadata": {},
   "outputs": [],
   "source": [
    "from afa.afa_datasets.afa_dataset_ts import AFADataset_ts"
   ]
  },
  {
   "cell_type": "code",
   "execution_count": 23,
   "id": "e849ce84-b6fc-4910-a787-da85a732470d",
   "metadata": {},
   "outputs": [
    {
     "name": "stdout",
     "output_type": "stream",
     "text": [
      "> \u001b[0;32m/mnt/c/Users/henrik.vonkleist/Nextcloud/PhD/Code/Active Feature Acquisition/afa_ts/afa/afa_models/afa_agents/afa_mechanism_agents/afa_mechanism_agent.py\u001b[0m(105)\u001b[0;36mpredict\u001b[0;34m()\u001b[0m\n",
      "\u001b[0;32m    103 \u001b[0;31m\u001b[0;34m\u001b[0m\u001b[0m\n",
      "\u001b[0m\u001b[0;32m    104 \u001b[0;31m        \u001b[0;31m# stack the ids for each sample\u001b[0m\u001b[0;34m\u001b[0m\u001b[0;34m\u001b[0m\u001b[0m\n",
      "\u001b[0m\u001b[0;32m--> 105 \u001b[0;31m        \u001b[0;32mif\u001b[0m \u001b[0mfold\u001b[0m \u001b[0;32mis\u001b[0m \u001b[0;32mnot\u001b[0m \u001b[0;32mNone\u001b[0m\u001b[0;34m:\u001b[0m\u001b[0;34m\u001b[0m\u001b[0;34m\u001b[0m\u001b[0m\n",
      "\u001b[0m\u001b[0;32m    106 \u001b[0;31m            \u001b[0mids\u001b[0m \u001b[0;34m=\u001b[0m \u001b[0mdataset\u001b[0m\u001b[0;34m.\u001b[0m\u001b[0mfold_list\u001b[0m\u001b[0;34m[\u001b[0m\u001b[0mfold\u001b[0m\u001b[0;34m]\u001b[0m\u001b[0;34m[\u001b[0m\u001b[0msplit\u001b[0m\u001b[0;34m]\u001b[0m\u001b[0;34m\u001b[0m\u001b[0;34m\u001b[0m\u001b[0m\n",
      "\u001b[0m\u001b[0;32m    107 \u001b[0;31m        \u001b[0;32melse\u001b[0m\u001b[0;34m:\u001b[0m\u001b[0;34m\u001b[0m\u001b[0;34m\u001b[0m\u001b[0m\n",
      "\u001b[0m\n"
     ]
    },
    {
     "name": "stdin",
     "output_type": "stream",
     "text": [
      "ipdb>  target_superR_hat.shape\n"
     ]
    },
    {
     "name": "stdout",
     "output_type": "stream",
     "text": [
      "(100, 5, 2)\n"
     ]
    },
    {
     "name": "stdin",
     "output_type": "stream",
     "text": [
      "ipdb>  c\n"
     ]
    }
   ],
   "source": [
    "afa_results = afa_agent.predict(dataset, \n",
    "                                ids = None, \n",
    "                                fold = None, \n",
    "                                split = None,  \n",
    "                                n_samples = 1) \n",
    "\n",
    "# create an afa_dataset out of the generated afa_results\n",
    "afa_dataset = AFADataset_ts(  dataset = dataset, model = afa_agent, results = afa_results) \n",
    "\n",
    "# check retrieving data \n",
    "data = afa_dataset.get_data( fold = None, split = None, n_samples = 1) "
   ]
  },
  {
   "cell_type": "code",
   "execution_count": 24,
   "id": "e67e21b3-5eef-4caa-870b-aef9bd49fcdd",
   "metadata": {},
   "outputs": [
    {
     "data": {
      "text/plain": [
       "(100, 5, 2)"
      ]
     },
     "execution_count": 24,
     "metadata": {},
     "output_type": "execute_result"
    }
   ],
   "source": [
    "afa_results['target_superR_hat'].shape"
   ]
  },
  {
   "cell_type": "code",
   "execution_count": 25,
   "id": "96c59dcf-2443-4d51-9692-eaff3a512910",
   "metadata": {},
   "outputs": [],
   "source": [
    "dataset_new =  afa_dataset.create_new_dataset()"
   ]
  },
  {
   "cell_type": "code",
   "execution_count": 29,
   "id": "3d73cb7b-35f2-4036-a440-7445923137a1",
   "metadata": {},
   "outputs": [
    {
     "data": {
      "text/plain": [
       "array([[[-0.91140537, -0.43594493,  0.50770397, -0.13522439],\n",
       "        [-1.14317981, -0.99410169, -0.81507411,  0.01158883],\n",
       "        [-1.29623727,  1.00793038, -0.40707425, -0.35611146],\n",
       "        [-0.56342278,  0.35402442, -0.86859439,  0.77772548],\n",
       "        [-1.98563535,  0.247319  , -0.84770524, -0.4426251 ]],\n",
       "\n",
       "       [[-0.38272243, -0.81769002,  0.04529767, -1.828482  ],\n",
       "        [-0.3344269 , -0.91241673,  0.40901295, -0.77078913],\n",
       "        [ 0.02039003,  1.2712291 ,  0.34958452, -0.66810349],\n",
       "        [ 1.00911272,         nan,         nan,         nan],\n",
       "        [-0.23533937,  1.15918992,  0.03235992, -0.44408282]],\n",
       "\n",
       "       [[-1.13245625,  0.23768286, -0.48013258, -0.58281888],\n",
       "        [ 2.60270959,         nan, -0.23395819, -1.61682981],\n",
       "        [-0.01178085,  2.12967662, -0.27759691, -2.03086582],\n",
       "        [-0.36250259, -0.09920432, -0.17304983, -0.33641764],\n",
       "        [-0.24626094,  0.54084086, -0.08949684, -0.90406583]],\n",
       "\n",
       "       ...,\n",
       "\n",
       "       [[ 1.79020834, -0.68983277,  0.41985061, -0.42167066],\n",
       "        [-0.65147228, -0.3663786 ,  1.09228797,  0.06259722],\n",
       "        [-0.32640609, -0.02670557, -1.07979594,  1.0154148 ],\n",
       "        [-1.13394595, -1.65785929, -0.05734368,  0.77696515],\n",
       "        [-0.41493882,  0.14729727,  1.06252882, -0.86056928]],\n",
       "\n",
       "       [[-0.22563608, -1.00885011, -0.05767216, -2.49226261],\n",
       "        [ 1.27745461,  0.06698714, -0.17438981, -0.2918003 ],\n",
       "        [ 1.29065401, -0.7382206 , -1.12895949,  0.05518723],\n",
       "        [ 1.5395197 , -0.21552348, -1.37660572,  0.30224748],\n",
       "        [ 1.87254752,         nan, -0.1700319 , -0.23504276]],\n",
       "\n",
       "       [[-0.16187769, -2.18010838,  0.20514222, -1.32014353],\n",
       "        [ 0.73396833,  0.76891647, -0.67617136, -1.34634309],\n",
       "        [-0.53788469,  0.20716757, -0.0543209 , -1.33170131],\n",
       "        [ 0.25674513,         nan, -0.24097099, -0.12700732],\n",
       "        [ 0.38950987,  0.76565639,  0.2261402 ,  0.18710578]]])"
      ]
     },
     "execution_count": 29,
     "metadata": {},
     "output_type": "execute_result"
    }
   ],
   "source": [
    "dataset_new.temporal_feature"
   ]
  },
  {
   "cell_type": "markdown",
   "id": "3f070900-2e05-473b-9e11-9593363312c7",
   "metadata": {},
   "source": [
    "## Visualize newly created missingness "
   ]
  },
  {
   "cell_type": "code",
   "execution_count": 31,
   "id": "ba91e063-b841-49e2-ad94-8fa2a3196fc7",
   "metadata": {},
   "outputs": [
    {
     "data": {
      "image/png": "[encoded data removed]",
      "text/plain": [
       "<Figure size 576x1440 with 5 Axes>"
      ]
     },
     "metadata": {
      "needs_background": "light"
     },
     "output_type": "display_data"
    }
   ],
   "source": [
    "fig = dataset_new.plot_missingness_stats()"
   ]
  },
  {
   "cell_type": "markdown",
   "id": "3aed3069-fb9b-4255-a131-ccb679221c99",
   "metadata": {},
   "source": [
    "## Add the ground truth propensity score to the dataset"
   ]
  },
  {
   "cell_type": "markdown",
   "id": "5846ae35-dd97-456c-a89a-cd1196845ee8",
   "metadata": {},
   "source": [
    "For comparison reasons we might be interested in the ground truth propensity score and add it back to dataset_new "
   ]
  },
  {
   "cell_type": "code",
   "execution_count": 32,
   "id": "976dfca1-c99a-4f38-8352-7baa5a6779e5",
   "metadata": {},
   "outputs": [],
   "source": [
    "from afa.data_modelling.missingness.missingness_model import MissingnessModel"
   ]
  },
  {
   "cell_type": "code",
   "execution_count": 33,
   "id": "769f9505-a10f-43bb-82d9-855890af14fd",
   "metadata": {},
   "outputs": [],
   "source": [
    "# compute ps values\n",
    "ps_values, ps_values_1 = ps_model.predict(dataset_new)"
   ]
  },
  {
   "cell_type": "code",
   "execution_count": 34,
   "id": "1ba88360-18f9-4ccb-bf7d-4e0d82310459",
   "metadata": {},
   "outputs": [],
   "source": [
    "# init miss_model in dataset\n",
    "miss_model = MissingnessModel(m_graph)\n",
    "dataset_new.miss_model = miss_model "
   ]
  },
  {
   "cell_type": "code",
   "execution_count": 35,
   "id": "a26f026d-9dc7-45b4-a30e-34384c3d624d",
   "metadata": {},
   "outputs": [],
   "source": [
    "# add to dataset\n",
    "dataset_new.miss_model.add_ps_values( ps_model_name , \n",
    "                                      ps_values = ps_values, \n",
    "                                      ps_values_1 = ps_values_1 )"
   ]
  },
  {
   "cell_type": "markdown",
   "id": "cf14cc65-7119-488b-b488-93347fd15871",
   "metadata": {},
   "source": [
    "## Save the new dataset"
   ]
  },
  {
   "cell_type": "code",
   "execution_count": 36,
   "id": "0446da14-a339-485f-8fda-888c36dde579",
   "metadata": {},
   "outputs": [],
   "source": [
    "dataset_new.save( data_dir = paths_miss['data_dir'], \n",
    "                  dataset_name = dataset_name + '_' + miss_scenario, \n",
    "                  save_folds = True) "
   ]
  },
  {
   "cell_type": "code",
   "execution_count": 37,
   "id": "a2d85fe4-55d1-465e-9c51-36f7bdc6e123",
   "metadata": {},
   "outputs": [],
   "source": [
    "dataset_new.miss_model.save(paths_miss['data_dir'])"
   ]
  },
  {
   "cell_type": "markdown",
   "id": "febf5c68-87ab-42ab-9270-a1320ee59985",
   "metadata": {},
   "source": [
    "## Reporting: summarize the whole dataset (with missingness) \n",
    "Store information in reports folder in latex / markdown format."
   ]
  },
  {
   "cell_type": "code",
   "execution_count": 38,
   "id": "786965fe-9b81-45e4-b6f1-7dd2eedce1cf",
   "metadata": {},
   "outputs": [
    {
     "data": {
      "image/png": "[encoded data removed]",
      "text/plain": [
       "<Figure size 576x1440 with 5 Axes>"
      ]
     },
     "metadata": {
      "needs_background": "light"
     },
     "output_type": "display_data"
    },
    {
     "data": {
      "image/png": "[encoded data removed]",
      "text/plain": [
       "<Figure size 432x288 with 1 Axes>"
      ]
     },
     "metadata": {},
     "output_type": "display_data"
    }
   ],
   "source": [
    "# reporting\n",
    "explanation_file = paths_miss['data_dir'] + 'dataset_report'\n",
    "dataset_new.explain(file=  explanation_file + '.md', format = 'markdown')\n",
    "# dataset_new.explain(file=  explanation_file + '.tex', format = 'latex')"
   ]
  },
  {
   "cell_type": "code",
   "execution_count": null,
   "id": "3939a176-5151-4330-b2df-6753085e3b72",
   "metadata": {},
   "outputs": [],
   "source": []
  }
 ],
 "metadata": {
  "kernelspec": {
   "display_name": "afa_env",
   "language": "python",
   "name": "afa_env"
  },
  "language_info": {
   "codemirror_mode": {
    "name": "ipython",
    "version": 3
   },
   "file_extension": ".py",
   "mimetype": "text/x-python",
   "name": "python",
   "nbconvert_exporter": "python",
   "pygments_lexer": "ipython3",
   "version": "3.10.8"
  },
  "toc": {
   "base_numbering": 1,
   "nav_menu": {},
   "number_sections": true,
   "sideBar": true,
   "skip_h1_title": false,
   "title_cell": "Table of Contents",
   "title_sidebar": "Contents",
   "toc_cell": false,
   "toc_position": {
    "height": "calc(100% - 180px)",
    "left": "10px",
    "top": "150px",
    "width": "297px"
   },
   "toc_section_display": true,
   "toc_window_display": true
  },
  "varInspector": {
   "cols": {
    "lenName": 16,
    "lenType": 16,
    "lenVar": 40
   },
   "kernels_config": {
    "python": {
     "delete_cmd_postfix": "",
     "delete_cmd_prefix": "del ",
     "library": "var_list.py",
     "varRefreshCmd": "print(var_dic_list())"
    },
    "r": {
     "delete_cmd_postfix": ") ",
     "delete_cmd_prefix": "rm(",
     "library": "var_list.r",
     "varRefreshCmd": "cat(var_dic_list()) "
    }
   },
   "types_to_exclude": [
    "module",
    "function",
    "builtin_function_or_method",
    "instance",
    "_Feature"
   ],
   "window_display": false
  }
 },
 "nbformat": 4,
 "nbformat_minor": 5
}
