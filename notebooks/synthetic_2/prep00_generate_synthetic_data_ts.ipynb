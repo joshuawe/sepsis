{
 "cells": [
  {
   "attachments": {},
   "cell_type": "markdown",
   "id": "738d755b",
   "metadata": {},
   "source": [
    "\n",
    "# (0) Generate a synthetic static dataset"
   ]
  },
  {
   "cell_type": "markdown",
   "id": "0d7cd1d6-a92c-428c-a091-05d2ae4cd7d8",
   "metadata": {
    "tags": []
   },
   "source": [
    "Generate a synthetic dataset with \n",
    "- features X\n",
    "- temporal features X_ts\n",
    "- label Y \n",
    "\n",
    "Note: data is stored in the folder \"../../../data/ts/\" + dataset relativ to this directory"
   ]
  },
  {
   "cell_type": "code",
   "execution_count": 1,
   "id": "83ebac83-5b5c-45e0-997c-1dc4edfc7cb4",
   "metadata": {},
   "outputs": [],
   "source": [
    "%load_ext autoreload\n",
    "%autoreload 2"
   ]
  },
  {
   "cell_type": "markdown",
   "id": "a1238f97-f069-4d54-8de3-080e4e98f948",
   "metadata": {},
   "source": [
    "### Define paths "
   ]
  },
  {
   "cell_type": "code",
   "execution_count": 2,
   "id": "4e736192-d821-4035-9908-477bafb53859",
   "metadata": {},
   "outputs": [],
   "source": [
    "# which dataset to work on \n",
    "dataset_name   = \"synthetic_2\""
   ]
  },
  {
   "cell_type": "code",
   "execution_count": 3,
   "id": "327594a1-9fb5-4099-919a-abf2ffd341cc",
   "metadata": {},
   "outputs": [],
   "source": [
    "# data specifications \n",
    "data_dir            = \"../../../data/ts/\" + dataset_name + \"/fully_observed/\" "
   ]
  },
  {
   "cell_type": "markdown",
   "id": "f2c96fe7",
   "metadata": {},
   "source": [
    "## Data Generation"
   ]
  },
  {
   "cell_type": "code",
   "execution_count": 4,
   "id": "315db0b5-ece3-4dd5-ab87-2bddc82d399d",
   "metadata": {},
   "outputs": [],
   "source": [
    "from afa.data_modelling.datasets.synthetic_data_generation.data_generator_ts import DataGenerator_ts"
   ]
  },
  {
   "cell_type": "code",
   "execution_count": 5,
   "id": "2f04874b-e0b7-466d-9fab-1be1d0423312",
   "metadata": {},
   "outputs": [],
   "source": [
    "data_generator = DataGenerator_ts(\n",
    "                        data_dir           = data_dir,  \n",
    "                        dataset_name       = dataset_name , \n",
    "                        n_datapts          = 2000, \n",
    "                        test_size          = 0,\n",
    "                        n_features_static  = 1,\n",
    "                        n_features_ts      = 4, \n",
    "                        n_timepts          = 50,\n",
    "                        table_style        = \"EAV\",\n",
    "                        compression        = 'gzip',\n",
    "                        n_classes          = 2)"
   ]
  },
  {
   "cell_type": "code",
   "execution_count": 6,
   "id": "4e817462-660e-432b-8f99-cd3930f15a0d",
   "metadata": {},
   "outputs": [],
   "source": [
    "df_static_train, df_ts_train, df_static_test, df_ts_test  = data_generator.generate_data()"
   ]
  },
  {
   "cell_type": "markdown",
   "id": "acf3349a-cdf2-4fd7-98f8-050456ab1c34",
   "metadata": {},
   "source": [
    "## Load data\n",
    "Check if data was saved correctly and can be loaded "
   ]
  },
  {
   "cell_type": "code",
   "execution_count": 7,
   "id": "acfb8d13-d8e3-4143-b462-89d2ca3d26d7",
   "metadata": {},
   "outputs": [
    {
     "name": "stderr",
     "output_type": "stream",
     "text": [
      "2023-03-21 11:17:05.822448: I tensorflow/core/platform/cpu_feature_guard.cc:193] This TensorFlow binary is optimized with oneAPI Deep Neural Network Library (oneDNN) to use the following CPU instructions in performance-critical operations:  AVX2 FMA\n",
      "To enable them in other operations, rebuild TensorFlow with the appropriate compiler flags.\n",
      "2023-03-21 11:17:05.910614: W tensorflow/compiler/xla/stream_executor/platform/default/dso_loader.cc:64] Could not load dynamic library 'libcudart.so.11.0'; dlerror: libcudart.so.11.0: cannot open shared object file: No such file or directory\n",
      "2023-03-21 11:17:05.910630: I tensorflow/compiler/xla/stream_executor/cuda/cudart_stub.cc:29] Ignore above cudart dlerror if you do not have a GPU set up on your machine.\n",
      "2023-03-21 11:17:20.856627: W tensorflow/compiler/xla/stream_executor/platform/default/dso_loader.cc:64] Could not load dynamic library 'libnvinfer.so.7'; dlerror: libnvinfer.so.7: cannot open shared object file: No such file or directory\n",
      "2023-03-21 11:17:20.856684: W tensorflow/compiler/xla/stream_executor/platform/default/dso_loader.cc:64] Could not load dynamic library 'libnvinfer_plugin.so.7'; dlerror: libnvinfer_plugin.so.7: cannot open shared object file: No such file or directory\n",
      "2023-03-21 11:17:20.856690: W tensorflow/compiler/tf2tensorrt/utils/py_utils.cc:38] TF-TRT Warning: Cannot dlopen some TensorRT libraries. If you would like to use Nvidia GPU with TensorRT, please make sure the missing libraries mentioned above are installed properly.\n"
     ]
    }
   ],
   "source": [
    "from afa.data_modelling.datasets.data_loader.data_loader_ts import DataLoader_ts"
   ]
  },
  {
   "cell_type": "code",
   "execution_count": 8,
   "id": "0084fc65-ec37-4ea7-a0cc-8ccd894a8658",
   "metadata": {},
   "outputs": [],
   "source": [
    "data_file          = data_dir + dataset_name + '_static.csv.gz' \n",
    "temporal_data_file = data_dir + dataset_name + '_ts_eav.csv.gz' \n",
    "superfeature_mapping_file = None\n",
    "\n",
    "data_loader = DataLoader_ts( data_file                  = data_file,\n",
    "                             temporal_data_file         = temporal_data_file,\n",
    "                             superfeature_mapping_file  = superfeature_mapping_file )\n",
    "\n",
    "dataset = data_loader.load() "
   ]
  },
  {
   "cell_type": "code",
   "execution_count": 9,
   "id": "0f5036b5-61f9-4bb8-8938-ae240864a50a",
   "metadata": {},
   "outputs": [
    {
     "data": {
      "text/html": [
       "<div>\n",
       "<style scoped>\n",
       "    .dataframe tbody tr th:only-of-type {\n",
       "        vertical-align: middle;\n",
       "    }\n",
       "\n",
       "    .dataframe tbody tr th {\n",
       "        vertical-align: top;\n",
       "    }\n",
       "\n",
       "    .dataframe thead th {\n",
       "        text-align: right;\n",
       "    }\n",
       "</style>\n",
       "<table border=\"1\" class=\"dataframe\">\n",
       "  <thead>\n",
       "    <tr style=\"text-align: right;\">\n",
       "      <th>variable</th>\n",
       "      <th>id</th>\n",
       "      <th>time</th>\n",
       "      <th>X0_ts</th>\n",
       "      <th>X1_ts</th>\n",
       "      <th>X2_ts</th>\n",
       "      <th>X3_ts</th>\n",
       "      <th>Y_ts</th>\n",
       "    </tr>\n",
       "  </thead>\n",
       "  <tbody>\n",
       "    <tr>\n",
       "      <th>0</th>\n",
       "      <td>0</td>\n",
       "      <td>0</td>\n",
       "      <td>-0.504205</td>\n",
       "      <td>0.713320</td>\n",
       "      <td>0.543657</td>\n",
       "      <td>0.006903</td>\n",
       "      <td>0.0</td>\n",
       "    </tr>\n",
       "    <tr>\n",
       "      <th>1</th>\n",
       "      <td>0</td>\n",
       "      <td>1</td>\n",
       "      <td>-1.078681</td>\n",
       "      <td>0.547127</td>\n",
       "      <td>0.839031</td>\n",
       "      <td>-0.176253</td>\n",
       "      <td>0.0</td>\n",
       "    </tr>\n",
       "    <tr>\n",
       "      <th>2</th>\n",
       "      <td>0</td>\n",
       "      <td>2</td>\n",
       "      <td>0.446764</td>\n",
       "      <td>-0.208496</td>\n",
       "      <td>0.550235</td>\n",
       "      <td>-0.832454</td>\n",
       "      <td>0.0</td>\n",
       "    </tr>\n",
       "    <tr>\n",
       "      <th>3</th>\n",
       "      <td>0</td>\n",
       "      <td>3</td>\n",
       "      <td>1.347463</td>\n",
       "      <td>0.181738</td>\n",
       "      <td>0.630574</td>\n",
       "      <td>0.063319</td>\n",
       "      <td>0.0</td>\n",
       "    </tr>\n",
       "    <tr>\n",
       "      <th>4</th>\n",
       "      <td>0</td>\n",
       "      <td>4</td>\n",
       "      <td>0.027169</td>\n",
       "      <td>0.674259</td>\n",
       "      <td>-0.109590</td>\n",
       "      <td>-0.059911</td>\n",
       "      <td>0.0</td>\n",
       "    </tr>\n",
       "    <tr>\n",
       "      <th>...</th>\n",
       "      <td>...</td>\n",
       "      <td>...</td>\n",
       "      <td>...</td>\n",
       "      <td>...</td>\n",
       "      <td>...</td>\n",
       "      <td>...</td>\n",
       "      <td>...</td>\n",
       "    </tr>\n",
       "    <tr>\n",
       "      <th>99995</th>\n",
       "      <td>1999</td>\n",
       "      <td>45</td>\n",
       "      <td>-0.526578</td>\n",
       "      <td>-1.155559</td>\n",
       "      <td>0.323330</td>\n",
       "      <td>0.003595</td>\n",
       "      <td>1.0</td>\n",
       "    </tr>\n",
       "    <tr>\n",
       "      <th>99996</th>\n",
       "      <td>1999</td>\n",
       "      <td>46</td>\n",
       "      <td>0.687887</td>\n",
       "      <td>0.100261</td>\n",
       "      <td>1.642386</td>\n",
       "      <td>0.423817</td>\n",
       "      <td>0.0</td>\n",
       "    </tr>\n",
       "    <tr>\n",
       "      <th>99997</th>\n",
       "      <td>1999</td>\n",
       "      <td>47</td>\n",
       "      <td>0.782064</td>\n",
       "      <td>1.778468</td>\n",
       "      <td>-0.406455</td>\n",
       "      <td>-1.452343</td>\n",
       "      <td>0.0</td>\n",
       "    </tr>\n",
       "    <tr>\n",
       "      <th>99998</th>\n",
       "      <td>1999</td>\n",
       "      <td>48</td>\n",
       "      <td>-0.594470</td>\n",
       "      <td>0.817426</td>\n",
       "      <td>0.168355</td>\n",
       "      <td>-0.549674</td>\n",
       "      <td>0.0</td>\n",
       "    </tr>\n",
       "    <tr>\n",
       "      <th>99999</th>\n",
       "      <td>1999</td>\n",
       "      <td>49</td>\n",
       "      <td>0.359693</td>\n",
       "      <td>0.300567</td>\n",
       "      <td>0.599232</td>\n",
       "      <td>-0.017969</td>\n",
       "      <td>0.0</td>\n",
       "    </tr>\n",
       "  </tbody>\n",
       "</table>\n",
       "<p>100000 rows × 7 columns</p>\n",
       "</div>"
      ],
      "text/plain": [
       "variable    id  time     X0_ts     X1_ts     X2_ts     X3_ts  Y_ts\n",
       "0            0     0 -0.504205  0.713320  0.543657  0.006903   0.0\n",
       "1            0     1 -1.078681  0.547127  0.839031 -0.176253   0.0\n",
       "2            0     2  0.446764 -0.208496  0.550235 -0.832454   0.0\n",
       "3            0     3  1.347463  0.181738  0.630574  0.063319   0.0\n",
       "4            0     4  0.027169  0.674259 -0.109590 -0.059911   0.0\n",
       "...        ...   ...       ...       ...       ...       ...   ...\n",
       "99995     1999    45 -0.526578 -1.155559  0.323330  0.003595   1.0\n",
       "99996     1999    46  0.687887  0.100261  1.642386  0.423817   0.0\n",
       "99997     1999    47  0.782064  1.778468 -0.406455 -1.452343   0.0\n",
       "99998     1999    48 -0.594470  0.817426  0.168355 -0.549674   0.0\n",
       "99999     1999    49  0.359693  0.300567  0.599232 -0.017969   0.0\n",
       "\n",
       "[100000 rows x 7 columns]"
      ]
     },
     "execution_count": 9,
     "metadata": {},
     "output_type": "execute_result"
    }
   ],
   "source": [
    "# visualize pandas dataframe for static data: \n",
    "dataset.temporal_data"
   ]
  },
  {
   "cell_type": "markdown",
   "id": "4739aae3-8cbe-40e9-8fb6-5a0fa2bc6f55",
   "metadata": {},
   "source": [
    "## Define problem\n",
    "Check if problem definition works, see more in the `preparation01` tutorial"
   ]
  },
  {
   "cell_type": "code",
   "execution_count": 10,
   "id": "3a4b4222-bae3-452b-ace9-ec620089cbfc",
   "metadata": {},
   "outputs": [],
   "source": [
    "from afa.data_modelling.problem.problem_ts import ProblemMaker_ts"
   ]
  },
  {
   "cell_type": "code",
   "execution_count": 11,
   "id": "f1a2a90b-bd16-40e3-acf9-acfa1883a2bc",
   "metadata": {},
   "outputs": [
    {
     "name": "stderr",
     "output_type": "stream",
     "text": [
      "100%|██████████| 2000/2000 [00:01<00:00, 1674.22it/s]\n",
      "100%|██████████| 2000/2000 [00:01<00:00, 1929.33it/s]\n",
      "100%|██████████| 2000/2000 [00:01<00:00, 1794.32it/s]\n"
     ]
    }
   ],
   "source": [
    "# define problem specifications\n",
    "label_name = 'Y_ts'\n",
    "problem = 'online'\n",
    "treatment = None\n",
    "max_seq_len = 50\n",
    "\n",
    "problem_maker = ProblemMaker_ts(    problem    = problem, \n",
    "                                    label      = [label_name], \n",
    "                                    treatment  = treatment, \n",
    "                                    max_seq_len = max_seq_len)\n",
    "\n",
    "dataset  = problem_maker.fit_transform(dataset)"
   ]
  },
  {
   "cell_type": "code",
   "execution_count": 12,
   "id": "607c9818-69b6-48bd-a8b3-a31da1026efe",
   "metadata": {},
   "outputs": [
    {
     "data": {
      "text/plain": [
       "{'temporal': ['X0_ts', 'X1_ts', 'X2_ts', 'X3_ts'],\n",
       " 'data': ['X0', 'Y'],\n",
       " 'treatment': None,\n",
       " 'label': ['Y_ts'],\n",
       " 'super_data': ['Y', 'X0'],\n",
       " 'super_temporal': ['X3_ts', 'X2_ts', 'X0_ts', 'X1_ts']}"
      ]
     },
     "execution_count": 12,
     "metadata": {},
     "output_type": "execute_result"
    }
   ],
   "source": [
    "# check if features/superfeatures/labels etc have been correctly assigned \n",
    "dataset.feature_name"
   ]
  },
  {
   "cell_type": "markdown",
   "id": "1e6cd16e-76d3-47d8-b203-2104513df812",
   "metadata": {},
   "source": [
    "## Explain the synthetic data generation process\n",
    "Store information in reports folder in latex / markdown format"
   ]
  },
  {
   "cell_type": "code",
   "execution_count": 13,
   "id": "de48c4fa-2a08-4dd0-a672-bf94289430a0",
   "metadata": {},
   "outputs": [
    {
     "ename": "FileNotFoundError",
     "evalue": "[Errno 2] No such file or directory: 'pandoc'",
     "output_type": "error",
     "traceback": [
      "\u001b[0;31m---------------------------------------------------------------------------\u001b[0m",
      "\u001b[0;31mFileNotFoundError\u001b[0m                         Traceback (most recent call last)",
      "Cell \u001b[0;32mIn[13], line 2\u001b[0m\n\u001b[1;32m      1\u001b[0m explanation_file \u001b[39m=\u001b[39m data_dir \u001b[39m+\u001b[39m \u001b[39m'\u001b[39m\u001b[39msynthetic_data_report\u001b[39m\u001b[39m'\u001b[39m\n\u001b[0;32m----> 2\u001b[0m data_generator\u001b[39m.\u001b[39;49mexplain(file\u001b[39m=\u001b[39;49m explanation_file \u001b[39m+\u001b[39;49m \u001b[39m'\u001b[39;49m\u001b[39m.md\u001b[39;49m\u001b[39m'\u001b[39;49m  , \u001b[39mformat\u001b[39;49m\u001b[39m=\u001b[39;49m\u001b[39m'\u001b[39;49m\u001b[39mmarkdown\u001b[39;49m\u001b[39m'\u001b[39;49m)\n\u001b[1;32m      3\u001b[0m \u001b[39m# data_generator.explain(file= explanation_file + '.tex'  , format='latex')\u001b[39;00m\n",
      "File \u001b[0;32m~/Documents/afa_ts/afa/data_modelling/reporting/explainable.py:58\u001b[0m, in \u001b[0;36mExplainable.explain\u001b[0;34m(self, stream, file, format)\u001b[0m\n\u001b[1;32m     56\u001b[0m \u001b[39mself\u001b[39m\u001b[39m.\u001b[39m_write_latex(buffer, file)\n\u001b[1;32m     57\u001b[0m \u001b[39m# Convert the LaTeX output to the specified format using Pandoc\u001b[39;00m\n\u001b[0;32m---> 58\u001b[0m p \u001b[39m=\u001b[39m subprocess\u001b[39m.\u001b[39;49mrun([\u001b[39m'\u001b[39;49m\u001b[39mpandoc\u001b[39;49m\u001b[39m'\u001b[39;49m, \u001b[39m'\u001b[39;49m\u001b[39m--from\u001b[39;49m\u001b[39m'\u001b[39;49m, \u001b[39m'\u001b[39;49m\u001b[39mlatex\u001b[39;49m\u001b[39m'\u001b[39;49m, \u001b[39m'\u001b[39;49m\u001b[39m--to\u001b[39;49m\u001b[39m'\u001b[39;49m, \u001b[39mformat\u001b[39;49m],\n\u001b[1;32m     59\u001b[0m                    \u001b[39minput\u001b[39;49m\u001b[39m=\u001b[39;49mbuffer\u001b[39m.\u001b[39;49mgetvalue(), capture_output\u001b[39m=\u001b[39;49m\u001b[39mTrue\u001b[39;49;00m, text\u001b[39m=\u001b[39;49m\u001b[39mTrue\u001b[39;49;00m)\n\u001b[1;32m     60\u001b[0m \u001b[39m# Write the converted output to the specified stream or file\u001b[39;00m\n\u001b[1;32m     61\u001b[0m \u001b[39mif\u001b[39;00m stream \u001b[39mis\u001b[39;00m \u001b[39mnot\u001b[39;00m \u001b[39mNone\u001b[39;00m:\n",
      "File \u001b[0;32m/usr/lib/python3.8/subprocess.py:493\u001b[0m, in \u001b[0;36mrun\u001b[0;34m(input, capture_output, timeout, check, *popenargs, **kwargs)\u001b[0m\n\u001b[1;32m    490\u001b[0m     kwargs[\u001b[39m'\u001b[39m\u001b[39mstdout\u001b[39m\u001b[39m'\u001b[39m] \u001b[39m=\u001b[39m PIPE\n\u001b[1;32m    491\u001b[0m     kwargs[\u001b[39m'\u001b[39m\u001b[39mstderr\u001b[39m\u001b[39m'\u001b[39m] \u001b[39m=\u001b[39m PIPE\n\u001b[0;32m--> 493\u001b[0m \u001b[39mwith\u001b[39;00m Popen(\u001b[39m*\u001b[39;49mpopenargs, \u001b[39m*\u001b[39;49m\u001b[39m*\u001b[39;49mkwargs) \u001b[39mas\u001b[39;00m process:\n\u001b[1;32m    494\u001b[0m     \u001b[39mtry\u001b[39;00m:\n\u001b[1;32m    495\u001b[0m         stdout, stderr \u001b[39m=\u001b[39m process\u001b[39m.\u001b[39mcommunicate(\u001b[39minput\u001b[39m, timeout\u001b[39m=\u001b[39mtimeout)\n",
      "File \u001b[0;32m/usr/lib/python3.8/subprocess.py:858\u001b[0m, in \u001b[0;36mPopen.__init__\u001b[0;34m(self, args, bufsize, executable, stdin, stdout, stderr, preexec_fn, close_fds, shell, cwd, env, universal_newlines, startupinfo, creationflags, restore_signals, start_new_session, pass_fds, encoding, errors, text)\u001b[0m\n\u001b[1;32m    854\u001b[0m         \u001b[39mif\u001b[39;00m \u001b[39mself\u001b[39m\u001b[39m.\u001b[39mtext_mode:\n\u001b[1;32m    855\u001b[0m             \u001b[39mself\u001b[39m\u001b[39m.\u001b[39mstderr \u001b[39m=\u001b[39m io\u001b[39m.\u001b[39mTextIOWrapper(\u001b[39mself\u001b[39m\u001b[39m.\u001b[39mstderr,\n\u001b[1;32m    856\u001b[0m                     encoding\u001b[39m=\u001b[39mencoding, errors\u001b[39m=\u001b[39merrors)\n\u001b[0;32m--> 858\u001b[0m     \u001b[39mself\u001b[39;49m\u001b[39m.\u001b[39;49m_execute_child(args, executable, preexec_fn, close_fds,\n\u001b[1;32m    859\u001b[0m                         pass_fds, cwd, env,\n\u001b[1;32m    860\u001b[0m                         startupinfo, creationflags, shell,\n\u001b[1;32m    861\u001b[0m                         p2cread, p2cwrite,\n\u001b[1;32m    862\u001b[0m                         c2pread, c2pwrite,\n\u001b[1;32m    863\u001b[0m                         errread, errwrite,\n\u001b[1;32m    864\u001b[0m                         restore_signals, start_new_session)\n\u001b[1;32m    865\u001b[0m \u001b[39mexcept\u001b[39;00m:\n\u001b[1;32m    866\u001b[0m     \u001b[39m# Cleanup if the child failed starting.\u001b[39;00m\n\u001b[1;32m    867\u001b[0m     \u001b[39mfor\u001b[39;00m f \u001b[39min\u001b[39;00m \u001b[39mfilter\u001b[39m(\u001b[39mNone\u001b[39;00m, (\u001b[39mself\u001b[39m\u001b[39m.\u001b[39mstdin, \u001b[39mself\u001b[39m\u001b[39m.\u001b[39mstdout, \u001b[39mself\u001b[39m\u001b[39m.\u001b[39mstderr)):\n",
      "File \u001b[0;32m/usr/lib/python3.8/subprocess.py:1704\u001b[0m, in \u001b[0;36mPopen._execute_child\u001b[0;34m(self, args, executable, preexec_fn, close_fds, pass_fds, cwd, env, startupinfo, creationflags, shell, p2cread, p2cwrite, c2pread, c2pwrite, errread, errwrite, restore_signals, start_new_session)\u001b[0m\n\u001b[1;32m   1702\u001b[0m     \u001b[39mif\u001b[39;00m errno_num \u001b[39m!=\u001b[39m \u001b[39m0\u001b[39m:\n\u001b[1;32m   1703\u001b[0m         err_msg \u001b[39m=\u001b[39m os\u001b[39m.\u001b[39mstrerror(errno_num)\n\u001b[0;32m-> 1704\u001b[0m     \u001b[39mraise\u001b[39;00m child_exception_type(errno_num, err_msg, err_filename)\n\u001b[1;32m   1705\u001b[0m \u001b[39mraise\u001b[39;00m child_exception_type(err_msg)\n",
      "\u001b[0;31mFileNotFoundError\u001b[0m: [Errno 2] No such file or directory: 'pandoc'"
     ]
    }
   ],
   "source": [
    "explanation_file = data_dir + 'synthetic_data_report'\n",
    "data_generator.explain(file= explanation_file + '.md'  , format='markdown')\n",
    "# data_generator.explain(file= explanation_file + '.tex'  , format='latex')"
   ]
  },
  {
   "cell_type": "code",
   "execution_count": null,
   "id": "090171c4",
   "metadata": {},
   "outputs": [],
   "source": []
  },
  {
   "cell_type": "code",
   "execution_count": null,
   "id": "e9a38e31",
   "metadata": {},
   "outputs": [],
   "source": []
  },
  {
   "cell_type": "code",
   "execution_count": null,
   "id": "7aeb81f8-9bb8-4bf3-bcfe-07c9d393b66d",
   "metadata": {},
   "outputs": [],
   "source": []
  }
 ],
 "metadata": {
  "kernelspec": {
   "display_name": "afa_env",
   "language": "python",
   "name": "python3"
  },
  "language_info": {
   "codemirror_mode": {
    "name": "ipython",
    "version": 3
   },
   "file_extension": ".py",
   "mimetype": "text/x-python",
   "name": "python",
   "nbconvert_exporter": "python",
   "pygments_lexer": "ipython3",
   "version": "3.8.10"
  },
  "toc": {
   "base_numbering": 1,
   "nav_menu": {},
   "number_sections": true,
   "sideBar": true,
   "skip_h1_title": false,
   "title_cell": "Table of Contents",
   "title_sidebar": "Contents",
   "toc_cell": false,
   "toc_position": {
    "height": "calc(100% - 180px)",
    "left": "10px",
    "top": "150px",
    "width": "282px"
   },
   "toc_section_display": true,
   "toc_window_display": true
  },
  "varInspector": {
   "cols": {
    "lenName": 16,
    "lenType": 16,
    "lenVar": 40
   },
   "kernels_config": {
    "python": {
     "delete_cmd_postfix": "",
     "delete_cmd_prefix": "del ",
     "library": "var_list.py",
     "varRefreshCmd": "print(var_dic_list())"
    },
    "r": {
     "delete_cmd_postfix": ") ",
     "delete_cmd_prefix": "rm(",
     "library": "var_list.r",
     "varRefreshCmd": "cat(var_dic_list()) "
    }
   },
   "oldHeight": 713.852,
   "position": {
    "height": "40px",
    "left": "1650px",
    "right": "20px",
    "top": "120px",
    "width": "250px"
   },
   "types_to_exclude": [
    "module",
    "function",
    "builtin_function_or_method",
    "instance",
    "_Feature"
   ],
   "varInspector_section_display": "none",
   "window_display": true
  },
  "vscode": {
   "interpreter": {
    "hash": "c7b4046880187643253f6628bf550833ec82b05e290730cdc21121f8b3319a95"
   }
  }
 },
 "nbformat": 4,
 "nbformat_minor": 5
}
