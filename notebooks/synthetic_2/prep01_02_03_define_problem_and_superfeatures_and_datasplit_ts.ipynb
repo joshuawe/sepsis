{
 "cells": [
  {
   "cell_type": "markdown",
   "id": "738d755b",
   "metadata": {},
   "source": [
    "# Define (1) prediction problem, (2) superfeatures and (3) data split"
   ]
  },
  {
   "cell_type": "markdown",
   "id": "0d7cd1d6-a92c-428c-a091-05d2ae4cd7d8",
   "metadata": {
    "tags": []
   },
   "source": [
    "This tutorial shows how to define the prediction problem (what to predict) and the superfeatures (groups of features that are usually missing jointly) for your dataset.\n",
    "\n",
    "Note: Also define a datasplit"
   ]
  },
  {
   "cell_type": "code",
   "execution_count": 1,
   "id": "06b963d0-edd6-46e5-9e7a-a8a5d68f621b",
   "metadata": {},
   "outputs": [],
   "source": [
    "%load_ext autoreload\n",
    "%autoreload 2"
   ]
  },
  {
   "cell_type": "markdown",
   "id": "f69cdcd0-7537-4270-854f-99a1f654bed6",
   "metadata": {},
   "source": [
    "### Define paths "
   ]
  },
  {
   "cell_type": "code",
   "execution_count": 2,
   "id": "0bd2ec3b-f9e9-4e7d-8d50-170c15d550ee",
   "metadata": {},
   "outputs": [],
   "source": [
    "# which dataset to work on \n",
    "dataset_name   = \"synthetic_2\""
   ]
  },
  {
   "cell_type": "code",
   "execution_count": 3,
   "id": "f8e8a6db-a061-4584-8a2d-4774ccff7626",
   "metadata": {},
   "outputs": [],
   "source": [
    "# data specifications \n",
    "data_dir            = \"../../../data/ts/\" + dataset_name + \"/fully_observed/\" \n",
    "data_file          = data_dir + dataset_name + '_static.csv.gz' \n",
    "temporal_data_file = data_dir + dataset_name + '_ts_eav.csv.gz' \n",
    "\n",
    "# file to save problem\n",
    "problem_file = data_dir + 'problem/' + 'problem.yaml'\n",
    "\n",
    "# file to save superfeatures\n",
    "superfeature_mapping_file = data_dir + 'superfeatures.csv'\n",
    "\n",
    "# file for datasplit \n",
    "folds_file = data_dir + 'folds/' + 'fold_list.hkl'"
   ]
  },
  {
   "cell_type": "markdown",
   "id": "bf457065-8f32-4143-abe8-eb8de3f808b7",
   "metadata": {},
   "source": [
    "## Define problem"
   ]
  },
  {
   "cell_type": "markdown",
   "id": "42a5c7a2-f538-4794-8930-b592838133ec",
   "metadata": {},
   "source": [
    "We define the problem, by setting what we want to predict. We save the problem in a .yaml file for faster loading."
   ]
  },
  {
   "cell_type": "code",
   "execution_count": 4,
   "id": "2c57d67d-4bdd-4fee-9dcc-bd597afec56b",
   "metadata": {},
   "outputs": [],
   "source": [
    "from afa.data_modelling.problem.utils import load_problem_specs, save_problem_specs"
   ]
  },
  {
   "cell_type": "code",
   "execution_count": 5,
   "id": "dac5fa39-d563-4866-ab08-9a1c93e76c19",
   "metadata": {},
   "outputs": [],
   "source": [
    "# define problem specifications\n",
    "problem_specs = { 'label_name' : ['Y_ts'], \n",
    "                  'problem'    : 'online',\n",
    "                  'treatment' : None ,\n",
    "                  'max_seq_len' : 50}\n",
    "\n",
    "# save\n",
    "save_problem_specs( problem_specs  = problem_specs , problem_file = problem_file ) "
   ]
  },
  {
   "cell_type": "code",
   "execution_count": 6,
   "id": "7c397bb0-24ee-4d30-a347-4df23f1bc844",
   "metadata": {},
   "outputs": [],
   "source": [
    "problem_specs = load_problem_specs(problem_file = problem_file)\n",
    "problem_specs['treatment']"
   ]
  },
  {
   "cell_type": "markdown",
   "id": "8e66f5f7-f068-42ab-aac2-a50d8527e155",
   "metadata": {},
   "source": [
    "## Define superfeature_mapping"
   ]
  },
  {
   "cell_type": "markdown",
   "id": "743faf11-e1d9-45ed-bcb0-43a0d9345d56",
   "metadata": {},
   "source": [
    "Superfeatures contain multiple features that are usually acquired/ missing jointly. Think e.g. of an image where the image is the superfeature and the pixels are the features.   \n",
    "They are thus especially important for defining the missingness process. \n",
    "If no superfeatures are defined, the default assumption is that every feature is also its own superfeature. \n",
    "\n",
    "Note: The superfeature generation for synthetic data is already included in the preparation00 tutorial. \n",
    "\n",
    "You can test the superfeature mapping by loading the data with the specified file in tutorial_classification_static.ipynb"
   ]
  },
  {
   "cell_type": "markdown",
   "id": "d0ed0f84-9fb1-4840-bef7-f4f8518c7590",
   "metadata": {},
   "source": [
    "### Option 1: Create superfeature mapping directly via a .csv file\n",
    "Fill a .csv file by \n",
    "- listing superfeature names as columnnames\n",
    "- writing the feature names below the corresponding superfeatures (can have different length columns). Make sure the feature names are spelled exactly how you load them in the dataframe "
   ]
  },
  {
   "cell_type": "markdown",
   "id": "fe351046-f008-4dc2-93a5-e926b3b53441",
   "metadata": {},
   "source": [
    "### Option 2: Define them here and save the mapping \n",
    "A second option is to define them as a dictionary and save it. "
   ]
  },
  {
   "cell_type": "code",
   "execution_count": 8,
   "id": "becedc7a-d196-43b0-9396-2254cf7417e4",
   "metadata": {},
   "outputs": [],
   "source": [
    "from afa.data_modelling.datasets.superfeatures.utils import save_name_mapping"
   ]
  },
  {
   "cell_type": "code",
   "execution_count": 9,
   "id": "311329bd-d98a-4711-9acc-712a8ac8c48c",
   "metadata": {},
   "outputs": [],
   "source": [
    "superfeature2feature_name_mapping = \\\n",
    "    { 'superX0' : ['X0'], \n",
    "      'superY'  : ['Y' ], \n",
    "      'superX0_ts' : ['X0_ts'], \n",
    "      'superX1_ts' : ['X1_ts'], \n",
    "      'superX2_ts' : ['X2_ts', 'X3_ts'] }\n",
    "\n",
    "save_name_mapping( superfeature2feature_name_mapping , mapping_file  = superfeature_mapping_file   )  "
   ]
  },
  {
   "cell_type": "markdown",
   "id": "7fd50cb8-f3a2-499f-8a90-f6cd70a9b0ca",
   "metadata": {},
   "source": [
    "### Option 3: Prepared superfeature mappings (not recommended)\n",
    "Lastly, for specific datasets, the superfeature mapping creation can be stored automatically executed. "
   ]
  },
  {
   "cell_type": "code",
   "execution_count": 9,
   "id": "93ed9d65-7c78-4cfc-9cb8-07b3277e2d36",
   "metadata": {},
   "outputs": [
    {
     "name": "stderr",
     "output_type": "stream",
     "text": [
      "2023-03-02 13:48:56.691522: I tensorflow/core/platform/cpu_feature_guard.cc:193] This TensorFlow binary is optimized with oneAPI Deep Neural Network Library (oneDNN) to use the following CPU instructions in performance-critical operations:  AVX2 FMA\n",
      "To enable them in other operations, rebuild TensorFlow with the appropriate compiler flags.\n",
      "2023-03-02 13:49:00.859618: W tensorflow/compiler/xla/stream_executor/platform/default/dso_loader.cc:64] Could not load dynamic library 'libcudart.so.11.0'; dlerror: libcudart.so.11.0: cannot open shared object file: No such file or directory\n",
      "2023-03-02 13:49:00.859644: I tensorflow/compiler/xla/stream_executor/cuda/cudart_stub.cc:29] Ignore above cudart dlerror if you do not have a GPU set up on your machine.\n",
      "2023-03-02 13:49:15.635762: W tensorflow/compiler/xla/stream_executor/platform/default/dso_loader.cc:64] Could not load dynamic library 'libnvinfer.so.7'; dlerror: libnvinfer.so.7: cannot open shared object file: No such file or directory\n",
      "2023-03-02 13:49:15.636817: W tensorflow/compiler/xla/stream_executor/platform/default/dso_loader.cc:64] Could not load dynamic library 'libnvinfer_plugin.so.7'; dlerror: libnvinfer_plugin.so.7: cannot open shared object file: No such file or directory\n",
      "2023-03-02 13:49:15.636828: W tensorflow/compiler/tf2tensorrt/utils/py_utils.cc:38] TF-TRT Warning: Cannot dlopen some TensorRT libraries. If you would like to use Nvidia GPU with TensorRT, please make sure the missing libraries mentioned above are installed properly.\n"
     ]
    }
   ],
   "source": [
    "from afa.configurations.data_settings.define_data_settings_ts import generate_superfeature_mapping_ts\n",
    "superfeature2feature_name_mapping = generate_superfeature_mapping_ts( dataset_name ,  data_dir = data_dir )"
   ]
  },
  {
   "cell_type": "markdown",
   "id": "ba9d6dc3-1d24-40b2-84b0-cf053b29195c",
   "metadata": {},
   "source": [
    "### Test by loading superfeature mapping "
   ]
  },
  {
   "cell_type": "markdown",
   "id": "8e8fdca0-54c5-4017-ab5b-cf65f083261c",
   "metadata": {},
   "source": [
    "#### Test 1: load superfeature mapping by itself "
   ]
  },
  {
   "cell_type": "code",
   "execution_count": 10,
   "id": "0fe526a9-fd5c-41bf-bcb9-21062f7160fd",
   "metadata": {},
   "outputs": [],
   "source": [
    "from afa.data_modelling.datasets.superfeatures.utils import load_superfeature2feature_name_mapping\n",
    "superfeature2feature_name_mapping = load_superfeature2feature_name_mapping( superfeature_mapping_file) "
   ]
  },
  {
   "cell_type": "code",
   "execution_count": 11,
   "id": "f0737e6e-ea75-4696-b5dc-9cc1fb86854a",
   "metadata": {},
   "outputs": [
    {
     "data": {
      "text/plain": [
       "{'superX0': ['X0'],\n",
       " 'superY': ['Y'],\n",
       " 'superX0_ts': ['X0_ts'],\n",
       " 'superX1_ts': ['X1_ts'],\n",
       " 'superX2_ts': ['X2_ts', 'X3_ts']}"
      ]
     },
     "execution_count": 11,
     "metadata": {},
     "output_type": "execute_result"
    }
   ],
   "source": [
    "superfeature2feature_name_mapping"
   ]
  },
  {
   "cell_type": "markdown",
   "id": "14675d04-8b2e-47a0-9e45-21af78a39bc3",
   "metadata": {},
   "source": [
    "## Test: load dataset with problem and superfeature mapping "
   ]
  },
  {
   "cell_type": "code",
   "execution_count": 12,
   "id": "847253f5-375a-4ffd-8b11-228ec8767542",
   "metadata": {},
   "outputs": [
    {
     "name": "stderr",
     "output_type": "stream",
     "text": [
      "2023-03-21 11:21:14.571229: I tensorflow/core/platform/cpu_feature_guard.cc:193] This TensorFlow binary is optimized with oneAPI Deep Neural Network Library (oneDNN) to use the following CPU instructions in performance-critical operations:  AVX2 FMA\n",
      "To enable them in other operations, rebuild TensorFlow with the appropriate compiler flags.\n",
      "2023-03-21 11:21:14.656284: W tensorflow/compiler/xla/stream_executor/platform/default/dso_loader.cc:64] Could not load dynamic library 'libcudart.so.11.0'; dlerror: libcudart.so.11.0: cannot open shared object file: No such file or directory\n",
      "2023-03-21 11:21:14.656298: I tensorflow/compiler/xla/stream_executor/cuda/cudart_stub.cc:29] Ignore above cudart dlerror if you do not have a GPU set up on your machine.\n",
      "2023-03-21 11:21:23.315584: W tensorflow/compiler/xla/stream_executor/platform/default/dso_loader.cc:64] Could not load dynamic library 'libnvinfer.so.7'; dlerror: libnvinfer.so.7: cannot open shared object file: No such file or directory\n",
      "2023-03-21 11:21:23.315641: W tensorflow/compiler/xla/stream_executor/platform/default/dso_loader.cc:64] Could not load dynamic library 'libnvinfer_plugin.so.7'; dlerror: libnvinfer_plugin.so.7: cannot open shared object file: No such file or directory\n",
      "2023-03-21 11:21:23.315646: W tensorflow/compiler/tf2tensorrt/utils/py_utils.cc:38] TF-TRT Warning: Cannot dlopen some TensorRT libraries. If you would like to use Nvidia GPU with TensorRT, please make sure the missing libraries mentioned above are installed properly.\n"
     ]
    }
   ],
   "source": [
    "from afa.data_modelling.datasets.data_loader.data_loader_ts import DataLoader_ts"
   ]
  },
  {
   "cell_type": "code",
   "execution_count": 13,
   "id": "e2dae7db-3ce0-40de-8a7c-d919fb4bd7db",
   "metadata": {},
   "outputs": [
    {
     "name": "stderr",
     "output_type": "stream",
     "text": [
      "100%|██████████| 2000/2000 [00:01<00:00, 1574.06it/s]\n",
      "100%|██████████| 2000/2000 [00:01<00:00, 1827.58it/s]\n",
      "100%|██████████| 2000/2000 [00:01<00:00, 1771.93it/s]\n"
     ]
    }
   ],
   "source": [
    "# load data\n",
    "data_loader = DataLoader_ts( data_file                  = data_file,\n",
    "                             temporal_data_file         = temporal_data_file,\n",
    "                             superfeature_mapping_file  = superfeature_mapping_file,\n",
    "                             problem_file               = problem_file)\n",
    "dataset = data_loader.load() "
   ]
  },
  {
   "cell_type": "code",
   "execution_count": 14,
   "id": "2e036ac1-8536-42ee-a672-35f02160e7a8",
   "metadata": {},
   "outputs": [
    {
     "data": {
      "text/plain": [
       "{'superX0': ['X0'],\n",
       " 'superY': ['Y'],\n",
       " 'superX0_ts': ['X0_ts'],\n",
       " 'superX1_ts': ['X1_ts'],\n",
       " 'superX2_ts': ['X2_ts', 'X3_ts']}"
      ]
     },
     "execution_count": 14,
     "metadata": {},
     "output_type": "execute_result"
    }
   ],
   "source": [
    "# check superfeature mapping\n",
    "dataset.superfeature2feature_name_mapping"
   ]
  },
  {
   "cell_type": "code",
   "execution_count": 15,
   "id": "80840c63-45e6-4983-9018-b028053a587a",
   "metadata": {},
   "outputs": [
    {
     "data": {
      "text/plain": [
       "{'temporal': ['X0_ts', 'X1_ts', 'X2_ts', 'X3_ts'],\n",
       " 'data': ['X0', 'Y'],\n",
       " 'treatment': None,\n",
       " 'label': ['Y_ts'],\n",
       " 'super_data': ['superX0', 'superY'],\n",
       " 'super_temporal': ['superX0_ts', 'superX1_ts', 'superX2_ts']}"
      ]
     },
     "execution_count": 15,
     "metadata": {},
     "output_type": "execute_result"
    }
   ],
   "source": [
    "# check if resulting feature/superfeature names are correct \n",
    "dataset.feature_name"
   ]
  },
  {
   "cell_type": "markdown",
   "id": "bfa1323f-1e61-4f43-b7ac-3935acc2ca6d",
   "metadata": {},
   "source": [
    "## Define data split "
   ]
  },
  {
   "cell_type": "code",
   "execution_count": 16,
   "id": "6a9f46eb-2a45-4036-b4e0-e9633fa8b54a",
   "metadata": {},
   "outputs": [],
   "source": [
    "# define the datasplit \n",
    "dataset.multi_split( prob_list = [0.4,0.4,0.2], split_names = [\"train\", \"val\", \"test\"])\n",
    "\n",
    "# save the datasplot \n",
    "dataset.save_folds( data_dir ) "
   ]
  },
  {
   "cell_type": "code",
   "execution_count": 17,
   "id": "7f5c485d-a9c1-42d6-8c5d-1d27b7958397",
   "metadata": {},
   "outputs": [
    {
     "name": "stderr",
     "output_type": "stream",
     "text": [
      "100%|██████████| 2000/2000 [00:01<00:00, 1797.60it/s]\n",
      "100%|██████████| 2000/2000 [00:01<00:00, 1908.35it/s]\n",
      "100%|██████████| 2000/2000 [00:01<00:00, 1644.31it/s]\n"
     ]
    }
   ],
   "source": [
    "# load data\n",
    "data_loader = DataLoader_ts(   data_file                  = data_file,\n",
    "                               temporal_data_file         = temporal_data_file,\n",
    "                               superfeature_mapping_file  = superfeature_mapping_file,\n",
    "                               problem_file               = problem_file, \n",
    "                               folds_file                 = folds_file)\n",
    "dataset = data_loader.load() "
   ]
  },
  {
   "cell_type": "code",
   "execution_count": 20,
   "id": "a7f14572-d44e-4ee8-8047-c5a0f616bea3",
   "metadata": {},
   "outputs": [],
   "source": [
    "data = dataset.get_data(fold = 0, split = \"train\") "
   ]
  },
  {
   "cell_type": "code",
   "execution_count": 21,
   "id": "7759f60a-9b21-4e8f-bc70-fb8f896ae545",
   "metadata": {},
   "outputs": [
    {
     "data": {
      "text/plain": [
       "dict_keys(['feature', 'label', 'treatment', 'temporal_feature', 'time', 'superR', 'temporal_superR'])"
      ]
     },
     "execution_count": 21,
     "metadata": {},
     "output_type": "execute_result"
    }
   ],
   "source": [
    "data.keys()"
   ]
  },
  {
   "cell_type": "code",
   "execution_count": null,
   "id": "49866e72-af09-4501-a0a1-fceeb9da45c7",
   "metadata": {},
   "outputs": [],
   "source": []
  }
 ],
 "metadata": {
  "kernelspec": {
   "display_name": "afa_env",
   "language": "python",
   "name": "python3"
  },
  "language_info": {
   "codemirror_mode": {
    "name": "ipython",
    "version": 3
   },
   "file_extension": ".py",
   "mimetype": "text/x-python",
   "name": "python",
   "nbconvert_exporter": "python",
   "pygments_lexer": "ipython3",
   "version": "3.8.10"
  },
  "toc": {
   "base_numbering": 1,
   "nav_menu": {},
   "number_sections": true,
   "sideBar": true,
   "skip_h1_title": false,
   "title_cell": "Table of Contents",
   "title_sidebar": "Contents",
   "toc_cell": false,
   "toc_position": {
    "height": "calc(100% - 180px)",
    "left": "10px",
    "top": "150px",
    "width": "282px"
   },
   "toc_section_display": true,
   "toc_window_display": true
  },
  "varInspector": {
   "cols": {
    "lenName": 16,
    "lenType": 16,
    "lenVar": 40
   },
   "kernels_config": {
    "python": {
     "delete_cmd_postfix": "",
     "delete_cmd_prefix": "del ",
     "library": "var_list.py",
     "varRefreshCmd": "print(var_dic_list())"
    },
    "r": {
     "delete_cmd_postfix": ") ",
     "delete_cmd_prefix": "rm(",
     "library": "var_list.r",
     "varRefreshCmd": "cat(var_dic_list()) "
    }
   },
   "oldHeight": 713.852,
   "position": {
    "height": "40px",
    "left": "1650px",
    "right": "20px",
    "top": "120px",
    "width": "250px"
   },
   "types_to_exclude": [
    "module",
    "function",
    "builtin_function_or_method",
    "instance",
    "_Feature"
   ],
   "varInspector_section_display": "none",
   "window_display": true
  },
  "vscode": {
   "interpreter": {
    "hash": "c7b4046880187643253f6628bf550833ec82b05e290730cdc21121f8b3319a95"
   }
  }
 },
 "nbformat": 4,
 "nbformat_minor": 5
}
