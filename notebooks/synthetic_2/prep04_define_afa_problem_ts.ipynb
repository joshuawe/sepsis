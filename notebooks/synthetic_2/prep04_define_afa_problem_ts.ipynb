{
 "cells": [
  {
   "cell_type": "markdown",
   "id": "f264d4da",
   "metadata": {},
   "source": [
    "# (4) Define the AFA problem (action options and costs)\n",
    "To properly specify the AFA problem, the costs and available actions have to be defined. \n",
    "\n",
    "In static settings, we do currently only support \n",
    "- misclassification cost (cost if the prediction is wrong, defined by a cost matrix) \n",
    "- feature acquisition cost (cost for acquiring a certain feature, defined by a vector) \n",
    "\n",
    "We currently do not allow other costs, e.g.:\n",
    "- time to diagnosis cost (when we acquire more feature, we might delay the diagnosis which produces a cost) \n",
    "\n",
    "In **time-series** settings, we additionally require:\n",
    "- resolution (e.g. 6 hours) which describes the intervals at which actions can be taken.\n",
    "- delay (e.g. 2 hours) which describes after which time the acquired features are available. "
   ]
  },
  {
   "cell_type": "code",
   "execution_count": 1,
   "id": "415fcfeb-0480-468a-bd25-472cf81f4f25",
   "metadata": {},
   "outputs": [],
   "source": [
    "%load_ext autoreload\n",
    "%autoreload 2"
   ]
  },
  {
   "cell_type": "markdown",
   "id": "eb07ac0a-746f-4dc2-a42e-55a8a764d37a",
   "metadata": {},
   "source": [
    "### Define paths "
   ]
  },
  {
   "cell_type": "code",
   "execution_count": 2,
   "id": "9d406599-168e-44aa-9539-bd22eb5d3711",
   "metadata": {},
   "outputs": [],
   "source": [
    "# which dataset to work on \n",
    "dataset_name   = \"synthetic_2\""
   ]
  },
  {
   "cell_type": "code",
   "execution_count": 3,
   "id": "d78dfb01-9f5f-4f8b-98c7-6cf525f2de5b",
   "metadata": {},
   "outputs": [],
   "source": [
    "# data specifications \n",
    "data_dir            = \"../../../data/ts/\" + dataset_name + \"/fully_observed/\" \n",
    "\n",
    "afa_problem_files = {\n",
    "        'action_file'    : data_dir + 'afa_problem/' + 'acquisition_actions.csv', \n",
    "        'prediction_cost_file'    : data_dir + 'afa_problem/' + 'prediction_cost.csv'\n",
    "                }"
   ]
  },
  {
   "cell_type": "markdown",
   "id": "8044676e-33c2-4ecd-996f-fcd43055b800",
   "metadata": {},
   "source": [
    "## Part 1: Define Action options (and acquisition costs) "
   ]
  },
  {
   "cell_type": "markdown",
   "id": "3de96307-cbe7-4ee6-9b5f-ff3ea0fe412c",
   "metadata": {},
   "source": [
    "### Option 1: Define costs directly via .csv files\n",
    "Fill a .csv file ('acquisition_actions.csv') by \n",
    "- listing action names as columnnames\n",
    "- filling the second row with the acquisition cost of each acquisition action \n",
    "- filling the third row with the resolution of the respective action (e.g. every 6 hours) \n",
    "- listing in the subsequent rows all superfeature names that are acquired by the respective action "
   ]
  },
  {
   "cell_type": "markdown",
   "id": "4b69e572-13ae-4a96-8d8a-03d0a8954d01",
   "metadata": {},
   "source": [
    "### Option 2: Define the action options here and save the mapping \n",
    "A second option is to define the action options as a dictionary of dictionaries and save it.  \n",
    "Format:  \n",
    "action_options :\n",
    "    dictionary defining the action options (keys of dict), each action is a dict with \n",
    "- 'cost', a float value for the cost\n",
    "- 'target_superfeatures', list of strings\n",
    "    the names of the superfeatures that can be acquired with one action \n",
    "- for time-series  \n",
    "    - 'resolution', a float values that says after how many time steps this action can be taken again\n",
    "    - 'delay (e.g. 2 hours) which describes after which time the acquired features are available. "
   ]
  },
  {
   "cell_type": "code",
   "execution_count": 4,
   "id": "0ce11abd-8727-4f66-b796-d4e5ec927913",
   "metadata": {},
   "outputs": [
    {
     "name": "stderr",
     "output_type": "stream",
     "text": [
      "2023-03-21 11:22:47.305396: I tensorflow/core/platform/cpu_feature_guard.cc:193] This TensorFlow binary is optimized with oneAPI Deep Neural Network Library (oneDNN) to use the following CPU instructions in performance-critical operations:  AVX2 FMA\n",
      "To enable them in other operations, rebuild TensorFlow with the appropriate compiler flags.\n",
      "2023-03-21 11:22:47.391387: W tensorflow/compiler/xla/stream_executor/platform/default/dso_loader.cc:64] Could not load dynamic library 'libcudart.so.11.0'; dlerror: libcudart.so.11.0: cannot open shared object file: No such file or directory\n",
      "2023-03-21 11:22:47.391403: I tensorflow/compiler/xla/stream_executor/cuda/cudart_stub.cc:29] Ignore above cudart dlerror if you do not have a GPU set up on your machine.\n",
      "2023-03-21 11:22:50.090718: W tensorflow/compiler/xla/stream_executor/platform/default/dso_loader.cc:64] Could not load dynamic library 'libnvinfer.so.7'; dlerror: libnvinfer.so.7: cannot open shared object file: No such file or directory\n",
      "2023-03-21 11:22:50.090761: W tensorflow/compiler/xla/stream_executor/platform/default/dso_loader.cc:64] Could not load dynamic library 'libnvinfer_plugin.so.7'; dlerror: libnvinfer_plugin.so.7: cannot open shared object file: No such file or directory\n",
      "2023-03-21 11:22:50.090766: W tensorflow/compiler/tf2tensorrt/utils/py_utils.cc:38] TF-TRT Warning: Cannot dlopen some TensorRT libraries. If you would like to use Nvidia GPU with TensorRT, please make sure the missing libraries mentioned above are installed properly.\n"
     ]
    }
   ],
   "source": [
    "from afa.afa_problem.utils import save_action_options"
   ]
  },
  {
   "cell_type": "code",
   "execution_count": 5,
   "id": "f4f4272d-e7ad-4565-a2c2-8d637e7e3e3a",
   "metadata": {},
   "outputs": [],
   "source": [
    "action_options = \\\n",
    "    { 'acquire_superX1_ts' : {\n",
    "                            'cost' : 0.5, \n",
    "                            'target_superfeatures' : ['superX1_ts'], \n",
    "                            'resolution' : 2, \n",
    "                            'delay': 1\n",
    "                            }, \n",
    "      'acquire_superX2_ts' : {\n",
    "                            'cost' : 1, \n",
    "                            'target_superfeatures' : ['superX2_ts'],\n",
    "                            'resolution' : 2, \n",
    "                            'delay': 0\n",
    "                            }\n",
    "    }\n",
    "\n",
    "save_action_options( action_options = action_options , action_file = afa_problem_files['action_file'] )  "
   ]
  },
  {
   "cell_type": "markdown",
   "id": "320f691a-35ad-4c03-8460-66b2678adea4",
   "metadata": {},
   "source": [
    "### Option 3: Prepared action options (not recommended)\n",
    "Lastly, for specific datasets, the action option creation can be automatically executed. This is however not recommended. "
   ]
  },
  {
   "cell_type": "code",
   "execution_count": 6,
   "id": "c2058760-4a6d-4fcb-96ba-e92f33c3f126",
   "metadata": {},
   "outputs": [],
   "source": [
    "from afa.configurations.data_settings.define_data_settings_ts import generate_action_options_ts\n",
    "\n",
    "action_options = generate_action_options_ts( dataset_name ,  data_dir = data_dir )"
   ]
  },
  {
   "cell_type": "markdown",
   "id": "baca7634-90cb-4fbe-ad62-9146373f3ec5",
   "metadata": {},
   "source": [
    "## Part 2: Define prediction costs (for misclassification)"
   ]
  },
  {
   "cell_type": "markdown",
   "id": "c4fa02be-c7fc-4377-be1b-76c700e942fa",
   "metadata": {},
   "source": [
    "### Option 1: Define costs directly via .csv files\n",
    "Fill a .csv file ('prediction_costs.csv') by \n",
    "- listing 'predicted Y = 0', 'predicted Y = 1', ... as column names \n",
    "- listing 'true Y = 0', 'true Y = 1', ... as rownames \n",
    "- filling the the resulting matrix with the costs\n",
    "-> entry(i+1,j+1) is the cost of predicting a datapoint of class i as belonging to class j "
   ]
  },
  {
   "cell_type": "markdown",
   "id": "ae572a73-50e2-4be4-bc86-8ca33772e43e",
   "metadata": {},
   "source": [
    "### Option 2: Define the misclassification costs here and save the mapping \n",
    "A second option is to define the misclassification matrix here directly and save it as a .csv file  \n",
    "Format:  \n",
    "C_mc:  numpy array  \n",
    "- entry(i,j) is the cost of predicting a datapoint of class i as belonging to class j \n",
    "    "
   ]
  },
  {
   "cell_type": "code",
   "execution_count": 6,
   "id": "9f5ef90d-844b-4c08-ae4d-19d0b8f27846",
   "metadata": {},
   "outputs": [],
   "source": [
    "from afa.afa_problem.utils import save_prediction_cost\n",
    "import numpy as np"
   ]
  },
  {
   "cell_type": "code",
   "execution_count": 7,
   "id": "927068dc-bc0a-4f32-a77e-ff939efd800a",
   "metadata": {},
   "outputs": [],
   "source": [
    "C_mc = np.array(\n",
    "    [[0, 10], \n",
    "     [10, 0]]\n",
    ")\n",
    "\n",
    "save_prediction_cost( C_mc = C_mc , prediction_cost_file = afa_problem_files['prediction_cost_file'] )  "
   ]
  },
  {
   "cell_type": "markdown",
   "id": "4f61a377-be46-4e0d-aedd-e95961266857",
   "metadata": {},
   "source": [
    "### Option 3: Prepared action options (not recommended)\n",
    "Lastly, for specific datasets, the misclassification cost definition can be automatically executed. This is however not recommended."
   ]
  },
  {
   "cell_type": "code",
   "execution_count": 9,
   "id": "dc7a844e-1af7-4a5a-b2a1-ee396c1ec7ee",
   "metadata": {},
   "outputs": [],
   "source": [
    "from afa.configurations.data_settings.define_data_settings_ts import generate_prediction_cost_ts\n",
    "\n",
    "C_mc = generate_prediction_cost_ts( dataset_name ,  data_dir = data_dir )"
   ]
  },
  {
   "cell_type": "markdown",
   "id": "b5e38411-ef48-4886-ae5f-6fd7ba52e323",
   "metadata": {},
   "source": [
    "## Test by loading the AFA problem"
   ]
  },
  {
   "cell_type": "code",
   "execution_count": 8,
   "id": "793917c1-fab3-45c2-a0b7-9f743309128d",
   "metadata": {},
   "outputs": [],
   "source": [
    "from afa.afa_problem.afa_problem_loader.afa_problem_loader import AFAProblemLoader"
   ]
  },
  {
   "cell_type": "code",
   "execution_count": 9,
   "id": "47e6b9db",
   "metadata": {},
   "outputs": [],
   "source": [
    "afa_problem_loader = AFAProblemLoader(   action_file          = afa_problem_files['action_file'], \n",
    "                                         prediction_cost_file = afa_problem_files['prediction_cost_file'])\n",
    "afa_problem = afa_problem_loader.load() "
   ]
  },
  {
   "cell_type": "code",
   "execution_count": 10,
   "id": "ed66b313",
   "metadata": {},
   "outputs": [
    {
     "data": {
      "text/plain": [
       "{'acquire_superX1_ts': {'target_superfeatures': ['superX1_ts'],\n",
       "  'cost': 0.5,\n",
       "  'resolution': 2.0,\n",
       "  'delay': 1.0},\n",
       " 'acquire_superX2_ts': {'target_superfeatures': ['superX2_ts'],\n",
       "  'cost': 1.0,\n",
       "  'resolution': 2.0,\n",
       "  'delay': 0.0}}"
      ]
     },
     "execution_count": 10,
     "metadata": {},
     "output_type": "execute_result"
    }
   ],
   "source": [
    "# list action options\n",
    "afa_problem.action_options"
   ]
  },
  {
   "cell_type": "code",
   "execution_count": 11,
   "id": "0a8ae871-a9f0-4fb3-96db-e2cafb126867",
   "metadata": {},
   "outputs": [
    {
     "data": {
      "text/plain": [
       "array([[ 0, 10],\n",
       "       [10,  0]])"
      ]
     },
     "execution_count": 11,
     "metadata": {},
     "output_type": "execute_result"
    }
   ],
   "source": [
    "# list misclassification costs \n",
    "afa_problem.C_mc"
   ]
  },
  {
   "cell_type": "markdown",
   "id": "779c120f-084c-4b8f-93f8-47583eb4d909",
   "metadata": {},
   "source": [
    "## Explain the created AFA Problem \n",
    "Write a summary of the defined AFA problem to file (latex or markdown) "
   ]
  },
  {
   "cell_type": "code",
   "execution_count": 12,
   "id": "7c5ac4c1-ba93-4be5-99c2-a005a9e5943b",
   "metadata": {
    "tags": []
   },
   "outputs": [
    {
     "ename": "FileNotFoundError",
     "evalue": "[Errno 2] No such file or directory: 'pandoc'",
     "output_type": "error",
     "traceback": [
      "\u001b[0;31m---------------------------------------------------------------------------\u001b[0m",
      "\u001b[0;31mFileNotFoundError\u001b[0m                         Traceback (most recent call last)",
      "Cell \u001b[0;32mIn[12], line 3\u001b[0m\n\u001b[1;32m      1\u001b[0m \u001b[39m# reporting\u001b[39;00m\n\u001b[1;32m      2\u001b[0m explanation_file \u001b[39m=\u001b[39m data_dir \u001b[39m+\u001b[39m \u001b[39m'\u001b[39m\u001b[39mafa_problem/\u001b[39m\u001b[39m'\u001b[39m \u001b[39m+\u001b[39m  \u001b[39m'\u001b[39m\u001b[39mafa_problem_report\u001b[39m\u001b[39m'\u001b[39m\n\u001b[0;32m----> 3\u001b[0m afa_problem\u001b[39m.\u001b[39;49mexplain(file\u001b[39m=\u001b[39;49m explanation_file \u001b[39m+\u001b[39;49m \u001b[39m'\u001b[39;49m\u001b[39m.md\u001b[39;49m\u001b[39m'\u001b[39;49m  , \u001b[39mformat\u001b[39;49m\u001b[39m=\u001b[39;49m\u001b[39m'\u001b[39;49m\u001b[39mmarkdown\u001b[39;49m\u001b[39m'\u001b[39;49m)\n\u001b[1;32m      4\u001b[0m \u001b[39m# afa_problem.explain(file= explanation_file + '.tex' , format='latex')\u001b[39;00m\n",
      "File \u001b[0;32m~/Documents/afa_ts/afa/data_modelling/reporting/explainable.py:58\u001b[0m, in \u001b[0;36mExplainable.explain\u001b[0;34m(self, stream, file, format)\u001b[0m\n\u001b[1;32m     56\u001b[0m \u001b[39mself\u001b[39m\u001b[39m.\u001b[39m_write_latex(buffer, file)\n\u001b[1;32m     57\u001b[0m \u001b[39m# Convert the LaTeX output to the specified format using Pandoc\u001b[39;00m\n\u001b[0;32m---> 58\u001b[0m p \u001b[39m=\u001b[39m subprocess\u001b[39m.\u001b[39;49mrun([\u001b[39m'\u001b[39;49m\u001b[39mpandoc\u001b[39;49m\u001b[39m'\u001b[39;49m, \u001b[39m'\u001b[39;49m\u001b[39m--from\u001b[39;49m\u001b[39m'\u001b[39;49m, \u001b[39m'\u001b[39;49m\u001b[39mlatex\u001b[39;49m\u001b[39m'\u001b[39;49m, \u001b[39m'\u001b[39;49m\u001b[39m--to\u001b[39;49m\u001b[39m'\u001b[39;49m, \u001b[39mformat\u001b[39;49m],\n\u001b[1;32m     59\u001b[0m                    \u001b[39minput\u001b[39;49m\u001b[39m=\u001b[39;49mbuffer\u001b[39m.\u001b[39;49mgetvalue(), capture_output\u001b[39m=\u001b[39;49m\u001b[39mTrue\u001b[39;49;00m, text\u001b[39m=\u001b[39;49m\u001b[39mTrue\u001b[39;49;00m)\n\u001b[1;32m     60\u001b[0m \u001b[39m# Write the converted output to the specified stream or file\u001b[39;00m\n\u001b[1;32m     61\u001b[0m \u001b[39mif\u001b[39;00m stream \u001b[39mis\u001b[39;00m \u001b[39mnot\u001b[39;00m \u001b[39mNone\u001b[39;00m:\n",
      "File \u001b[0;32m/usr/lib/python3.8/subprocess.py:493\u001b[0m, in \u001b[0;36mrun\u001b[0;34m(input, capture_output, timeout, check, *popenargs, **kwargs)\u001b[0m\n\u001b[1;32m    490\u001b[0m     kwargs[\u001b[39m'\u001b[39m\u001b[39mstdout\u001b[39m\u001b[39m'\u001b[39m] \u001b[39m=\u001b[39m PIPE\n\u001b[1;32m    491\u001b[0m     kwargs[\u001b[39m'\u001b[39m\u001b[39mstderr\u001b[39m\u001b[39m'\u001b[39m] \u001b[39m=\u001b[39m PIPE\n\u001b[0;32m--> 493\u001b[0m \u001b[39mwith\u001b[39;00m Popen(\u001b[39m*\u001b[39;49mpopenargs, \u001b[39m*\u001b[39;49m\u001b[39m*\u001b[39;49mkwargs) \u001b[39mas\u001b[39;00m process:\n\u001b[1;32m    494\u001b[0m     \u001b[39mtry\u001b[39;00m:\n\u001b[1;32m    495\u001b[0m         stdout, stderr \u001b[39m=\u001b[39m process\u001b[39m.\u001b[39mcommunicate(\u001b[39minput\u001b[39m, timeout\u001b[39m=\u001b[39mtimeout)\n",
      "File \u001b[0;32m/usr/lib/python3.8/subprocess.py:858\u001b[0m, in \u001b[0;36mPopen.__init__\u001b[0;34m(self, args, bufsize, executable, stdin, stdout, stderr, preexec_fn, close_fds, shell, cwd, env, universal_newlines, startupinfo, creationflags, restore_signals, start_new_session, pass_fds, encoding, errors, text)\u001b[0m\n\u001b[1;32m    854\u001b[0m         \u001b[39mif\u001b[39;00m \u001b[39mself\u001b[39m\u001b[39m.\u001b[39mtext_mode:\n\u001b[1;32m    855\u001b[0m             \u001b[39mself\u001b[39m\u001b[39m.\u001b[39mstderr \u001b[39m=\u001b[39m io\u001b[39m.\u001b[39mTextIOWrapper(\u001b[39mself\u001b[39m\u001b[39m.\u001b[39mstderr,\n\u001b[1;32m    856\u001b[0m                     encoding\u001b[39m=\u001b[39mencoding, errors\u001b[39m=\u001b[39merrors)\n\u001b[0;32m--> 858\u001b[0m     \u001b[39mself\u001b[39;49m\u001b[39m.\u001b[39;49m_execute_child(args, executable, preexec_fn, close_fds,\n\u001b[1;32m    859\u001b[0m                         pass_fds, cwd, env,\n\u001b[1;32m    860\u001b[0m                         startupinfo, creationflags, shell,\n\u001b[1;32m    861\u001b[0m                         p2cread, p2cwrite,\n\u001b[1;32m    862\u001b[0m                         c2pread, c2pwrite,\n\u001b[1;32m    863\u001b[0m                         errread, errwrite,\n\u001b[1;32m    864\u001b[0m                         restore_signals, start_new_session)\n\u001b[1;32m    865\u001b[0m \u001b[39mexcept\u001b[39;00m:\n\u001b[1;32m    866\u001b[0m     \u001b[39m# Cleanup if the child failed starting.\u001b[39;00m\n\u001b[1;32m    867\u001b[0m     \u001b[39mfor\u001b[39;00m f \u001b[39min\u001b[39;00m \u001b[39mfilter\u001b[39m(\u001b[39mNone\u001b[39;00m, (\u001b[39mself\u001b[39m\u001b[39m.\u001b[39mstdin, \u001b[39mself\u001b[39m\u001b[39m.\u001b[39mstdout, \u001b[39mself\u001b[39m\u001b[39m.\u001b[39mstderr)):\n",
      "File \u001b[0;32m/usr/lib/python3.8/subprocess.py:1704\u001b[0m, in \u001b[0;36mPopen._execute_child\u001b[0;34m(self, args, executable, preexec_fn, close_fds, pass_fds, cwd, env, startupinfo, creationflags, shell, p2cread, p2cwrite, c2pread, c2pwrite, errread, errwrite, restore_signals, start_new_session)\u001b[0m\n\u001b[1;32m   1702\u001b[0m     \u001b[39mif\u001b[39;00m errno_num \u001b[39m!=\u001b[39m \u001b[39m0\u001b[39m:\n\u001b[1;32m   1703\u001b[0m         err_msg \u001b[39m=\u001b[39m os\u001b[39m.\u001b[39mstrerror(errno_num)\n\u001b[0;32m-> 1704\u001b[0m     \u001b[39mraise\u001b[39;00m child_exception_type(errno_num, err_msg, err_filename)\n\u001b[1;32m   1705\u001b[0m \u001b[39mraise\u001b[39;00m child_exception_type(err_msg)\n",
      "\u001b[0;31mFileNotFoundError\u001b[0m: [Errno 2] No such file or directory: 'pandoc'"
     ]
    }
   ],
   "source": [
    "# reporting\n",
    "explanation_file = data_dir + 'afa_problem/' +  'afa_problem_report'\n",
    "afa_problem.explain(file= explanation_file + '.md'  , format='markdown')\n",
    "# afa_problem.explain(file= explanation_file + '.tex' , format='latex')"
   ]
  },
  {
   "cell_type": "code",
   "execution_count": null,
   "id": "982048fe-4abd-4344-abdd-0d239373c040",
   "metadata": {},
   "outputs": [],
   "source": []
  },
  {
   "cell_type": "code",
   "execution_count": null,
   "id": "a8b5d9f1-1113-42ea-88fd-95d0e0ff34ef",
   "metadata": {},
   "outputs": [],
   "source": []
  },
  {
   "cell_type": "code",
   "execution_count": null,
   "id": "15be74e0-5c81-4caf-9c3e-baf19fcc0c5f",
   "metadata": {},
   "outputs": [],
   "source": []
  }
 ],
 "metadata": {
  "kernelspec": {
   "display_name": "afa_env",
   "language": "python",
   "name": "python3"
  },
  "language_info": {
   "codemirror_mode": {
    "name": "ipython",
    "version": 3
   },
   "file_extension": ".py",
   "mimetype": "text/x-python",
   "name": "python",
   "nbconvert_exporter": "python",
   "pygments_lexer": "ipython3",
   "version": "3.8.10"
  },
  "toc": {
   "base_numbering": 1,
   "nav_menu": {},
   "number_sections": true,
   "sideBar": true,
   "skip_h1_title": false,
   "title_cell": "Table of Contents",
   "title_sidebar": "Contents",
   "toc_cell": false,
   "toc_position": {},
   "toc_section_display": true,
   "toc_window_display": false
  },
  "varInspector": {
   "cols": {
    "lenName": 16,
    "lenType": 16,
    "lenVar": 40
   },
   "kernels_config": {
    "python": {
     "delete_cmd_postfix": "",
     "delete_cmd_prefix": "del ",
     "library": "var_list.py",
     "varRefreshCmd": "print(var_dic_list())"
    },
    "r": {
     "delete_cmd_postfix": ") ",
     "delete_cmd_prefix": "rm(",
     "library": "var_list.r",
     "varRefreshCmd": "cat(var_dic_list()) "
    }
   },
   "types_to_exclude": [
    "module",
    "function",
    "builtin_function_or_method",
    "instance",
    "_Feature"
   ],
   "window_display": false
  },
  "vscode": {
   "interpreter": {
    "hash": "c7b4046880187643253f6628bf550833ec82b05e290730cdc21121f8b3319a95"
   }
  }
 },
 "nbformat": 4,
 "nbformat_minor": 5
}
