{
 "cells": [
  {
   "cell_type": "markdown",
   "id": "447effeb-1650-4f29-93ad-09b100417273",
   "metadata": {},
   "source": [
    "# (0.1) Train multiple-imputation (MI) models\n",
    "One option to resolve missingness for AFA is to use Multiple Imputation. \n",
    "This notebook trains MI models and saves the multiple imputed datasets. "
   ]
  },
  {
   "cell_type": "code",
   "execution_count": null,
   "id": "73390d53-00db-403b-b474-735a5febcf69",
   "metadata": {},
   "outputs": [],
   "source": [
    "%load_ext autoreload\n",
    "%autoreload 2"
   ]
  },
  {
   "cell_type": "markdown",
   "id": "1bc2d091-d5fb-4212-b7fd-f94cfb57f50e",
   "metadata": {},
   "source": [
    "## Define paths"
   ]
  },
  {
   "cell_type": "code",
   "execution_count": null,
   "id": "b60b58e3-6056-41fe-b9a2-dd7e2d28bac5",
   "metadata": {},
   "outputs": [],
   "source": [
    "from afa.configurations.utils_ts import specify_default_paths_ts\n",
    "# which dataset to work on \n",
    "dataset_name   = \"synthetic_1\"\n",
    "\n",
    "# name for of missingness scenario \n",
    "miss_scenario  = 'MCAR_1'\n",
    "\n",
    "# automatically specify some path locations (change paths manually if needed) \n",
    "paths = specify_default_paths_ts(dataset_name = dataset_name , miss_scenario = miss_scenario) \n",
    "\n",
    "# name for ps_model \n",
    "mi_model_name  = 'mi_simple'\n",
    "\n",
    "# new (where to save the model) \n",
    "mi_model_dir = paths['data_dir']  + 'mi_models' + '/' + mi_model_name + '/'\n"
   ]
  },
  {
   "cell_type": "markdown",
   "id": "e49defcd-c9c2-466e-b156-63275bb006c8",
   "metadata": {},
   "source": [
    "### Define model specifications"
   ]
  },
  {
   "cell_type": "code",
   "execution_count": null,
   "id": "1dd5657c-ee90-4f83-921a-557ce99c03e2",
   "metadata": {},
   "outputs": [],
   "source": [
    "mi_model_params = {\n",
    "    'name' : mi_model_name, \n",
    "    'directory' : mi_model_dir,\n",
    "    'base_model_params' : {   'model_type': 'simple_imputer' }\n",
    "    }"
   ]
  },
  {
   "cell_type": "markdown",
   "id": "5a64631a-d0c5-437d-82f9-2427a44f2b27",
   "metadata": {},
   "source": [
    "## Load dataset with missingness \n",
    "At first, we want to load the dataset \n",
    "\n",
    "Includes loading: \n",
    "- superfeature mapping\n",
    "- problem\n",
    "- afa_problem \n",
    "- missingness_model"
   ]
  },
  {
   "cell_type": "code",
   "execution_count": null,
   "id": "1a59d767-871f-4f22-b635-f2af3e832341",
   "metadata": {},
   "outputs": [],
   "source": [
    "from afa.data_modelling.datasets.data_loader.data_loader_ts import DataLoader_ts"
   ]
  },
  {
   "cell_type": "code",
   "execution_count": null,
   "id": "c7807d31-a689-4abd-a656-7c4f1f147506",
   "metadata": {},
   "outputs": [],
   "source": [
    "data_loader = DataLoader_ts(     data_file                  = paths['data_file'],\n",
    "                                 temporal_data_file         = paths['temporal_data_file'],\n",
    "                                 superfeature_mapping_file  = paths['superfeature_mapping_file'],\n",
    "                                 problem_file               = paths['problem_file'],\n",
    "                                 afa_problem_files          = paths['afa_problem_files'], \n",
    "                                 miss_model_files           = paths['miss_model_files'], \n",
    "                                 folds_file                 = paths['folds_file'] )\n",
    "dataset = data_loader.load() "
   ]
  },
  {
   "cell_type": "markdown",
   "id": "e2ffd0f4-07fd-4e6d-a2cb-74ea1eea2c58",
   "metadata": {},
   "source": [
    "## Define MI model"
   ]
  },
  {
   "cell_type": "code",
   "execution_count": null,
   "id": "af012bf8-da5c-4699-aec1-f4d5e74af718",
   "metadata": {},
   "outputs": [],
   "source": [
    "from afa.data_modelling.missingness.multiple_imputation.multiple_imputation_model_ts import MultipleImputationModel_ts\n",
    "\n",
    "mi_model = MultipleImputationModel_ts(   name                         = mi_model_params['name'], \n",
    "                                         m_graph                      = dataset.miss_model.m_graph, \n",
    "                                         superfeature_mapping         = dataset.superfeature_mapping,\n",
    "                                         target_superfeature_names    = dataset.afa_problem.target_superfeature_names,\n",
    "                                         model_params                 = mi_model_params,\n",
    "                                         directory                    = mi_model_params['directory'] ) "
   ]
  },
  {
   "cell_type": "markdown",
   "id": "f7eaaaf5-3403-46c3-8bf9-7dffd270853b",
   "metadata": {},
   "source": [
    "## Train MI model "
   ]
  },
  {
   "cell_type": "code",
   "execution_count": null,
   "id": "3cee7ae1-f3e9-4375-9551-ce7921214634",
   "metadata": {},
   "outputs": [],
   "source": [
    "mi_model.fit(dataset, fold = 0, train_split = 'train', valid_split = 'val', fit_again = False)"
   ]
  },
  {
   "cell_type": "markdown",
   "id": "547a323f-b345-4a74-90aa-5ea170b0451e",
   "metadata": {},
   "source": [
    "## Create multiple imputed dataset"
   ]
  },
  {
   "cell_type": "code",
   "execution_count": null,
   "id": "c2fc5fbc-6787-45f6-8832-0e7a9cebad9b",
   "metadata": {},
   "outputs": [],
   "source": [
    "from afa.data_modelling.missingness.multiple_imputation.multiple_imputed_dataset_ts import MultipleImputedDataset_ts"
   ]
  },
  {
   "cell_type": "code",
   "execution_count": null,
   "id": "6afc7a63-5409-4327-b48e-829d285411c5",
   "metadata": {},
   "outputs": [],
   "source": [
    "mi_results = mi_model.predict(dataset, n_samples = 5)\n",
    "\n",
    "# create an mi_dataset out of the generated imputations\n",
    "mi_dataset = MultipleImputedDataset_ts(  dataset = dataset, model = mi_model, results = mi_results) "
   ]
  },
  {
   "cell_type": "markdown",
   "id": "50c90c49-db33-426f-81c0-d53e70986225",
   "metadata": {},
   "source": [
    "## Evaluate imputation model on ground truth dataset"
   ]
  },
  {
   "cell_type": "code",
   "execution_count": null,
   "id": "1b7c58a8-7b09-4174-8e78-1c3be89a5c8e",
   "metadata": {},
   "outputs": [],
   "source": [
    "# TO DO"
   ]
  },
  {
   "cell_type": "markdown",
   "id": "2f8c9f03-5639-4f5f-baef-36cbea96789b",
   "metadata": {},
   "source": [
    "## Save MI dataset"
   ]
  },
  {
   "cell_type": "code",
   "execution_count": null,
   "id": "37204a6c-b06f-4ff0-8559-f6977ecf1cd2",
   "metadata": {},
   "outputs": [],
   "source": [
    "mi_dataset.save( model_dir = mi_model_dir) "
   ]
  },
  {
   "cell_type": "code",
   "execution_count": null,
   "id": "30cb32c7-1f0b-4f16-9fd4-987260ffed06",
   "metadata": {},
   "outputs": [],
   "source": []
  },
  {
   "cell_type": "code",
   "execution_count": null,
   "id": "b1ef49f9-dbde-4665-9ad8-c3eec083b86a",
   "metadata": {},
   "outputs": [],
   "source": []
  }
 ],
 "metadata": {
  "kernelspec": {
   "display_name": "afa_env",
   "language": "python",
   "name": "afa_env"
  },
  "language_info": {
   "codemirror_mode": {
    "name": "ipython",
    "version": 3
   },
   "file_extension": ".py",
   "mimetype": "text/x-python",
   "name": "python",
   "nbconvert_exporter": "python",
   "pygments_lexer": "ipython3",
   "version": "3.10.8"
  }
 },
 "nbformat": 4,
 "nbformat_minor": 5
}
