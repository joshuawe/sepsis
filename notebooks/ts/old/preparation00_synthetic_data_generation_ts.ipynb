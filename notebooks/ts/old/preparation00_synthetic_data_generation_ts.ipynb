{
 "cells": [
  {
   "cell_type": "markdown",
   "id": "738d755b",
   "metadata": {},
   "source": [
    "# Generate a synthetic time-series dataset"
   ]
  },
  {
   "cell_type": "markdown",
   "id": "0d7cd1d6-a92c-428c-a091-05d2ae4cd7d8",
   "metadata": {
    "tags": []
   },
   "source": [
    "Generate a synthetic dataset with \n",
    "- features X\n",
    "- temporal features X_ts\n",
    "- label Y (static or temporal) \n",
    "\n",
    "Note: data is stored in the folder \"../../../data/ts/\" + dataset relativ to this directory"
   ]
  },
  {
   "cell_type": "markdown",
   "id": "d865c1ae-21e4-41b4-99ed-1701e364da45",
   "metadata": {},
   "source": [
    "### Define paths "
   ]
  },
  {
   "cell_type": "code",
   "execution_count": 1,
   "id": "a69d3b1b-3f6a-449e-a0d1-b95a765951ec",
   "metadata": {},
   "outputs": [],
   "source": [
    "# which dataset to work on \n",
    "dataset_name   = \"synthetic_1\""
   ]
  },
  {
   "cell_type": "code",
   "execution_count": 2,
   "id": "b7ef052e-843f-4aef-80f1-22290a687a17",
   "metadata": {},
   "outputs": [],
   "source": [
    "# data specifications \n",
    "data_dir            = \"../../../data/ts/\" + dataset_name + \"/fully_observed/\" \n",
    "data_file          = data_dir  + dataset_name + '.csv'\n",
    "\n",
    "# reporting\n",
    "explanation_file = data_dir + 'reports/' + 'synthetic_data'"
   ]
  },
  {
   "cell_type": "markdown",
   "id": "ff4d9f63",
   "metadata": {},
   "source": [
    "### Imports"
   ]
  },
  {
   "cell_type": "code",
   "execution_count": 3,
   "id": "83197719",
   "metadata": {
    "ExecuteTime": {
     "end_time": "2022-12-05T18:12:03.043357Z",
     "start_time": "2022-12-05T18:12:00.847163Z"
    },
    "tags": []
   },
   "outputs": [],
   "source": [
    "%load_ext autoreload\n",
    "%autoreload 2\n",
    "\n",
    "import sys\n",
    "import os\n",
    "\n",
    "# navigate to afa directory \n",
    "sys.path.insert(0, os.path.abspath('../../afa'))\n",
    "\n",
    "from afa.data_modelling.datasets.synthetic_data_generation.data_generator_ts import DataGenerator_ts"
   ]
  },
  {
   "cell_type": "markdown",
   "id": "f2c96fe7",
   "metadata": {},
   "source": [
    "## Data Generation"
   ]
  },
  {
   "cell_type": "code",
   "execution_count": 4,
   "id": "2f04874b-e0b7-466d-9fab-1be1d0423312",
   "metadata": {},
   "outputs": [],
   "source": [
    "data_generator = DataGenerator_ts(\n",
    "                        data_dir           = data_dir,  \n",
    "                        dataset_name       = dataset_name , \n",
    "                        n_datapts          = 100, \n",
    "                        test_size          = 0,\n",
    "                        n_features_static  = 2,\n",
    "                        n_features_ts      = 4, \n",
    "                        n_timepts          = 10,\n",
    "                        table_style        = \"EAV\",\n",
    "                        compression        = 'gzip',\n",
    "                        n_classes          = 2)"
   ]
  },
  {
   "cell_type": "code",
   "execution_count": 5,
   "id": "4e817462-660e-432b-8f99-cd3930f15a0d",
   "metadata": {},
   "outputs": [],
   "source": [
    "df_static_train, df_ts_train, df_static_test, df_ts_test  = data_generator.generate_data()"
   ]
  },
  {
   "cell_type": "markdown",
   "id": "acf3349a-cdf2-4fd7-98f8-050456ab1c34",
   "metadata": {},
   "source": [
    "## Load data\n",
    "Check if data was saved correctly and can be loaded "
   ]
  },
  {
   "cell_type": "code",
   "execution_count": 6,
   "id": "acfb8d13-d8e3-4143-b462-89d2ca3d26d7",
   "metadata": {},
   "outputs": [
    {
     "name": "stderr",
     "output_type": "stream",
     "text": [
      "2023-02-05 20:27:47.258788: I tensorflow/core/platform/cpu_feature_guard.cc:193] This TensorFlow binary is optimized with oneAPI Deep Neural Network Library (oneDNN) to use the following CPU instructions in performance-critical operations:  AVX2 FMA\n",
      "To enable them in other operations, rebuild TensorFlow with the appropriate compiler flags.\n",
      "2023-02-05 20:27:47.410337: W tensorflow/compiler/xla/stream_executor/platform/default/dso_loader.cc:64] Could not load dynamic library 'libcudart.so.11.0'; dlerror: libcudart.so.11.0: cannot open shared object file: No such file or directory\n",
      "2023-02-05 20:27:47.410355: I tensorflow/compiler/xla/stream_executor/cuda/cudart_stub.cc:29] Ignore above cudart dlerror if you do not have a GPU set up on your machine.\n",
      "2023-02-05 20:27:48.167130: W tensorflow/compiler/xla/stream_executor/platform/default/dso_loader.cc:64] Could not load dynamic library 'libnvinfer.so.7'; dlerror: libnvinfer.so.7: cannot open shared object file: No such file or directory\n",
      "2023-02-05 20:27:48.167271: W tensorflow/compiler/xla/stream_executor/platform/default/dso_loader.cc:64] Could not load dynamic library 'libnvinfer_plugin.so.7'; dlerror: libnvinfer_plugin.so.7: cannot open shared object file: No such file or directory\n",
      "2023-02-05 20:27:48.167282: W tensorflow/compiler/tf2tensorrt/utils/py_utils.cc:38] TF-TRT Warning: Cannot dlopen some TensorRT libraries. If you would like to use Nvidia GPU with TensorRT, please make sure the missing libraries mentioned above are installed properly.\n"
     ]
    }
   ],
   "source": [
    "from afa.data_modelling.datasets.data_loader.data_loader_ts import DataLoader_ts"
   ]
  },
  {
   "cell_type": "code",
   "execution_count": 7,
   "id": "0084fc65-ec37-4ea7-a0cc-8ccd894a8658",
   "metadata": {},
   "outputs": [],
   "source": [
    "data_file          = data_dir + dataset_name + '_static.csv.gz' \n",
    "temporal_data_file = data_dir + dataset_name + '_ts_eav.csv.gz' \n",
    "# superfeature_mapping_file = data_dir + 'superfeaturs.csv'\n",
    "superfeature_mapping_file = None\n",
    "    \n",
    "data_loader = DataLoader_ts( data_file                  = data_file,\n",
    "                             temporal_data_file         = temporal_data_file,\n",
    "                             superfeature_mapping_file  = superfeature_mapping_file )\n",
    "\n",
    "dataset = data_loader.load() "
   ]
  },
  {
   "cell_type": "code",
   "execution_count": 8,
   "id": "0d4a1f12-a89d-4d39-bff7-99f3d07d5517",
   "metadata": {},
   "outputs": [
    {
     "data": {
      "text/html": [
       "<div>\n",
       "<style scoped>\n",
       "    .dataframe tbody tr th:only-of-type {\n",
       "        vertical-align: middle;\n",
       "    }\n",
       "\n",
       "    .dataframe tbody tr th {\n",
       "        vertical-align: top;\n",
       "    }\n",
       "\n",
       "    .dataframe thead th {\n",
       "        text-align: right;\n",
       "    }\n",
       "</style>\n",
       "<table border=\"1\" class=\"dataframe\">\n",
       "  <thead>\n",
       "    <tr style=\"text-align: right;\">\n",
       "      <th>variable</th>\n",
       "      <th>id</th>\n",
       "      <th>time</th>\n",
       "      <th>X0_ts</th>\n",
       "      <th>X1_ts</th>\n",
       "      <th>X2_ts</th>\n",
       "      <th>X3_ts</th>\n",
       "      <th>Y_ts</th>\n",
       "    </tr>\n",
       "  </thead>\n",
       "  <tbody>\n",
       "    <tr>\n",
       "      <th>0</th>\n",
       "      <td>0</td>\n",
       "      <td>0</td>\n",
       "      <td>0.040214</td>\n",
       "      <td>0.736119</td>\n",
       "      <td>0.903988</td>\n",
       "      <td>-0.271101</td>\n",
       "      <td>0.0</td>\n",
       "    </tr>\n",
       "    <tr>\n",
       "      <th>1</th>\n",
       "      <td>0</td>\n",
       "      <td>1</td>\n",
       "      <td>-0.492273</td>\n",
       "      <td>-0.268303</td>\n",
       "      <td>-0.921176</td>\n",
       "      <td>-0.812881</td>\n",
       "      <td>1.0</td>\n",
       "    </tr>\n",
       "    <tr>\n",
       "      <th>2</th>\n",
       "      <td>0</td>\n",
       "      <td>2</td>\n",
       "      <td>0.309823</td>\n",
       "      <td>-0.386123</td>\n",
       "      <td>1.315453</td>\n",
       "      <td>-0.241455</td>\n",
       "      <td>0.0</td>\n",
       "    </tr>\n",
       "    <tr>\n",
       "      <th>3</th>\n",
       "      <td>0</td>\n",
       "      <td>3</td>\n",
       "      <td>1.871679</td>\n",
       "      <td>0.845866</td>\n",
       "      <td>1.473744</td>\n",
       "      <td>0.437033</td>\n",
       "      <td>0.0</td>\n",
       "    </tr>\n",
       "    <tr>\n",
       "      <th>4</th>\n",
       "      <td>0</td>\n",
       "      <td>4</td>\n",
       "      <td>1.224608</td>\n",
       "      <td>0.097955</td>\n",
       "      <td>0.098419</td>\n",
       "      <td>-0.635451</td>\n",
       "      <td>0.0</td>\n",
       "    </tr>\n",
       "    <tr>\n",
       "      <th>...</th>\n",
       "      <td>...</td>\n",
       "      <td>...</td>\n",
       "      <td>...</td>\n",
       "      <td>...</td>\n",
       "      <td>...</td>\n",
       "      <td>...</td>\n",
       "      <td>...</td>\n",
       "    </tr>\n",
       "    <tr>\n",
       "      <th>995</th>\n",
       "      <td>99</td>\n",
       "      <td>5</td>\n",
       "      <td>0.346083</td>\n",
       "      <td>0.991062</td>\n",
       "      <td>-0.432751</td>\n",
       "      <td>1.140907</td>\n",
       "      <td>0.0</td>\n",
       "    </tr>\n",
       "    <tr>\n",
       "      <th>996</th>\n",
       "      <td>99</td>\n",
       "      <td>6</td>\n",
       "      <td>-1.823515</td>\n",
       "      <td>0.312444</td>\n",
       "      <td>0.004809</td>\n",
       "      <td>0.671610</td>\n",
       "      <td>0.0</td>\n",
       "    </tr>\n",
       "    <tr>\n",
       "      <th>997</th>\n",
       "      <td>99</td>\n",
       "      <td>7</td>\n",
       "      <td>0.035619</td>\n",
       "      <td>-0.076120</td>\n",
       "      <td>-0.245551</td>\n",
       "      <td>0.130265</td>\n",
       "      <td>0.0</td>\n",
       "    </tr>\n",
       "    <tr>\n",
       "      <th>998</th>\n",
       "      <td>99</td>\n",
       "      <td>8</td>\n",
       "      <td>0.850422</td>\n",
       "      <td>1.200439</td>\n",
       "      <td>0.028020</td>\n",
       "      <td>-1.400394</td>\n",
       "      <td>0.0</td>\n",
       "    </tr>\n",
       "    <tr>\n",
       "      <th>999</th>\n",
       "      <td>99</td>\n",
       "      <td>9</td>\n",
       "      <td>-0.119242</td>\n",
       "      <td>-0.823314</td>\n",
       "      <td>1.668055</td>\n",
       "      <td>-0.862772</td>\n",
       "      <td>0.0</td>\n",
       "    </tr>\n",
       "  </tbody>\n",
       "</table>\n",
       "<p>1000 rows × 7 columns</p>\n",
       "</div>"
      ],
      "text/plain": [
       "variable  id  time     X0_ts     X1_ts     X2_ts     X3_ts  Y_ts\n",
       "0          0     0  0.040214  0.736119  0.903988 -0.271101   0.0\n",
       "1          0     1 -0.492273 -0.268303 -0.921176 -0.812881   1.0\n",
       "2          0     2  0.309823 -0.386123  1.315453 -0.241455   0.0\n",
       "3          0     3  1.871679  0.845866  1.473744  0.437033   0.0\n",
       "4          0     4  1.224608  0.097955  0.098419 -0.635451   0.0\n",
       "..        ..   ...       ...       ...       ...       ...   ...\n",
       "995       99     5  0.346083  0.991062 -0.432751  1.140907   0.0\n",
       "996       99     6 -1.823515  0.312444  0.004809  0.671610   0.0\n",
       "997       99     7  0.035619 -0.076120 -0.245551  0.130265   0.0\n",
       "998       99     8  0.850422  1.200439  0.028020 -1.400394   0.0\n",
       "999       99     9 -0.119242 -0.823314  1.668055 -0.862772   0.0\n",
       "\n",
       "[1000 rows x 7 columns]"
      ]
     },
     "execution_count": 8,
     "metadata": {},
     "output_type": "execute_result"
    }
   ],
   "source": [
    "# visualize pandas dataframe for static data: \n",
    "dataset.temporal_data"
   ]
  },
  {
   "cell_type": "code",
   "execution_count": 9,
   "id": "d9c07dcd-a414-4597-881e-7ca0819de6fa",
   "metadata": {},
   "outputs": [
    {
     "data": {
      "text/html": [
       "<div>\n",
       "<style scoped>\n",
       "    .dataframe tbody tr th:only-of-type {\n",
       "        vertical-align: middle;\n",
       "    }\n",
       "\n",
       "    .dataframe tbody tr th {\n",
       "        vertical-align: top;\n",
       "    }\n",
       "\n",
       "    .dataframe thead th {\n",
       "        text-align: right;\n",
       "    }\n",
       "</style>\n",
       "<table border=\"1\" class=\"dataframe\">\n",
       "  <thead>\n",
       "    <tr style=\"text-align: right;\">\n",
       "      <th>variable</th>\n",
       "      <th>id</th>\n",
       "      <th>time</th>\n",
       "      <th>X0_ts</th>\n",
       "      <th>X1_ts</th>\n",
       "      <th>X2_ts</th>\n",
       "      <th>X3_ts</th>\n",
       "      <th>Y_ts</th>\n",
       "    </tr>\n",
       "  </thead>\n",
       "  <tbody>\n",
       "    <tr>\n",
       "      <th>0</th>\n",
       "      <td>0</td>\n",
       "      <td>0</td>\n",
       "      <td>0.040214</td>\n",
       "      <td>0.736119</td>\n",
       "      <td>0.903988</td>\n",
       "      <td>-0.271101</td>\n",
       "      <td>0.0</td>\n",
       "    </tr>\n",
       "    <tr>\n",
       "      <th>1</th>\n",
       "      <td>0</td>\n",
       "      <td>1</td>\n",
       "      <td>-0.492273</td>\n",
       "      <td>-0.268303</td>\n",
       "      <td>-0.921176</td>\n",
       "      <td>-0.812881</td>\n",
       "      <td>1.0</td>\n",
       "    </tr>\n",
       "    <tr>\n",
       "      <th>2</th>\n",
       "      <td>0</td>\n",
       "      <td>2</td>\n",
       "      <td>0.309823</td>\n",
       "      <td>-0.386123</td>\n",
       "      <td>1.315453</td>\n",
       "      <td>-0.241455</td>\n",
       "      <td>0.0</td>\n",
       "    </tr>\n",
       "    <tr>\n",
       "      <th>3</th>\n",
       "      <td>0</td>\n",
       "      <td>3</td>\n",
       "      <td>1.871679</td>\n",
       "      <td>0.845866</td>\n",
       "      <td>1.473744</td>\n",
       "      <td>0.437033</td>\n",
       "      <td>0.0</td>\n",
       "    </tr>\n",
       "    <tr>\n",
       "      <th>4</th>\n",
       "      <td>0</td>\n",
       "      <td>4</td>\n",
       "      <td>1.224608</td>\n",
       "      <td>0.097955</td>\n",
       "      <td>0.098419</td>\n",
       "      <td>-0.635451</td>\n",
       "      <td>0.0</td>\n",
       "    </tr>\n",
       "    <tr>\n",
       "      <th>...</th>\n",
       "      <td>...</td>\n",
       "      <td>...</td>\n",
       "      <td>...</td>\n",
       "      <td>...</td>\n",
       "      <td>...</td>\n",
       "      <td>...</td>\n",
       "      <td>...</td>\n",
       "    </tr>\n",
       "    <tr>\n",
       "      <th>995</th>\n",
       "      <td>99</td>\n",
       "      <td>5</td>\n",
       "      <td>0.346083</td>\n",
       "      <td>0.991062</td>\n",
       "      <td>-0.432751</td>\n",
       "      <td>1.140907</td>\n",
       "      <td>0.0</td>\n",
       "    </tr>\n",
       "    <tr>\n",
       "      <th>996</th>\n",
       "      <td>99</td>\n",
       "      <td>6</td>\n",
       "      <td>-1.823515</td>\n",
       "      <td>0.312444</td>\n",
       "      <td>0.004809</td>\n",
       "      <td>0.671610</td>\n",
       "      <td>0.0</td>\n",
       "    </tr>\n",
       "    <tr>\n",
       "      <th>997</th>\n",
       "      <td>99</td>\n",
       "      <td>7</td>\n",
       "      <td>0.035619</td>\n",
       "      <td>-0.076120</td>\n",
       "      <td>-0.245551</td>\n",
       "      <td>0.130265</td>\n",
       "      <td>0.0</td>\n",
       "    </tr>\n",
       "    <tr>\n",
       "      <th>998</th>\n",
       "      <td>99</td>\n",
       "      <td>8</td>\n",
       "      <td>0.850422</td>\n",
       "      <td>1.200439</td>\n",
       "      <td>0.028020</td>\n",
       "      <td>-1.400394</td>\n",
       "      <td>0.0</td>\n",
       "    </tr>\n",
       "    <tr>\n",
       "      <th>999</th>\n",
       "      <td>99</td>\n",
       "      <td>9</td>\n",
       "      <td>-0.119242</td>\n",
       "      <td>-0.823314</td>\n",
       "      <td>1.668055</td>\n",
       "      <td>-0.862772</td>\n",
       "      <td>0.0</td>\n",
       "    </tr>\n",
       "  </tbody>\n",
       "</table>\n",
       "<p>1000 rows × 7 columns</p>\n",
       "</div>"
      ],
      "text/plain": [
       "variable  id  time     X0_ts     X1_ts     X2_ts     X3_ts  Y_ts\n",
       "0          0     0  0.040214  0.736119  0.903988 -0.271101   0.0\n",
       "1          0     1 -0.492273 -0.268303 -0.921176 -0.812881   1.0\n",
       "2          0     2  0.309823 -0.386123  1.315453 -0.241455   0.0\n",
       "3          0     3  1.871679  0.845866  1.473744  0.437033   0.0\n",
       "4          0     4  1.224608  0.097955  0.098419 -0.635451   0.0\n",
       "..        ..   ...       ...       ...       ...       ...   ...\n",
       "995       99     5  0.346083  0.991062 -0.432751  1.140907   0.0\n",
       "996       99     6 -1.823515  0.312444  0.004809  0.671610   0.0\n",
       "997       99     7  0.035619 -0.076120 -0.245551  0.130265   0.0\n",
       "998       99     8  0.850422  1.200439  0.028020 -1.400394   0.0\n",
       "999       99     9 -0.119242 -0.823314  1.668055 -0.862772   0.0\n",
       "\n",
       "[1000 rows x 7 columns]"
      ]
     },
     "execution_count": 9,
     "metadata": {},
     "output_type": "execute_result"
    }
   ],
   "source": [
    "# visualize pandas dataframe for time-series data: \n",
    "dataset.temporal_data"
   ]
  },
  {
   "cell_type": "markdown",
   "id": "4739aae3-8cbe-40e9-8fb6-5a0fa2bc6f55",
   "metadata": {},
   "source": [
    "## Define problem\n",
    "Check if problem definition works "
   ]
  },
  {
   "cell_type": "code",
   "execution_count": 10,
   "id": "8cf93d3c-e402-441d-bcac-702324d4d080",
   "metadata": {},
   "outputs": [],
   "source": [
    "from afa.data_modelling.problem.problem_ts import ProblemMaker_ts"
   ]
  },
  {
   "cell_type": "code",
   "execution_count": 11,
   "id": "f1a2a90b-bd16-40e3-acf9-acfa1883a2bc",
   "metadata": {},
   "outputs": [
    {
     "name": "stderr",
     "output_type": "stream",
     "text": [
      "100%|████████████████████████████████████████████████████████████████████████████████| 100/100 [00:00<00:00, 894.23it/s]\n",
      "100%|████████████████████████████████████████████████████████████████████████████████| 100/100 [00:00<00:00, 798.38it/s]\n",
      "100%|████████████████████████████████████████████████████████████████████████████████| 100/100 [00:00<00:00, 723.57it/s]\n"
     ]
    }
   ],
   "source": [
    "# define problem specifications\n",
    "label_name = 'Y_ts'\n",
    "problem = 'online'\n",
    "treatment = None\n",
    "max_seq_len = 10\n",
    "\n",
    "problem_maker = ProblemMaker_ts(    problem    = problem, \n",
    "                                    label      = [label_name], \n",
    "                                    treatment  = treatment, \n",
    "                                    max_seq_len = max_seq_len)\n",
    "\n",
    "dataset  = problem_maker.fit_transform(dataset)"
   ]
  },
  {
   "cell_type": "code",
   "execution_count": 12,
   "id": "607c9818-69b6-48bd-a8b3-a31da1026efe",
   "metadata": {},
   "outputs": [
    {
     "data": {
      "text/plain": [
       "{'temporal': ['X0_ts', 'X1_ts', 'X2_ts', 'X3_ts'],\n",
       " 'data': ['X0', 'X1', 'Y'],\n",
       " 'treatment': None,\n",
       " 'label': ['Y_ts'],\n",
       " 'super_data': ['Y', 'X0', 'X1'],\n",
       " 'super_temporal': ['X1_ts', 'X3_ts', 'X2_ts', 'X0_ts']}"
      ]
     },
     "execution_count": 12,
     "metadata": {},
     "output_type": "execute_result"
    }
   ],
   "source": [
    "# check if features/superfeatures/labels etc have been correctly assigned \n",
    "dataset.feature_name"
   ]
  },
  {
   "cell_type": "markdown",
   "id": "c228fcb6-3521-471c-a45a-081eed2f685a",
   "metadata": {},
   "source": [
    "## Explain the synthetic data generation process\n",
    "Store information in reports folder in latex / markdown format"
   ]
  },
  {
   "cell_type": "code",
   "execution_count": 13,
   "id": "e9a38e31",
   "metadata": {},
   "outputs": [],
   "source": [
    "data_generator.explain(file= explanation_file + '.md'  , format='markdown')\n",
    "data_generator.explain(file= explanation_file + '.tex'  , format='latex')"
   ]
  },
  {
   "cell_type": "code",
   "execution_count": null,
   "id": "bf62590b-5d7b-4d79-ba3c-354b2754a4fb",
   "metadata": {},
   "outputs": [],
   "source": []
  },
  {
   "cell_type": "code",
   "execution_count": null,
   "id": "bbbb7b2b-e9ef-4672-acfc-1e37c080fc05",
   "metadata": {},
   "outputs": [],
   "source": []
  }
 ],
 "metadata": {
  "kernelspec": {
   "display_name": "afa_env",
   "language": "python",
   "name": "afa_env"
  },
  "language_info": {
   "codemirror_mode": {
    "name": "ipython",
    "version": 3
   },
   "file_extension": ".py",
   "mimetype": "text/x-python",
   "name": "python",
   "nbconvert_exporter": "python",
   "pygments_lexer": "ipython3",
   "version": "3.10.8"
  },
  "toc": {
   "base_numbering": 1,
   "nav_menu": {},
   "number_sections": true,
   "sideBar": true,
   "skip_h1_title": false,
   "title_cell": "Table of Contents",
   "title_sidebar": "Contents",
   "toc_cell": false,
   "toc_position": {
    "height": "calc(100% - 180px)",
    "left": "10px",
    "top": "150px",
    "width": "282px"
   },
   "toc_section_display": true,
   "toc_window_display": true
  },
  "varInspector": {
   "cols": {
    "lenName": 16,
    "lenType": 16,
    "lenVar": 40
   },
   "kernels_config": {
    "python": {
     "delete_cmd_postfix": "",
     "delete_cmd_prefix": "del ",
     "library": "var_list.py",
     "varRefreshCmd": "print(var_dic_list())"
    },
    "r": {
     "delete_cmd_postfix": ") ",
     "delete_cmd_prefix": "rm(",
     "library": "var_list.r",
     "varRefreshCmd": "cat(var_dic_list()) "
    }
   },
   "oldHeight": 713.852,
   "position": {
    "height": "40px",
    "left": "1650px",
    "right": "20px",
    "top": "120px",
    "width": "250px"
   },
   "types_to_exclude": [
    "module",
    "function",
    "builtin_function_or_method",
    "instance",
    "_Feature"
   ],
   "varInspector_section_display": "none",
   "window_display": true
  }
 },
 "nbformat": 4,
 "nbformat_minor": 5
}
