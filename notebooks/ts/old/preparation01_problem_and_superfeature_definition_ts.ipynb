{
 "cells": [
  {
   "cell_type": "markdown",
   "id": "738d755b",
   "metadata": {},
   "source": [
    "# Define prediction problem and superfeatures for your dataset"
   ]
  },
  {
   "cell_type": "markdown",
   "id": "0d7cd1d6-a92c-428c-a091-05d2ae4cd7d8",
   "metadata": {
    "tags": []
   },
   "source": [
    "This tutorial shows how to define the prediction problem (what to predict) and the superfeatures (groups of features that are usually missing jointly) for your dataset.\n",
    "\n",
    "Note: Also define a datasplit"
   ]
  },
  {
   "cell_type": "markdown",
   "id": "13930b5e-8308-4615-8680-a49baea5c98f",
   "metadata": {},
   "source": [
    "### Define paths "
   ]
  },
  {
   "cell_type": "code",
   "execution_count": 14,
   "id": "c19abe93-2afa-466e-b07c-85a07037fe2c",
   "metadata": {},
   "outputs": [],
   "source": [
    "# which dataset to work on \n",
    "dataset_name   = \"synthetic_1\""
   ]
  },
  {
   "cell_type": "code",
   "execution_count": 15,
   "id": "4f10730a-9f96-4a86-8a6d-1db728bee23b",
   "metadata": {},
   "outputs": [],
   "source": [
    "# data specifications \n",
    "data_dir            = \"../../../data/ts/\" + dataset_name + \"/fully_observed/\" \n",
    "data_file          = data_dir + dataset_name + '_static.csv.gz' \n",
    "temporal_data_file = data_dir + dataset_name + '_ts_eav.csv.gz' \n",
    "\n",
    "# file to save problem\n",
    "problem_file = data_dir + 'problem/' + 'problem.yaml'\n",
    "\n",
    "# file to save superfeatures\n",
    "superfeature_mapping_file = data_dir + 'superfeatures.csv'\n",
    "\n",
    "# file for datasplit \n",
    "folds_file = data_dir + 'folds/' + 'fold_list.hkl'"
   ]
  },
  {
   "cell_type": "markdown",
   "id": "6bd0f18a-4707-4f42-ae61-46f01a92dd08",
   "metadata": {},
   "source": [
    "### Imports"
   ]
  },
  {
   "cell_type": "code",
   "execution_count": 16,
   "id": "8687a621-4eb6-4a2b-8628-fd650de0c1c0",
   "metadata": {},
   "outputs": [
    {
     "name": "stdout",
     "output_type": "stream",
     "text": [
      "The autoreload extension is already loaded. To reload it, use:\n",
      "  %reload_ext autoreload\n"
     ]
    }
   ],
   "source": [
    "%load_ext autoreload\n",
    "%autoreload 2\n",
    "\n",
    "import sys\n",
    "import os\n",
    "\n",
    "# navigate to afa directory \n",
    "sys.path.insert(0, os.path.abspath('../../afa'))"
   ]
  },
  {
   "cell_type": "markdown",
   "id": "8ad0fb0a-e940-47e0-82dd-a5e3e34b1790",
   "metadata": {},
   "source": [
    "## Define problem"
   ]
  },
  {
   "cell_type": "markdown",
   "id": "a2a8f194-bce3-461f-b4b3-87bb227e5052",
   "metadata": {},
   "source": [
    "We define the problem, by setting what we want to predict. We save the problem in a .yaml file for faster loading."
   ]
  },
  {
   "cell_type": "code",
   "execution_count": 17,
   "id": "f1d67f7d-964e-4aa5-97fe-e2dc2b87bcb0",
   "metadata": {},
   "outputs": [],
   "source": [
    "from afa.data_modelling.problem.utils import load_problem_specs, save_problem_specs"
   ]
  },
  {
   "cell_type": "code",
   "execution_count": 18,
   "id": "3a6df3b2-9f18-4c7b-999a-7f40df744289",
   "metadata": {},
   "outputs": [],
   "source": [
    "# define problem specifications\n",
    "problem_specs = { 'label_name' : ['Y_ts'], \n",
    "                  'problem'    : 'online',\n",
    "                  'treatment' : None, \n",
    "                  'max_seq_len' : 10\n",
    "                }\n",
    "\n",
    "# save\n",
    "save_problem_specs( problem_specs  = problem_specs , problem_file = problem_file )"
   ]
  },
  {
   "cell_type": "code",
   "execution_count": 19,
   "id": "9a0da3af-35cc-43ba-a31d-121e5da9ac5d",
   "metadata": {},
   "outputs": [],
   "source": [
    "problem_specs = load_problem_specs(problem_file = problem_file)\n",
    "problem_specs['treatment']"
   ]
  },
  {
   "cell_type": "markdown",
   "id": "01b2462c-51c4-40de-8f7e-6ddeeb1abc80",
   "metadata": {},
   "source": [
    "## Define superfeature_mapping"
   ]
  },
  {
   "cell_type": "markdown",
   "id": "240541ec-fdac-45af-a283-96e00a36bb57",
   "metadata": {},
   "source": [
    "Superfeatures contain multiple features that are usually acquired/ missing jointly. Think e.g. of an image where the image is the superfeature and the pixels are the features.   \n",
    "They are thus especially important for defining the missingness process. \n",
    "If no superfeatures are defined, the default assumption is that every feature is also its own superfeature. \n",
    "\n",
    "Note: The superfeature generation for synthetic data is already included in the preparation00 tutorial. \n",
    "\n",
    "You can test the superfeature mapping by loading the data with the specified file in tutorial_classification_static.ipynb"
   ]
  },
  {
   "cell_type": "markdown",
   "id": "d0ed0f84-9fb1-4840-bef7-f4f8518c7590",
   "metadata": {},
   "source": [
    "### Option 1: Create superfeature mapping directly via a .csv file\n",
    "Fill a .csv file by \n",
    "- listing superfeature names as columnnames\n",
    "- writing the feature names below the corresponding superfeatures (can have different length columns). Make sure the feature names are spelled exactly how you load them in the dataframe "
   ]
  },
  {
   "cell_type": "markdown",
   "id": "fe351046-f008-4dc2-93a5-e926b3b53441",
   "metadata": {},
   "source": [
    "### Option 2: Define them here and save the mapping \n",
    "A second option is to define them as a dictionary and save it. "
   ]
  },
  {
   "cell_type": "code",
   "execution_count": 20,
   "id": "4432cac7-65a5-4031-8e6c-bc86bfc0b22b",
   "metadata": {},
   "outputs": [],
   "source": [
    "from afa.data_modelling.datasets.superfeatures.utils import save_name_mapping"
   ]
  },
  {
   "cell_type": "code",
   "execution_count": 21,
   "id": "311329bd-d98a-4711-9acc-712a8ac8c48c",
   "metadata": {},
   "outputs": [],
   "source": [
    "superfeature2feature_name_mapping = \\\n",
    "    { 'superX0' : ['X0', 'X1'], \n",
    "      'superY'  : ['Y' ], \n",
    "      'superX0_ts' : ['X0_ts'], \n",
    "      'superX1_ts' : ['X1_ts'], \n",
    "      'superX2_ts' : ['X2_ts', 'X3_ts'] }\n",
    "\n",
    "save_name_mapping( superfeature2feature_name_mapping , mapping_file  = superfeature_mapping_file   )  "
   ]
  },
  {
   "cell_type": "markdown",
   "id": "7fd50cb8-f3a2-499f-8a90-f6cd70a9b0ca",
   "metadata": {},
   "source": [
    "### Option 3: Prepared superfeature mappings (not recommended)\n",
    "Lastly, for specific datasets, the superfeature mapping creation can be stored automatically executed. "
   ]
  },
  {
   "cell_type": "code",
   "execution_count": 22,
   "id": "93ed9d65-7c78-4cfc-9cb8-07b3277e2d36",
   "metadata": {},
   "outputs": [],
   "source": [
    "from configurations.data_settings.define_data_settings_ts import generate_superfeature_mapping_ts\n",
    "superfeature2feature_name_mapping = generate_superfeature_mapping_ts( dataset_name ,  data_dir = data_dir )"
   ]
  },
  {
   "cell_type": "code",
   "execution_count": 23,
   "id": "38c1f858-346a-4bc6-9dae-51229c7234dc",
   "metadata": {},
   "outputs": [
    {
     "data": {
      "text/plain": [
       "{'superX0': ['X0', 'X1'],\n",
       " 'superY': ['Y'],\n",
       " 'superX0_ts': ['X0_ts'],\n",
       " 'superX1_ts': ['X1_ts'],\n",
       " 'superX2_ts': ['X2_ts', 'X3_ts']}"
      ]
     },
     "execution_count": 23,
     "metadata": {},
     "output_type": "execute_result"
    }
   ],
   "source": [
    "superfeature2feature_name_mapping"
   ]
  },
  {
   "cell_type": "markdown",
   "id": "f953b414-13f3-46c2-9d27-a8b33a73e7c0",
   "metadata": {},
   "source": [
    "## Test by loading superfeature mapping "
   ]
  },
  {
   "cell_type": "markdown",
   "id": "5f631c4c-ccde-4b39-9c8f-644d31474a85",
   "metadata": {},
   "source": [
    "### Test 1: load superfeature mapping by itself "
   ]
  },
  {
   "cell_type": "code",
   "execution_count": 24,
   "id": "3f4e92db-21e3-44f8-a6ff-e97873444c5e",
   "metadata": {},
   "outputs": [],
   "source": [
    "from afa.data_modelling.datasets.superfeatures.utils import load_superfeature2feature_name_mapping\n",
    "superfeature2feature_name_mapping = load_superfeature2feature_name_mapping( superfeature_mapping_file ) "
   ]
  },
  {
   "cell_type": "code",
   "execution_count": 25,
   "id": "e9a38e31",
   "metadata": {},
   "outputs": [
    {
     "data": {
      "text/plain": [
       "{'superX0': ['X0', 'X1'],\n",
       " 'superY': ['Y'],\n",
       " 'superX0_ts': ['X0_ts'],\n",
       " 'superX1_ts': ['X1_ts'],\n",
       " 'superX2_ts': ['X2_ts', 'X3_ts']}"
      ]
     },
     "execution_count": 25,
     "metadata": {},
     "output_type": "execute_result"
    }
   ],
   "source": [
    "superfeature2feature_name_mapping"
   ]
  },
  {
   "cell_type": "markdown",
   "id": "db91c82e-3fe4-4e1b-b03f-d82d996accc9",
   "metadata": {
    "tags": []
   },
   "source": [
    "## Test: load dataset with problem and superfeature mapping "
   ]
  },
  {
   "cell_type": "code",
   "execution_count": 26,
   "id": "0c797ba3-e0cf-471f-a1b0-25e57f518b91",
   "metadata": {},
   "outputs": [],
   "source": [
    "from afa.data_modelling.datasets.data_loader.data_loader_ts import DataLoader_ts"
   ]
  },
  {
   "cell_type": "code",
   "execution_count": 27,
   "id": "a746175d-aa82-4492-b1a3-de0ef534faed",
   "metadata": {},
   "outputs": [
    {
     "name": "stderr",
     "output_type": "stream",
     "text": [
      "100%|████████████████████████████████████████████████████████████████████████████████| 100/100 [00:00<00:00, 751.29it/s]\n",
      "100%|████████████████████████████████████████████████████████████████████████████████| 100/100 [00:00<00:00, 783.22it/s]\n",
      "100%|████████████████████████████████████████████████████████████████████████████████| 100/100 [00:00<00:00, 746.70it/s]\n"
     ]
    }
   ],
   "source": [
    "# load data\n",
    "data_loader = DataLoader_ts( data_file                  = data_file,\n",
    "                             temporal_data_file         = temporal_data_file,\n",
    "                             superfeature_mapping_file  = superfeature_mapping_file,\n",
    "                             problem_file               = problem_file)\n",
    "dataset = data_loader.load() "
   ]
  },
  {
   "cell_type": "code",
   "execution_count": 28,
   "id": "130d9745-38f4-45c6-b1eb-4e16dad25530",
   "metadata": {},
   "outputs": [
    {
     "data": {
      "text/plain": [
       "'online'"
      ]
     },
     "execution_count": 28,
     "metadata": {},
     "output_type": "execute_result"
    }
   ],
   "source": [
    "dataset.problem"
   ]
  },
  {
   "cell_type": "code",
   "execution_count": 29,
   "id": "580c39b8-af65-4272-bbd4-6f071f4af4a0",
   "metadata": {},
   "outputs": [
    {
     "data": {
      "text/plain": [
       "{'superX0': ['X0', 'X1'],\n",
       " 'superY': ['Y'],\n",
       " 'superX0_ts': ['X0_ts'],\n",
       " 'superX1_ts': ['X1_ts'],\n",
       " 'superX2_ts': ['X2_ts', 'X3_ts']}"
      ]
     },
     "execution_count": 29,
     "metadata": {},
     "output_type": "execute_result"
    }
   ],
   "source": [
    "# check superfeature mapping\n",
    "dataset.superfeature2feature_name_mapping"
   ]
  },
  {
   "cell_type": "code",
   "execution_count": 30,
   "id": "8a8ad11b-e52b-48d1-9b81-75fc7ec4fb98",
   "metadata": {},
   "outputs": [
    {
     "data": {
      "text/plain": [
       "{'temporal': ['X0_ts', 'X1_ts', 'X2_ts', 'X3_ts'],\n",
       " 'data': ['X0', 'X1', 'Y'],\n",
       " 'treatment': None,\n",
       " 'label': ['Y_ts'],\n",
       " 'super_data': ['superX0', 'superY'],\n",
       " 'super_temporal': ['superX0_ts', 'superX1_ts', 'superX2_ts']}"
      ]
     },
     "execution_count": 30,
     "metadata": {},
     "output_type": "execute_result"
    }
   ],
   "source": [
    "# check if resulting feature/superfeature names are correct \n",
    "dataset.feature_name"
   ]
  },
  {
   "cell_type": "markdown",
   "id": "b83ef821-2a0c-4c90-bf3a-840d048bf4b9",
   "metadata": {},
   "source": [
    "## Define data split "
   ]
  },
  {
   "cell_type": "code",
   "execution_count": 31,
   "id": "c53c7c2e-8e0b-4e6a-820f-ae65ab0576db",
   "metadata": {},
   "outputs": [],
   "source": [
    "# define the datasplit \n",
    "dataset.multi_split( prob_list = [0.8,0.1,0.1], split_names = [\"train\", \"val\", \"test\"])\n",
    "\n",
    "# save the datasplot \n",
    "dataset.save_folds( data_dir ) "
   ]
  },
  {
   "cell_type": "code",
   "execution_count": 32,
   "id": "cb35b527-db7e-412a-83ae-1b735a1165c7",
   "metadata": {},
   "outputs": [
    {
     "name": "stderr",
     "output_type": "stream",
     "text": [
      "100%|████████████████████████████████████████████████████████████████████████████████| 100/100 [00:00<00:00, 805.01it/s]\n",
      "100%|████████████████████████████████████████████████████████████████████████████████| 100/100 [00:00<00:00, 986.87it/s]\n",
      "100%|████████████████████████████████████████████████████████████████████████████████| 100/100 [00:00<00:00, 866.87it/s]\n"
     ]
    }
   ],
   "source": [
    "# load data\n",
    "data_loader = DataLoader_ts(   data_file                  = data_file,\n",
    "                               temporal_data_file         = temporal_data_file,\n",
    "                               superfeature_mapping_file  = superfeature_mapping_file,\n",
    "                               problem_file               = problem_file, \n",
    "                               folds_file                 = folds_file)\n",
    "dataset = data_loader.load() "
   ]
  },
  {
   "cell_type": "code",
   "execution_count": 33,
   "id": "02b585b3-c3cb-4730-bde0-22e0bd413ceb",
   "metadata": {},
   "outputs": [],
   "source": [
    "data = dataset.get_data(fold = 0, split = \"train\") "
   ]
  },
  {
   "cell_type": "code",
   "execution_count": null,
   "id": "4fa0602a-a49d-453e-b38d-5789d68663a8",
   "metadata": {},
   "outputs": [],
   "source": []
  },
  {
   "cell_type": "code",
   "execution_count": null,
   "id": "70828748-e545-4184-9697-cf22307202e5",
   "metadata": {},
   "outputs": [],
   "source": []
  }
 ],
 "metadata": {
  "kernelspec": {
   "display_name": "afa_env",
   "language": "python",
   "name": "afa_env"
  },
  "language_info": {
   "codemirror_mode": {
    "name": "ipython",
    "version": 3
   },
   "file_extension": ".py",
   "mimetype": "text/x-python",
   "name": "python",
   "nbconvert_exporter": "python",
   "pygments_lexer": "ipython3",
   "version": "3.10.8"
  },
  "toc": {
   "base_numbering": 1,
   "nav_menu": {},
   "number_sections": true,
   "sideBar": true,
   "skip_h1_title": false,
   "title_cell": "Table of Contents",
   "title_sidebar": "Contents",
   "toc_cell": false,
   "toc_position": {
    "height": "calc(100% - 180px)",
    "left": "10px",
    "top": "150px",
    "width": "282px"
   },
   "toc_section_display": true,
   "toc_window_display": true
  },
  "varInspector": {
   "cols": {
    "lenName": 16,
    "lenType": 16,
    "lenVar": 40
   },
   "kernels_config": {
    "python": {
     "delete_cmd_postfix": "",
     "delete_cmd_prefix": "del ",
     "library": "var_list.py",
     "varRefreshCmd": "print(var_dic_list())"
    },
    "r": {
     "delete_cmd_postfix": ") ",
     "delete_cmd_prefix": "rm(",
     "library": "var_list.r",
     "varRefreshCmd": "cat(var_dic_list()) "
    }
   },
   "oldHeight": 713.852,
   "position": {
    "height": "40px",
    "left": "1650px",
    "right": "20px",
    "top": "120px",
    "width": "250px"
   },
   "types_to_exclude": [
    "module",
    "function",
    "builtin_function_or_method",
    "instance",
    "_Feature"
   ],
   "varInspector_section_display": "none",
   "window_display": true
  }
 },
 "nbformat": 4,
 "nbformat_minor": 5
}
