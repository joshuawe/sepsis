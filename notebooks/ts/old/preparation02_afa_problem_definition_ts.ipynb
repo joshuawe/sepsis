{
 "cells": [
  {
   "cell_type": "markdown",
   "id": "f264d4da",
   "metadata": {},
   "source": [
    "# Define the AFA problem (action options and costs)\n",
    "To properly specify the AFA problem, the costs and available actions have to be defined. \n",
    "\n",
    "In static settings, we do currently only support \n",
    "- misclassification cost (cost if the prediction is wrong, defined by a cost matrix) \n",
    "- feature acquisition cost (cost for acquiring a certain feature, defined by a vector) \n",
    "\n",
    "We currently do not allow other costs, e.g.:\n",
    "- time to diagnosis cost (when we acquire more feature, we might delay the diagnosis which produces a cost) \n",
    "\n",
    "In **time-series** settings, we additionally require:\n",
    "- resolution (e.g. 6 hours) which describes the intervals at which actions can be taken.\n",
    "- delay (e.g. 2 hours) which describes after which time the acquired features are available. "
   ]
  },
  {
   "cell_type": "markdown",
   "id": "b16c4fbc-764b-4964-bda2-da6a585806cd",
   "metadata": {},
   "source": [
    "### Define paths "
   ]
  },
  {
   "cell_type": "code",
   "execution_count": 1,
   "id": "4d05aa1a-37b6-4db3-a465-0aab6e63e870",
   "metadata": {},
   "outputs": [],
   "source": [
    "# which dataset to work on \n",
    "dataset_name   = \"synthetic_1\""
   ]
  },
  {
   "cell_type": "code",
   "execution_count": 2,
   "id": "628bdd5b-4b7a-4540-a8c4-a823bf7608c2",
   "metadata": {},
   "outputs": [],
   "source": [
    "# data specifications \n",
    "data_dir            = \"../../../data/ts/\" + dataset_name + \"/fully_observed/\" \n",
    "\n",
    "afa_problem_files = {\n",
    "        'action_file'    : data_dir + 'afa_problem/' + 'acquisition_actions.csv', \n",
    "        'prediction_cost_file'    : data_dir + 'afa_problem/' + 'prediction_cost.csv'\n",
    "                }\n",
    "\n",
    "# reporting\n",
    "explanation_file = data_dir + 'reports/' +  'afa_problem'"
   ]
  },
  {
   "cell_type": "markdown",
   "id": "5c3909f7-9f52-40c6-b773-58a140083a00",
   "metadata": {},
   "source": [
    "### Imports "
   ]
  },
  {
   "cell_type": "code",
   "execution_count": 3,
   "id": "4b2fc6e8-ad1e-4335-9ec4-9263808ed82f",
   "metadata": {},
   "outputs": [],
   "source": [
    "%load_ext autoreload\n",
    "%autoreload 2\n",
    "\n",
    "import sys\n",
    "import os\n",
    "sys.path.insert(0, os.path.abspath('../../afa'))"
   ]
  },
  {
   "cell_type": "markdown",
   "id": "8044676e-33c2-4ecd-996f-fcd43055b800",
   "metadata": {},
   "source": [
    "## Part 1: Define Action options (and acquisition costs) "
   ]
  },
  {
   "cell_type": "markdown",
   "id": "3de96307-cbe7-4ee6-9b5f-ff3ea0fe412c",
   "metadata": {},
   "source": [
    "### Option 1: Define costs directly via .csv files\n",
    "Fill a .csv file ('acquisition_actions.csv') by \n",
    "- listing action names as columnnames\n",
    "- filling the second row with the acquisition cost of each acquisition action \n",
    "- filling the third row with the resolution of the respective action (e.g. every 6 hours) \n",
    "- listing in the subsequent rows all superfeature names that are acquired by the respective action \n"
   ]
  },
  {
   "cell_type": "markdown",
   "id": "4b69e572-13ae-4a96-8d8a-03d0a8954d01",
   "metadata": {},
   "source": [
    "### Option 2: Define the action options here and save the mapping \n",
    "A second option is to define the action options as a dictionary of dictionaries and save it.  \n",
    "Format:  \n",
    "action_options :\n",
    "    dictionary defining the action options (keys of dict), each action is a dict with \n",
    "- 'cost', a float value for the cost\n",
    "- 'target_superfeatures', list of strings\n",
    "    the names of the superfeatures that can be acquired with one action \n",
    "- for time-series  \n",
    "    - 'resolution', a float values that says after how many time steps this action can be taken again\n",
    "    - 'delay (e.g. 2 hours) which describes after which time the acquired features are available. "
   ]
  },
  {
   "cell_type": "code",
   "execution_count": 4,
   "id": "0ce11abd-8727-4f66-b796-d4e5ec927913",
   "metadata": {},
   "outputs": [
    {
     "name": "stderr",
     "output_type": "stream",
     "text": [
      "2023-02-05 20:28:26.881237: W tensorflow/stream_executor/platform/default/dso_loader.cc:64] Could not load dynamic library 'libcudart.so.11.0'; dlerror: libcudart.so.11.0: cannot open shared object file: No such file or directory\n",
      "2023-02-05 20:28:26.881277: I tensorflow/stream_executor/cuda/cudart_stub.cc:29] Ignore above cudart dlerror if you do not have a GPU set up on your machine.\n"
     ]
    }
   ],
   "source": [
    "from afa.afa_problem.utils import save_action_options"
   ]
  },
  {
   "cell_type": "code",
   "execution_count": 5,
   "id": "f4f4272d-e7ad-4565-a2c2-8d637e7e3e3a",
   "metadata": {},
   "outputs": [],
   "source": [
    "action_options = \\\n",
    "    { 'acquire_superX1_ts' : {\n",
    "                            'cost' : 0.5, \n",
    "                            'target_superfeatures' : ['superX1_ts'], \n",
    "                            'resolution' : 2, \n",
    "                            'delay': 1\n",
    "                            }, \n",
    "      'acquire_superX2_ts' : {\n",
    "                            'cost' : 1, \n",
    "                            'target_superfeatures' : ['superX2_ts'],\n",
    "                            'resolution' : 2, \n",
    "                            'delay': 0\n",
    "                            }\n",
    "    }\n",
    "\n",
    "\n",
    "save_action_options( action_options = action_options , action_file = afa_problem_files['action_file'] )  "
   ]
  },
  {
   "cell_type": "markdown",
   "id": "320f691a-35ad-4c03-8460-66b2678adea4",
   "metadata": {},
   "source": [
    "### Option 3: Prepared action options (not recommended)\n",
    "Lastly, for specific datasets, the action option creation can be automatically executed. This is however not recommended. "
   ]
  },
  {
   "cell_type": "code",
   "execution_count": 6,
   "id": "c2058760-4a6d-4fcb-96ba-e92f33c3f126",
   "metadata": {},
   "outputs": [],
   "source": [
    "from configurations.data_settings.define_data_settings_ts import generate_action_options_ts\n",
    "\n",
    "action_options = generate_action_options_ts( dataset_name ,  data_dir = data_dir )"
   ]
  },
  {
   "cell_type": "markdown",
   "id": "baca7634-90cb-4fbe-ad62-9146373f3ec5",
   "metadata": {},
   "source": [
    "## Part 2: Define prediction costs (for misclassification)"
   ]
  },
  {
   "cell_type": "markdown",
   "id": "c4fa02be-c7fc-4377-be1b-76c700e942fa",
   "metadata": {},
   "source": [
    "### Option 1: Define costs directly via .csv files\n",
    "Fill a .csv file ('prediction_costs.csv') by \n",
    "- listing 'predicted Y = 0', 'predicted Y = 1', ... as column names \n",
    "- listing 'true Y = 0', 'true Y = 1', ... as rownames \n",
    "- filling the the resulting matrix with the costs\n",
    "-> entry(i+1,j+1) is the cost of predicting a datapoint of class i as belonging to class j "
   ]
  },
  {
   "cell_type": "markdown",
   "id": "ae572a73-50e2-4be4-bc86-8ca33772e43e",
   "metadata": {},
   "source": [
    "### Option 2: Define the misclassification costs here and save the mapping \n",
    "A second option is to define the misclassification matrix here directly and save it as a .csv file  \n",
    "Format:  \n",
    "C_mc:  numpy array  \n",
    "- entry(i,j) is the cost of predicting a datapoint of class i as belonging to class j \n",
    "    "
   ]
  },
  {
   "cell_type": "code",
   "execution_count": 7,
   "id": "9f5ef90d-844b-4c08-ae4d-19d0b8f27846",
   "metadata": {},
   "outputs": [],
   "source": [
    "from afa.afa_problem.utils import save_prediction_cost\n",
    "import numpy as np"
   ]
  },
  {
   "cell_type": "code",
   "execution_count": 8,
   "id": "927068dc-bc0a-4f32-a77e-ff939efd800a",
   "metadata": {},
   "outputs": [],
   "source": [
    "C_mc = np.array(\n",
    "    [[0, 10], \n",
    "     [10, 0]]\n",
    ")\n",
    "\n",
    "save_prediction_cost(   C_mc = C_mc , \n",
    "                        prediction_cost_file = afa_problem_files['prediction_cost_file'] )  "
   ]
  },
  {
   "cell_type": "markdown",
   "id": "4f61a377-be46-4e0d-aedd-e95961266857",
   "metadata": {},
   "source": [
    "### Option 3: Prepared action options (not recommended)\n",
    "Lastly, for specific datasets, the misclassification cost definition can be automatically executed. This is however not recommended."
   ]
  },
  {
   "cell_type": "code",
   "execution_count": 9,
   "id": "dc7a844e-1af7-4a5a-b2a1-ee396c1ec7ee",
   "metadata": {},
   "outputs": [],
   "source": [
    "from configurations.data_settings.define_data_settings_ts import generate_prediction_cost_ts\n",
    "\n",
    "C_mc = generate_prediction_cost_ts( dataset_name ,  data_dir = data_dir )"
   ]
  },
  {
   "cell_type": "markdown",
   "id": "b5e38411-ef48-4886-ae5f-6fd7ba52e323",
   "metadata": {},
   "source": [
    "## Test by loading the AFA problem"
   ]
  },
  {
   "cell_type": "code",
   "execution_count": 10,
   "id": "793917c1-fab3-45c2-a0b7-9f743309128d",
   "metadata": {},
   "outputs": [],
   "source": [
    "from afa.afa_problem.afa_problem_loader.afa_problem_loader import AFAProblemLoader"
   ]
  },
  {
   "cell_type": "code",
   "execution_count": 11,
   "id": "47e6b9db",
   "metadata": {},
   "outputs": [],
   "source": [
    "afa_problem_loader = AFAProblemLoader(   action_file          = afa_problem_files['action_file'], \n",
    "                                         prediction_cost_file = afa_problem_files['prediction_cost_file'])\n",
    "afa_problem = afa_problem_loader.load() "
   ]
  },
  {
   "cell_type": "code",
   "execution_count": 12,
   "id": "ee9dbdc0",
   "metadata": {},
   "outputs": [
    {
     "data": {
      "text/plain": [
       "{'acquire_superX1_ts': {'target_superfeatures': ['superX1_ts'],\n",
       "  'cost': 0.5,\n",
       "  'resolution': 2.0,\n",
       "  'delay': 1.0},\n",
       " 'acquire_superX2_ts': {'target_superfeatures': ['superX2_ts'],\n",
       "  'cost': 1.0,\n",
       "  'resolution': 2.0,\n",
       "  'delay': 0.0}}"
      ]
     },
     "execution_count": 12,
     "metadata": {},
     "output_type": "execute_result"
    }
   ],
   "source": [
    "# list action options\n",
    "afa_problem.action_options"
   ]
  },
  {
   "cell_type": "code",
   "execution_count": 13,
   "id": "ed66b313",
   "metadata": {},
   "outputs": [
    {
     "data": {
      "text/plain": [
       "array([[ 0, 10],\n",
       "       [10,  0]])"
      ]
     },
     "execution_count": 13,
     "metadata": {},
     "output_type": "execute_result"
    }
   ],
   "source": [
    "# list misclassification costs \n",
    "afa_problem.C_mc"
   ]
  },
  {
   "cell_type": "markdown",
   "id": "31ec1ad0-32e7-4200-aecc-20692deb19aa",
   "metadata": {},
   "source": [
    "## Explain the created AFA Problem \n",
    "Write a summary of the defined AFA problem to file (latex or markdown) "
   ]
  },
  {
   "cell_type": "code",
   "execution_count": 14,
   "id": "6a662799-2329-4249-a533-05002e3c2c5d",
   "metadata": {},
   "outputs": [
    {
     "name": "stdout",
     "output_type": "stream",
     "text": [
      "\n"
     ]
    }
   ],
   "source": [
    "afa_problem.explain(format = 'text')\n",
    "afa_problem.explain(file= explanation_file + '.md', format='markdown')\n",
    "afa_problem.explain(file= explanation_file + '.tex', format='latex')"
   ]
  },
  {
   "cell_type": "code",
   "execution_count": null,
   "id": "f53e1093-2884-4209-a880-f87de281a1e1",
   "metadata": {},
   "outputs": [],
   "source": []
  },
  {
   "cell_type": "code",
   "execution_count": null,
   "id": "af305d45-712b-4329-9164-28e4c61bc9e7",
   "metadata": {},
   "outputs": [],
   "source": []
  }
 ],
 "metadata": {
  "kernelspec": {
   "display_name": "venv_AFA",
   "language": "python",
   "name": "venv_afa"
  },
  "language_info": {
   "codemirror_mode": {
    "name": "ipython",
    "version": 3
   },
   "file_extension": ".py",
   "mimetype": "text/x-python",
   "name": "python",
   "nbconvert_exporter": "python",
   "pygments_lexer": "ipython3",
   "version": "3.8.5"
  },
  "toc": {
   "base_numbering": 1,
   "nav_menu": {},
   "number_sections": true,
   "sideBar": true,
   "skip_h1_title": false,
   "title_cell": "Table of Contents",
   "title_sidebar": "Contents",
   "toc_cell": false,
   "toc_position": {},
   "toc_section_display": true,
   "toc_window_display": false
  },
  "varInspector": {
   "cols": {
    "lenName": 16,
    "lenType": 16,
    "lenVar": 40
   },
   "kernels_config": {
    "python": {
     "delete_cmd_postfix": "",
     "delete_cmd_prefix": "del ",
     "library": "var_list.py",
     "varRefreshCmd": "print(var_dic_list())"
    },
    "r": {
     "delete_cmd_postfix": ") ",
     "delete_cmd_prefix": "rm(",
     "library": "var_list.r",
     "varRefreshCmd": "cat(var_dic_list()) "
    }
   },
   "types_to_exclude": [
    "module",
    "function",
    "builtin_function_or_method",
    "instance",
    "_Feature"
   ],
   "window_display": false
  }
 },
 "nbformat": 4,
 "nbformat_minor": 5
}
