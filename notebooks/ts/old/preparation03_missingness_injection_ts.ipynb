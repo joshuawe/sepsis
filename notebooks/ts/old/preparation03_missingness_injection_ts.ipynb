{
 "cells": [
  {
   "cell_type": "markdown",
   "id": "5a5a8c56",
   "metadata": {},
   "source": [
    "# Inject missingness into the (time-series) dataset\n",
    "Insert missingness into a dataset and save the corresponding ground truth m_graph and missingness model parameters. \n",
    "We use an AFAAgent that is based on a propensity score model to model the desired missingness and sample from it. \n",
    "\n",
    "__Note__: Only suitable for fully observed datasets where we want to test what happens under missingness. If your dataset already has missingness, please run `preparation03_missingness_assumptions` instead to define what you know about the missing data process. "
   ]
  },
  {
   "cell_type": "markdown",
   "id": "b0c45829-3457-4106-9d15-74bcd3138663",
   "metadata": {},
   "source": [
    "### Define paths "
   ]
  },
  {
   "cell_type": "code",
   "execution_count": 1,
   "id": "25d0538e-3eaa-4ba9-b134-1b99585c9d03",
   "metadata": {},
   "outputs": [],
   "source": [
    "# which dataset to work on \n",
    "dataset_name   = \"synthetic_1\"\n",
    "\n",
    "# name for new missingness scenario \n",
    "miss_scenario  = 'MCAR_1'"
   ]
  },
  {
   "cell_type": "code",
   "execution_count": 2,
   "id": "28931c1c-2a60-400f-ac28-eff6051d8283",
   "metadata": {},
   "outputs": [],
   "source": [
    "# specifications of fully observed \n",
    "data_dir         = \"../../../data/ts/\" + dataset_name + \"/fully_observed/\" \n",
    "data_file          = data_dir + dataset_name + '_static.csv.gz' \n",
    "temporal_data_file = data_dir + dataset_name + '_ts_eav.csv.gz' \n",
    "superfeature_mapping_file = data_dir + 'superfeatures.csv'\n",
    "problem_file   = data_dir + 'problem/' + 'problem.yaml'\n",
    "afa_problem_files = {\n",
    "        'action_file'          : data_dir + 'afa_problem/' + 'acquisition_actions.csv', \n",
    "        'prediction_cost_file' : data_dir + 'afa_problem/' + 'prediction_cost.csv'\n",
    "                }\n",
    "folds_file = data_dir + 'folds/' + 'fold_list.hkl'\n",
    "\n",
    "# new specifications (created in this notebook) \n",
    "data_dir_new     = \"../../../data/ts/\"+ dataset_name +\"/\" + miss_scenario + '/' \n",
    "data_file_new    = data_dir_new + dataset_name +  '_' + miss_scenario +'.csv' \n",
    "m_graph_adj_file      = data_dir_new + '/' + 'm_graphs/'  + 'ground_truth/' + 'm_graph_adjacencies.csv'\n",
    "ps_model_weights_file = data_dir_new + '/' + 'm_graphs/'  + 'ground_truth/' + 'weights.csv'\n",
    "\n",
    "# reporting\n",
    "explanation_file = data_dir  + '/' + 'reports/' + 'dataset_description_with_miss_ground_truth'"
   ]
  },
  {
   "cell_type": "markdown",
   "id": "f234e757-984d-438d-9608-0112abf43f48",
   "metadata": {},
   "source": [
    "### Imports "
   ]
  },
  {
   "cell_type": "code",
   "execution_count": 3,
   "id": "50876f54-4eda-4812-95cf-579d734759a4",
   "metadata": {},
   "outputs": [],
   "source": [
    "%load_ext autoreload\n",
    "%autoreload 2\n",
    "\n",
    "import sys\n",
    "import os\n",
    "\n",
    "# navigate to afa directory \n",
    "sys.path.insert(0, os.path.abspath('../../afa'))"
   ]
  },
  {
   "cell_type": "markdown",
   "id": "2a7d60d1-30f8-4129-a5c0-59dbbb0b79f7",
   "metadata": {},
   "source": [
    "## Load dataset without missingness \n",
    "At first, we want to load the dataset\n",
    "\n",
    "Includes loading: \n",
    "- superfeature mapping\n",
    "- problem\n",
    "- afa_problem "
   ]
  },
  {
   "cell_type": "code",
   "execution_count": 4,
   "id": "523a5c14-a283-4f52-a764-67449bd0118d",
   "metadata": {},
   "outputs": [
    {
     "name": "stderr",
     "output_type": "stream",
     "text": [
      "2023-02-05 21:17:50.037689: I tensorflow/core/platform/cpu_feature_guard.cc:193] This TensorFlow binary is optimized with oneAPI Deep Neural Network Library (oneDNN) to use the following CPU instructions in performance-critical operations:  AVX2 FMA\n",
      "To enable them in other operations, rebuild TensorFlow with the appropriate compiler flags.\n",
      "2023-02-05 21:17:50.192607: W tensorflow/compiler/xla/stream_executor/platform/default/dso_loader.cc:64] Could not load dynamic library 'libcudart.so.11.0'; dlerror: libcudart.so.11.0: cannot open shared object file: No such file or directory\n",
      "2023-02-05 21:17:50.192625: I tensorflow/compiler/xla/stream_executor/cuda/cudart_stub.cc:29] Ignore above cudart dlerror if you do not have a GPU set up on your machine.\n",
      "2023-02-05 21:17:50.923383: W tensorflow/compiler/xla/stream_executor/platform/default/dso_loader.cc:64] Could not load dynamic library 'libnvinfer.so.7'; dlerror: libnvinfer.so.7: cannot open shared object file: No such file or directory\n",
      "2023-02-05 21:17:50.923496: W tensorflow/compiler/xla/stream_executor/platform/default/dso_loader.cc:64] Could not load dynamic library 'libnvinfer_plugin.so.7'; dlerror: libnvinfer_plugin.so.7: cannot open shared object file: No such file or directory\n",
      "2023-02-05 21:17:50.923506: W tensorflow/compiler/tf2tensorrt/utils/py_utils.cc:38] TF-TRT Warning: Cannot dlopen some TensorRT libraries. If you would like to use Nvidia GPU with TensorRT, please make sure the missing libraries mentioned above are installed properly.\n"
     ]
    }
   ],
   "source": [
    "from afa.data_modelling.datasets.data_loader.data_loader_ts import DataLoader_ts"
   ]
  },
  {
   "cell_type": "code",
   "execution_count": 5,
   "id": "cb15b78a-8bd5-4a1e-a66f-9703ac41e90b",
   "metadata": {},
   "outputs": [
    {
     "name": "stderr",
     "output_type": "stream",
     "text": [
      "100%|████████████████████████████████████████████████████████████████████████████████| 100/100 [00:00<00:00, 821.49it/s]\n",
      "100%|████████████████████████████████████████████████████████████████████████████████| 100/100 [00:00<00:00, 746.49it/s]\n",
      "100%|████████████████████████████████████████████████████████████████████████████████| 100/100 [00:00<00:00, 819.50it/s]\n"
     ]
    }
   ],
   "source": [
    "data_loader = DataLoader_ts(    data_file                  = data_file,\n",
    "                                temporal_data_file         = temporal_data_file,\n",
    "                                superfeature_mapping_file  = superfeature_mapping_file,\n",
    "                                problem_file               = problem_file, \n",
    "                                afa_problem_files          = afa_problem_files, \n",
    "                                folds_file                 = folds_file)\n",
    "\n",
    "dataset = data_loader.load() "
   ]
  },
  {
   "cell_type": "markdown",
   "id": "a15a3ac2-c2fd-4cf4-bef9-54fbde4dd53c",
   "metadata": {},
   "source": [
    "## Define agent to induce missingness\n",
    "Here we use an AFAMechanismAgent (which uses PropensityScoreModel). \n",
    "This requires defining:\n",
    "- an m_graph (through an adjacency matrix) \n",
    "- weights for a logistic regression model / constant model that defines the propensity score "
   ]
  },
  {
   "cell_type": "markdown",
   "id": "5a691bc6-d1fe-4e9f-8163-57d1c7f41783",
   "metadata": {},
   "source": [
    "### Define missing data_graph and ps_model weights"
   ]
  },
  {
   "cell_type": "markdown",
   "id": "5e3c89bb-bbd5-4d5f-889f-4851f059a52e",
   "metadata": {},
   "source": [
    "#### Option 1: Create corresponding files directly as .csv file\n",
    "__m-graph__:  \n",
    "Fill a .csv file containing the edges in the m_graph\n",
    "- column_names: name of the superfeature missingness indicators (superR) with format 'R_' + superfeature_name\n",
    "- row_names: name of the features and then name of the superR\n",
    "- entry(i,j) = 1  \n",
    "    if node of index i has an arrow to node of column j \n",
    "    \n",
    "__ps_model_weights__: \n",
    "Fill a .csv file containing the edges in the m_graph\n",
    "- column_names: name of the superfeature missingness indicators (superR) with format 'R_' + superfeature_name\n",
    "- row_names: \n",
    "    - row 1: bias \n",
    "    - other rows: names of the parents \n",
    "        - entry(i,j) = 1  \n",
    "            linear weight of parent on superR"
   ]
  },
  {
   "cell_type": "code",
   "execution_count": 6,
   "id": "8e3431f2-d519-4bda-8310-ba725ec67b3b",
   "metadata": {},
   "outputs": [
    {
     "data": {
      "text/html": [
       "<div>\n",
       "<style scoped>\n",
       "    .dataframe tbody tr th:only-of-type {\n",
       "        vertical-align: middle;\n",
       "    }\n",
       "\n",
       "    .dataframe tbody tr th {\n",
       "        vertical-align: top;\n",
       "    }\n",
       "\n",
       "    .dataframe thead th {\n",
       "        text-align: right;\n",
       "    }\n",
       "</style>\n",
       "<table border=\"1\" class=\"dataframe\">\n",
       "  <thead>\n",
       "    <tr style=\"text-align: right;\">\n",
       "      <th>variable</th>\n",
       "      <th>id</th>\n",
       "      <th>time</th>\n",
       "      <th>X0_ts</th>\n",
       "      <th>X1_ts</th>\n",
       "      <th>X2_ts</th>\n",
       "      <th>X3_ts</th>\n",
       "      <th>Y_ts</th>\n",
       "    </tr>\n",
       "  </thead>\n",
       "  <tbody>\n",
       "    <tr>\n",
       "      <th>0</th>\n",
       "      <td>0</td>\n",
       "      <td>0</td>\n",
       "      <td>0.040214</td>\n",
       "      <td>0.736119</td>\n",
       "      <td>0.903988</td>\n",
       "      <td>-0.271101</td>\n",
       "      <td>0.0</td>\n",
       "    </tr>\n",
       "    <tr>\n",
       "      <th>1</th>\n",
       "      <td>0</td>\n",
       "      <td>1</td>\n",
       "      <td>-0.492273</td>\n",
       "      <td>-0.268303</td>\n",
       "      <td>-0.921176</td>\n",
       "      <td>-0.812881</td>\n",
       "      <td>1.0</td>\n",
       "    </tr>\n",
       "    <tr>\n",
       "      <th>2</th>\n",
       "      <td>0</td>\n",
       "      <td>2</td>\n",
       "      <td>0.309823</td>\n",
       "      <td>-0.386123</td>\n",
       "      <td>1.315453</td>\n",
       "      <td>-0.241455</td>\n",
       "      <td>0.0</td>\n",
       "    </tr>\n",
       "    <tr>\n",
       "      <th>3</th>\n",
       "      <td>0</td>\n",
       "      <td>3</td>\n",
       "      <td>1.871679</td>\n",
       "      <td>0.845866</td>\n",
       "      <td>1.473744</td>\n",
       "      <td>0.437033</td>\n",
       "      <td>0.0</td>\n",
       "    </tr>\n",
       "    <tr>\n",
       "      <th>4</th>\n",
       "      <td>0</td>\n",
       "      <td>4</td>\n",
       "      <td>1.224608</td>\n",
       "      <td>0.097955</td>\n",
       "      <td>0.098419</td>\n",
       "      <td>-0.635451</td>\n",
       "      <td>0.0</td>\n",
       "    </tr>\n",
       "    <tr>\n",
       "      <th>...</th>\n",
       "      <td>...</td>\n",
       "      <td>...</td>\n",
       "      <td>...</td>\n",
       "      <td>...</td>\n",
       "      <td>...</td>\n",
       "      <td>...</td>\n",
       "      <td>...</td>\n",
       "    </tr>\n",
       "    <tr>\n",
       "      <th>995</th>\n",
       "      <td>99</td>\n",
       "      <td>5</td>\n",
       "      <td>0.346083</td>\n",
       "      <td>0.991062</td>\n",
       "      <td>-0.432751</td>\n",
       "      <td>1.140907</td>\n",
       "      <td>0.0</td>\n",
       "    </tr>\n",
       "    <tr>\n",
       "      <th>996</th>\n",
       "      <td>99</td>\n",
       "      <td>6</td>\n",
       "      <td>-1.823515</td>\n",
       "      <td>0.312444</td>\n",
       "      <td>0.004809</td>\n",
       "      <td>0.671610</td>\n",
       "      <td>0.0</td>\n",
       "    </tr>\n",
       "    <tr>\n",
       "      <th>997</th>\n",
       "      <td>99</td>\n",
       "      <td>7</td>\n",
       "      <td>0.035619</td>\n",
       "      <td>-0.076120</td>\n",
       "      <td>-0.245551</td>\n",
       "      <td>0.130265</td>\n",
       "      <td>0.0</td>\n",
       "    </tr>\n",
       "    <tr>\n",
       "      <th>998</th>\n",
       "      <td>99</td>\n",
       "      <td>8</td>\n",
       "      <td>0.850422</td>\n",
       "      <td>1.200439</td>\n",
       "      <td>0.028020</td>\n",
       "      <td>-1.400394</td>\n",
       "      <td>0.0</td>\n",
       "    </tr>\n",
       "    <tr>\n",
       "      <th>999</th>\n",
       "      <td>99</td>\n",
       "      <td>9</td>\n",
       "      <td>-0.119242</td>\n",
       "      <td>-0.823314</td>\n",
       "      <td>1.668055</td>\n",
       "      <td>-0.862772</td>\n",
       "      <td>0.0</td>\n",
       "    </tr>\n",
       "  </tbody>\n",
       "</table>\n",
       "<p>1000 rows × 7 columns</p>\n",
       "</div>"
      ],
      "text/plain": [
       "variable  id  time     X0_ts     X1_ts     X2_ts     X3_ts  Y_ts\n",
       "0          0     0  0.040214  0.736119  0.903988 -0.271101   0.0\n",
       "1          0     1 -0.492273 -0.268303 -0.921176 -0.812881   1.0\n",
       "2          0     2  0.309823 -0.386123  1.315453 -0.241455   0.0\n",
       "3          0     3  1.871679  0.845866  1.473744  0.437033   0.0\n",
       "4          0     4  1.224608  0.097955  0.098419 -0.635451   0.0\n",
       "..        ..   ...       ...       ...       ...       ...   ...\n",
       "995       99     5  0.346083  0.991062 -0.432751  1.140907   0.0\n",
       "996       99     6 -1.823515  0.312444  0.004809  0.671610   0.0\n",
       "997       99     7  0.035619 -0.076120 -0.245551  0.130265   0.0\n",
       "998       99     8  0.850422  1.200439  0.028020 -1.400394   0.0\n",
       "999       99     9 -0.119242 -0.823314  1.668055 -0.862772   0.0\n",
       "\n",
       "[1000 rows x 7 columns]"
      ]
     },
     "execution_count": 6,
     "metadata": {},
     "output_type": "execute_result"
    }
   ],
   "source": [
    "dataset.temporal_data"
   ]
  },
  {
   "cell_type": "code",
   "execution_count": 7,
   "id": "b05c4d86-431d-42e9-9f06-7c9026ac5701",
   "metadata": {},
   "outputs": [
    {
     "data": {
      "text/plain": [
       "{'temporal': ['X0_ts', 'X1_ts', 'X2_ts', 'X3_ts'],\n",
       " 'data': ['X0', 'X1', 'Y'],\n",
       " 'treatment': None,\n",
       " 'label': ['Y_ts'],\n",
       " 'super_data': ['superX0', 'superY'],\n",
       " 'super_temporal': ['superX0_ts', 'superX1_ts', 'superX2_ts']}"
      ]
     },
     "execution_count": 7,
     "metadata": {},
     "output_type": "execute_result"
    }
   ],
   "source": [
    "dataset.feature_name"
   ]
  },
  {
   "cell_type": "markdown",
   "id": "bc60d4ae-1fb3-4749-91e6-fe7d78c8cf5d",
   "metadata": {},
   "source": [
    "#### Option 2: Define here and save\n",
    "Define the adjacency matrix of the m_graph and the weights using a pandas df"
   ]
  },
  {
   "cell_type": "code",
   "execution_count": 8,
   "id": "f585fc3a-06c7-471c-b314-d22bb798b968",
   "metadata": {},
   "outputs": [
    {
     "data": {
      "text/html": [
       "<div>\n",
       "<style scoped>\n",
       "    .dataframe tbody tr th:only-of-type {\n",
       "        vertical-align: middle;\n",
       "    }\n",
       "\n",
       "    .dataframe tbody tr th {\n",
       "        vertical-align: top;\n",
       "    }\n",
       "\n",
       "    .dataframe thead th {\n",
       "        text-align: right;\n",
       "    }\n",
       "</style>\n",
       "<table border=\"1\" class=\"dataframe\">\n",
       "  <thead>\n",
       "    <tr style=\"text-align: right;\">\n",
       "      <th></th>\n",
       "      <th>R_superX1_ts</th>\n",
       "      <th>R_superX2_ts</th>\n",
       "    </tr>\n",
       "  </thead>\n",
       "  <tbody>\n",
       "    <tr>\n",
       "      <th>X0_ts</th>\n",
       "      <td>0</td>\n",
       "      <td>0</td>\n",
       "    </tr>\n",
       "    <tr>\n",
       "      <th>X1_ts</th>\n",
       "      <td>0</td>\n",
       "      <td>0</td>\n",
       "    </tr>\n",
       "  </tbody>\n",
       "</table>\n",
       "</div>"
      ],
      "text/plain": [
       "       R_superX1_ts  R_superX2_ts\n",
       "X0_ts             0             0\n",
       "X1_ts             0             0"
      ]
     },
     "execution_count": 8,
     "metadata": {},
     "output_type": "execute_result"
    }
   ],
   "source": [
    "from afa.data_modelling.missingness.missing_data_graph.utils import save_m_graph_adjacency_matrix\n",
    "import pandas as pd\n",
    "# missing data graph\n",
    "m_graph_adj = pd.DataFrame( [[0, 0], [0, 0]], \n",
    "                            index=['X0_ts', 'X1_ts' ], \n",
    "                            columns=['R_superX1_ts', 'R_superX2_ts'])\n",
    "\n",
    "save_m_graph_adjacency_matrix( m_graph_adj , m_graph_adj_file = m_graph_adj_file  )  \n",
    "m_graph_adj"
   ]
  },
  {
   "cell_type": "code",
   "execution_count": 9,
   "id": "54d1d286-a496-40bf-8eeb-4c7e71ca5587",
   "metadata": {},
   "outputs": [
    {
     "data": {
      "text/html": [
       "<div>\n",
       "<style scoped>\n",
       "    .dataframe tbody tr th:only-of-type {\n",
       "        vertical-align: middle;\n",
       "    }\n",
       "\n",
       "    .dataframe tbody tr th {\n",
       "        vertical-align: top;\n",
       "    }\n",
       "\n",
       "    .dataframe thead th {\n",
       "        text-align: right;\n",
       "    }\n",
       "</style>\n",
       "<table border=\"1\" class=\"dataframe\">\n",
       "  <thead>\n",
       "    <tr style=\"text-align: right;\">\n",
       "      <th></th>\n",
       "      <th>R_superX1_ts</th>\n",
       "      <th>R_superX2_ts</th>\n",
       "    </tr>\n",
       "  </thead>\n",
       "  <tbody>\n",
       "    <tr>\n",
       "      <th>bias</th>\n",
       "      <td>0.9</td>\n",
       "      <td>0.95</td>\n",
       "    </tr>\n",
       "    <tr>\n",
       "      <th>X0_ts</th>\n",
       "      <td>NaN</td>\n",
       "      <td>NaN</td>\n",
       "    </tr>\n",
       "    <tr>\n",
       "      <th>X1_ts</th>\n",
       "      <td>NaN</td>\n",
       "      <td>NaN</td>\n",
       "    </tr>\n",
       "  </tbody>\n",
       "</table>\n",
       "</div>"
      ],
      "text/plain": [
       "       R_superX1_ts  R_superX2_ts\n",
       "bias            0.9          0.95\n",
       "X0_ts           NaN           NaN\n",
       "X1_ts           NaN           NaN"
      ]
     },
     "execution_count": 9,
     "metadata": {},
     "output_type": "execute_result"
    }
   ],
   "source": [
    "from afa.data_modelling.missingness.propensity_scores.utils import save_logistic_regression_ps_model_weights, load_logistic_regression_ps_model_weights\n",
    "import numpy as np \n",
    "# weights for ps model \n",
    "weights_df  = pd.DataFrame([[0.9, 0.95],[np.nan, np.nan],[np.nan, np.nan]], \n",
    "                        index   = ['bias', 'X0_ts',  'X1_ts'], \n",
    "                        columns = ['R_superX1_ts', 'R_superX2_ts'])\n",
    "save_logistic_regression_ps_model_weights(weights_df = weights_df,ps_model_weights_file = ps_model_weights_file) \n",
    "weights_df"
   ]
  },
  {
   "cell_type": "markdown",
   "id": "c68c78cd-6098-4cf3-9718-ca2f8dcd9ae4",
   "metadata": {},
   "source": [
    "#### Option 3 (not recommended): Prepared m_graphs and weights \n",
    "Lastly, for specific datasets, the creation can be automatically stored using hard-coded specifications. "
   ]
  },
  {
   "cell_type": "code",
   "execution_count": 1,
   "id": "27973600-3893-4765-8d33-8a937ea8b771",
   "metadata": {},
   "outputs": [
    {
     "ename": "ModuleNotFoundError",
     "evalue": "No module named 'configurations'",
     "output_type": "error",
     "traceback": [
      "\u001b[0;31m---------------------------------------------------------------------------\u001b[0m",
      "\u001b[0;31mModuleNotFoundError\u001b[0m                       Traceback (most recent call last)",
      "Input \u001b[0;32mIn [1]\u001b[0m, in \u001b[0;36m<cell line: 1>\u001b[0;34m()\u001b[0m\n\u001b[0;32m----> 1\u001b[0m \u001b[38;5;28;01mfrom\u001b[39;00m \u001b[38;5;21;01mconfigurations\u001b[39;00m\u001b[38;5;21;01m.\u001b[39;00m\u001b[38;5;21;01mdata_settings\u001b[39;00m\u001b[38;5;21;01m.\u001b[39;00m\u001b[38;5;21;01mdefine_data_settings_ts\u001b[39;00m \u001b[38;5;28;01mimport\u001b[39;00m generate_m_graphs_and_weights_ts\n\u001b[1;32m      2\u001b[0m m_graph_adj, weights_df \u001b[38;5;241m=\u001b[39m generate_m_graphs_and_weights_ts( dataset_name , miss_scenario ,  data_dir \u001b[38;5;241m=\u001b[39m data_dir_new  )\n",
      "\u001b[0;31mModuleNotFoundError\u001b[0m: No module named 'configurations'"
     ]
    }
   ],
   "source": [
    "from configurations.data_settings.define_data_settings_ts import generate_m_graphs_and_weights_ts\n",
    "m_graph_adj, weights_df = generate_m_graphs_and_weights_ts( dataset_name , miss_scenario ,  data_dir = data_dir_new  )"
   ]
  },
  {
   "cell_type": "markdown",
   "id": "9c0f323b-913c-4e6e-b9d5-e79736bc67cf",
   "metadata": {},
   "source": [
    "### Initialize a Agent (using PropensityScoreModel)"
   ]
  },
  {
   "cell_type": "code",
   "execution_count": 11,
   "id": "2fe440f7-74b9-490c-babd-cd676fa2166e",
   "metadata": {},
   "outputs": [],
   "source": [
    "from afa.data_modelling.missingness.missing_data_graph.utils import load_m_graph_adjacency_matrix\n",
    "from afa.data_modelling.missingness.missing_data_graph.missing_data_graph_ts import MissingDataGraph_ts\n",
    "from afa.data_modelling.models.temporal_models.joint_models.utils import load_joint_model_weights_ts\n",
    "from afa.data_modelling.missingness.propensity_scores.propensity_score_model_ts import PropensityScoreModel_ts\n",
    "from afa_models.afa_agents.afa_mechanism_agents.afa_mechanism_agent import AFAMechanismAgent"
   ]
  },
  {
   "cell_type": "code",
   "execution_count": 12,
   "id": "fb12b015-fcd4-46c9-a4fa-2798f407b0e7",
   "metadata": {},
   "outputs": [
    {
     "data": {
      "image/png": "[encoded data removed]",
      "text/plain": [
       "<Figure size 432x288 with 1 Axes>"
      ]
     },
     "metadata": {},
     "output_type": "display_data"
    },
    {
     "data": {
      "image/png": "[encoded data removed]",
      "text/plain": [
       "<Figure size 432x288 with 1 Axes>"
      ]
     },
     "execution_count": 12,
     "metadata": {},
     "output_type": "execute_result"
    }
   ],
   "source": [
    "# 1. load m_graph \n",
    "m_graph_adj = load_m_graph_adjacency_matrix( m_graph_adj_file = m_graph_adj_file )\n",
    "m_graph     = MissingDataGraph_ts(   m_graph_adj  = m_graph_adj ) \n",
    "\n",
    "# visualize\n",
    "m_graph.plot() "
   ]
  },
  {
   "cell_type": "code",
   "execution_count": 13,
   "id": "5b4d3c4f-4815-4035-9146-1c2de38ce79a",
   "metadata": {},
   "outputs": [
    {
     "name": "stdout",
     "output_type": "stream",
     "text": [
      "Change base_model to stationary_constant\n",
      "Change base_model to stationary_constant\n",
      "Set weight for constant stationary model ...\n",
      "Set weight for constant stationary model ...\n"
     ]
    }
   ],
   "source": [
    "# 2. load weights\n",
    "weights_df = load_logistic_regression_ps_model_weights( ps_model_weights_file = ps_model_weights_file) \n",
    "\n",
    "# 3. initialize params\n",
    "ps_model_params = {}\n",
    "ps_model_params['base_model_params'] = {  'base_model_type': 'stationary_constant',\n",
    "                                          'gt_weights': weights_df}\n",
    "\n",
    "# 4. init ps model\n",
    "ps_model_name = 'ps_model_' + miss_scenario + '_gt'\n",
    "ps_model = PropensityScoreModel_ts( name            =  ps_model_name, \n",
    "                                    m_graph         = m_graph, \n",
    "                                    feature_name    = dataset.feature_name,\n",
    "                                    target_superfeature_names    = dataset.afa_problem.target_superfeature_names,\n",
    "                                    model_params = ps_model_params ) "
   ]
  },
  {
   "cell_type": "code",
   "execution_count": 14,
   "id": "17dcc610-2cee-43f8-b534-a56173edfc45",
   "metadata": {},
   "outputs": [],
   "source": [
    "afa_agent = AFAMechanismAgent(  name    = miss_scenario + '_agent',\n",
    "                                ps_model= ps_model \n",
    "                                 )"
   ]
  },
  {
   "cell_type": "markdown",
   "id": "b15716ad-4fe6-4677-b3ab-e0fffe5bf9cd",
   "metadata": {},
   "source": [
    "## Create new dataset using the defined agent"
   ]
  },
  {
   "cell_type": "markdown",
   "id": "4958b8ef-bb87-4931-8c70-dabf64f3ce67",
   "metadata": {},
   "source": [
    "Run the agent as an afa agent over the dataset to create an afa_dataset. Then create a new regular dataset out of it"
   ]
  },
  {
   "cell_type": "code",
   "execution_count": 15,
   "id": "f449c645-8db5-47a7-84f3-d76d9f9c9b9e",
   "metadata": {},
   "outputs": [],
   "source": [
    "from afa_datasets.afa_dataset_ts import AFADataset_ts "
   ]
  },
  {
   "cell_type": "code",
   "execution_count": 16,
   "id": "e849ce84-b6fc-4910-a787-da85a732470d",
   "metadata": {},
   "outputs": [],
   "source": [
    "afa_results = afa_agent.predict(dataset, ids = None, fold = None, split = None,  n_samples = 1) \n",
    "\n",
    "# create an afa_dataset out of the generated afa_results\n",
    "afa_dataset = AFADataset_ts(  dataset = dataset, model = afa_agent, results = afa_results) \n",
    "\n",
    "# check retrieving data \n",
    "data, afa_results = afa_dataset.get_data( fold = None, split = None, n_samples = 1) "
   ]
  },
  {
   "cell_type": "code",
   "execution_count": 17,
   "id": "96c59dcf-2443-4d51-9692-eaff3a512910",
   "metadata": {},
   "outputs": [],
   "source": [
    "dataset_new =  afa_dataset.create_new_dataset()"
   ]
  },
  {
   "cell_type": "markdown",
   "id": "3f070900-2e05-473b-9e11-9593363312c7",
   "metadata": {},
   "source": [
    "## Visualize newly created missingness "
   ]
  },
  {
   "cell_type": "code",
   "execution_count": 18,
   "id": "20fcb6ab-ba88-4fc7-a548-a4427d098fcf",
   "metadata": {},
   "outputs": [
    {
     "data": {
      "text/plain": [
       "variable\n",
       "id        0\n",
       "time      0\n",
       "X0_ts     0\n",
       "X1_ts    92\n",
       "X2_ts    61\n",
       "X3_ts    61\n",
       "Y_ts      0\n",
       "dtype: int64"
      ]
     },
     "execution_count": 18,
     "metadata": {},
     "output_type": "execute_result"
    }
   ],
   "source": [
    "dataset_new.temporal_data.isna().sum()"
   ]
  },
  {
   "cell_type": "code",
   "execution_count": 19,
   "id": "ba91e063-b841-49e2-ad94-8fa2a3196fc7",
   "metadata": {},
   "outputs": [
    {
     "data": {
      "image/png": "[encoded data removed]",
      "text/plain": [
       "<Figure size 576x1440 with 6 Axes>"
      ]
     },
     "metadata": {
      "needs_background": "light"
     },
     "output_type": "display_data"
    }
   ],
   "source": [
    "fig = dataset_new.plot_missingness_stats()"
   ]
  },
  {
   "cell_type": "markdown",
   "id": "f0b7dada-d803-4f67-a0eb-4de6e287dea0",
   "metadata": {},
   "source": [
    "## Add the ground truth propensity score to the dataset"
   ]
  },
  {
   "cell_type": "markdown",
   "id": "95fae563-2c7e-48bb-869d-852d5a998cfb",
   "metadata": {},
   "source": [
    "For comparison reasons we might be interested in the ground truth propensity score and add it back to dataset_new"
   ]
  },
  {
   "cell_type": "code",
   "execution_count": 20,
   "id": "0cacadb7-de9f-4943-acaf-41577db70637",
   "metadata": {},
   "outputs": [],
   "source": [
    "from afa.data_modelling.missingness.missingness_model import MissingnessModel"
   ]
  },
  {
   "cell_type": "code",
   "execution_count": 21,
   "id": "0c85b0e5-ecec-4494-90ba-7cdba31bf6d9",
   "metadata": {},
   "outputs": [],
   "source": [
    "# compute ps values\n",
    "ps_values, ps_values_1 = ps_model.predict(dataset_new)"
   ]
  },
  {
   "cell_type": "code",
   "execution_count": 22,
   "id": "2a37b03a-0567-47ce-beeb-50c0cf8d53b4",
   "metadata": {},
   "outputs": [],
   "source": [
    "# init miss_model in dataset\n",
    "miss_model = MissingnessModel(m_graph)\n",
    "dataset_new.miss_model = miss_model "
   ]
  },
  {
   "cell_type": "code",
   "execution_count": 23,
   "id": "11d2eba1-671b-4023-be3e-2498968a301d",
   "metadata": {},
   "outputs": [],
   "source": [
    "# add to dataset\n",
    "dataset_new.miss_model.add_ps_values( ps_model_name , \n",
    "                                      ps_values = ps_values, \n",
    "                                      ps_values_1 = ps_values_1 )"
   ]
  },
  {
   "cell_type": "markdown",
   "id": "8e561d71-2765-402e-9230-2a29e42a881e",
   "metadata": {},
   "source": [
    "## Save the new dataset"
   ]
  },
  {
   "cell_type": "code",
   "execution_count": 24,
   "id": "a74d92b9-39c3-4fb1-adbd-d92d7ebdf8ba",
   "metadata": {},
   "outputs": [],
   "source": [
    "dataset_new.save( data_dir = data_dir_new, \n",
    "                         dataset_name = dataset_name + '_' + miss_scenario,\n",
    "                         save_folds = True) "
   ]
  },
  {
   "cell_type": "code",
   "execution_count": 25,
   "id": "d883078e-188d-4d69-b52e-ca2ba4e13c44",
   "metadata": {},
   "outputs": [
    {
     "data": {
      "text/html": [
       "<div>\n",
       "<style scoped>\n",
       "    .dataframe tbody tr th:only-of-type {\n",
       "        vertical-align: middle;\n",
       "    }\n",
       "\n",
       "    .dataframe tbody tr th {\n",
       "        vertical-align: top;\n",
       "    }\n",
       "\n",
       "    .dataframe thead th {\n",
       "        text-align: right;\n",
       "    }\n",
       "</style>\n",
       "<table border=\"1\" class=\"dataframe\">\n",
       "  <thead>\n",
       "    <tr style=\"text-align: right;\">\n",
       "      <th>variable</th>\n",
       "      <th>id</th>\n",
       "      <th>time</th>\n",
       "      <th>X0_ts</th>\n",
       "      <th>X1_ts</th>\n",
       "      <th>X2_ts</th>\n",
       "      <th>X3_ts</th>\n",
       "      <th>Y_ts</th>\n",
       "    </tr>\n",
       "  </thead>\n",
       "  <tbody>\n",
       "    <tr>\n",
       "      <th>360</th>\n",
       "      <td>36</td>\n",
       "      <td>0</td>\n",
       "      <td>-0.294428</td>\n",
       "      <td>1.098071</td>\n",
       "      <td>0.224244</td>\n",
       "      <td>1.010012</td>\n",
       "      <td>0.0</td>\n",
       "    </tr>\n",
       "    <tr>\n",
       "      <th>361</th>\n",
       "      <td>36</td>\n",
       "      <td>1</td>\n",
       "      <td>-0.925137</td>\n",
       "      <td>-0.533146</td>\n",
       "      <td>0.200127</td>\n",
       "      <td>0.907471</td>\n",
       "      <td>0.0</td>\n",
       "    </tr>\n",
       "    <tr>\n",
       "      <th>362</th>\n",
       "      <td>36</td>\n",
       "      <td>2</td>\n",
       "      <td>0.571811</td>\n",
       "      <td>-0.930963</td>\n",
       "      <td>NaN</td>\n",
       "      <td>NaN</td>\n",
       "      <td>0.0</td>\n",
       "    </tr>\n",
       "    <tr>\n",
       "      <th>363</th>\n",
       "      <td>36</td>\n",
       "      <td>3</td>\n",
       "      <td>0.965276</td>\n",
       "      <td>-0.121776</td>\n",
       "      <td>1.319633</td>\n",
       "      <td>-1.130943</td>\n",
       "      <td>0.0</td>\n",
       "    </tr>\n",
       "    <tr>\n",
       "      <th>364</th>\n",
       "      <td>36</td>\n",
       "      <td>4</td>\n",
       "      <td>-0.478296</td>\n",
       "      <td>NaN</td>\n",
       "      <td>-0.451901</td>\n",
       "      <td>-1.568209</td>\n",
       "      <td>1.0</td>\n",
       "    </tr>\n",
       "    <tr>\n",
       "      <th>365</th>\n",
       "      <td>36</td>\n",
       "      <td>5</td>\n",
       "      <td>1.004122</td>\n",
       "      <td>-0.380520</td>\n",
       "      <td>-0.361794</td>\n",
       "      <td>-1.242529</td>\n",
       "      <td>1.0</td>\n",
       "    </tr>\n",
       "    <tr>\n",
       "      <th>366</th>\n",
       "      <td>36</td>\n",
       "      <td>6</td>\n",
       "      <td>-1.248140</td>\n",
       "      <td>-0.507851</td>\n",
       "      <td>-0.270173</td>\n",
       "      <td>-0.141366</td>\n",
       "      <td>1.0</td>\n",
       "    </tr>\n",
       "    <tr>\n",
       "      <th>367</th>\n",
       "      <td>36</td>\n",
       "      <td>7</td>\n",
       "      <td>-0.074897</td>\n",
       "      <td>0.593147</td>\n",
       "      <td>-1.044999</td>\n",
       "      <td>-0.320685</td>\n",
       "      <td>0.0</td>\n",
       "    </tr>\n",
       "    <tr>\n",
       "      <th>368</th>\n",
       "      <td>36</td>\n",
       "      <td>8</td>\n",
       "      <td>-1.318609</td>\n",
       "      <td>-0.170743</td>\n",
       "      <td>NaN</td>\n",
       "      <td>NaN</td>\n",
       "      <td>1.0</td>\n",
       "    </tr>\n",
       "    <tr>\n",
       "      <th>369</th>\n",
       "      <td>36</td>\n",
       "      <td>9</td>\n",
       "      <td>0.018420</td>\n",
       "      <td>-0.074130</td>\n",
       "      <td>-0.644763</td>\n",
       "      <td>-0.627732</td>\n",
       "      <td>0.0</td>\n",
       "    </tr>\n",
       "  </tbody>\n",
       "</table>\n",
       "</div>"
      ],
      "text/plain": [
       "variable  id  time     X0_ts     X1_ts     X2_ts     X3_ts  Y_ts\n",
       "360       36     0 -0.294428  1.098071  0.224244  1.010012   0.0\n",
       "361       36     1 -0.925137 -0.533146  0.200127  0.907471   0.0\n",
       "362       36     2  0.571811 -0.930963       NaN       NaN   0.0\n",
       "363       36     3  0.965276 -0.121776  1.319633 -1.130943   0.0\n",
       "364       36     4 -0.478296       NaN -0.451901 -1.568209   1.0\n",
       "365       36     5  1.004122 -0.380520 -0.361794 -1.242529   1.0\n",
       "366       36     6 -1.248140 -0.507851 -0.270173 -0.141366   1.0\n",
       "367       36     7 -0.074897  0.593147 -1.044999 -0.320685   0.0\n",
       "368       36     8 -1.318609 -0.170743       NaN       NaN   1.0\n",
       "369       36     9  0.018420 -0.074130 -0.644763 -0.627732   0.0"
      ]
     },
     "execution_count": 25,
     "metadata": {},
     "output_type": "execute_result"
    }
   ],
   "source": [
    "dataset_new.temporal_data[dataset_new.temporal_data['id'] == 36]"
   ]
  },
  {
   "cell_type": "code",
   "execution_count": 26,
   "id": "f1af6c92-6239-4f8a-9193-71f0e48053fc",
   "metadata": {},
   "outputs": [
    {
     "data": {
      "text/plain": [
       "{'feature': array([[0., 0., 0.]]),\n",
       " 'label': array([[[0.],\n",
       "         [0.],\n",
       "         [0.],\n",
       "         [0.],\n",
       "         [1.],\n",
       "         [1.],\n",
       "         [1.],\n",
       "         [0.],\n",
       "         [1.],\n",
       "         [0.]]]),\n",
       " 'treatment': None,\n",
       " 'temporal_feature': array([[[-0.29442754,  1.09807126,  0.22424365,  1.010012  ],\n",
       "         [-0.92513675, -0.53314553,  0.20012698,  0.90747066],\n",
       "         [ 0.57181103, -0.9309627 ,         nan,         nan],\n",
       "         [ 0.96527645, -0.12177648,  1.31963288, -1.13094259],\n",
       "         [-0.47829585,         nan, -0.45190112, -1.56820892],\n",
       "         [ 1.00412199, -0.38051995, -0.36179443, -1.24252929],\n",
       "         [-1.24814022, -0.50785071, -0.27017311, -0.14136596],\n",
       "         [-0.07489741,  0.59314694, -1.04499929, -0.32068528],\n",
       "         [-1.31860946, -0.17074322,         nan,         nan],\n",
       "         [ 0.01841979, -0.07412961, -0.64476347, -0.62773176]]]),\n",
       " 'time': array([[[0],\n",
       "         [1],\n",
       "         [2],\n",
       "         [3],\n",
       "         [4],\n",
       "         [5],\n",
       "         [6],\n",
       "         [7],\n",
       "         [8],\n",
       "         [9]]]),\n",
       " 'superR': array([[1., 1.]]),\n",
       " 'temporal_superR': array([[[1., 1., 1.],\n",
       "         [1., 1., 1.],\n",
       "         [1., 1., 0.],\n",
       "         [1., 1., 1.],\n",
       "         [1., 0., 1.],\n",
       "         [1., 1., 1.],\n",
       "         [1., 1., 1.],\n",
       "         [1., 1., 1.],\n",
       "         [1., 1., 0.],\n",
       "         [1., 1., 1.]]])}"
      ]
     },
     "execution_count": 26,
     "metadata": {},
     "output_type": "execute_result"
    }
   ],
   "source": [
    "dataset_new.get_data(ids = [36])"
   ]
  },
  {
   "cell_type": "markdown",
   "id": "febf5c68-87ab-42ab-9270-a1320ee59985",
   "metadata": {},
   "source": [
    "## Reporting: summarize the whole dataset (with missingness) \n",
    "Store information in reports folder in latex / markdown format."
   ]
  },
  {
   "cell_type": "code",
   "execution_count": 27,
   "id": "786965fe-9b81-45e4-b6f1-7dd2eedce1cf",
   "metadata": {},
   "outputs": [
    {
     "data": {
      "image/png": "[encoded data removed]",
      "text/plain": [
       "<Figure size 576x1440 with 6 Axes>"
      ]
     },
     "metadata": {
      "needs_background": "light"
     },
     "output_type": "display_data"
    },
    {
     "data": {
      "image/png": "[encoded data removed]",
      "text/plain": [
       "<Figure size 432x288 with 1 Axes>"
      ]
     },
     "metadata": {},
     "output_type": "display_data"
    },
    {
     "data": {
      "image/png": "[encoded data removed]",
      "text/plain": [
       "<Figure size 576x1440 with 6 Axes>"
      ]
     },
     "metadata": {
      "needs_background": "light"
     },
     "output_type": "display_data"
    },
    {
     "data": {
      "image/png": "[encoded data removed]",
      "text/plain": [
       "<Figure size 432x288 with 1 Axes>"
      ]
     },
     "metadata": {},
     "output_type": "display_data"
    }
   ],
   "source": [
    "dataset_new.explain(file=  explanation_file + '.md', format = 'markdown')\n",
    "dataset_new.explain(file=  explanation_file + '.tex', format = 'latex')"
   ]
  },
  {
   "cell_type": "code",
   "execution_count": null,
   "id": "ab50820c-fc89-44a4-a557-92806a4de882",
   "metadata": {},
   "outputs": [],
   "source": []
  },
  {
   "cell_type": "code",
   "execution_count": null,
   "id": "4b53f16b-336d-45a5-85a2-e18fab8792be",
   "metadata": {},
   "outputs": [],
   "source": []
  },
  {
   "cell_type": "code",
   "execution_count": null,
   "id": "41ad9d44-5228-4161-ba5e-7c9bafcb2fed",
   "metadata": {},
   "outputs": [],
   "source": []
  },
  {
   "cell_type": "code",
   "execution_count": null,
   "id": "ffff3d59-b634-4f01-a384-3dab3267b108",
   "metadata": {},
   "outputs": [],
   "source": []
  },
  {
   "cell_type": "code",
   "execution_count": null,
   "id": "a762c4a0-bbaa-4972-8557-ce3636241b08",
   "metadata": {},
   "outputs": [],
   "source": []
  },
  {
   "cell_type": "code",
   "execution_count": null,
   "id": "da79f914-5fa5-4c9a-a09f-6ae6f7a735ed",
   "metadata": {},
   "outputs": [],
   "source": []
  },
  {
   "cell_type": "code",
   "execution_count": null,
   "id": "54c9e013",
   "metadata": {},
   "outputs": [],
   "source": []
  },
  {
   "cell_type": "code",
   "execution_count": null,
   "id": "dc673cb7",
   "metadata": {},
   "outputs": [],
   "source": []
  }
 ],
 "metadata": {
  "kernelspec": {
   "display_name": "afa_env",
   "language": "python",
   "name": "afa_env"
  },
  "language_info": {
   "codemirror_mode": {
    "name": "ipython",
    "version": 3
   },
   "file_extension": ".py",
   "mimetype": "text/x-python",
   "name": "python",
   "nbconvert_exporter": "python",
   "pygments_lexer": "ipython3",
   "version": "3.10.8"
  },
  "toc": {
   "base_numbering": 1,
   "nav_menu": {},
   "number_sections": true,
   "sideBar": true,
   "skip_h1_title": false,
   "title_cell": "Table of Contents",
   "title_sidebar": "Contents",
   "toc_cell": false,
   "toc_position": {
    "height": "calc(100% - 180px)",
    "left": "10px",
    "top": "150px",
    "width": "297px"
   },
   "toc_section_display": true,
   "toc_window_display": true
  },
  "varInspector": {
   "cols": {
    "lenName": 16,
    "lenType": 16,
    "lenVar": 40
   },
   "kernels_config": {
    "python": {
     "delete_cmd_postfix": "",
     "delete_cmd_prefix": "del ",
     "library": "var_list.py",
     "varRefreshCmd": "print(var_dic_list())"
    },
    "r": {
     "delete_cmd_postfix": ") ",
     "delete_cmd_prefix": "rm(",
     "library": "var_list.r",
     "varRefreshCmd": "cat(var_dic_list()) "
    }
   },
   "types_to_exclude": [
    "module",
    "function",
    "builtin_function_or_method",
    "instance",
    "_Feature"
   ],
   "window_display": false
  }
 },
 "nbformat": 4,
 "nbformat_minor": 5
}
