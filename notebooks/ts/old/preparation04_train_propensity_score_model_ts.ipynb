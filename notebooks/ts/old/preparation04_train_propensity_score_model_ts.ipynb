{
 "cells": [
  {
   "cell_type": "markdown",
   "id": "c115955a-4824-4f80-8e54-7edbb8ccf86b",
   "metadata": {},
   "source": [
    "# Train a propensity score (PS) model\n",
    "One option to resolve missingness for AFA is to use inverse probability weighting. \n",
    "This notebook trains PS models and saves the computed propensity scores for the dataset. "
   ]
  },
  {
   "cell_type": "markdown",
   "id": "da5d73e7-40a9-43fa-a44f-5fbe48138655",
   "metadata": {},
   "source": [
    "### Define paths "
   ]
  },
  {
   "cell_type": "code",
   "execution_count": 1,
   "id": "ad27cd6b-a49c-4acc-a8c4-94281037827f",
   "metadata": {},
   "outputs": [],
   "source": [
    "# which dataset to work on \n",
    "dataset_name   = \"synthetic_1\"\n",
    "\n",
    "# name for of missingness scenario \n",
    "miss_scenario  = 'MCAR_1'\n",
    "\n",
    "# name for ps_model \n",
    "ps_model_name  = 'ps_lr'\n",
    "\n",
    "# specifications\n",
    "data_dir       = \"../../../data/ts/\" + dataset_name + \"/\" + miss_scenario + \"/\" \n",
    "data_file          = data_dir + dataset_name + '_' + miss_scenario + '_static.csv.gz' \n",
    "temporal_data_file = data_dir + dataset_name + '_' + miss_scenario + '_ts_eav.csv.gz' \n",
    "superfeature_mapping_file = data_dir + 'superfeatures.csv'\n",
    "problem_file   = data_dir + 'problem/' + 'problem.yaml'\n",
    "afa_problem_files = {\n",
    "        'action_file'          : data_dir + 'afa_problem/' + 'acquisition_actions.csv', \n",
    "        'prediction_cost_file' : data_dir + 'afa_problem/' + 'prediction_cost.csv'\n",
    "                }\n",
    "folds_file = data_dir + 'folds/' + 'fold_list.hkl'\n",
    "\n",
    "# new (where to save the model) \n",
    "ps_model_dir = data_dir + 'ps_models' + '/' + ps_model_name + '/'\n",
    "\n",
    "# define files needed to load missingness model\n",
    "ps_model_gt_name = 'ps_model_' + miss_scenario + '_gt'  # to compare with \n",
    "ps_model_names = [ps_model_gt_name] \n",
    "miss_model_files = {\n",
    "    'm_graph_adj_file' : data_dir + '/' + 'm_graphs/' + 'm_graph_adjacencies.csv',\n",
    "    'ps_values_dirs' : [data_dir + 'ps_models/' + ps_model_name + '/' + 'ps_values/' for ps_model_name in ps_model_names]\n",
    "    }\n",
    "\n",
    "# reporting\n",
    "explanation_file = ps_model_dir +  'reports/' + 'model_report' "
   ]
  },
  {
   "cell_type": "markdown",
   "id": "b1dcd615-5539-41d7-8bd9-245342848b63",
   "metadata": {},
   "source": [
    "### Define model specifications"
   ]
  },
  {
   "cell_type": "code",
   "execution_count": 2,
   "id": "9eadd46d-7d78-48b0-9581-4603403af84d",
   "metadata": {},
   "outputs": [],
   "source": [
    "ps_model_params = {\n",
    "    'name' : ps_model_name, \n",
    "    'base_model_params' : {  'base_model_type': 'stationary_constant',\n",
    "                              'units': 1 ,\n",
    "                              'layers': 1,\n",
    "                              'learning_rate': 0.01,\n",
    "                              'epochs': 100,\n",
    "                              'checkpoint_dir': ps_model_dir + 'checkpoints/'\n",
    "                          }\n",
    "    }"
   ]
  },
  {
   "cell_type": "markdown",
   "id": "dbfc75b9-feed-4bc6-b263-1adb27518558",
   "metadata": {},
   "source": [
    "### Imports "
   ]
  },
  {
   "cell_type": "code",
   "execution_count": 3,
   "id": "edf5583a-f28d-4886-b21b-29307fef5ca9",
   "metadata": {},
   "outputs": [],
   "source": [
    "%load_ext autoreload\n",
    "%autoreload 2\n",
    "\n",
    "import sys\n",
    "import os\n",
    "\n",
    "# navigate to afa directory \n",
    "sys.path.insert(0, os.path.abspath('../../afa'))"
   ]
  },
  {
   "cell_type": "markdown",
   "id": "de399c70-166d-4d9d-a891-43b01052b150",
   "metadata": {},
   "source": [
    "## Load dataset with missingness \n",
    "At first, we want to load the dataset \n",
    "\n",
    "Includes loading: \n",
    "- superfeature mapping\n",
    "- problem\n",
    "- afa_problem \n",
    "- missingness_model"
   ]
  },
  {
   "cell_type": "code",
   "execution_count": 4,
   "id": "9864eb83-a3f4-4d56-9caa-6ebf5c4fa529",
   "metadata": {},
   "outputs": [
    {
     "name": "stderr",
     "output_type": "stream",
     "text": [
      "2023-02-05 21:19:27.264240: I tensorflow/core/platform/cpu_feature_guard.cc:193] This TensorFlow binary is optimized with oneAPI Deep Neural Network Library (oneDNN) to use the following CPU instructions in performance-critical operations:  AVX2 FMA\n",
      "To enable them in other operations, rebuild TensorFlow with the appropriate compiler flags.\n",
      "2023-02-05 21:19:27.412997: W tensorflow/compiler/xla/stream_executor/platform/default/dso_loader.cc:64] Could not load dynamic library 'libcudart.so.11.0'; dlerror: libcudart.so.11.0: cannot open shared object file: No such file or directory\n",
      "2023-02-05 21:19:27.413016: I tensorflow/compiler/xla/stream_executor/cuda/cudart_stub.cc:29] Ignore above cudart dlerror if you do not have a GPU set up on your machine.\n",
      "2023-02-05 21:19:28.166185: W tensorflow/compiler/xla/stream_executor/platform/default/dso_loader.cc:64] Could not load dynamic library 'libnvinfer.so.7'; dlerror: libnvinfer.so.7: cannot open shared object file: No such file or directory\n",
      "2023-02-05 21:19:28.166319: W tensorflow/compiler/xla/stream_executor/platform/default/dso_loader.cc:64] Could not load dynamic library 'libnvinfer_plugin.so.7'; dlerror: libnvinfer_plugin.so.7: cannot open shared object file: No such file or directory\n",
      "2023-02-05 21:19:28.166331: W tensorflow/compiler/tf2tensorrt/utils/py_utils.cc:38] TF-TRT Warning: Cannot dlopen some TensorRT libraries. If you would like to use Nvidia GPU with TensorRT, please make sure the missing libraries mentioned above are installed properly.\n"
     ]
    }
   ],
   "source": [
    "from afa.data_modelling.datasets.data_loader.data_loader_ts import DataLoader_ts"
   ]
  },
  {
   "cell_type": "code",
   "execution_count": 5,
   "id": "812acbbc-2207-490b-9db5-64b24d334ee7",
   "metadata": {},
   "outputs": [
    {
     "name": "stderr",
     "output_type": "stream",
     "text": [
      "100%|████████████████████████████████████████████████████████████████████████████████| 100/100 [00:00<00:00, 751.63it/s]\n",
      "100%|████████████████████████████████████████████████████████████████████████████████| 100/100 [00:00<00:00, 836.44it/s]\n",
      "100%|████████████████████████████████████████████████████████████████████████████████| 100/100 [00:00<00:00, 810.19it/s]\n"
     ]
    }
   ],
   "source": [
    "data_loader = DataLoader_ts( data_file                  = data_file,\n",
    "                             temporal_data_file         = temporal_data_file,\n",
    "                             superfeature_mapping_file  = superfeature_mapping_file,\n",
    "                             problem_file               = problem_file,\n",
    "                             afa_problem_files          = afa_problem_files, \n",
    "                             miss_model_files           = miss_model_files,\n",
    "                             folds_file = folds_file)\n",
    "dataset = data_loader.load() "
   ]
  },
  {
   "cell_type": "markdown",
   "id": "682f0788-f552-457c-97cd-c82254f81302",
   "metadata": {},
   "source": [
    "## Define propensity score model"
   ]
  },
  {
   "cell_type": "code",
   "execution_count": 6,
   "id": "32f8ebde-44f5-46b5-bbad-df1e5b809460",
   "metadata": {},
   "outputs": [
    {
     "name": "stdout",
     "output_type": "stream",
     "text": [
      "Change base_model to stationary_constant\n",
      "Change base_model to stationary_constant\n"
     ]
    }
   ],
   "source": [
    "from afa.data_modelling.missingness.propensity_scores.propensity_score_model_ts import PropensityScoreModel_ts\n",
    "\n",
    "ps_model = PropensityScoreModel_ts(  name                         = ps_model_params['name'], \n",
    "                                     m_graph                      = dataset.miss_model.m_graph, \n",
    "                                     feature_name                 = dataset.feature_name,\n",
    "                                     target_superfeature_names    = dataset.afa_problem.target_superfeature_names,\n",
    "                                     model_params                 = ps_model_params ) "
   ]
  },
  {
   "cell_type": "markdown",
   "id": "f6ec89f1-1445-436b-8ad2-e6076737fdc7",
   "metadata": {},
   "source": [
    "## Fit propensity score model"
   ]
  },
  {
   "cell_type": "code",
   "execution_count": 7,
   "id": "13a9b0f5-609d-4a06-9097-ad01d2620849",
   "metadata": {},
   "outputs": [
    {
     "data": {
      "image/png": "[encoded data removed]",
      "text/plain": [
       "<Figure size 1152x360 with 2 Axes>"
      ]
     },
     "metadata": {
      "needs_background": "light"
     },
     "output_type": "display_data"
    }
   ],
   "source": [
    "ps_model.fit(dataset, fold = 0, train_split = 'train', valid_split = 'val', fit_again = True)"
   ]
  },
  {
   "cell_type": "markdown",
   "id": "0452a065-749e-4fd0-b974-43490612e61c",
   "metadata": {},
   "source": [
    "## Compute the propensity score for the dataset"
   ]
  },
  {
   "cell_type": "markdown",
   "id": "d4db8f63-f88f-4128-935f-8b15957fab34",
   "metadata": {},
   "source": [
    "We add the computed propensity scores to the dataset."
   ]
  },
  {
   "cell_type": "code",
   "execution_count": 8,
   "id": "dee08784-3137-485d-a4bf-02cfd0d6150a",
   "metadata": {},
   "outputs": [],
   "source": [
    "# compute ps values\n",
    "ps_values, ps_values_1 = ps_model.predict(dataset)"
   ]
  },
  {
   "cell_type": "code",
   "execution_count": 9,
   "id": "40dfbcfb-42cd-4a11-a8c4-db3336579f21",
   "metadata": {},
   "outputs": [],
   "source": [
    "# add ps_values\n",
    "dataset.miss_model.add_ps_values( ps_model_name , \n",
    "                                  ps_values = ps_values, \n",
    "                                  ps_values_1 = ps_values_1 )"
   ]
  },
  {
   "cell_type": "code",
   "execution_count": 10,
   "id": "e736b7c1-89d2-42e0-8841-49e98d60416f",
   "metadata": {},
   "outputs": [
    {
     "data": {
      "text/plain": [
       "(100, 10)"
      ]
     },
     "execution_count": 10,
     "metadata": {},
     "output_type": "execute_result"
    }
   ],
   "source": [
    "dataset.miss_model.ps_models['ps_model_MCAR_1_gt']['ps_values'].shape"
   ]
  },
  {
   "cell_type": "markdown",
   "id": "6e5eecf5-9569-4b35-8c90-4eb1dbd636fb",
   "metadata": {},
   "source": [
    "## Compare all propensity scores in dataset"
   ]
  },
  {
   "cell_type": "markdown",
   "id": "c0f6c479-af61-4851-92ef-8edf485c0448",
   "metadata": {},
   "source": [
    "We might have computed multiple different propensity scores (e.g. also the ground truth propensity score) using different models and want to compare their predictions now. "
   ]
  },
  {
   "cell_type": "code",
   "execution_count": 11,
   "id": "a81a2427-436b-43c0-b07f-4b684aebcd92",
   "metadata": {},
   "outputs": [
    {
     "data": {
      "image/png": "[encoded data removed]",
      "text/plain": [
       "<Figure size 288x360 with 1 Axes>"
      ]
     },
     "metadata": {
      "needs_background": "light"
     },
     "output_type": "display_data"
    }
   ],
   "source": [
    "dataset.miss_model.plot_ps_comparison(values_1 = True)"
   ]
  },
  {
   "cell_type": "code",
   "execution_count": 12,
   "id": "ce9d5bae-887c-4498-9077-edd0720e7d27",
   "metadata": {},
   "outputs": [
    {
     "data": {
      "image/png": "[encoded data removed]",
      "text/plain": [
       "<Figure size 288x360 with 1 Axes>"
      ]
     },
     "metadata": {
      "needs_background": "light"
     },
     "output_type": "display_data"
    }
   ],
   "source": [
    "dataset.miss_model.plot_ps_comparison(values_1 = False)"
   ]
  },
  {
   "cell_type": "markdown",
   "id": "d2210643-531e-4afe-a715-065007dbfa69",
   "metadata": {},
   "source": [
    "## Reporting: summarize the propensity score model and its training performance\n",
    "Store information in reports folder in latex / markdown format."
   ]
  },
  {
   "cell_type": "code",
   "execution_count": 13,
   "id": "2380c51f-50da-437a-9422-8aee903b2942",
   "metadata": {},
   "outputs": [],
   "source": [
    "ps_model.explain(file=  explanation_file + '.md', format = 'markdown')\n",
    "#ps_model.explain(file=  explanation_file + '.tex', format = 'latex')"
   ]
  },
  {
   "cell_type": "code",
   "execution_count": null,
   "id": "4061bf33-05f9-41b0-b2c5-fe44a0cfa381",
   "metadata": {},
   "outputs": [],
   "source": []
  }
 ],
 "metadata": {
  "kernelspec": {
   "display_name": "afa_env",
   "language": "python",
   "name": "afa_env"
  },
  "language_info": {
   "codemirror_mode": {
    "name": "ipython",
    "version": 3
   },
   "file_extension": ".py",
   "mimetype": "text/x-python",
   "name": "python",
   "nbconvert_exporter": "python",
   "pygments_lexer": "ipython3",
   "version": "3.10.8"
  }
 },
 "nbformat": 4,
 "nbformat_minor": 5
}
