{
 "cells": [
  {
   "cell_type": "markdown",
   "id": "8c30e44e-52d6-4634-b522-c267d9d25c18",
   "metadata": {},
   "source": [
    "# Train predicator (classifier) for AFA \n",
    "The AFA problem contains the training of a classifier that is able to predict well based on any acquired subset of features. \n",
    "In this notebook we train and save such a classifier "
   ]
  },
  {
   "cell_type": "markdown",
   "id": "57977939-d5d3-4f0c-bd02-170beb177566",
   "metadata": {
    "tags": []
   },
   "source": [
    "## Define paths"
   ]
  },
  {
   "cell_type": "code",
   "execution_count": 1,
   "id": "71ef8563-7860-4e4a-81f7-2a14f00f1938",
   "metadata": {},
   "outputs": [],
   "source": [
    "# which dataset to work on \n",
    "dataset_name   = \"synthetic_1\"\n",
    "\n",
    "# name for of missingness scenario \n",
    "miss_scenario  = 'MCAR_1'\n",
    "\n",
    "# name for predictor \n",
    "predictor_model_name  = 'logistic_regression'"
   ]
  },
  {
   "cell_type": "code",
   "execution_count": 2,
   "id": "f28e2e44-576f-4371-9ab8-001a0ab989e9",
   "metadata": {},
   "outputs": [],
   "source": [
    "# specifications\n",
    "data_dir       = \"../../../data/ts/\" + dataset_name + \"/\" + miss_scenario + \"/\" \n",
    "data_file          = data_dir + dataset_name + '_' + miss_scenario + '_static.csv.gz' \n",
    "temporal_data_file = data_dir + dataset_name + '_' + miss_scenario + '_ts_eav.csv.gz' \n",
    "superfeature_mapping_file = data_dir + 'superfeatures.csv'\n",
    "problem_file   = data_dir + 'problem/' + 'problem.yaml'\n",
    "afa_problem_files = {\n",
    "        'action_file'          : data_dir + 'afa_problem/' + 'acquisition_actions.csv', \n",
    "        'prediction_cost_file' : data_dir + 'afa_problem/' + 'prediction_cost.csv'\n",
    "                }\n",
    "folds_file = data_dir + 'folds/' + 'fold_list.hkl'\n",
    "\n",
    "\n",
    "# define files needed to load missingness model\n",
    "miss_model_files = {\n",
    "    'm_graph_adj_file' : data_dir + '/' + 'm_graphs/' + 'm_graph_adjacencies.csv'\n",
    "    }\n",
    "\n",
    "# new (where to save the model) \n",
    "predictor_model_dir = data_dir + 'predictor_models' + '/' + predictor_model_name + '/'\n",
    "\n",
    "# reporting\n",
    "explanation_file = predictor_model_dir +  'reports/' + 'model_report' "
   ]
  },
  {
   "cell_type": "markdown",
   "id": "7d243953-144f-4c97-a9c3-2811c39a30c2",
   "metadata": {},
   "source": [
    "### Imports "
   ]
  },
  {
   "cell_type": "code",
   "execution_count": 3,
   "id": "9518b6ad-c3db-41a6-8d05-20d5719cdad5",
   "metadata": {},
   "outputs": [],
   "source": [
    "%load_ext autoreload\n",
    "%autoreload 2\n",
    "\n",
    "import sys\n",
    "import os\n",
    "\n",
    "# navigate to afa directory \n",
    "sys.path.insert(0, os.path.abspath('../../afa'))"
   ]
  },
  {
   "cell_type": "markdown",
   "id": "0c26bb79-a599-4ec2-8714-395774f29e86",
   "metadata": {},
   "source": [
    "## Load dataset with missingness \n",
    "At first, we want to load the dataset \n",
    "\n",
    "Includes loading: \n",
    "- superfeature mapping\n",
    "- problem\n",
    "- afa_problem \n",
    "- missingness_model"
   ]
  },
  {
   "cell_type": "code",
   "execution_count": 4,
   "id": "e389e952-73f7-4961-aaf3-7da80d5ebc9a",
   "metadata": {},
   "outputs": [
    {
     "name": "stderr",
     "output_type": "stream",
     "text": [
      "2023-02-05 22:34:58.719147: I tensorflow/core/platform/cpu_feature_guard.cc:193] This TensorFlow binary is optimized with oneAPI Deep Neural Network Library (oneDNN) to use the following CPU instructions in performance-critical operations:  AVX2 FMA\n",
      "To enable them in other operations, rebuild TensorFlow with the appropriate compiler flags.\n",
      "2023-02-05 22:34:58.874020: W tensorflow/compiler/xla/stream_executor/platform/default/dso_loader.cc:64] Could not load dynamic library 'libcudart.so.11.0'; dlerror: libcudart.so.11.0: cannot open shared object file: No such file or directory\n",
      "2023-02-05 22:34:58.874039: I tensorflow/compiler/xla/stream_executor/cuda/cudart_stub.cc:29] Ignore above cudart dlerror if you do not have a GPU set up on your machine.\n",
      "2023-02-05 22:34:59.627877: W tensorflow/compiler/xla/stream_executor/platform/default/dso_loader.cc:64] Could not load dynamic library 'libnvinfer.so.7'; dlerror: libnvinfer.so.7: cannot open shared object file: No such file or directory\n",
      "2023-02-05 22:34:59.628036: W tensorflow/compiler/xla/stream_executor/platform/default/dso_loader.cc:64] Could not load dynamic library 'libnvinfer_plugin.so.7'; dlerror: libnvinfer_plugin.so.7: cannot open shared object file: No such file or directory\n",
      "2023-02-05 22:34:59.628049: W tensorflow/compiler/tf2tensorrt/utils/py_utils.cc:38] TF-TRT Warning: Cannot dlopen some TensorRT libraries. If you would like to use Nvidia GPU with TensorRT, please make sure the missing libraries mentioned above are installed properly.\n"
     ]
    }
   ],
   "source": [
    "from afa.data_modelling.datasets.data_loader.data_loader_ts import DataLoader_ts"
   ]
  },
  {
   "cell_type": "code",
   "execution_count": 5,
   "id": "42cd08c0-44c4-4f01-88d7-33ccd11bc28a",
   "metadata": {},
   "outputs": [
    {
     "name": "stderr",
     "output_type": "stream",
     "text": [
      "100%|████████████████████████████████████████████████████████████████████████████████| 100/100 [00:00<00:00, 769.74it/s]\n",
      "100%|████████████████████████████████████████████████████████████████████████████████| 100/100 [00:00<00:00, 677.88it/s]\n",
      "100%|████████████████████████████████████████████████████████████████████████████████| 100/100 [00:00<00:00, 679.88it/s]\n"
     ]
    }
   ],
   "source": [
    "data_loader = DataLoader_ts( data_file                  = data_file,\n",
    "                             temporal_data_file         = temporal_data_file,\n",
    "                             superfeature_mapping_file  = superfeature_mapping_file,\n",
    "                             problem_file               = problem_file,\n",
    "                             afa_problem_files          = afa_problem_files, \n",
    "                             miss_model_files           = miss_model_files,\n",
    "                             folds_file                 = folds_file)\n",
    "dataset = data_loader.load() "
   ]
  },
  {
   "cell_type": "markdown",
   "id": "3539523a-b1e7-4b8f-b010-3082ae3817ff",
   "metadata": {},
   "source": [
    "## Create afa dataset with missingness \n",
    "To train an AFA predictor, we need to induce artificial missingness (such that the predictor is robust to the missingness pattern). \n",
    "Here, we use a simple model to create missingness randomly."
   ]
  },
  {
   "cell_type": "code",
   "execution_count": 6,
   "id": "1b52d0e1-9f35-4ab5-b9b3-9adb0b0055b8",
   "metadata": {},
   "outputs": [],
   "source": [
    "from afa.data_modelling.missingness.missing_data_graph.missing_data_graph_ts import MissingDataGraph_ts\n",
    "from afa.data_modelling.missingness.propensity_scores.propensity_score_model_ts import PropensityScoreModel_ts\n",
    "from afa_models.afa_agents.afa_mechanism_agents.afa_mechanism_agent import AFAMechanismAgent"
   ]
  },
  {
   "cell_type": "markdown",
   "id": "57c7f795-8a07-40a5-a293-35fe98b6ce45",
   "metadata": {},
   "source": [
    "### Define Missingness Model"
   ]
  },
  {
   "cell_type": "code",
   "execution_count": 46,
   "id": "6330116c-54ff-4a79-b17a-88af4095dffc",
   "metadata": {},
   "outputs": [
    {
     "name": "stdout",
     "output_type": "stream",
     "text": [
      "Change base_model to stationary_constant\n",
      "Change base_model to stationary_constant\n",
      "Set weight for constant stationary model ...\n",
      "Set weight for constant stationary model ...\n"
     ]
    }
   ],
   "source": [
    "import pandas as pd\n",
    "import numpy as np \n",
    "# simple MCAR model \n",
    "m_graph_adj = pd.DataFrame([[0, 0], [0, 0]], \n",
    "                            index=['X0_ts', 'X1_ts' ], \n",
    "                            columns=['R_superX1_ts', 'R_superX2_ts'])\n",
    "m_graph     = MissingDataGraph_ts(   m_graph_adj  = m_graph_adj ) \n",
    "\n",
    "weights_df  = pd.DataFrame([[0.9, 0.9],[np.nan, np.nan],[np.nan, np.nan]], \n",
    "                        index   = ['bias', 'X0_ts',  'X1_ts'], \n",
    "                        columns = ['R_superX1_ts', 'R_superX2_ts'])\n",
    "\n",
    "\n",
    "ps_model_params = {}\n",
    "ps_model_params['base_model_params'] = {  'base_model_type': 'stationary_constant',\n",
    "                                          'gt_weights': weights_df }\n",
    "\n",
    "ps_model_name = 'dummy_miss_model'\n",
    "ps_model = PropensityScoreModel_ts(     name            = ps_model_name, \n",
    "                                        m_graph         = m_graph, \n",
    "                                        feature_name    = dataset.feature_name,\n",
    "                                        target_superfeature_names    = dataset.afa_problem.target_superfeature_names,\n",
    "                                        model_params = ps_model_params ) \n",
    "\n",
    "afa_agent = AFAMechanismAgent(  name    = miss_scenario + '_agent',\n",
    "                                ps_model= ps_model \n",
    "                             )"
   ]
  },
  {
   "cell_type": "markdown",
   "id": "e63aa0d2-c4c6-48b4-8f0c-7cc117d5a914",
   "metadata": {},
   "source": [
    "### Create AFADataset"
   ]
  },
  {
   "cell_type": "code",
   "execution_count": 47,
   "id": "0edbe684-b6d3-45d2-b40a-4d2638cc78b2",
   "metadata": {},
   "outputs": [],
   "source": [
    "from afa_datasets.afa_dataset_ts import AFADataset_ts"
   ]
  },
  {
   "cell_type": "code",
   "execution_count": 48,
   "id": "fcd1ff96-8eaf-4ce0-ab33-ad3d8d6eade5",
   "metadata": {},
   "outputs": [],
   "source": [
    "afa_results = afa_agent.predict(dataset, ids = None, fold = None, split = None,  n_samples = 10) \n",
    "\n",
    "# create an afa_dataset out of the generated afa_results\n",
    "afa_dataset = AFADataset_ts(  dataset = dataset, model = afa_agent, results = afa_results) "
   ]
  },
  {
   "cell_type": "markdown",
   "id": "7c25e9b6-f18b-47fb-9240-58efb84201ca",
   "metadata": {},
   "source": [
    "## Train Predictor "
   ]
  },
  {
   "cell_type": "markdown",
   "id": "ea987f31-febe-4053-9b9e-10dca7a72cfd",
   "metadata": {},
   "source": [
    "### Initialize predictor "
   ]
  },
  {
   "cell_type": "code",
   "execution_count": 49,
   "id": "39e3df59-098e-4ccb-a5ee-9ba6e9f0c29b",
   "metadata": {},
   "outputs": [],
   "source": [
    "from afa_models.afa_predictors.afa_predictor_ts import AFAPredictor_ts"
   ]
  },
  {
   "cell_type": "code",
   "execution_count": 50,
   "id": "7ef2aacc-b7d9-4d4e-87fe-daec905a10cb",
   "metadata": {},
   "outputs": [],
   "source": [
    "predictor_model_params = {\n",
    "    'name' : predictor_model_name, \n",
    "    'base_model_params' : {   'base_model_type': 'ImputeThenRegress',\n",
    "                              'imputer_params' : \n",
    "                                       {   \n",
    "                                      'base_model_type': 'simple_imputer',\n",
    "                                      'mode' : 'imputation', \n",
    "                                      'checkpoint_dir': predictor_model_dir + 'checkpoints/' \n",
    "                                      },\n",
    "                              'predictor_params' : \n",
    "                                       {   \n",
    "                                      'base_model_type': 'ann',\n",
    "                                      'mode' : 'classification', \n",
    "                                      'units':              1,\n",
    "                                      'layers': 1,\n",
    "                                      'learning_rate': 0.01,\n",
    "                                      'batch_size' :128,\n",
    "                                      'epochs': 100,\n",
    "                                      'checkpoint_dir': predictor_model_dir + 'checkpoints/' \n",
    "                                      }\n",
    "                          }\n",
    "    }"
   ]
  },
  {
   "cell_type": "code",
   "execution_count": 51,
   "id": "399aeb50-ea4b-4d63-985d-b241a332e52e",
   "metadata": {},
   "outputs": [
    {
     "name": "stdout",
     "output_type": "stream",
     "text": [
      "Loading already trained weights for SimpleImputer...\n",
      "Loading already trained weights for ann...\n"
     ]
    }
   ],
   "source": [
    "afa_predictor = AFAPredictor_ts(    name            = predictor_model_name, \n",
    "                                    model_params     = predictor_model_params)  "
   ]
  },
  {
   "cell_type": "code",
   "execution_count": 52,
   "id": "2b521049-ef7e-4b80-8a50-015475834a14",
   "metadata": {},
   "outputs": [
    {
     "name": "stdout",
     "output_type": "stream",
     "text": [
      "WARNING:tensorflow:`period` argument is deprecated. Please use `save_freq` to specify the frequency in number of batches seen.\n",
      "Epoch 1/100\n",
      "6/6 [==============================] - 1s 27ms/step - loss: 0.5610 - binary_accuracy: 0.7125 - val_loss: 0.4580 - val_binary_accuracy: 0.8125\n",
      "Epoch 2/100\n",
      "6/6 [==============================] - 0s 7ms/step - loss: 0.5591 - binary_accuracy: 0.7125 - val_loss: 0.4583 - val_binary_accuracy: 0.8125\n",
      "Epoch 3/100\n",
      "6/6 [==============================] - 0s 7ms/step - loss: 0.5558 - binary_accuracy: 0.7097 - val_loss: 0.4595 - val_binary_accuracy: 0.8125\n",
      "Epoch 4/100\n",
      "6/6 [==============================] - 0s 8ms/step - loss: 0.5531 - binary_accuracy: 0.7069 - val_loss: 0.4609 - val_binary_accuracy: 0.7750\n",
      "Epoch 5/100\n",
      "6/6 [==============================] - 0s 9ms/step - loss: 0.5507 - binary_accuracy: 0.7069 - val_loss: 0.4627 - val_binary_accuracy: 0.7750\n",
      "Epoch 6/100\n",
      "6/6 [==============================] - 0s 8ms/step - loss: 0.5492 - binary_accuracy: 0.7028 - val_loss: 0.4648 - val_binary_accuracy: 0.7875\n",
      "Epoch 7/100\n",
      "6/6 [==============================] - 0s 7ms/step - loss: 0.5473 - binary_accuracy: 0.7042 - val_loss: 0.4666 - val_binary_accuracy: 0.7875\n",
      "Epoch 8/100\n",
      "6/6 [==============================] - 0s 8ms/step - loss: 0.5464 - binary_accuracy: 0.7042 - val_loss: 0.4683 - val_binary_accuracy: 0.7875\n",
      "Epoch 9/100\n",
      "6/6 [==============================] - 0s 8ms/step - loss: 0.5457 - binary_accuracy: 0.7014 - val_loss: 0.4699 - val_binary_accuracy: 0.8000\n",
      "Epoch 10/100\n",
      "1/6 [====>.........................] - ETA: 0s - loss: 0.5985 - binary_accuracy: 0.6719\n",
      "Epoch 10: saving model to ../../../data/ts/synthetic_1/MCAR_1/predictor_models/logistic_regression/checkpoints/cp.ckpt\n",
      "6/6 [==============================] - 0s 24ms/step - loss: 0.5453 - binary_accuracy: 0.7014 - val_loss: 0.4714 - val_binary_accuracy: 0.8000\n",
      "Epoch 11/100\n",
      "6/6 [==============================] - 0s 7ms/step - loss: 0.5448 - binary_accuracy: 0.7000 - val_loss: 0.4725 - val_binary_accuracy: 0.8000\n",
      "Epoch 12/100\n",
      "6/6 [==============================] - 0s 8ms/step - loss: 0.5445 - binary_accuracy: 0.7000 - val_loss: 0.4733 - val_binary_accuracy: 0.8000\n",
      "Epoch 13/100\n",
      "6/6 [==============================] - 0s 7ms/step - loss: 0.5444 - binary_accuracy: 0.7000 - val_loss: 0.4742 - val_binary_accuracy: 0.8000\n",
      "Epoch 14/100\n",
      "6/6 [==============================] - 0s 7ms/step - loss: 0.5443 - binary_accuracy: 0.7000 - val_loss: 0.4749 - val_binary_accuracy: 0.8000\n",
      "Epoch 15/100\n",
      "6/6 [==============================] - 0s 8ms/step - loss: 0.5442 - binary_accuracy: 0.7000 - val_loss: 0.4756 - val_binary_accuracy: 0.8000\n",
      "Epoch 16/100\n",
      "6/6 [==============================] - 0s 8ms/step - loss: 0.5442 - binary_accuracy: 0.7000 - val_loss: 0.4763 - val_binary_accuracy: 0.8000\n",
      "Epoch 17/100\n",
      "6/6 [==============================] - 0s 7ms/step - loss: 0.5441 - binary_accuracy: 0.7028 - val_loss: 0.4771 - val_binary_accuracy: 0.8000\n",
      "Epoch 18/100\n",
      "6/6 [==============================] - 0s 7ms/step - loss: 0.5441 - binary_accuracy: 0.7028 - val_loss: 0.4777 - val_binary_accuracy: 0.8000\n",
      "Epoch 19/100\n",
      "6/6 [==============================] - 0s 8ms/step - loss: 0.5440 - binary_accuracy: 0.7028 - val_loss: 0.4777 - val_binary_accuracy: 0.8000\n",
      "Epoch 20/100\n",
      "1/6 [====>.........................] - ETA: 0s - loss: 0.5259 - binary_accuracy: 0.6953\n",
      "Epoch 20: saving model to ../../../data/ts/synthetic_1/MCAR_1/predictor_models/logistic_regression/checkpoints/cp.ckpt\n",
      "6/6 [==============================] - 0s 26ms/step - loss: 0.5440 - binary_accuracy: 0.7014 - val_loss: 0.4778 - val_binary_accuracy: 0.8000\n",
      "Epoch 21/100\n",
      "6/6 [==============================] - 0s 9ms/step - loss: 0.5440 - binary_accuracy: 0.7028 - val_loss: 0.4780 - val_binary_accuracy: 0.8000\n",
      "Epoch 22/100\n",
      "6/6 [==============================] - 0s 9ms/step - loss: 0.5440 - binary_accuracy: 0.7028 - val_loss: 0.4781 - val_binary_accuracy: 0.8000\n",
      "Epoch 23/100\n",
      "6/6 [==============================] - 0s 8ms/step - loss: 0.5440 - binary_accuracy: 0.7042 - val_loss: 0.4786 - val_binary_accuracy: 0.8000\n",
      "Epoch 24/100\n",
      "6/6 [==============================] - 0s 9ms/step - loss: 0.5440 - binary_accuracy: 0.7056 - val_loss: 0.4788 - val_binary_accuracy: 0.8000\n",
      "Epoch 25/100\n",
      "6/6 [==============================] - 0s 8ms/step - loss: 0.5440 - binary_accuracy: 0.7056 - val_loss: 0.4787 - val_binary_accuracy: 0.8000\n",
      "Epoch 26/100\n",
      "6/6 [==============================] - 0s 7ms/step - loss: 0.5441 - binary_accuracy: 0.7028 - val_loss: 0.4790 - val_binary_accuracy: 0.8000\n",
      "Epoch 27/100\n",
      "6/6 [==============================] - 0s 7ms/step - loss: 0.5442 - binary_accuracy: 0.7028 - val_loss: 0.4784 - val_binary_accuracy: 0.8000\n",
      "Epoch 28/100\n",
      "6/6 [==============================] - 0s 7ms/step - loss: 0.5439 - binary_accuracy: 0.7042 - val_loss: 0.4784 - val_binary_accuracy: 0.8000\n",
      "Epoch 29/100\n",
      "6/6 [==============================] - 0s 8ms/step - loss: 0.5439 - binary_accuracy: 0.7042 - val_loss: 0.4786 - val_binary_accuracy: 0.8000\n",
      "Epoch 30/100\n",
      "1/6 [====>.........................] - ETA: 0s - loss: 0.4892 - binary_accuracy: 0.7656\n",
      "Epoch 30: saving model to ../../../data/ts/synthetic_1/MCAR_1/predictor_models/logistic_regression/checkpoints/cp.ckpt\n",
      "6/6 [==============================] - 0s 24ms/step - loss: 0.5440 - binary_accuracy: 0.7014 - val_loss: 0.4787 - val_binary_accuracy: 0.8000\n",
      "Epoch 31/100\n",
      "6/6 [==============================] - 0s 7ms/step - loss: 0.5440 - binary_accuracy: 0.7028 - val_loss: 0.4787 - val_binary_accuracy: 0.8000\n",
      "Epoch 32/100\n",
      "6/6 [==============================] - 0s 8ms/step - loss: 0.5439 - binary_accuracy: 0.7014 - val_loss: 0.4790 - val_binary_accuracy: 0.8000\n",
      "Epoch 33/100\n",
      "6/6 [==============================] - 0s 8ms/step - loss: 0.5439 - binary_accuracy: 0.7028 - val_loss: 0.4793 - val_binary_accuracy: 0.8000\n",
      "Epoch 34/100\n",
      "6/6 [==============================] - 0s 8ms/step - loss: 0.5439 - binary_accuracy: 0.7028 - val_loss: 0.4790 - val_binary_accuracy: 0.8000\n",
      "Epoch 35/100\n",
      "6/6 [==============================] - 0s 8ms/step - loss: 0.5439 - binary_accuracy: 0.7028 - val_loss: 0.4790 - val_binary_accuracy: 0.8000\n",
      "Epoch 36/100\n",
      "6/6 [==============================] - 0s 8ms/step - loss: 0.5439 - binary_accuracy: 0.7028 - val_loss: 0.4790 - val_binary_accuracy: 0.8000\n",
      "Epoch 37/100\n",
      "6/6 [==============================] - 0s 8ms/step - loss: 0.5438 - binary_accuracy: 0.7042 - val_loss: 0.4791 - val_binary_accuracy: 0.8000\n",
      "Epoch 38/100\n",
      "6/6 [==============================] - 0s 8ms/step - loss: 0.5438 - binary_accuracy: 0.7042 - val_loss: 0.4791 - val_binary_accuracy: 0.8000\n",
      "Epoch 39/100\n",
      "6/6 [==============================] - 0s 7ms/step - loss: 0.5438 - binary_accuracy: 0.7042 - val_loss: 0.4791 - val_binary_accuracy: 0.8000\n",
      "Epoch 40/100\n",
      "1/6 [====>.........................] - ETA: 0s - loss: 0.5022 - binary_accuracy: 0.7500\n",
      "Epoch 40: saving model to ../../../data/ts/synthetic_1/MCAR_1/predictor_models/logistic_regression/checkpoints/cp.ckpt\n",
      "6/6 [==============================] - 0s 25ms/step - loss: 0.5438 - binary_accuracy: 0.7042 - val_loss: 0.4788 - val_binary_accuracy: 0.8000\n",
      "Epoch 41/100\n",
      "6/6 [==============================] - 0s 8ms/step - loss: 0.5439 - binary_accuracy: 0.7028 - val_loss: 0.4787 - val_binary_accuracy: 0.8000\n",
      "Epoch 42/100\n",
      "6/6 [==============================] - 0s 8ms/step - loss: 0.5438 - binary_accuracy: 0.7028 - val_loss: 0.4788 - val_binary_accuracy: 0.8000\n",
      "Epoch 43/100\n",
      "6/6 [==============================] - 0s 8ms/step - loss: 0.5438 - binary_accuracy: 0.7028 - val_loss: 0.4787 - val_binary_accuracy: 0.8000\n",
      "Epoch 44/100\n",
      "6/6 [==============================] - 0s 8ms/step - loss: 0.5439 - binary_accuracy: 0.7042 - val_loss: 0.4787 - val_binary_accuracy: 0.8000\n",
      "Epoch 45/100\n",
      "6/6 [==============================] - 0s 8ms/step - loss: 0.5438 - binary_accuracy: 0.7056 - val_loss: 0.4785 - val_binary_accuracy: 0.8000\n",
      "Epoch 46/100\n",
      "6/6 [==============================] - 0s 7ms/step - loss: 0.5438 - binary_accuracy: 0.7056 - val_loss: 0.4787 - val_binary_accuracy: 0.8000\n",
      "Epoch 47/100\n",
      "6/6 [==============================] - 0s 8ms/step - loss: 0.5439 - binary_accuracy: 0.7042 - val_loss: 0.4788 - val_binary_accuracy: 0.8000\n",
      "Epoch 48/100\n",
      "6/6 [==============================] - 0s 8ms/step - loss: 0.5438 - binary_accuracy: 0.7028 - val_loss: 0.4792 - val_binary_accuracy: 0.8000\n",
      "Epoch 49/100\n",
      "6/6 [==============================] - 0s 8ms/step - loss: 0.5438 - binary_accuracy: 0.7028 - val_loss: 0.4792 - val_binary_accuracy: 0.8000\n",
      "Epoch 50/100\n",
      "1/6 [====>.........................] - ETA: 0s - loss: 0.5317 - binary_accuracy: 0.7266\n",
      "Epoch 50: saving model to ../../../data/ts/synthetic_1/MCAR_1/predictor_models/logistic_regression/checkpoints/cp.ckpt\n",
      "6/6 [==============================] - 0s 25ms/step - loss: 0.5438 - binary_accuracy: 0.7028 - val_loss: 0.4792 - val_binary_accuracy: 0.8000\n",
      "Epoch 51/100\n",
      "6/6 [==============================] - 0s 7ms/step - loss: 0.5437 - binary_accuracy: 0.7028 - val_loss: 0.4792 - val_binary_accuracy: 0.8000\n",
      "Epoch 52/100\n",
      "6/6 [==============================] - 0s 8ms/step - loss: 0.5438 - binary_accuracy: 0.7028 - val_loss: 0.4792 - val_binary_accuracy: 0.8000\n",
      "Epoch 53/100\n",
      "6/6 [==============================] - 0s 8ms/step - loss: 0.5438 - binary_accuracy: 0.7014 - val_loss: 0.4793 - val_binary_accuracy: 0.8000\n",
      "Epoch 54/100\n",
      "6/6 [==============================] - 0s 8ms/step - loss: 0.5438 - binary_accuracy: 0.7014 - val_loss: 0.4795 - val_binary_accuracy: 0.8000\n",
      "Epoch 55/100\n",
      "6/6 [==============================] - 0s 8ms/step - loss: 0.5437 - binary_accuracy: 0.7014 - val_loss: 0.4796 - val_binary_accuracy: 0.8000\n",
      "Epoch 56/100\n",
      "6/6 [==============================] - 0s 8ms/step - loss: 0.5439 - binary_accuracy: 0.7042 - val_loss: 0.4798 - val_binary_accuracy: 0.8000\n",
      "Epoch 57/100\n",
      "6/6 [==============================] - 0s 8ms/step - loss: 0.5438 - binary_accuracy: 0.7028 - val_loss: 0.4798 - val_binary_accuracy: 0.8000\n",
      "Epoch 58/100\n",
      "6/6 [==============================] - 0s 8ms/step - loss: 0.5438 - binary_accuracy: 0.7056 - val_loss: 0.4798 - val_binary_accuracy: 0.8000\n",
      "Epoch 59/100\n",
      "6/6 [==============================] - 0s 8ms/step - loss: 0.5438 - binary_accuracy: 0.7056 - val_loss: 0.4799 - val_binary_accuracy: 0.8000\n",
      "Epoch 60/100\n",
      "1/6 [====>.........................] - ETA: 0s - loss: 0.6132 - binary_accuracy: 0.6328\n",
      "Epoch 60: saving model to ../../../data/ts/synthetic_1/MCAR_1/predictor_models/logistic_regression/checkpoints/cp.ckpt\n",
      "6/6 [==============================] - 0s 24ms/step - loss: 0.5437 - binary_accuracy: 0.7056 - val_loss: 0.4797 - val_binary_accuracy: 0.8000\n",
      "Epoch 61/100\n",
      "6/6 [==============================] - 0s 7ms/step - loss: 0.5438 - binary_accuracy: 0.7056 - val_loss: 0.4796 - val_binary_accuracy: 0.8000\n",
      "Epoch 62/100\n",
      "6/6 [==============================] - 0s 8ms/step - loss: 0.5437 - binary_accuracy: 0.7056 - val_loss: 0.4798 - val_binary_accuracy: 0.8000\n",
      "Epoch 63/100\n",
      "6/6 [==============================] - 0s 8ms/step - loss: 0.5438 - binary_accuracy: 0.7056 - val_loss: 0.4797 - val_binary_accuracy: 0.8000\n",
      "Epoch 64/100\n",
      "6/6 [==============================] - 0s 7ms/step - loss: 0.5437 - binary_accuracy: 0.7042 - val_loss: 0.4797 - val_binary_accuracy: 0.8000\n",
      "Epoch 65/100\n",
      "6/6 [==============================] - 0s 8ms/step - loss: 0.5438 - binary_accuracy: 0.7056 - val_loss: 0.4796 - val_binary_accuracy: 0.8000\n",
      "Epoch 66/100\n",
      "6/6 [==============================] - 0s 8ms/step - loss: 0.5438 - binary_accuracy: 0.7042 - val_loss: 0.4795 - val_binary_accuracy: 0.8000\n",
      "Epoch 67/100\n",
      "6/6 [==============================] - 0s 7ms/step - loss: 0.5437 - binary_accuracy: 0.7056 - val_loss: 0.4798 - val_binary_accuracy: 0.8000\n",
      "Epoch 68/100\n",
      "6/6 [==============================] - 0s 8ms/step - loss: 0.5437 - binary_accuracy: 0.7056 - val_loss: 0.4799 - val_binary_accuracy: 0.8000\n",
      "Epoch 69/100\n",
      "6/6 [==============================] - 0s 8ms/step - loss: 0.5438 - binary_accuracy: 0.7014 - val_loss: 0.4802 - val_binary_accuracy: 0.7875\n",
      "Epoch 70/100\n",
      "1/6 [====>.........................] - ETA: 0s - loss: 0.5594 - binary_accuracy: 0.7031\n",
      "Epoch 70: saving model to ../../../data/ts/synthetic_1/MCAR_1/predictor_models/logistic_regression/checkpoints/cp.ckpt\n",
      "6/6 [==============================] - 0s 24ms/step - loss: 0.5438 - binary_accuracy: 0.7028 - val_loss: 0.4805 - val_binary_accuracy: 0.7875\n",
      "Epoch 71/100\n",
      "6/6 [==============================] - 0s 7ms/step - loss: 0.5438 - binary_accuracy: 0.7014 - val_loss: 0.4803 - val_binary_accuracy: 0.7875\n",
      "Epoch 72/100\n",
      "6/6 [==============================] - 0s 7ms/step - loss: 0.5438 - binary_accuracy: 0.7014 - val_loss: 0.4800 - val_binary_accuracy: 0.7875\n",
      "Epoch 73/100\n",
      "6/6 [==============================] - 0s 8ms/step - loss: 0.5439 - binary_accuracy: 0.7000 - val_loss: 0.4798 - val_binary_accuracy: 0.8000\n",
      "Epoch 74/100\n",
      "6/6 [==============================] - 0s 8ms/step - loss: 0.5438 - binary_accuracy: 0.7028 - val_loss: 0.4800 - val_binary_accuracy: 0.8000\n",
      "Epoch 75/100\n",
      "6/6 [==============================] - 0s 7ms/step - loss: 0.5437 - binary_accuracy: 0.7028 - val_loss: 0.4798 - val_binary_accuracy: 0.8000\n",
      "Epoch 76/100\n",
      "6/6 [==============================] - 0s 7ms/step - loss: 0.5439 - binary_accuracy: 0.7028 - val_loss: 0.4792 - val_binary_accuracy: 0.8000\n",
      "Epoch 77/100\n",
      "6/6 [==============================] - 0s 8ms/step - loss: 0.5437 - binary_accuracy: 0.7042 - val_loss: 0.4797 - val_binary_accuracy: 0.8000\n",
      "Epoch 78/100\n",
      "6/6 [==============================] - 0s 8ms/step - loss: 0.5437 - binary_accuracy: 0.7056 - val_loss: 0.4799 - val_binary_accuracy: 0.8000\n",
      "Epoch 79/100\n",
      "6/6 [==============================] - 0s 8ms/step - loss: 0.5437 - binary_accuracy: 0.7042 - val_loss: 0.4800 - val_binary_accuracy: 0.8000\n",
      "Epoch 80/100\n",
      "1/6 [====>.........................] - ETA: 0s - loss: 0.5172 - binary_accuracy: 0.7109\n",
      "Epoch 80: saving model to ../../../data/ts/synthetic_1/MCAR_1/predictor_models/logistic_regression/checkpoints/cp.ckpt\n",
      "6/6 [==============================] - 0s 25ms/step - loss: 0.5437 - binary_accuracy: 0.7042 - val_loss: 0.4800 - val_binary_accuracy: 0.8000\n",
      "Epoch 81/100\n",
      "6/6 [==============================] - 0s 8ms/step - loss: 0.5437 - binary_accuracy: 0.7056 - val_loss: 0.4800 - val_binary_accuracy: 0.8000\n",
      "Epoch 82/100\n",
      "6/6 [==============================] - 0s 7ms/step - loss: 0.5438 - binary_accuracy: 0.7042 - val_loss: 0.4801 - val_binary_accuracy: 0.8000\n",
      "Epoch 83/100\n",
      "6/6 [==============================] - 0s 8ms/step - loss: 0.5438 - binary_accuracy: 0.7042 - val_loss: 0.4801 - val_binary_accuracy: 0.8000\n",
      "Epoch 84/100\n",
      "6/6 [==============================] - 0s 8ms/step - loss: 0.5437 - binary_accuracy: 0.7042 - val_loss: 0.4800 - val_binary_accuracy: 0.8000\n",
      "Epoch 85/100\n",
      "6/6 [==============================] - 0s 8ms/step - loss: 0.5437 - binary_accuracy: 0.7042 - val_loss: 0.4797 - val_binary_accuracy: 0.8000\n",
      "Epoch 86/100\n",
      "6/6 [==============================] - 0s 8ms/step - loss: 0.5439 - binary_accuracy: 0.7056 - val_loss: 0.4802 - val_binary_accuracy: 0.8000\n",
      "Epoch 87/100\n",
      "6/6 [==============================] - 0s 8ms/step - loss: 0.5437 - binary_accuracy: 0.7042 - val_loss: 0.4801 - val_binary_accuracy: 0.8000\n",
      "Epoch 88/100\n",
      "6/6 [==============================] - 0s 8ms/step - loss: 0.5437 - binary_accuracy: 0.7056 - val_loss: 0.4800 - val_binary_accuracy: 0.8000\n",
      "Epoch 89/100\n",
      "6/6 [==============================] - 0s 8ms/step - loss: 0.5437 - binary_accuracy: 0.7056 - val_loss: 0.4798 - val_binary_accuracy: 0.8000\n",
      "Epoch 90/100\n",
      "1/6 [====>.........................] - ETA: 0s - loss: 0.5666 - binary_accuracy: 0.6797\n",
      "Epoch 90: saving model to ../../../data/ts/synthetic_1/MCAR_1/predictor_models/logistic_regression/checkpoints/cp.ckpt\n",
      "6/6 [==============================] - 0s 24ms/step - loss: 0.5437 - binary_accuracy: 0.7056 - val_loss: 0.4798 - val_binary_accuracy: 0.8000\n",
      "Epoch 91/100\n",
      "6/6 [==============================] - 0s 7ms/step - loss: 0.5437 - binary_accuracy: 0.7056 - val_loss: 0.4796 - val_binary_accuracy: 0.8000\n",
      "Epoch 92/100\n",
      "6/6 [==============================] - 0s 8ms/step - loss: 0.5437 - binary_accuracy: 0.7056 - val_loss: 0.4794 - val_binary_accuracy: 0.8000\n",
      "Epoch 93/100\n",
      "6/6 [==============================] - 0s 8ms/step - loss: 0.5437 - binary_accuracy: 0.7042 - val_loss: 0.4799 - val_binary_accuracy: 0.8000\n",
      "Epoch 94/100\n",
      "6/6 [==============================] - 0s 8ms/step - loss: 0.5438 - binary_accuracy: 0.7042 - val_loss: 0.4797 - val_binary_accuracy: 0.8000\n",
      "Epoch 95/100\n",
      "6/6 [==============================] - 0s 9ms/step - loss: 0.5437 - binary_accuracy: 0.7042 - val_loss: 0.4800 - val_binary_accuracy: 0.8000\n",
      "Epoch 96/100\n",
      "6/6 [==============================] - 0s 9ms/step - loss: 0.5437 - binary_accuracy: 0.7056 - val_loss: 0.4798 - val_binary_accuracy: 0.8000\n",
      "Epoch 97/100\n",
      "6/6 [==============================] - 0s 9ms/step - loss: 0.5437 - binary_accuracy: 0.7056 - val_loss: 0.4799 - val_binary_accuracy: 0.8000\n",
      "Epoch 98/100\n",
      "6/6 [==============================] - 0s 9ms/step - loss: 0.5437 - binary_accuracy: 0.7056 - val_loss: 0.4796 - val_binary_accuracy: 0.8000\n",
      "Epoch 99/100\n",
      "6/6 [==============================] - 0s 9ms/step - loss: 0.5437 - binary_accuracy: 0.7042 - val_loss: 0.4795 - val_binary_accuracy: 0.8000\n",
      "Epoch 100/100\n",
      "1/6 [====>.........................] - ETA: 0s - loss: 0.4954 - binary_accuracy: 0.7812\n",
      "Epoch 100: saving model to ../../../data/ts/synthetic_1/MCAR_1/predictor_models/logistic_regression/checkpoints/cp.ckpt\n",
      "6/6 [==============================] - 0s 26ms/step - loss: 0.5437 - binary_accuracy: 0.7042 - val_loss: 0.4796 - val_binary_accuracy: 0.8000\n",
      "4/4 [==============================] - 0s 2ms/step\n"
     ]
    },
    {
     "data": {
      "image/png": "[encoded data removed]",
      "text/plain": [
       "<Figure size 1152x360 with 1 Axes>"
      ]
     },
     "metadata": {
      "needs_background": "light"
     },
     "output_type": "display_data"
    }
   ],
   "source": [
    "afa_predictor.fit(afa_dataset, \n",
    "                  fold = 0, \n",
    "                  train_split = 'train', \n",
    "                  valid_split = 'val', \n",
    "                  fit_again = True)"
   ]
  },
  {
   "cell_type": "code",
   "execution_count": null,
   "id": "9df65e1c-7a7b-472f-9234-8e4e0b075e5b",
   "metadata": {},
   "outputs": [],
   "source": []
  }
 ],
 "metadata": {
  "kernelspec": {
   "display_name": "afa_env",
   "language": "python",
   "name": "afa_env"
  },
  "language_info": {
   "codemirror_mode": {
    "name": "ipython",
    "version": 3
   },
   "file_extension": ".py",
   "mimetype": "text/x-python",
   "name": "python",
   "nbconvert_exporter": "python",
   "pygments_lexer": "ipython3",
   "version": "3.10.8"
  }
 },
 "nbformat": 4,
 "nbformat_minor": 5
}
