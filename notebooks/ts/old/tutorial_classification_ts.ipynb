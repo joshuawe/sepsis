{
 "cells": [
  {
   "cell_type": "markdown",
   "id": "57ded17c-9cfc-4874-b947-c32337a2c6cb",
   "metadata": {},
   "source": [
    "# Test data loading for time-series dataset"
   ]
  },
  {
   "cell_type": "markdown",
   "id": "109eebe4-2c2c-441b-bae1-b9167cde31ef",
   "metadata": {},
   "source": [
    "This is a short test to show how data loading works "
   ]
  },
  {
   "cell_type": "code",
   "execution_count": 1,
   "id": "24951169-b71d-4937-a635-5a1e924d82f1",
   "metadata": {},
   "outputs": [],
   "source": [
    "%load_ext autoreload\n",
    "%autoreload 2\n",
    "\n",
    "import sys\n",
    "import os\n",
    "import numpy as np\n",
    "\n",
    "# all paths relative to afa directory \n",
    "sys.path.insert(0, os.path.abspath('../../afa'))"
   ]
  },
  {
   "cell_type": "markdown",
   "id": "3b4d90f6-fe03-41f3-8eac-7718598f58cc",
   "metadata": {},
   "source": [
    "### Load time-series dataset"
   ]
  },
  {
   "cell_type": "code",
   "execution_count": 2,
   "id": "d2010739-c38b-4238-a13c-a691b0b06547",
   "metadata": {},
   "outputs": [],
   "source": [
    "from afa.data_modelling.datasets.data_loader.data_loader_ts import DataLoader_ts"
   ]
  },
  {
   "cell_type": "code",
   "execution_count": 3,
   "id": "a598febe-3424-49af-8a4c-e2b1e8d0b655",
   "metadata": {},
   "outputs": [],
   "source": [
    "data_dir = '../../../data/ts/synthetic/'\n",
    "data_file          = data_dir + 'synthetic_static_train_data.csv.gz' \n",
    "temporal_data_file = data_dir + 'synthetic_ts_train_data_eav.csv.gz' \n",
    "# superfeature_mapping_file = data_dir + 'superfeature_names.csv'\n",
    "superfeature_mapping_file = None\n",
    "    \n",
    "data_loader_train = DataLoader_ts( data_file                  = data_file,\n",
    "                                   temporal_data_file         = temporal_data_file,\n",
    "                                   superfeature_mapping_file  = superfeature_mapping_file )\n",
    "\n",
    "dataset = data_loader_train.load() "
   ]
  },
  {
   "cell_type": "markdown",
   "id": "6bd4d695-a08e-4719-b767-cdc48c2f1c5e",
   "metadata": {},
   "source": [
    "## Preprocessing"
   ]
  },
  {
   "cell_type": "code",
   "execution_count": 4,
   "id": "183c9d5c-4c54-4690-abc0-5e0d9d5a8065",
   "metadata": {},
   "outputs": [
    {
     "name": "stderr",
     "output_type": "stream",
     "text": [
      "2022-12-28 11:10:08.721585: I tensorflow/core/platform/cpu_feature_guard.cc:193] This TensorFlow binary is optimized with oneAPI Deep Neural Network Library (oneDNN) to use the following CPU instructions in performance-critical operations:  AVX2 FMA\n",
      "To enable them in other operations, rebuild TensorFlow with the appropriate compiler flags.\n",
      "2022-12-28 11:10:08.844811: W tensorflow/compiler/xla/stream_executor/platform/default/dso_loader.cc:64] Could not load dynamic library 'libcudart.so.11.0'; dlerror: libcudart.so.11.0: cannot open shared object file: No such file or directory\n",
      "2022-12-28 11:10:08.844829: I tensorflow/compiler/xla/stream_executor/cuda/cudart_stub.cc:29] Ignore above cudart dlerror if you do not have a GPU set up on your machine.\n",
      "2022-12-28 11:10:09.568608: W tensorflow/compiler/xla/stream_executor/platform/default/dso_loader.cc:64] Could not load dynamic library 'libnvinfer.so.7'; dlerror: libnvinfer.so.7: cannot open shared object file: No such file or directory\n",
      "2022-12-28 11:10:09.568709: W tensorflow/compiler/xla/stream_executor/platform/default/dso_loader.cc:64] Could not load dynamic library 'libnvinfer_plugin.so.7'; dlerror: libnvinfer_plugin.so.7: cannot open shared object file: No such file or directory\n",
      "2022-12-28 11:10:09.568718: W tensorflow/compiler/tf2tensorrt/utils/py_utils.cc:38] TF-TRT Warning: Cannot dlopen some TensorRT libraries. If you would like to use Nvidia GPU with TensorRT, please make sure the missing libraries mentioned above are installed properly.\n"
     ]
    }
   ],
   "source": [
    "from afa.data_modelling.preprocessing import Normalizer\n",
    "from afa.data_modelling.utils.model_utils import PipelineComposer"
   ]
  },
  {
   "cell_type": "code",
   "execution_count": 5,
   "id": "64b4b8d1-7438-4d5b-b760-0662c069d857",
   "metadata": {},
   "outputs": [
    {
     "name": "stdout",
     "output_type": "stream",
     "text": [
      "Finish preprocessing.\n"
     ]
    }
   ],
   "source": [
    "normalization = 'minmax'\n",
    "normalizer = Normalizer(normalization)\n",
    "\n",
    "# Data preprocessing\n",
    "filter_pipeline = PipelineComposer(normalizer)\n",
    "\n",
    "dataset = filter_pipeline.fit_transform(dataset)\n",
    "\n",
    "print('Finish preprocessing.')"
   ]
  },
  {
   "cell_type": "markdown",
   "id": "d2584bb5-bacd-40a0-a671-75da0e38fae6",
   "metadata": {},
   "source": [
    "### Define problem"
   ]
  },
  {
   "cell_type": "markdown",
   "id": "3b2a8f65-a8b0-4683-8cc6-0f04333a7966",
   "metadata": {},
   "source": [
    "Set the prediction problem that we want to solve. Set the problem (one-shot), set the label and set the treatment features (not supported). \n",
    "\n",
    "We also define the metric for evaluation and the task itself (whether classification or regression\n",
    "  - problem: \n",
    "    - 'one-shot': one time prediction \n",
    "    - 'online': predict time-series \n",
    "  - label_name: the column name for the label(s)\n",
    "  - treatment: the column name for treatments"
   ]
  },
  {
   "cell_type": "code",
   "execution_count": 6,
   "id": "30f46286-3d6f-4cec-b9e0-b9c20d6f3144",
   "metadata": {},
   "outputs": [],
   "source": [
    "from afa.data_modelling.problem.problem_ts import ProblemMaker_ts"
   ]
  },
  {
   "cell_type": "code",
   "execution_count": 7,
   "id": "6798e31d-879a-4c08-8772-a83a515b8e5d",
   "metadata": {},
   "outputs": [
    {
     "name": "stderr",
     "output_type": "stream",
     "text": [
      "100%|██████████████████████████████████████████████████████████████████████████████████| 18/18 [00:00<00:00, 614.35it/s]\n",
      "100%|██████████████████████████████████████████████████████████████████████████████████| 18/18 [00:00<00:00, 639.54it/s]\n",
      "100%|██████████████████████████████████████████████████████████████████████████████████| 18/18 [00:00<00:00, 596.62it/s]\n"
     ]
    },
    {
     "ename": "KeyError",
     "evalue": "'temporal_data'",
     "output_type": "error",
     "traceback": [
      "\u001b[0;31m---------------------------------------------------------------------------\u001b[0m",
      "\u001b[0;31mKeyError\u001b[0m                                  Traceback (most recent call last)",
      "Input \u001b[0;32mIn [7]\u001b[0m, in \u001b[0;36m<cell line: 11>\u001b[0;34m()\u001b[0m\n\u001b[1;32m      5\u001b[0m \u001b[38;5;66;03m# Define problem \u001b[39;00m\n\u001b[1;32m      6\u001b[0m problem_maker \u001b[38;5;241m=\u001b[39m ProblemMaker_ts(    problem    \u001b[38;5;241m=\u001b[39m problem, \n\u001b[1;32m      7\u001b[0m                                     label      \u001b[38;5;241m=\u001b[39m [label_name], \n\u001b[1;32m      8\u001b[0m                                     treatment  \u001b[38;5;241m=\u001b[39m treatment, \n\u001b[1;32m      9\u001b[0m                                     max_seq_len \u001b[38;5;241m=\u001b[39m max_seq_len)\n\u001b[0;32m---> 11\u001b[0m dataset  \u001b[38;5;241m=\u001b[39m \u001b[43mproblem_maker\u001b[49m\u001b[38;5;241;43m.\u001b[39;49m\u001b[43mfit_transform\u001b[49m\u001b[43m(\u001b[49m\u001b[43mdataset\u001b[49m\u001b[43m)\u001b[49m\n",
      "File \u001b[0;32m/mnt/c/Users/henrik.vonkleist/Nextcloud/PhD/Code/Active Feature Acquisition/afa_ts/afa/data_modelling/problem/problem_ts.py:125\u001b[0m, in \u001b[0;36mProblemMaker_ts.fit_transform\u001b[0;34m(self, dataset)\u001b[0m\n\u001b[1;32m    122\u001b[0m temporal_feature \u001b[38;5;241m=\u001b[39m \u001b[38;5;28mself\u001b[39m\u001b[38;5;241m.\u001b[39mpad_sequence(temporal_x)\n\u001b[1;32m    124\u001b[0m \u001b[38;5;66;03m# Define features for Dataset\u001b[39;00m\n\u001b[0;32m--> 125\u001b[0m \u001b[43mdataset\u001b[49m\u001b[38;5;241;43m.\u001b[39;49m\u001b[43mdefine_feature\u001b[49m\u001b[43m(\u001b[49m\u001b[43m \u001b[49m\u001b[43mtemporal_feature\u001b[49m\u001b[43m  \u001b[49m\u001b[38;5;241;43m=\u001b[39;49m\u001b[43m \u001b[49m\u001b[43mtemporal_feature\u001b[49m\u001b[43m,\u001b[49m\u001b[43m \u001b[49m\n\u001b[1;32m    126\u001b[0m \u001b[43m                        \u001b[49m\u001b[43mtime\u001b[49m\u001b[43m              \u001b[49m\u001b[38;5;241;43m=\u001b[39;49m\u001b[43m \u001b[49m\u001b[43mtime\u001b[49m\u001b[43m,\u001b[49m\u001b[43m  \u001b[49m\n\u001b[1;32m    127\u001b[0m \u001b[43m                        \u001b[49m\u001b[43mfeature\u001b[49m\u001b[43m           \u001b[49m\u001b[38;5;241;43m=\u001b[39;49m\u001b[43m \u001b[49m\u001b[43mfeature\u001b[49m\u001b[43m,\u001b[49m\u001b[43m \u001b[49m\n\u001b[1;32m    128\u001b[0m \u001b[43m                        \u001b[49m\u001b[43mlabel\u001b[49m\u001b[43m             \u001b[49m\u001b[38;5;241;43m=\u001b[39;49m\u001b[43m \u001b[49m\u001b[43my\u001b[49m\u001b[43m,\u001b[49m\u001b[43m \u001b[49m\n\u001b[1;32m    129\u001b[0m \u001b[43m                        \u001b[49m\u001b[43mtreatment\u001b[49m\u001b[43m         \u001b[49m\u001b[38;5;241;43m=\u001b[39;49m\u001b[43m \u001b[49m\u001b[43mtreatment\u001b[49m\u001b[43m,\u001b[49m\u001b[43m \u001b[49m\n\u001b[1;32m    130\u001b[0m \u001b[43m                        \u001b[49m\u001b[43mfeature_name\u001b[49m\u001b[43m      \u001b[49m\u001b[38;5;241;43m=\u001b[39;49m\u001b[43m \u001b[49m\u001b[43mfeature_name\u001b[49m\u001b[43m,\u001b[49m\u001b[43m \u001b[49m\n\u001b[1;32m    131\u001b[0m \u001b[43m                        \u001b[49m\u001b[43mproblem\u001b[49m\u001b[43m           \u001b[49m\u001b[38;5;241;43m=\u001b[39;49m\u001b[43m \u001b[49m\u001b[38;5;28;43mself\u001b[39;49m\u001b[38;5;241;43m.\u001b[39;49m\u001b[43mproblem\u001b[49m\u001b[43m,\u001b[49m\u001b[43m \u001b[49m\n\u001b[1;32m    132\u001b[0m \u001b[43m                        \u001b[49m\u001b[43mlabel_name\u001b[49m\u001b[43m        \u001b[49m\u001b[38;5;241;43m=\u001b[39;49m\u001b[43m \u001b[49m\u001b[38;5;28;43mself\u001b[39;49m\u001b[38;5;241;43m.\u001b[39;49m\u001b[43mlabel\u001b[49m\u001b[43m               \u001b[49m\n\u001b[1;32m    133\u001b[0m \u001b[43m\u001b[49m\u001b[43m)\u001b[49m\n\u001b[1;32m    135\u001b[0m \u001b[38;5;28;01mreturn\u001b[39;00m dataset\n",
      "File \u001b[0;32m/mnt/c/Users/henrik.vonkleist/Nextcloud/PhD/Code/Active Feature Acquisition/afa_ts/afa/data_modelling/datasets/dataset_ts.py:81\u001b[0m, in \u001b[0;36mDataset_ts.define_feature\u001b[0;34m(self, temporal_feature, time, feature, label, treatment, feature_name, problem, label_name)\u001b[0m\n\u001b[1;32m     78\u001b[0m \u001b[38;5;28mself\u001b[39m\u001b[38;5;241m.\u001b[39mtemporal_feature \u001b[38;5;241m=\u001b[39m temporal_feature\n\u001b[1;32m     79\u001b[0m \u001b[38;5;28mself\u001b[39m\u001b[38;5;241m.\u001b[39mtime \u001b[38;5;241m=\u001b[39m time \n\u001b[0;32m---> 81\u001b[0m \u001b[38;5;28mself\u001b[39m\u001b[38;5;241m.\u001b[39msuperfeature_mapping \u001b[38;5;241m=\u001b[39m \u001b[43mSuperfeatureMapping_ts\u001b[49m\u001b[43m(\u001b[49m\n\u001b[1;32m     82\u001b[0m \u001b[43m            \u001b[49m\u001b[43msuperfeature2feature_name_mapping\u001b[49m\u001b[43m \u001b[49m\u001b[38;5;241;43m=\u001b[39;49m\u001b[43m \u001b[49m\u001b[38;5;28;43mself\u001b[39;49m\u001b[38;5;241;43m.\u001b[39;49m\u001b[43msuperfeature2feature_name_mapping\u001b[49m\u001b[43m,\u001b[49m\n\u001b[1;32m     83\u001b[0m \u001b[43m            \u001b[49m\u001b[43mfeature_name\u001b[49m\u001b[43m                      \u001b[49m\u001b[38;5;241;43m=\u001b[39;49m\u001b[43m \u001b[49m\u001b[38;5;28;43mself\u001b[39;49m\u001b[38;5;241;43m.\u001b[39;49m\u001b[43mfeature_name\u001b[49m\u001b[43m)\u001b[49m \n\u001b[1;32m     85\u001b[0m \u001b[38;5;28mself\u001b[39m\u001b[38;5;241m.\u001b[39mfeature_name       \u001b[38;5;241m=\u001b[39m \u001b[38;5;28mself\u001b[39m\u001b[38;5;241m.\u001b[39msuperfeature_mapping\u001b[38;5;241m.\u001b[39mfeature_name \n\u001b[1;32m     86\u001b[0m \u001b[38;5;28mself\u001b[39m\u001b[38;5;241m.\u001b[39mn_features         \u001b[38;5;241m=\u001b[39m \u001b[38;5;28mself\u001b[39m\u001b[38;5;241m.\u001b[39msuperfeature_mapping\u001b[38;5;241m.\u001b[39mn_features\n",
      "File \u001b[0;32m/mnt/c/Users/henrik.vonkleist/Nextcloud/PhD/Code/Active Feature Acquisition/afa_ts/afa/data_modelling/datasets/superfeatures/superfeatures_ts.py:34\u001b[0m, in \u001b[0;36mSuperfeatureMapping_ts.__init__\u001b[0;34m(self, superfeature2feature_name_mapping, feature_name)\u001b[0m\n\u001b[1;32m     21\u001b[0m \u001b[38;5;124;03m\"\"\"\u001b[39;00m\n\u001b[1;32m     22\u001b[0m \u001b[38;5;124;03mInitialize superfeature mapping by defining it through the superfeature2feature_name_mapping\u001b[39;00m\n\u001b[1;32m     23\u001b[0m \u001b[38;5;124;03m-> augmented by other feature_name (a dict with the names f)\u001b[39;00m\n\u001b[0;32m   (...)\u001b[0m\n\u001b[1;32m     31\u001b[0m \u001b[38;5;124;03m    dict['temporal_data'] = list of features names of time-series features\u001b[39;00m\n\u001b[1;32m     32\u001b[0m \u001b[38;5;124;03m\"\"\"\u001b[39;00m\n\u001b[1;32m     33\u001b[0m \u001b[38;5;66;03m# augment superfeature2feature_name mapping (by feature name and check consistency)\u001b[39;00m\n\u001b[0;32m---> 34\u001b[0m feature_names \u001b[38;5;241m=\u001b[39m feature_name[\u001b[38;5;124m'\u001b[39m\u001b[38;5;124mdata\u001b[39m\u001b[38;5;124m'\u001b[39m] \u001b[38;5;241m+\u001b[39m \u001b[43mfeature_name\u001b[49m\u001b[43m[\u001b[49m\u001b[38;5;124;43m'\u001b[39;49m\u001b[38;5;124;43mtemporal_data\u001b[39;49m\u001b[38;5;124;43m'\u001b[39;49m\u001b[43m]\u001b[49m\n\u001b[1;32m     35\u001b[0m \u001b[38;5;28mself\u001b[39m\u001b[38;5;241m.\u001b[39msuperfeature2feature_name_mapping  \u001b[38;5;241m=\u001b[39m  augment_superfeature2feature_name_mapping( \n\u001b[1;32m     36\u001b[0m                         superfeature2feature_name_mapping  \u001b[38;5;241m=\u001b[39m superfeature2feature_name_mapping, \n\u001b[1;32m     37\u001b[0m                         variable_names                     \u001b[38;5;241m=\u001b[39m feature_names, \n\u001b[1;32m     38\u001b[0m                         )\n\u001b[1;32m     40\u001b[0m \u001b[38;5;66;03m# create index mapping (for faster conversion between superfeatures and features) \u001b[39;00m\n",
      "\u001b[0;31mKeyError\u001b[0m: 'temporal_data'"
     ]
    }
   ],
   "source": [
    "label_name = 'Y_ts'\n",
    "problem = 'online'\n",
    "treatment = None\n",
    "max_seq_len = 10\n",
    "# Define problem \n",
    "problem_maker = ProblemMaker_ts(    problem    = problem, \n",
    "                                    label      = [label_name], \n",
    "                                    treatment  = treatment, \n",
    "                                    max_seq_len = max_seq_len)\n",
    "\n",
    "dataset  = problem_maker.fit_transform(dataset)"
   ]
  },
  {
   "cell_type": "markdown",
   "id": "4dafc113-9d32-473d-b053-4dfa42834c04",
   "metadata": {},
   "source": [
    "## Impute dataset"
   ]
  },
  {
   "cell_type": "code",
   "execution_count": 24,
   "id": "461d3b51-5123-4df0-8bf4-dd68b5f715c5",
   "metadata": {},
   "outputs": [
    {
     "ename": "ModuleNotFoundError",
     "evalue": "No module named 'clairvoyance_static'",
     "output_type": "error",
     "traceback": [
      "\u001b[0;31m---------------------------------------------------------------------------\u001b[0m",
      "\u001b[0;31mModuleNotFoundError\u001b[0m                       Traceback (most recent call last)",
      "Input \u001b[0;32mIn [24]\u001b[0m, in \u001b[0;36m<cell line: 1>\u001b[0;34m()\u001b[0m\n\u001b[0;32m----> 1\u001b[0m \u001b[38;5;28;01mfrom\u001b[39;00m \u001b[38;5;21;01mclairvoyance_static\u001b[39;00m\u001b[38;5;21;01m.\u001b[39;00m\u001b[38;5;21;01mimputation\u001b[39;00m \u001b[38;5;28;01mimport\u001b[39;00m Imputation\n\u001b[1;32m      3\u001b[0m \u001b[38;5;66;03m# Set imputation models\u001b[39;00m\n\u001b[1;32m      4\u001b[0m imputation_model \u001b[38;5;241m=\u001b[39m \u001b[38;5;124m'\u001b[39m\u001b[38;5;124mmedian\u001b[39m\u001b[38;5;124m'\u001b[39m\n",
      "\u001b[0;31mModuleNotFoundError\u001b[0m: No module named 'clairvoyance_static'"
     ]
    }
   ],
   "source": [
    "from clairvoyance_static.imputation import Imputation\n",
    "\n",
    "# Set imputation models\n",
    "imputation_model = 'median'\n",
    "\n",
    "# Impute the missing data\n",
    "imputation          = Imputation(imputation_model_name = imputation_model)\n",
    "\n",
    "imputation_pipeline = PipelineComposer(imputation)\n",
    "\n",
    "dataset_train = imputation_pipeline.fit_transform(dataset_train)\n",
    "dataset_test  = imputation_pipeline.transform(dataset_test)\n",
    "\n",
    "print('Finish imputation.')"
   ]
  },
  {
   "cell_type": "code",
   "execution_count": null,
   "id": "f7a86b39-8b56-4e9e-8389-b04b539d8c27",
   "metadata": {},
   "outputs": [],
   "source": []
  },
  {
   "cell_type": "code",
   "execution_count": null,
   "id": "d9aa1b76-6e85-4719-9dbf-e959fc03bc22",
   "metadata": {},
   "outputs": [],
   "source": []
  }
 ],
 "metadata": {
  "kernelspec": {
   "display_name": "afa_env",
   "language": "python",
   "name": "afa_env"
  },
  "language_info": {
   "codemirror_mode": {
    "name": "ipython",
    "version": 3
   },
   "file_extension": ".py",
   "mimetype": "text/x-python",
   "name": "python",
   "nbconvert_exporter": "python",
   "pygments_lexer": "ipython3",
   "version": "3.10.8"
  }
 },
 "nbformat": 4,
 "nbformat_minor": 5
}
