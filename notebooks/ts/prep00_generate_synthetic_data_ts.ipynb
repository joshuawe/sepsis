{
 "cells": [
  {
   "cell_type": "markdown",
   "id": "738d755b",
   "metadata": {},
   "source": [
    "# (0) Generate a synthetic static dataset"
   ]
  },
  {
   "cell_type": "markdown",
   "id": "0d7cd1d6-a92c-428c-a091-05d2ae4cd7d8",
   "metadata": {
    "tags": []
   },
   "source": [
    "Generate a synthetic dataset with \n",
    "- features X\n",
    "- temporal features X_ts\n",
    "- label Y \n",
    "\n",
    "Note: data is stored in the folder \"../../../data/ts/\" + dataset relativ to this directory"
   ]
  },
  {
   "cell_type": "code",
   "execution_count": 1,
   "id": "83ebac83-5b5c-45e0-997c-1dc4edfc7cb4",
   "metadata": {},
   "outputs": [],
   "source": [
    "%load_ext autoreload\n",
    "%autoreload 2"
   ]
  },
  {
   "cell_type": "markdown",
   "id": "a1238f97-f069-4d54-8de3-080e4e98f948",
   "metadata": {},
   "source": [
    "### Define paths "
   ]
  },
  {
   "cell_type": "code",
   "execution_count": 2,
   "id": "4e736192-d821-4035-9908-477bafb53859",
   "metadata": {},
   "outputs": [],
   "source": [
    "# which dataset to work on \n",
    "dataset_name   = \"synthetic_1\""
   ]
  },
  {
   "cell_type": "code",
   "execution_count": 3,
   "id": "327594a1-9fb5-4099-919a-abf2ffd341cc",
   "metadata": {},
   "outputs": [],
   "source": [
    "# data specifications \n",
    "data_dir            = \"../../../data/ts/\" + dataset_name + \"/fully_observed/\" "
   ]
  },
  {
   "cell_type": "markdown",
   "id": "f2c96fe7",
   "metadata": {},
   "source": [
    "## Data Generation"
   ]
  },
  {
   "cell_type": "code",
   "execution_count": 4,
   "id": "315db0b5-ece3-4dd5-ab87-2bddc82d399d",
   "metadata": {},
   "outputs": [],
   "source": [
    "from afa.data_modelling.datasets.synthetic_data_generation.data_generator_ts import DataGenerator_ts"
   ]
  },
  {
   "cell_type": "code",
   "execution_count": 5,
   "id": "2f04874b-e0b7-466d-9fab-1be1d0423312",
   "metadata": {},
   "outputs": [],
   "source": [
    "data_generator = DataGenerator_ts(\n",
    "                        data_dir           = data_dir,  \n",
    "                        dataset_name       = dataset_name , \n",
    "                        n_datapts          = 100, \n",
    "                        test_size          = 0,\n",
    "                        n_features_static  = 1,\n",
    "                        n_features_ts      = 4, \n",
    "                        n_timepts          = 5,\n",
    "                        table_style        = \"EAV\",\n",
    "                        compression        = 'gzip',\n",
    "                        n_classes          = 2)"
   ]
  },
  {
   "cell_type": "code",
   "execution_count": 6,
   "id": "4e817462-660e-432b-8f99-cd3930f15a0d",
   "metadata": {},
   "outputs": [],
   "source": [
    "df_static_train, df_ts_train, df_static_test, df_ts_test  = data_generator.generate_data()"
   ]
  },
  {
   "cell_type": "markdown",
   "id": "acf3349a-cdf2-4fd7-98f8-050456ab1c34",
   "metadata": {},
   "source": [
    "## Load data\n",
    "Check if data was saved correctly and can be loaded "
   ]
  },
  {
   "cell_type": "code",
   "execution_count": 7,
   "id": "acfb8d13-d8e3-4143-b462-89d2ca3d26d7",
   "metadata": {},
   "outputs": [
    {
     "name": "stderr",
     "output_type": "stream",
     "text": [
      "2023-02-19 09:02:27.527285: I tensorflow/core/platform/cpu_feature_guard.cc:193] This TensorFlow binary is optimized with oneAPI Deep Neural Network Library (oneDNN) to use the following CPU instructions in performance-critical operations:  AVX2 FMA\n",
      "To enable them in other operations, rebuild TensorFlow with the appropriate compiler flags.\n",
      "2023-02-19 09:02:27.945025: W tensorflow/compiler/xla/stream_executor/platform/default/dso_loader.cc:64] Could not load dynamic library 'libcudart.so.11.0'; dlerror: libcudart.so.11.0: cannot open shared object file: No such file or directory\n",
      "2023-02-19 09:02:27.945041: I tensorflow/compiler/xla/stream_executor/cuda/cudart_stub.cc:29] Ignore above cudart dlerror if you do not have a GPU set up on your machine.\n",
      "2023-02-19 09:02:28.974258: W tensorflow/compiler/xla/stream_executor/platform/default/dso_loader.cc:64] Could not load dynamic library 'libnvinfer.so.7'; dlerror: libnvinfer.so.7: cannot open shared object file: No such file or directory\n",
      "2023-02-19 09:02:28.974344: W tensorflow/compiler/xla/stream_executor/platform/default/dso_loader.cc:64] Could not load dynamic library 'libnvinfer_plugin.so.7'; dlerror: libnvinfer_plugin.so.7: cannot open shared object file: No such file or directory\n",
      "2023-02-19 09:02:28.974352: W tensorflow/compiler/tf2tensorrt/utils/py_utils.cc:38] TF-TRT Warning: Cannot dlopen some TensorRT libraries. If you would like to use Nvidia GPU with TensorRT, please make sure the missing libraries mentioned above are installed properly.\n"
     ]
    }
   ],
   "source": [
    "from afa.data_modelling.datasets.data_loader.data_loader_ts import DataLoader_ts"
   ]
  },
  {
   "cell_type": "code",
   "execution_count": 8,
   "id": "0084fc65-ec37-4ea7-a0cc-8ccd894a8658",
   "metadata": {},
   "outputs": [],
   "source": [
    "data_file          = data_dir + dataset_name + '_static.csv.gz' \n",
    "temporal_data_file = data_dir + dataset_name + '_ts_eav.csv.gz' \n",
    "superfeature_mapping_file = None\n",
    "\n",
    "data_loader = DataLoader_ts( data_file                  = data_file,\n",
    "                             temporal_data_file         = temporal_data_file,\n",
    "                             superfeature_mapping_file  = superfeature_mapping_file )\n",
    "\n",
    "dataset = data_loader.load() "
   ]
  },
  {
   "cell_type": "code",
   "execution_count": 9,
   "id": "0f5036b5-61f9-4bb8-8938-ae240864a50a",
   "metadata": {},
   "outputs": [
    {
     "data": {
      "text/html": [
       "<div>\n",
       "<style scoped>\n",
       "    .dataframe tbody tr th:only-of-type {\n",
       "        vertical-align: middle;\n",
       "    }\n",
       "\n",
       "    .dataframe tbody tr th {\n",
       "        vertical-align: top;\n",
       "    }\n",
       "\n",
       "    .dataframe thead th {\n",
       "        text-align: right;\n",
       "    }\n",
       "</style>\n",
       "<table border=\"1\" class=\"dataframe\">\n",
       "  <thead>\n",
       "    <tr style=\"text-align: right;\">\n",
       "      <th>variable</th>\n",
       "      <th>id</th>\n",
       "      <th>time</th>\n",
       "      <th>X0_ts</th>\n",
       "      <th>X1_ts</th>\n",
       "      <th>X2_ts</th>\n",
       "      <th>X3_ts</th>\n",
       "      <th>Y_ts</th>\n",
       "    </tr>\n",
       "  </thead>\n",
       "  <tbody>\n",
       "    <tr>\n",
       "      <th>0</th>\n",
       "      <td>0</td>\n",
       "      <td>0</td>\n",
       "      <td>0.155886</td>\n",
       "      <td>0.514312</td>\n",
       "      <td>-1.998231</td>\n",
       "      <td>0.397823</td>\n",
       "      <td>0.0</td>\n",
       "    </tr>\n",
       "    <tr>\n",
       "      <th>1</th>\n",
       "      <td>0</td>\n",
       "      <td>1</td>\n",
       "      <td>0.619534</td>\n",
       "      <td>0.573113</td>\n",
       "      <td>-1.517186</td>\n",
       "      <td>-0.768024</td>\n",
       "      <td>1.0</td>\n",
       "    </tr>\n",
       "    <tr>\n",
       "      <th>2</th>\n",
       "      <td>0</td>\n",
       "      <td>2</td>\n",
       "      <td>-2.128794</td>\n",
       "      <td>0.511745</td>\n",
       "      <td>-0.106982</td>\n",
       "      <td>-0.215193</td>\n",
       "      <td>1.0</td>\n",
       "    </tr>\n",
       "    <tr>\n",
       "      <th>3</th>\n",
       "      <td>0</td>\n",
       "      <td>3</td>\n",
       "      <td>-2.573879</td>\n",
       "      <td>-0.061686</td>\n",
       "      <td>-0.016590</td>\n",
       "      <td>0.935965</td>\n",
       "      <td>1.0</td>\n",
       "    </tr>\n",
       "    <tr>\n",
       "      <th>4</th>\n",
       "      <td>0</td>\n",
       "      <td>4</td>\n",
       "      <td>1.746255</td>\n",
       "      <td>-0.176698</td>\n",
       "      <td>0.575739</td>\n",
       "      <td>0.893275</td>\n",
       "      <td>0.0</td>\n",
       "    </tr>\n",
       "    <tr>\n",
       "      <th>...</th>\n",
       "      <td>...</td>\n",
       "      <td>...</td>\n",
       "      <td>...</td>\n",
       "      <td>...</td>\n",
       "      <td>...</td>\n",
       "      <td>...</td>\n",
       "      <td>...</td>\n",
       "    </tr>\n",
       "    <tr>\n",
       "      <th>995</th>\n",
       "      <td>99</td>\n",
       "      <td>5</td>\n",
       "      <td>0.503500</td>\n",
       "      <td>-1.622758</td>\n",
       "      <td>-0.889544</td>\n",
       "      <td>-0.219066</td>\n",
       "      <td>1.0</td>\n",
       "    </tr>\n",
       "    <tr>\n",
       "      <th>996</th>\n",
       "      <td>99</td>\n",
       "      <td>6</td>\n",
       "      <td>-1.473449</td>\n",
       "      <td>-1.312907</td>\n",
       "      <td>-1.315638</td>\n",
       "      <td>-0.107722</td>\n",
       "      <td>1.0</td>\n",
       "    </tr>\n",
       "    <tr>\n",
       "      <th>997</th>\n",
       "      <td>99</td>\n",
       "      <td>7</td>\n",
       "      <td>1.201455</td>\n",
       "      <td>-0.818499</td>\n",
       "      <td>-1.196366</td>\n",
       "      <td>-0.159622</td>\n",
       "      <td>0.0</td>\n",
       "    </tr>\n",
       "    <tr>\n",
       "      <th>998</th>\n",
       "      <td>99</td>\n",
       "      <td>8</td>\n",
       "      <td>-2.164363</td>\n",
       "      <td>-0.383707</td>\n",
       "      <td>-0.993903</td>\n",
       "      <td>-0.119783</td>\n",
       "      <td>1.0</td>\n",
       "    </tr>\n",
       "    <tr>\n",
       "      <th>999</th>\n",
       "      <td>99</td>\n",
       "      <td>9</td>\n",
       "      <td>-0.930143</td>\n",
       "      <td>-0.647464</td>\n",
       "      <td>-0.477319</td>\n",
       "      <td>0.257742</td>\n",
       "      <td>1.0</td>\n",
       "    </tr>\n",
       "  </tbody>\n",
       "</table>\n",
       "<p>1000 rows × 7 columns</p>\n",
       "</div>"
      ],
      "text/plain": [
       "variable  id  time     X0_ts     X1_ts     X2_ts     X3_ts  Y_ts\n",
       "0          0     0  0.155886  0.514312 -1.998231  0.397823   0.0\n",
       "1          0     1  0.619534  0.573113 -1.517186 -0.768024   1.0\n",
       "2          0     2 -2.128794  0.511745 -0.106982 -0.215193   1.0\n",
       "3          0     3 -2.573879 -0.061686 -0.016590  0.935965   1.0\n",
       "4          0     4  1.746255 -0.176698  0.575739  0.893275   0.0\n",
       "..        ..   ...       ...       ...       ...       ...   ...\n",
       "995       99     5  0.503500 -1.622758 -0.889544 -0.219066   1.0\n",
       "996       99     6 -1.473449 -1.312907 -1.315638 -0.107722   1.0\n",
       "997       99     7  1.201455 -0.818499 -1.196366 -0.159622   0.0\n",
       "998       99     8 -2.164363 -0.383707 -0.993903 -0.119783   1.0\n",
       "999       99     9 -0.930143 -0.647464 -0.477319  0.257742   1.0\n",
       "\n",
       "[1000 rows x 7 columns]"
      ]
     },
     "execution_count": 9,
     "metadata": {},
     "output_type": "execute_result"
    }
   ],
   "source": [
    "# visualize pandas dataframe for static data: \n",
    "dataset.temporal_data"
   ]
  },
  {
   "cell_type": "markdown",
   "id": "4739aae3-8cbe-40e9-8fb6-5a0fa2bc6f55",
   "metadata": {},
   "source": [
    "## Define problem\n",
    "Check if problem definition works, see more in the `preparation01` tutorial"
   ]
  },
  {
   "cell_type": "code",
   "execution_count": 10,
   "id": "3a4b4222-bae3-452b-ace9-ec620089cbfc",
   "metadata": {},
   "outputs": [],
   "source": [
    "from afa.data_modelling.problem.problem_ts import ProblemMaker_ts"
   ]
  },
  {
   "cell_type": "code",
   "execution_count": 11,
   "id": "f1a2a90b-bd16-40e3-acf9-acfa1883a2bc",
   "metadata": {},
   "outputs": [
    {
     "name": "stderr",
     "output_type": "stream",
     "text": [
      "100%|███████████████████████████████████████████████████████████████████████████████| 100/100 [00:00<00:00, 1139.94it/s]\n",
      "100%|████████████████████████████████████████████████████████████████████████████████| 100/100 [00:00<00:00, 975.06it/s]\n",
      "100%|████████████████████████████████████████████████████████████████████████████████| 100/100 [00:00<00:00, 924.11it/s]\n"
     ]
    }
   ],
   "source": [
    "# define problem specifications\n",
    "label_name = 'Y_ts'\n",
    "problem = 'online'\n",
    "treatment = None\n",
    "max_seq_len = 10\n",
    "\n",
    "problem_maker = ProblemMaker_ts(    problem    = problem, \n",
    "                                    label      = [label_name], \n",
    "                                    treatment  = treatment, \n",
    "                                    max_seq_len = max_seq_len)\n",
    "\n",
    "dataset  = problem_maker.fit_transform(dataset)"
   ]
  },
  {
   "cell_type": "code",
   "execution_count": 12,
   "id": "607c9818-69b6-48bd-a8b3-a31da1026efe",
   "metadata": {},
   "outputs": [
    {
     "data": {
      "text/plain": [
       "{'temporal': ['X0_ts', 'X1_ts', 'X2_ts', 'X3_ts'],\n",
       " 'data': ['X0', 'X1', 'Y'],\n",
       " 'treatment': None,\n",
       " 'label': ['Y_ts'],\n",
       " 'super_data': ['X0', 'Y', 'X1'],\n",
       " 'super_temporal': ['X0_ts', 'X1_ts', 'X3_ts', 'X2_ts']}"
      ]
     },
     "execution_count": 12,
     "metadata": {},
     "output_type": "execute_result"
    }
   ],
   "source": [
    "# check if features/superfeatures/labels etc have been correctly assigned \n",
    "dataset.feature_name"
   ]
  },
  {
   "cell_type": "markdown",
   "id": "1e6cd16e-76d3-47d8-b203-2104513df812",
   "metadata": {},
   "source": [
    "## Explain the synthetic data generation process\n",
    "Store information in reports folder in latex / markdown format"
   ]
  },
  {
   "cell_type": "code",
   "execution_count": 13,
   "id": "de48c4fa-2a08-4dd0-a672-bf94289430a0",
   "metadata": {},
   "outputs": [],
   "source": [
    "explanation_file = data_dir + 'synthetic_data_report'\n",
    "data_generator.explain(file= explanation_file + '.md'  , format='markdown')\n",
    "# data_generator.explain(file= explanation_file + '.tex'  , format='latex')"
   ]
  },
  {
   "cell_type": "code",
   "execution_count": null,
   "id": "090171c4",
   "metadata": {},
   "outputs": [],
   "source": []
  },
  {
   "cell_type": "code",
   "execution_count": null,
   "id": "e9a38e31",
   "metadata": {},
   "outputs": [],
   "source": []
  },
  {
   "cell_type": "code",
   "execution_count": null,
   "id": "7aeb81f8-9bb8-4bf3-bcfe-07c9d393b66d",
   "metadata": {},
   "outputs": [],
   "source": []
  }
 ],
 "metadata": {
  "kernelspec": {
   "display_name": "afa_env",
   "language": "python",
   "name": "afa_env"
  },
  "language_info": {
   "codemirror_mode": {
    "name": "ipython",
    "version": 3
   },
   "file_extension": ".py",
   "mimetype": "text/x-python",
   "name": "python",
   "nbconvert_exporter": "python",
   "pygments_lexer": "ipython3",
   "version": "3.10.8"
  },
  "toc": {
   "base_numbering": 1,
   "nav_menu": {},
   "number_sections": true,
   "sideBar": true,
   "skip_h1_title": false,
   "title_cell": "Table of Contents",
   "title_sidebar": "Contents",
   "toc_cell": false,
   "toc_position": {
    "height": "calc(100% - 180px)",
    "left": "10px",
    "top": "150px",
    "width": "282px"
   },
   "toc_section_display": true,
   "toc_window_display": true
  },
  "varInspector": {
   "cols": {
    "lenName": 16,
    "lenType": 16,
    "lenVar": 40
   },
   "kernels_config": {
    "python": {
     "delete_cmd_postfix": "",
     "delete_cmd_prefix": "del ",
     "library": "var_list.py",
     "varRefreshCmd": "print(var_dic_list())"
    },
    "r": {
     "delete_cmd_postfix": ") ",
     "delete_cmd_prefix": "rm(",
     "library": "var_list.r",
     "varRefreshCmd": "cat(var_dic_list()) "
    }
   },
   "oldHeight": 713.852,
   "position": {
    "height": "40px",
    "left": "1650px",
    "right": "20px",
    "top": "120px",
    "width": "250px"
   },
   "types_to_exclude": [
    "module",
    "function",
    "builtin_function_or_method",
    "instance",
    "_Feature"
   ],
   "varInspector_section_display": "none",
   "window_display": true
  }
 },
 "nbformat": 4,
 "nbformat_minor": 5
}
