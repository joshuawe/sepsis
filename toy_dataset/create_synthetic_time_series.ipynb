{
 "cells": [
  {
   "cell_type": "markdown",
   "metadata": {},
   "source": [
    "# We want to create a synthetic time series data set\n",
    "\n",
    "> Based on the synthetic data generation notebook of the ```afa``` repository by Henrik von Kleist."
   ]
  },
  {
   "cell_type": "code",
   "execution_count": 12,
   "metadata": {},
   "outputs": [],
   "source": [
    "%load_ext autoreload\n",
    "%autoreload 2"
   ]
  },
  {
   "cell_type": "code",
   "execution_count": null,
   "metadata": {},
   "outputs": [],
   "source": [
    "\n",
    "import sys\n",
    "import os\n",
    "import pathlib\n",
    "relative_path_to_afa = '../../afa_github/afa'\n",
    "#sys.path.insert(0, os.path.abspath(relative_path_to_afa))\n",
    "sys.path.insert(1, os.path.join(sys.path[0], relative_path_to_afa))\n",
    "print('CWD:', pathlib.Path(pathlib.Path.cwd()))\n",
    "\n",
    "import sklearn\n",
    "\n",
    "# data generation\n",
    "from afa_datasets.synthetic_data.data_generation_ts import generate_data_ts\n",
    "\n",
    "# loading/ saving\n",
    "from data_modelling.clairvoyance_static.datasets.data_loader import CSVLoader, save_dataset\n",
    "from data_modelling.clairvoyance_static.utils.model_utils import PipelineComposer"
   ]
  },
  {
   "cell_type": "code",
   "execution_count": null,
   "metadata": {},
   "outputs": [],
   "source": [
    "# define directories\n",
    "data_dir = \"dataset/\"\n",
    "dataset_name = \"synthetic_1\""
   ]
  },
  {
   "cell_type": "markdown",
   "metadata": {},
   "source": [
    "# Datageneration\n",
    "\n",
    "Use sklearn's make-classification function"
   ]
  },
  {
   "cell_type": "code",
   "execution_count": 26,
   "metadata": {},
   "outputs": [],
   "source": [
    "# df_train, df_test = generate_data_ts(data_dir = data_dir + dataset_name + \"/\", \n",
    "#                                          dataset_name = dataset_name,\n",
    "#                                          n_features_static  = 4 ,\n",
    "#                                          n_features_ts  = 10 ,\n",
    "#                                          n_redundant = 0 ,\n",
    "#                                          n_informative = 2,\n",
    "#                                          n_datapts   = 200000,\n",
    "#                                          n_classes   = 2,\n",
    "#                                          random_state  = 47,\n",
    "#                                          test_size   = 0.5)\n",
    "\n",
    "data_train_ts_df, data_train_static_df, data_test_ts_df, data_test_static_df = generate_data_ts(data_dir = \"\",\n",
    "                                        dataset_name = \"synthetic_ts_1\",\n",
    "                                        n_features_static  = 2  ,\n",
    "                                        n_features_ts      = 4  , \n",
    "                                        n_timepts   = 50,\n",
    "                                        n_datapts   = 100, \n",
    "                                        test_size = 0.1,\n",
    "                                        table_style = 'wide',\n",
    "                                        n_classes   = 2)"
   ]
  },
  {
   "cell_type": "markdown",
   "metadata": {},
   "source": [
    "# Load the Data\n",
    "\n",
    "+ First import necessary stuff.\n",
    "+ Look at simple implementations on how to handle the data\n",
    "+ Then use ```Dataset``` class from Pytorch to handle the data."
   ]
  },
  {
   "cell_type": "code",
   "execution_count": 2,
   "metadata": {},
   "outputs": [],
   "source": [
    "import pandas as pd"
   ]
  },
  {
   "cell_type": "markdown",
   "metadata": {},
   "source": [
    "Load the data and show the beginning."
   ]
  },
  {
   "cell_type": "code",
   "execution_count": 3,
   "metadata": {},
   "outputs": [
    {
     "name": "stdout",
     "output_type": "stream",
     "text": [
      "<bound method NDFrame.head of         id  time    X_ts_0    X_ts_1    X_ts_2    X_ts_3      Y_ts\n",
      "0    id_90     0  0.627422 -0.478959 -0.892121 -0.318527  1.083295\n",
      "1    id_90     1 -0.448220  0.019303 -0.127440 -0.157412  1.093168\n",
      "2    id_90     2  0.637957 -0.386629 -0.416992  0.772078  1.026738\n",
      "3    id_90     3  0.114574 -0.700368  0.415711 -0.584559  0.891013\n",
      "4    id_90     4  0.318873  0.112828  0.575051  0.149870  0.813476\n",
      "..     ...   ...       ...       ...       ...       ...       ...\n",
      "495  id_99    45  0.033853  0.889838  0.867147 -0.226947  0.981591\n",
      "496  id_99    46 -0.883889  1.506605  0.732750  0.466535  0.846787\n",
      "497  id_99    47  1.267585 -0.623064  0.034502 -0.162447  0.901342\n",
      "498  id_99    48 -1.544032  0.310212  1.469414  0.941757  0.912135\n",
      "499  id_99    49  1.052585 -0.451113  1.395424 -0.229020  0.822956\n",
      "\n",
      "[500 rows x 7 columns]>\n"
     ]
    }
   ],
   "source": [
    "path = '/home2/joshua.wendland/Documents/sepsis/toy_dataset/synthetic_ts_1/synthetic_ts_test_data_eav.csv.gz'\n",
    "\n",
    "df = pd.read_csv(path, compression=None)\n",
    "df = df.sort_values(by=['id', 'time'], ascending=True, ignore_index=True)  # time was not sorted\n",
    "\n",
    "print(df.head)\n"
   ]
  },
  {
   "cell_type": "markdown",
   "metadata": {},
   "source": [
    "Group the data according to each ```id``` of the time series. \n",
    "This is easily done by using the ```groupby()``` method on the DataFrame. This transforms the data into the structure of:\n",
    "\n",
    "| Group Name (or ID) | Pandas Series   |  \n",
    "| ------------------ | --------------- |\n",
    "| id_0              | Series of id_0 |  \n",
    "| id_1              | Series of id_1 |  \n",
    "| ...              | ... |  \n",
    "\n",
    "To receive a certain Series ID ```i``` we just need to call ```df_grouped[i, 0]```.\n",
    "To receive the corresponding Series data we call ```df_grouped[i, 1]```."
   ]
  },
  {
   "cell_type": "code",
   "execution_count": 110,
   "metadata": {},
   "outputs": [
    {
     "name": "stdout",
     "output_type": "stream",
     "text": [
      "     time    X_ts_0    X_ts_1    X_ts_2    X_ts_3      Y_ts\n",
      "450     0  2.715997  0.325934 -0.486907 -2.543788  1.054109\n",
      "451     1  1.526065  1.121756 -0.514032 -0.396498  0.764149\n",
      "452     2 -0.505807  0.863921  0.798771 -0.444982  1.008917\n",
      "453     3  0.788786  0.825285  0.303744 -1.426538  0.986686\n",
      "454     4  0.219992 -0.188746 -0.861897 -0.611712  0.816993\n",
      "     time    X_ts_0    X_ts_1    X_ts_2    X_ts_3      Y_ts\n",
      "495    45  0.033853  0.889838  0.867147 -0.226947  0.981591\n",
      "496    46 -0.883889  1.506605  0.732750  0.466535  0.846787\n",
      "497    47  1.267585 -0.623064  0.034502 -0.162447  0.901342\n",
      "498    48 -1.544032  0.310212  1.469414  0.941757  0.912135\n",
      "499    49  1.052585 -0.451113  1.395424 -0.229020  0.822956\n"
     ]
    }
   ],
   "source": [
    "# Group by 'id'\n",
    "df_grouped = pd.DataFrame(df.groupby('id'))\n",
    "# Get rid of the 'id'-column in each group\n",
    "for x in df_grouped.iloc[:,1]:\n",
    "    x.drop(columns=['id'], inplace=True)\n",
    "    \n",
    "print(df_grouped.iloc[-1,1].head())\n",
    "print(df_grouped.iloc[-1,1].tail())"
   ]
  },
  {
   "cell_type": "code",
   "execution_count": 151,
   "metadata": {},
   "outputs": [
    {
     "data": {
      "text/plain": [
       "1        time    X_ts_0    X_ts_1    X_ts_2    X_ts...\n",
       "Name: 1, dtype: object"
      ]
     },
     "execution_count": 151,
     "metadata": {},
     "output_type": "execute_result"
    }
   ],
   "source": [
    "import numpy as np\n",
    "\n",
    "\n",
    "X = df_grouped.drop(columns=0)\n",
    "x = X.loc[1]\n",
    "x"
   ]
  },
  {
   "cell_type": "markdown",
   "metadata": {},
   "source": [
    "## Using Pytorch class ```Dataset``` and ```Dataloader```\n",
    "\n",
    "+ First import necessary modules.\n",
    "+ Implement the ```Dataset``` class."
   ]
  },
  {
   "cell_type": "markdown",
   "metadata": {},
   "source": [
    "### `Dataset`\n",
    "\n",
    "Loading the Toydataset is easy, just ...\n",
    "+ give the correct path,\n",
    "+ enter all missingness criteria. Currently supported is `None` (=No missingness) and `mcar` (=Missing Completely at Random). \n",
    "\n",
    "> Note: The missingness pattern is created by the `pycorruptor` package."
   ]
  },
  {
   "cell_type": "code",
   "execution_count": 34,
   "metadata": {},
   "outputs": [],
   "source": [
    "import data_utils\n",
    "\n",
    "path = '/home2/joshua.wendland/Documents/sepsis/toy_dataset/synthetic_ts_1/synthetic_ts_test_data_eav.csv.gz'\n",
    "missingness = 'mcar'\n",
    "missingness_rate = 0.1\n",
    "missingness_values = -1\n",
    "dataset = data_utils.ToyDataset(path, \n",
    "                                missingness=missingness, \n",
    "                                missingness_rate=missingness_rate, \n",
    "                                missingness_value=missingness_values\n",
    ")"
   ]
  },
  {
   "cell_type": "markdown",
   "metadata": {},
   "source": [
    "### `DataLoader`\n",
    "\n",
    "Problems with Dataloader:\n",
    "+ If there is an error and `num_workers!=0`, try setting it to `0`.\n",
    "+ If there is an error and `shuffle=True`, try setting it to `False`. (Fixed)"
   ]
  },
  {
   "cell_type": "code",
   "execution_count": 35,
   "metadata": {},
   "outputs": [],
   "source": [
    "from torch.utils.data import DataLoader\n",
    "train_loader = DataLoader(dataset=dataset, batch_size=8, shuffle=True, num_workers=0)\n"
   ]
  },
  {
   "cell_type": "markdown",
   "metadata": {},
   "source": [
    "Test the `DataLoader` by looking at some samples."
   ]
  },
  {
   "cell_type": "code",
   "execution_count": 37,
   "metadata": {},
   "outputs": [
    {
     "name": "stdout",
     "output_type": "stream",
     "text": [
      "features:\n",
      " torch.Size([8, 50, 5])\n",
      "Missingness:  0.10\n",
      "<class 'torch.Tensor'> torch.float32 torch.Size([8, 50, 5])\n",
      "<class 'torch.Tensor'> torch.float32 torch.Size([8, 50, 5])\n",
      "<class 'torch.Tensor'> torch.float32 torch.Size([8, 50])\n",
      "<class 'torch.Tensor'> torch.float32 torch.Size([8, 50, 5])\n"
     ]
    }
   ],
   "source": [
    "import torch\n",
    "# convert to an iterator and look at one random sample\n",
    "dataiter = iter(train_loader)\n",
    "data = next(dataiter)\n",
    "X, missing_mask, time, Y = list(data)\n",
    "print('features:\\n', X.shape)\n",
    "print('Missingness: ', f'{float(torch.sum(X == missingness_values) /  torch.numel(X)):.2f}')\n",
    "for d in data:\n",
    "    print(type(d), d.dtype, d.shape)"
   ]
  },
  {
   "cell_type": "markdown",
   "metadata": {},
   "source": [
    "Let's split the dataset into training and validation set.\n",
    "\n",
    "> TODO!\n"
   ]
  },
  {
   "cell_type": "markdown",
   "metadata": {},
   "source": [
    "# Make my own data\n",
    "\n",
    "Generating synthetic time series data with four variables representing:\n",
    "+ Noise\n",
    "+ Trend (+ Noise)\n",
    "+ Seasonality (+ Noise )\n",
    "+ Trend + Seasonality (+ Noise)\n",
    "\n",
    "The generated data will be saved in the same way as the data created above. It will have the columns `'id', 'time', 'Noise', 'Trend', 'Seasonality', 'Trend + Season'`. During generation of data it will be handled as a `pandas.DataFrame` object and then saved as a `*.csv.gz` file under the specified location.\n",
    "\n",
    "The four parts of data:\n",
    "+ The **noise** part is by sampling from a normal distribution with $\\mu=0$ and $\\sigma=1$.\n",
    "+ The **trend** part consists of $m \\cdot x(t) + n + \\text{noise}$ , where $m,n$ are sampled from the same distribution as the noise.\n",
    "+ The **seasonality** part has its frequency and amplitude drawn form a uniform distribution and then computes to $\\text{amplitude} \\cdot \\sin{(x(t) \\cdot \\text{frequency})} + \\text{noise} \\cdot \\epsilon$, where $\\epsilon$ is drawn from the standard normal distribution.\n",
    "+ The **trend+seasonality** part is computed via $m \\cdot \\text{trend} + n + \\text{seasonality} + \\text{noise} \\cdot \\epsilon$, where $m, n, \\epsilon$ have been drawn independently from the previous parts.\n",
    "\n",
    "> Note: Visualization of such a datasample is given below."
   ]
  },
  {
   "cell_type": "code",
   "execution_count": 32,
   "metadata": {},
   "outputs": [],
   "source": [
    "from toy_dataset.time_series_generation import generate_ts_sample, genereate_ts_dataset, visualize_new_sample"
   ]
  },
  {
   "cell_type": "markdown",
   "metadata": {},
   "source": [
    "### Visualization of a sample\n",
    "The function `visualize_new_sample()` visualizes a new time series sample that is created by calling the function. So, calling the function a few time will give some examples of what the time series could look like."
   ]
  },
  {
   "cell_type": "code",
   "execution_count": 48,
   "metadata": {},
   "outputs": [
    {
     "data": {
      "image/png": "[encoded data removed]",
      "text/plain": [
       "<Figure size 640x480 with 4 Axes>"
      ]
     },
     "metadata": {},
     "output_type": "display_data"
    }
   ],
   "source": [
    "visualize_new_sample()"
   ]
  },
  {
   "cell_type": "markdown",
   "metadata": {},
   "source": [
    "Next we create three sets with individual sample size:\n",
    "+ Train set\n",
    "+ Validation set\n",
    "+ Test set\n",
    "\n",
    "As we want to have our data normalized, we set the flag `normalize=True`."
   ]
  },
  {
   "cell_type": "code",
   "execution_count": 36,
   "metadata": {},
   "outputs": [
    {
     "name": "stderr",
     "output_type": "stream",
     "text": [
      "100%|██████████| 20000/20000 [00:04<00:00, 4283.69it/s]\n",
      "100%|██████████| 2500/2500 [00:00<00:00, 4626.36it/s]\n",
      "100%|██████████| 2500/2500 [00:00<00:00, 4653.97it/s]\n"
     ]
    },
    {
     "name": "stdout",
     "output_type": "stream",
     "text": [
      "Saving. Make sure to have a *.csv.gz file ending.\n",
      "Saving dataset under /home2/joshua.wendland/Documents/sepsis/toy_dataset/synthetic_ts_4types_50000/synthetic_ts_train_40000.csv.gz\n",
      "Saving dataset under /home2/joshua.wendland/Documents/sepsis/toy_dataset/synthetic_ts_4types_50000/synthetic_ts_validation_5000.csv.gz\n",
      "Saving dataset under /home2/joshua.wendland/Documents/sepsis/toy_dataset/synthetic_ts_4types_50000/synthetic_ts_test_5000.csv.gz\n"
     ]
    }
   ],
   "source": [
    "samples = [20000, 2500, 2500]\n",
    "save_paths = [\n",
    "        '/home2/joshua.wendland/Documents/sepsis/toy_dataset/synthetic_ts_4types_50000/synthetic_ts_train_40000.csv.gz', \n",
    "        '/home2/joshua.wendland/Documents/sepsis/toy_dataset/synthetic_ts_4types_50000/synthetic_ts_validation_5000.csv.gz',\n",
    "        '/home2/joshua.wendland/Documents/sepsis/toy_dataset/synthetic_ts_4types_50000/synthetic_ts_test_5000.csv.gz'\n",
    "]\n",
    "series_length = 50\n",
    "\n",
    "all_dfs = genereate_ts_dataset(samples, series_length, save_paths=save_paths, normalize=True)"
   ]
  },
  {
   "cell_type": "markdown",
   "metadata": {},
   "source": [
    "## Set up Dataloader\n",
    "\n",
    "The `data_utils.ToyDataDf`class can be used to load this dataset. Instead of passing a simple path it is recommended to pass the `path_dict`, as shown below as the path."
   ]
  },
  {
   "cell_type": "code",
   "execution_count": 9,
   "metadata": {},
   "outputs": [],
   "source": [
    "from toy_dataset import data_utils"
   ]
  },
  {
   "cell_type": "code",
   "execution_count": 49,
   "metadata": {},
   "outputs": [],
   "source": [
    "dataset_dict = data_utils.datasets_dict['toydataset_50000']\n",
    "# dataset_dict['path_train'] = dataset_dict['path_validation']\n",
    "dataset = data_utils.ToyDataDf(path=dataset_dict)"
   ]
  },
  {
   "attachments": {},
   "cell_type": "markdown",
   "metadata": {},
   "source": [
    "We want different dataloaders. We naturally need a train loader, a validation loader, a test loader. But also interesting is a ground_truth loader.\n",
    "A ground_truth loader is essential for evaluating in many cases. The ground_truth loader contains the actual values that have been artificially removed from data and are hence missing in the i.e. train loaders."
   ]
  },
  {
   "cell_type": "code",
   "execution_count": 3,
   "metadata": {},
   "outputs": [
    {
     "ename": "ModuleNotFoundError",
     "evalue": "No module named 'models'",
     "output_type": "error",
     "traceback": [
      "\u001b[0;31m---------------------------------------------------------------------------\u001b[0m",
      "\u001b[0;31mModuleNotFoundError\u001b[0m                       Traceback (most recent call last)",
      "Cell \u001b[0;32mIn[3], line 1\u001b[0m\n\u001b[0;32m----> 1\u001b[0m \u001b[39mfrom\u001b[39;00m \u001b[39mimputation\u001b[39;00m\u001b[39m.\u001b[39;00m\u001b[39mhetvae\u001b[39;00m\u001b[39m.\u001b[39;00m\u001b[39msrc\u001b[39;00m\u001b[39m.\u001b[39;00m\u001b[39mtrain\u001b[39;00m \u001b[39mimport\u001b[39;00m HETVAE\n\u001b[1;32m      2\u001b[0m \u001b[39mfrom\u001b[39;00m \u001b[39mtoy_dataset\u001b[39;00m \u001b[39mimport\u001b[39;00m data_utils\n\u001b[1;32m      3\u001b[0m \u001b[39mimport\u001b[39;00m \u001b[39mimputation\u001b[39;00m\u001b[39m.\u001b[39;00m\u001b[39mhetvae\u001b[39;00m\u001b[39m.\u001b[39;00m\u001b[39msrc\u001b[39;00m\u001b[39m.\u001b[39;00m\u001b[39mtrain\u001b[39;00m\u001b[39m.\u001b[39;00m\u001b[39mutils\u001b[39;00m\n",
      "File \u001b[0;32m~/Documents/sepsis/imputation/hetvae/src/train.py:12\u001b[0m\n\u001b[1;32m      8\u001b[0m \u001b[39mfrom\u001b[39;00m \u001b[39mtorch\u001b[39;00m\u001b[39m.\u001b[39;00m\u001b[39mutils\u001b[39;00m\u001b[39m.\u001b[39;00m\u001b[39mtensorboard\u001b[39;00m \u001b[39mimport\u001b[39;00m SummaryWriter\n\u001b[1;32m     11\u001b[0m \u001b[39mfrom\u001b[39;00m \u001b[39mrandom\u001b[39;00m \u001b[39mimport\u001b[39;00m SystemRandom\n\u001b[0;32m---> 12\u001b[0m \u001b[39mimport\u001b[39;00m \u001b[39mmodels\u001b[39;00m\n\u001b[1;32m     13\u001b[0m \u001b[39mimport\u001b[39;00m \u001b[39mutils\u001b[39;00m\n\u001b[1;32m     15\u001b[0m \u001b[39m# parser = argparse.ArgumentParser()\u001b[39;00m\n\u001b[1;32m     16\u001b[0m \u001b[39m# parser.add_argument('--niters', type=int, default=2000, help='Training epochs or iterations.')\u001b[39;00m\n\u001b[1;32m     17\u001b[0m \u001b[39m# parser.add_argument('--lr', type=float, default=0.01, help='Learning rate')\u001b[39;00m\n\u001b[0;32m   (...)\u001b[0m\n\u001b[1;32m     46\u001b[0m \u001b[39m# parser.add_argument('--mixing', type=str, default='concat', help='How the deterministic and probabilistic paths of encoder are used. Options are concat_and_mix, concat, seperate, interp_only and na.')\u001b[39;00m\n\u001b[1;32m     47\u001b[0m \u001b[39m# args = parser.parse_args()\u001b[39;00m\n",
      "\u001b[0;31mModuleNotFoundError\u001b[0m: No module named 'models'"
     ]
    }
   ],
   "source": [
    "# from imputation.hetvae.src.train import HETVAE\n",
    "from toy_dataset import data_utils\n",
    "import imputation.hetvae.src.train.utils"
   ]
  },
  {
   "cell_type": "code",
   "execution_count": 13,
   "metadata": {},
   "outputs": [
    {
     "name": "stdout",
     "output_type": "stream",
     "text": [
      "--\n",
      "Created MCAR missing data, but without missingness in columns Index(['id', 'time'], dtype='object')\n",
      "missingness_rate: 0.2,\tmissingness_value: -1\n",
      "Missing values: 0 out of 4000000 (0.0%) (!excluding aforementioned columns)\n",
      "Data values in entire dataframe is 6000000 (shape: (1000000, 6))\n",
      "Using batch size 256 for training and validation set.\n",
      "parameters encoder/decoder: 44610 83178\n",
      "Logging and saving model to:  ./imputation/runs/mTANtoy/2023.01.23-16.26.02/\n"
     ]
    }
   ],
   "source": [
    "# load my own synthetic data (Josh)\n",
    "from toy_dataset import data_utils\n",
    "name = 'toydataset_50000'\n",
    "path = data_utils.datasets_dict[name]\n",
    "dataset = data_utils.ToyDataDf(path)\n",
    "dataset.create_mcar_missingness(0.2, -1)\n",
    "model_args = '--niters 2000 --lr 0.0001 --batch-size 128 --rec-hidden 16 --latent-dim 64 --embed-time 128 --enc-num-heads 1 --num-ref-points 16 --n 2000 --dataset toy --seed 0 --norm --sample-tp 0.5 --k-iwae 1'.split()\n",
    "train_dataloader, validation_dataloader = dataset.prepare_mtan(model_args=model_args, batch_size=256)\n",
    "dataset.get_dataloaders\n",
    "\n",
    "# modify, so that my own (Josh) data is used instead of the HETVAE author's data\n",
    "train_loader = train_dataloader\n",
    "val_loader = validation_dataloader\n",
    "test_loader = validation_dataloader\n",
    "# union_tp = utils.union_time(train_loader)\n",
    "dim = 4"
   ]
  },
  {
   "cell_type": "code",
   "execution_count": 25,
   "metadata": {},
   "outputs": [
    {
     "name": "stdout",
     "output_type": "stream",
     "text": [
      "Attention, missingness_rate = 0 !\n",
      "Attention, missingness_rate = 0 !\n",
      "Using batch size 32 for training and validation set.\n"
     ]
    }
   ],
   "source": [
    "# Get all dataloaders based of off 'dataset'\n",
    "dataloader_dict = dataset.prepare_data_mtan(batch_size=32)\n",
    "# Extract the individual dataloaders from the dict\n",
    "train_loader = dataloader_dict['train']\n",
    "gt_train_loader = dataloader_dict['train_ground_truth']\n",
    "val_loader = dataloader_dict['validation']\n",
    "gt_validation_loader = dataloader_dict['validation_ground_truth']\n",
    "# Making sure, that everything worked accordingly and types match\n",
    "for key in dataloader_dict.keys():\n",
    "    print(dataloader_dict[key])"
   ]
  },
  {
   "cell_type": "code",
   "execution_count": 57,
   "metadata": {},
   "outputs": [
    {
     "name": "stdout",
     "output_type": "stream",
     "text": [
      "train batch:\t\t torch.Size([32, 50, 9])\n",
      "ground truth batch:\t torch.Size([32, 50, 9])\n",
      "->  Passed all tests.  <-\n",
      "\n",
      "\n"
     ]
    }
   ],
   "source": [
    "batch = next(iter(train_loader))\n",
    "batch1 = next(iter(gt_train_loader))\n",
    "\n",
    "print('train batch:\\t\\t', batch.shape)\n",
    "print('ground truth batch:\\t', batch1.shape)\n",
    "assert (batch.shape == batch1.shape), 'Batches should be of same size'\n",
    "assert (batch.shape[-1] % 2 == 1), f'The last dimension of batch should match the formula: 2*dim + 1, but it does not. It should be odd.'\n",
    "dim = int((batch.shape[-1] - 1) / 2)\n",
    "assert (batch[:,:,-1] == batch[:,:,-1]).all(), 'The time points of the batches should be identical'\n",
    "assert (batch1[:,:,dim:2*dim]==1).all(), 'In the ground truth batch all values should be observed and hence equal 1 (but that is debatable).'\n",
    "assert ((batch1[:,:,:dim] - batch[:,:,:dim]) * batch[:,:,dim:2*dim] == 0).all(), 'There are irregularities in the dataloaders. The formula should equal zero, for a fully observed dataset that only has artificially induced missingness.'\n",
    "print('->  Passed all tests.  <-\\n\\n')"
   ]
  }
 ],
 "metadata": {
  "kernelspec": {
   "display_name": "Python 3.8.10 ('sepsis_env': venv)",
   "language": "python",
   "name": "python3"
  },
  "language_info": {
   "codemirror_mode": {
    "name": "ipython",
    "version": 3
   },
   "file_extension": ".py",
   "mimetype": "text/x-python",
   "name": "python",
   "nbconvert_exporter": "python",
   "pygments_lexer": "ipython3",
   "version": "3.8.10"
  },
  "orig_nbformat": 4,
  "vscode": {
   "interpreter": {
    "hash": "b931a942bc7d2a742ceef9d8bc7c0178d9e86189932c439054c4f2a102ecf034"
   }
  }
 },
 "nbformat": 4,
 "nbformat_minor": 2
}
