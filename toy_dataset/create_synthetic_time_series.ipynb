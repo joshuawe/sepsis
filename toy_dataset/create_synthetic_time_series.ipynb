{
 "cells": [
  {
   "cell_type": "markdown",
   "metadata": {},
   "source": [
    "# We want to create a synthetic time series data set\n",
    "\n",
    "> Based on the synthetic data generation notebook of the ```afa``` repository by Henrik von Kleist."
   ]
  },
  {
   "cell_type": "code",
   "execution_count": 4,
   "metadata": {},
   "outputs": [],
   "source": [
    "%load_ext autoreload\n",
    "%autoreload 2"
   ]
  },
  {
   "cell_type": "code",
   "execution_count": null,
   "metadata": {},
   "outputs": [],
   "source": [
    "\n",
    "import sys\n",
    "import os\n",
    "import pathlib\n",
    "relative_path_to_afa = '../../afa_github/afa'\n",
    "#sys.path.insert(0, os.path.abspath(relative_path_to_afa))\n",
    "sys.path.insert(1, os.path.join(sys.path[0], relative_path_to_afa))\n",
    "print('CWD:', pathlib.Path(pathlib.Path.cwd()))\n",
    "\n",
    "import sklearn\n",
    "\n",
    "# data generation\n",
    "from afa_datasets.synthetic_data.data_generation_ts import generate_data_ts\n",
    "\n",
    "# loading/ saving\n",
    "from data_modelling.clairvoyance_static.datasets.data_loader import CSVLoader, save_dataset\n",
    "from data_modelling.clairvoyance_static.utils.model_utils import PipelineComposer"
   ]
  },
  {
   "cell_type": "code",
   "execution_count": null,
   "metadata": {},
   "outputs": [],
   "source": [
    "# define directories\n",
    "data_dir = \"dataset/\"\n",
    "dataset_name = \"synthetic_1\""
   ]
  },
  {
   "cell_type": "markdown",
   "metadata": {},
   "source": [
    "# Datageneration\n",
    "\n",
    "Use sklearn's make-classification function"
   ]
  },
  {
   "cell_type": "code",
   "execution_count": 26,
   "metadata": {},
   "outputs": [],
   "source": [
    "# df_train, df_test = generate_data_ts(data_dir = data_dir + dataset_name + \"/\", \n",
    "#                                          dataset_name = dataset_name,\n",
    "#                                          n_features_static  = 4 ,\n",
    "#                                          n_features_ts  = 10 ,\n",
    "#                                          n_redundant = 0 ,\n",
    "#                                          n_informative = 2,\n",
    "#                                          n_datapts   = 200000,\n",
    "#                                          n_classes   = 2,\n",
    "#                                          random_state  = 47,\n",
    "#                                          test_size   = 0.5)\n",
    "\n",
    "data_train_ts_df, data_train_static_df, data_test_ts_df, data_test_static_df = generate_data_ts(data_dir = \"\",\n",
    "                                        dataset_name = \"synthetic_ts_1\",\n",
    "                                        n_features_static  = 2  ,\n",
    "                                        n_features_ts      = 4  , \n",
    "                                        n_timepts   = 50,\n",
    "                                        n_datapts   = 100, \n",
    "                                        test_size = 0.1,\n",
    "                                        table_style = 'wide',\n",
    "                                        n_classes   = 2)"
   ]
  },
  {
   "cell_type": "markdown",
   "metadata": {},
   "source": [
    "# Load the Data\n",
    "\n",
    "+ First import necessary stuff.\n",
    "+ Look at simple implementations on how to handle the data\n",
    "+ Then use ```Dataset``` class from Pytorch to handle the data."
   ]
  },
  {
   "cell_type": "code",
   "execution_count": 2,
   "metadata": {},
   "outputs": [],
   "source": [
    "import pandas as pd"
   ]
  },
  {
   "cell_type": "markdown",
   "metadata": {},
   "source": [
    "Load the data and show the beginning."
   ]
  },
  {
   "cell_type": "code",
   "execution_count": 3,
   "metadata": {},
   "outputs": [
    {
     "name": "stdout",
     "output_type": "stream",
     "text": [
      "<bound method NDFrame.head of         id  time    X_ts_0    X_ts_1    X_ts_2    X_ts_3      Y_ts\n",
      "0    id_90     0  0.627422 -0.478959 -0.892121 -0.318527  1.083295\n",
      "1    id_90     1 -0.448220  0.019303 -0.127440 -0.157412  1.093168\n",
      "2    id_90     2  0.637957 -0.386629 -0.416992  0.772078  1.026738\n",
      "3    id_90     3  0.114574 -0.700368  0.415711 -0.584559  0.891013\n",
      "4    id_90     4  0.318873  0.112828  0.575051  0.149870  0.813476\n",
      "..     ...   ...       ...       ...       ...       ...       ...\n",
      "495  id_99    45  0.033853  0.889838  0.867147 -0.226947  0.981591\n",
      "496  id_99    46 -0.883889  1.506605  0.732750  0.466535  0.846787\n",
      "497  id_99    47  1.267585 -0.623064  0.034502 -0.162447  0.901342\n",
      "498  id_99    48 -1.544032  0.310212  1.469414  0.941757  0.912135\n",
      "499  id_99    49  1.052585 -0.451113  1.395424 -0.229020  0.822956\n",
      "\n",
      "[500 rows x 7 columns]>\n"
     ]
    }
   ],
   "source": [
    "path = '/home2/joshua.wendland/Documents/sepsis/toy_dataset/synthetic_ts_1/synthetic_ts_test_data_eav.csv.gz'\n",
    "\n",
    "df = pd.read_csv(path, compression=None)\n",
    "df = df.sort_values(by=['id', 'time'], ascending=True, ignore_index=True)  # time was not sorted\n",
    "\n",
    "print(df.head)\n"
   ]
  },
  {
   "cell_type": "markdown",
   "metadata": {},
   "source": [
    "Group the data according to each ```id``` of the time series. \n",
    "This is easily done by using the ```groupby()``` method on the DataFrame. This transforms the data into the structure of:\n",
    "\n",
    "| Group Name (or ID) | Pandas Series   |  \n",
    "| ------------------ | --------------- |\n",
    "| id_0              | Series of id_0 |  \n",
    "| id_1              | Series of id_1 |  \n",
    "| ...              | ... |  \n",
    "\n",
    "To receive a certain Series ID ```i``` we just need to call ```df_grouped[i, 0]```.\n",
    "To receive the corresponding Series data we call ```df_grouped[i, 1]```."
   ]
  },
  {
   "cell_type": "code",
   "execution_count": 110,
   "metadata": {},
   "outputs": [
    {
     "name": "stdout",
     "output_type": "stream",
     "text": [
      "     time    X_ts_0    X_ts_1    X_ts_2    X_ts_3      Y_ts\n",
      "450     0  2.715997  0.325934 -0.486907 -2.543788  1.054109\n",
      "451     1  1.526065  1.121756 -0.514032 -0.396498  0.764149\n",
      "452     2 -0.505807  0.863921  0.798771 -0.444982  1.008917\n",
      "453     3  0.788786  0.825285  0.303744 -1.426538  0.986686\n",
      "454     4  0.219992 -0.188746 -0.861897 -0.611712  0.816993\n",
      "     time    X_ts_0    X_ts_1    X_ts_2    X_ts_3      Y_ts\n",
      "495    45  0.033853  0.889838  0.867147 -0.226947  0.981591\n",
      "496    46 -0.883889  1.506605  0.732750  0.466535  0.846787\n",
      "497    47  1.267585 -0.623064  0.034502 -0.162447  0.901342\n",
      "498    48 -1.544032  0.310212  1.469414  0.941757  0.912135\n",
      "499    49  1.052585 -0.451113  1.395424 -0.229020  0.822956\n"
     ]
    }
   ],
   "source": [
    "# Group by 'id'\n",
    "df_grouped = pd.DataFrame(df.groupby('id'))\n",
    "# Get rid of the 'id'-column in each group\n",
    "for x in df_grouped.iloc[:,1]:\n",
    "    x.drop(columns=['id'], inplace=True)\n",
    "    \n",
    "print(df_grouped.iloc[-1,1].head())\n",
    "print(df_grouped.iloc[-1,1].tail())"
   ]
  },
  {
   "cell_type": "code",
   "execution_count": 151,
   "metadata": {},
   "outputs": [
    {
     "data": {
      "text/plain": [
       "1        time    X_ts_0    X_ts_1    X_ts_2    X_ts...\n",
       "Name: 1, dtype: object"
      ]
     },
     "execution_count": 151,
     "metadata": {},
     "output_type": "execute_result"
    }
   ],
   "source": [
    "import numpy as np\n",
    "\n",
    "\n",
    "X = df_grouped.drop(columns=0)\n",
    "x = X.loc[1]\n",
    "x"
   ]
  },
  {
   "cell_type": "markdown",
   "metadata": {},
   "source": [
    "## Using Pytorch class ```Dataset``` and ```Dataloader```\n",
    "\n",
    "+ First import necessary modules.\n",
    "+ Implement the ```Dataset``` class."
   ]
  },
  {
   "cell_type": "markdown",
   "metadata": {},
   "source": [
    "### `Dataset`\n",
    "\n",
    "Loading the Toydataset is easy, just ...\n",
    "+ give the correct path,\n",
    "+ enter all missingness criteria. Currently supported is `None` (=No missingness) and `mcar` (=Missing Completely at Random). \n",
    "\n",
    "> Note: The missingness pattern is created by the `pycorruptor` package."
   ]
  },
  {
   "cell_type": "code",
   "execution_count": 34,
   "metadata": {},
   "outputs": [],
   "source": [
    "import data_utils\n",
    "\n",
    "path = '/home2/joshua.wendland/Documents/sepsis/toy_dataset/synthetic_ts_1/synthetic_ts_test_data_eav.csv.gz'\n",
    "missingness = 'mcar'\n",
    "missingness_rate = 0.1\n",
    "missingness_values = -1\n",
    "dataset = data_utils.ToyDataset(path, \n",
    "                                missingness=missingness, \n",
    "                                missingness_rate=missingness_rate, \n",
    "                                missingness_value=missingness_values\n",
    ")"
   ]
  },
  {
   "cell_type": "markdown",
   "metadata": {},
   "source": [
    "### `DataLoader`\n",
    "\n",
    "Problems with Dataloader:\n",
    "+ If there is an error and `num_workers!=0`, try setting it to `0`.\n",
    "+ If there is an error and `shuffle=True`, try setting it to `False`. (Fixed)"
   ]
  },
  {
   "cell_type": "code",
   "execution_count": 35,
   "metadata": {},
   "outputs": [],
   "source": [
    "from torch.utils.data import DataLoader\n",
    "train_loader = DataLoader(dataset=dataset, batch_size=8, shuffle=True, num_workers=0)\n"
   ]
  },
  {
   "cell_type": "markdown",
   "metadata": {},
   "source": [
    "Test the `DataLoader` by looking at some samples."
   ]
  },
  {
   "cell_type": "code",
   "execution_count": 37,
   "metadata": {},
   "outputs": [
    {
     "name": "stdout",
     "output_type": "stream",
     "text": [
      "features:\n",
      " torch.Size([8, 50, 5])\n",
      "Missingness:  0.10\n",
      "<class 'torch.Tensor'> torch.float32 torch.Size([8, 50, 5])\n",
      "<class 'torch.Tensor'> torch.float32 torch.Size([8, 50, 5])\n",
      "<class 'torch.Tensor'> torch.float32 torch.Size([8, 50])\n",
      "<class 'torch.Tensor'> torch.float32 torch.Size([8, 50, 5])\n"
     ]
    }
   ],
   "source": [
    "import torch\n",
    "# convert to an iterator and look at one random sample\n",
    "dataiter = iter(train_loader)\n",
    "data = next(dataiter)\n",
    "X, missing_mask, time, Y = list(data)\n",
    "print('features:\\n', X.shape)\n",
    "print('Missingness: ', f'{float(torch.sum(X == missingness_values) /  torch.numel(X)):.2f}')\n",
    "for d in data:\n",
    "    print(type(d), d.dtype, d.shape)"
   ]
  },
  {
   "cell_type": "markdown",
   "metadata": {},
   "source": [
    "Let's split the dataset into training and validation set.\n",
    "\n",
    "> TODO!\n"
   ]
  },
  {
   "cell_type": "code",
   "execution_count": null,
   "metadata": {},
   "outputs": [],
   "source": []
  },
  {
   "cell_type": "markdown",
   "metadata": {},
   "source": [
    "# Make my own data\n",
    "\n",
    "Generating synthetic time series data with four variables representing:\n",
    "+ Noise\n",
    "+ Trend (+ Noise)\n",
    "+ Seasonality (+ Noise )\n",
    "+ Trend + Seasonality (+ Noise)\n",
    "\n",
    "The generated data will be saved in the same way as the data created above. It will have the columns `'id', 'time', 'Noise', 'Trend', 'Seasonality', 'Trend + Season'`. During generation of data it will be handled as a `pandas.DataFrame` object and then saved as a `*.csv.gz` file under the specified location.\n",
    "\n",
    "The four parts of data:\n",
    "+ The **noise** part is by sampling from a normal distribution with $\\mu=0$ and $\\sigma=1$.\n",
    "+ The **trend** part consists of $m \\cdot x(t) + n + \\text{noise}$ , where $m,n$ are sampled from the same distribution as the noise.\n",
    "+ The **seasonality** part has its frequency and amplitude drawn form a uniform distribution and then computes to $\\text{amplitude} \\cdot \\sin{(x(t) \\cdot \\text{frequency})} + \\text{noise} \\cdot \\epsilon$, where $\\epsilon$ is drawn from the standard normal distribution.\n",
    "+ The **trend+seasonality** part is computed via $m \\cdot \\text{trend} + n + \\text{seasonality} + \\text{noise} \\cdot \\epsilon$, where $m, n, \\epsilon$ have been drawn independently from the previous parts."
   ]
  },
  {
   "cell_type": "code",
   "execution_count": 228,
   "metadata": {},
   "outputs": [],
   "source": [
    "import numpy as np\n",
    "import matplotlib.pyplot as plt\n",
    "import pandas as pd\n",
    "from tqdm import tqdm"
   ]
  },
  {
   "cell_type": "code",
   "execution_count": 231,
   "metadata": {},
   "outputs": [],
   "source": [
    "def generate_ts_sample(series_length=100):\n",
    "    \"\"\" There are exactly 4 cases: noise, trend, seasonality, trend + seasonality\"\"\"\n",
    "    # for each time series: noise, trend, seasonality, trend + seasonality\n",
    "    time = np.arange(series_length) + np.random.randint(-100,100) # add a random shift\n",
    "    # noise\n",
    "    noise = np.random.randn(series_length)\n",
    "    # trend\n",
    "    m = np.random.rand()  # slope\n",
    "    n = np.random.rand()  # y-axis at x=0\n",
    "    trend = m * time + n + noise\n",
    "    # seasonality\n",
    "    frequency = np.random.uniform(0.5,1)\n",
    "    amplitude = np.random.uniform(1, 10)\n",
    "    seasonality = amplitude * np.sin(time * frequency) + noise * np.random.rand()\n",
    "    # trend + seasonality\n",
    "    m = np.random.uniform(0.1,3)   # slope\n",
    "    n = np.random.rand() * 100  # y-axis at x=0\n",
    "    mu = 1\n",
    "    sigma = 0.1\n",
    "    trend_season = m * trend + n + seasonality  + np.random.normal(mu, sigma, series_length) * noise\n",
    "\n",
    "    return time, noise, trend, seasonality, trend_season\n",
    "    \n",
    "\n",
    "\n",
    "def genereate_ts_dataset(samples, series_length, save_path=None):\n",
    "    \"\"\"Creates Time series dataset with four variables. \n",
    "\n",
    "    Args:\n",
    "        samples (int): The number of individual time series, that comprise the dataset.\n",
    "        series_length (int): The length of every series.\n",
    "    \"\"\"\n",
    "    columns = ['id', 'time', 'Noise', 'Trend', 'Seasonality', 'Trend + Season']\n",
    "    df = pd.DataFrame(columns=columns)\n",
    "    time_series_list = list()\n",
    "    time_series_list.append(df)\n",
    "    for i in tqdm(range(samples)):\n",
    "        # create the time series\n",
    "        time, noise, trend, seasonality, trend_season = generate_ts_sample(series_length)\n",
    "        time = np.arange(series_length)\n",
    "        data = np.stack((time, noise, trend, seasonality, trend_season), axis=1)\n",
    "        # create the corresponding id\n",
    "        id = 'id_' + str(i)\n",
    "        # convert into dataframe\n",
    "        df_temp = pd.DataFrame(data=data ,columns=columns[1:])\n",
    "        df_temp['id'] = id\n",
    "        # add to list\n",
    "        time_series_list.append(df_temp)\n",
    "    # combine\n",
    "    df = pd.concat(time_series_list, ignore_index=True)\n",
    "\n",
    "    if save_path is not None:\n",
    "        print(f'Saving dataset under {save_path}\\nMake sure to have a *.csv.gz file ending.')\n",
    "        df.to_csv(save_path, sep=\",\", compression=None, index=False)\n",
    "    return df"
   ]
  },
  {
   "cell_type": "code",
   "execution_count": 1,
   "metadata": {},
   "outputs": [
    {
     "name": "stderr",
     "output_type": "stream",
     "text": [
      "/home2/joshua.wendland/Documents/sepsis/sepsis_env/lib/python3.8/site-packages/tqdm/auto.py:22: TqdmWarning: IProgress not found. Please update jupyter and ipywidgets. See https://ipywidgets.readthedocs.io/en/stable/user_install.html\n",
      "  from .autonotebook import tqdm as notebook_tqdm\n"
     ]
    },
    {
     "ename": "AttributeError",
     "evalue": "module 'toy_dataset.time_series_generation' has no attribute 'generate_ts_sample'",
     "output_type": "error",
     "traceback": [
      "\u001b[0;31m---------------------------------------------------------------------------\u001b[0m",
      "\u001b[0;31mAttributeError\u001b[0m                            Traceback (most recent call last)",
      "Cell \u001b[0;32mIn[1], line 3\u001b[0m\n\u001b[1;32m      1\u001b[0m \u001b[39mfrom\u001b[39;00m \u001b[39mtoy_dataset\u001b[39;00m \u001b[39mimport\u001b[39;00m time_series_generation\n\u001b[0;32m----> 3\u001b[0m generate_ts_sample \u001b[39m=\u001b[39m time_series_generation\u001b[39m.\u001b[39;49mgenerate_ts_sample\n",
      "\u001b[0;31mAttributeError\u001b[0m: module 'toy_dataset.time_series_generation' has no attribute 'generate_ts_sample'"
     ]
    }
   ],
   "source": [
    "from toy_dataset import time_series_generation\n",
    "\n",
    "generate_ts_sample = time_series_generation.generate_ts_sample"
   ]
  },
  {
   "cell_type": "code",
   "execution_count": 233,
   "metadata": {},
   "outputs": [
    {
     "name": "stderr",
     "output_type": "stream",
     "text": [
      "100%|██████████| 40000/40000 [00:09<00:00, 4250.05it/s]\n"
     ]
    },
    {
     "name": "stdout",
     "output_type": "stream",
     "text": [
      "Saving dataset under /home2/joshua.wendland/Documents/sepsis/toy_dataset/synthetic_ts_4types_50000/synthetic_ts_train_40000.csv.gz\n",
      "Make sure to have a *.csv.gz file ending.\n"
     ]
    },
    {
     "name": "stderr",
     "output_type": "stream",
     "text": [
      "100%|██████████| 5000/5000 [00:01<00:00, 4717.95it/s]\n"
     ]
    },
    {
     "name": "stdout",
     "output_type": "stream",
     "text": [
      "Saving dataset under /home2/joshua.wendland/Documents/sepsis/toy_dataset/synthetic_ts_4types_50000/synthetic_ts_validation_5000.csv.gz\n",
      "Make sure to have a *.csv.gz file ending.\n"
     ]
    },
    {
     "name": "stderr",
     "output_type": "stream",
     "text": [
      "100%|██████████| 5000/5000 [00:01<00:00, 4760.67it/s]\n"
     ]
    },
    {
     "name": "stdout",
     "output_type": "stream",
     "text": [
      "Saving dataset under /home2/joshua.wendland/Documents/sepsis/toy_dataset/synthetic_ts_4types_50000/synthetic_ts_test_5000.csv.gz\n",
      "Make sure to have a *.csv.gz file ending.\n"
     ]
    }
   ],
   "source": [
    "series_length = 50\n",
    "# train dataset\n",
    "save_path = '/home2/joshua.wendland/Documents/sepsis/toy_dataset/synthetic_ts_4types_50000/synthetic_ts_train_40000.csv.gz'\n",
    "samples = 40000\n",
    "# validation set\n",
    "df = genereate_ts_dataset(samples, series_length, save_path=save_path)\n",
    "save_path = '/home2/joshua.wendland/Documents/sepsis/toy_dataset/synthetic_ts_4types_50000/synthetic_ts_validation_5000.csv.gz'\n",
    "samples = 5000\n",
    "df = genereate_ts_dataset(samples, series_length, save_path=save_path)\n",
    "# test set\n",
    "save_path = '/home2/joshua.wendland/Documents/sepsis/toy_dataset/synthetic_ts_4types_50000/synthetic_ts_test_5000.csv.gz'\n",
    "samples = 5000\n",
    "df = genereate_ts_dataset(samples, series_length, save_path=save_path)"
   ]
  },
  {
   "cell_type": "code",
   "execution_count": 208,
   "metadata": {},
   "outputs": [
    {
     "data": {
      "image/png": "[encoded data removed]",
      "text/plain": [
       "<Figure size 640x480 with 4 Axes>"
      ]
     },
     "metadata": {},
     "output_type": "display_data"
    }
   ],
   "source": [
    "time, noise, trend, seasonality, trend_season = generate_ts_sample()\n",
    "\n",
    "fig = plt.figure()\n",
    "fig.add_subplot(221)\n",
    "plt.plot(np.arange(100), noise)\n",
    "plt.title('Noise')\n",
    "fig.add_subplot(222)\n",
    "plt.title('Trend')\n",
    "plt.plot(np.arange(100), trend)\n",
    "fig.add_subplot(223)\n",
    "plt.title('Seasonality')\n",
    "plt.plot(np.arange(100), seasonality)\n",
    "fig.add_subplot(224)\n",
    "plt.title('Trend + Seasonality')\n",
    "plt.plot(np.arange(100), trend_season)\n",
    "plt.tight_layout()"
   ]
  }
 ],
 "metadata": {
  "kernelspec": {
   "display_name": "Python 3.8.10 ('sepsis_env': venv)",
   "language": "python",
   "name": "python3"
  },
  "language_info": {
   "codemirror_mode": {
    "name": "ipython",
    "version": 3
   },
   "file_extension": ".py",
   "mimetype": "text/x-python",
   "name": "python",
   "nbconvert_exporter": "python",
   "pygments_lexer": "ipython3",
   "version": "3.8.10"
  },
  "orig_nbformat": 4,
  "vscode": {
   "interpreter": {
    "hash": "b931a942bc7d2a742ceef9d8bc7c0178d9e86189932c439054c4f2a102ecf034"
   }
  }
 },
 "nbformat": 4,
 "nbformat_minor": 2
}
