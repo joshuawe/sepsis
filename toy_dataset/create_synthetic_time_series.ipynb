{
 "cells": [
  {
   "cell_type": "markdown",
   "metadata": {},
   "source": [
    "# We want to create a synthetic time series data set\n",
    "\n",
    "> Based on the synthetic data generation notebook of the ```afa``` repository by Henrik von Kleist."
   ]
  },
  {
   "cell_type": "code",
   "execution_count": 6,
   "metadata": {},
   "outputs": [
    {
     "name": "stdout",
     "output_type": "stream",
     "text": [
      "The autoreload extension is already loaded. To reload it, use:\n",
      "  %reload_ext autoreload\n",
      "CWD: /home2/joshua.wendland/Documents/sepsis/toy_dataset\n"
     ]
    }
   ],
   "source": [
    "%load_ext autoreload\n",
    "%autoreload 2\n",
    "\n",
    "import sys\n",
    "import os\n",
    "import pathlib\n",
    "relative_path_to_afa = '../../afa_github/afa'\n",
    "#sys.path.insert(0, os.path.abspath(relative_path_to_afa))\n",
    "sys.path.insert(1, os.path.join(sys.path[0], relative_path_to_afa))\n",
    "print('CWD:', pathlib.Path(pathlib.Path.cwd()))\n",
    "\n",
    "import sklearn\n",
    "\n",
    "# data generation\n",
    "from afa_datasets.synthetic_data.data_generation_ts import generate_data_ts\n",
    "\n",
    "# loading/ saving\n",
    "from data_modelling.clairvoyance_static.datasets.data_loader import CSVLoader, save_dataset\n",
    "from data_modelling.clairvoyance_static.utils.model_utils import PipelineComposer"
   ]
  },
  {
   "cell_type": "code",
   "execution_count": null,
   "metadata": {},
   "outputs": [],
   "source": [
    "# define directories\n",
    "data_dir = \"dataset/\"\n",
    "dataset_name = \"synthetic_1\""
   ]
  },
  {
   "cell_type": "markdown",
   "metadata": {},
   "source": [
    "# Datageneration\n",
    "\n",
    "Use sklearn's make-classification function"
   ]
  },
  {
   "cell_type": "code",
   "execution_count": 26,
   "metadata": {},
   "outputs": [],
   "source": [
    "# df_train, df_test = generate_data_ts(data_dir = data_dir + dataset_name + \"/\", \n",
    "#                                          dataset_name = dataset_name,\n",
    "#                                          n_features_static  = 4 ,\n",
    "#                                          n_features_ts  = 10 ,\n",
    "#                                          n_redundant = 0 ,\n",
    "#                                          n_informative = 2,\n",
    "#                                          n_datapts   = 200000,\n",
    "#                                          n_classes   = 2,\n",
    "#                                          random_state  = 47,\n",
    "#                                          test_size   = 0.5)\n",
    "\n",
    "data_train_ts_df, data_train_static_df, data_test_ts_df, data_test_static_df = generate_data_ts(data_dir = \"\",\n",
    "                                        dataset_name = \"synthetic_ts_1\",\n",
    "                                        n_features_static  = 2  ,\n",
    "                                        n_features_ts      = 4  , \n",
    "                                        n_timepts   = 50,\n",
    "                                        n_datapts   = 100, \n",
    "                                        test_size = 0.1,\n",
    "                                        table_style = 'wide',\n",
    "                                        n_classes   = 2)"
   ]
  }
 ],
 "metadata": {
  "kernelspec": {
   "display_name": "Python 3.8.10 ('datasetEnv': venv)",
   "language": "python",
   "name": "python3"
  },
  "language_info": {
   "codemirror_mode": {
    "name": "ipython",
    "version": 3
   },
   "file_extension": ".py",
   "mimetype": "text/x-python",
   "name": "python",
   "nbconvert_exporter": "python",
   "pygments_lexer": "ipython3",
   "version": "3.8.10"
  },
  "orig_nbformat": 4,
  "vscode": {
   "interpreter": {
    "hash": "8cbfaf034946b7253fac58ddaedd665a3b3e64e59160ad1e3c4d801657dd0a95"
   }
  }
 },
 "nbformat": 4,
 "nbformat_minor": 2
}
