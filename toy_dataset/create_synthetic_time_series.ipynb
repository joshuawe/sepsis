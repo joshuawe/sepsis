{
 "cells": [
  {
   "cell_type": "markdown",
   "metadata": {},
   "source": [
    "# We want to create a synthetic time series data set\n",
    "\n",
    "> Based on the synthetic data generation notebook of the ```afa``` repository by Henrik von Kleist."
   ]
  },
  {
   "cell_type": "code",
   "execution_count": 1,
   "metadata": {},
   "outputs": [
    {
     "name": "stdout",
     "output_type": "stream",
     "text": [
      "CWD: /home2/joshua.wendland/Documents/sepsis/toy_dataset\n"
     ]
    },
    {
     "name": "stderr",
     "output_type": "stream",
     "text": [
      "2022-11-28 12:47:56.559341: W tensorflow/stream_executor/platform/default/dso_loader.cc:64] Could not load dynamic library 'libcudart.so.11.0'; dlerror: libcudart.so.11.0: cannot open shared object file: No such file or directory\n",
      "2022-11-28 12:47:56.559367: I tensorflow/stream_executor/cuda/cudart_stub.cc:29] Ignore above cudart dlerror if you do not have a GPU set up on your machine.\n"
     ]
    }
   ],
   "source": [
    "%load_ext autoreload\n",
    "%autoreload 2\n",
    "\n",
    "import sys\n",
    "import os\n",
    "import pathlib\n",
    "relative_path_to_afa = '../../afa_github/afa'\n",
    "#sys.path.insert(0, os.path.abspath(relative_path_to_afa))\n",
    "sys.path.insert(1, os.path.join(sys.path[0], relative_path_to_afa))\n",
    "print('CWD:', pathlib.Path(pathlib.Path.cwd()))\n",
    "\n",
    "import sklearn\n",
    "\n",
    "# data generation\n",
    "from afa_datasets.synthetic_data.data_generation_ts import generate_data_ts\n",
    "\n",
    "# loading/ saving\n",
    "from data_modelling.clairvoyance_static.datasets.data_loader import CSVLoader, save_dataset\n",
    "from data_modelling.clairvoyance_static.utils.model_utils import PipelineComposer"
   ]
  },
  {
   "cell_type": "code",
   "execution_count": null,
   "metadata": {},
   "outputs": [],
   "source": [
    "# define directories\n",
    "data_dir = \"dataset/\"\n",
    "dataset_name = \"synthetic_1\""
   ]
  },
  {
   "cell_type": "markdown",
   "metadata": {},
   "source": [
    "# Datageneration\n",
    "\n",
    "Use sklearn's make-classification function"
   ]
  },
  {
   "cell_type": "code",
   "execution_count": 26,
   "metadata": {},
   "outputs": [],
   "source": [
    "# df_train, df_test = generate_data_ts(data_dir = data_dir + dataset_name + \"/\", \n",
    "#                                          dataset_name = dataset_name,\n",
    "#                                          n_features_static  = 4 ,\n",
    "#                                          n_features_ts  = 10 ,\n",
    "#                                          n_redundant = 0 ,\n",
    "#                                          n_informative = 2,\n",
    "#                                          n_datapts   = 200000,\n",
    "#                                          n_classes   = 2,\n",
    "#                                          random_state  = 47,\n",
    "#                                          test_size   = 0.5)\n",
    "\n",
    "data_train_ts_df, data_train_static_df, data_test_ts_df, data_test_static_df = generate_data_ts(data_dir = \"\",\n",
    "                                        dataset_name = \"synthetic_ts_1\",\n",
    "                                        n_features_static  = 2  ,\n",
    "                                        n_features_ts      = 4  , \n",
    "                                        n_timepts   = 50,\n",
    "                                        n_datapts   = 100, \n",
    "                                        test_size = 0.1,\n",
    "                                        table_style = 'wide',\n",
    "                                        n_classes   = 2)"
   ]
  },
  {
   "cell_type": "markdown",
   "metadata": {},
   "source": [
    "# Load the Data\n",
    "\n",
    "+ First import necessary stuff.\n",
    "+ Look at simple implementations on how to handle the data\n",
    "+ Then use ```Dataset``` class from Pytorch to handle the data."
   ]
  },
  {
   "cell_type": "code",
   "execution_count": 2,
   "metadata": {},
   "outputs": [],
   "source": [
    "import pandas as pd"
   ]
  },
  {
   "cell_type": "markdown",
   "metadata": {},
   "source": [
    "Load the data and show the beginning."
   ]
  },
  {
   "cell_type": "code",
   "execution_count": 3,
   "metadata": {},
   "outputs": [
    {
     "name": "stdout",
     "output_type": "stream",
     "text": [
      "<bound method NDFrame.head of         id  time    X_ts_0    X_ts_1    X_ts_2    X_ts_3      Y_ts\n",
      "0    id_90     0  0.627422 -0.478959 -0.892121 -0.318527  1.083295\n",
      "1    id_90     1 -0.448220  0.019303 -0.127440 -0.157412  1.093168\n",
      "2    id_90     2  0.637957 -0.386629 -0.416992  0.772078  1.026738\n",
      "3    id_90     3  0.114574 -0.700368  0.415711 -0.584559  0.891013\n",
      "4    id_90     4  0.318873  0.112828  0.575051  0.149870  0.813476\n",
      "..     ...   ...       ...       ...       ...       ...       ...\n",
      "495  id_99    45  0.033853  0.889838  0.867147 -0.226947  0.981591\n",
      "496  id_99    46 -0.883889  1.506605  0.732750  0.466535  0.846787\n",
      "497  id_99    47  1.267585 -0.623064  0.034502 -0.162447  0.901342\n",
      "498  id_99    48 -1.544032  0.310212  1.469414  0.941757  0.912135\n",
      "499  id_99    49  1.052585 -0.451113  1.395424 -0.229020  0.822956\n",
      "\n",
      "[500 rows x 7 columns]>\n"
     ]
    }
   ],
   "source": [
    "path = '/home2/joshua.wendland/Documents/sepsis/toy_dataset/synthetic_ts_1/synthetic_ts_test_data_eav.csv.gz'\n",
    "\n",
    "df = pd.read_csv(path, compression=None)\n",
    "df = df.sort_values(by=['id', 'time'], ascending=True, ignore_index=True)  # time was not sorted\n",
    "\n",
    "print(df.head)\n"
   ]
  },
  {
   "cell_type": "markdown",
   "metadata": {},
   "source": [
    "Group the data according to each ```id``` of the time series. \n",
    "This is easily done by using the ```groupby()``` method on the DataFrame. This transforms the data into the structure of:\n",
    "\n",
    "| Group Name (or ID) | Pandas Series   |  \n",
    "| ------------------ | --------------- |\n",
    "| id_0              | Series of id_0 |  \n",
    "| id_1              | Series of id_1 |  \n",
    "| ...              | ... |  \n",
    "\n",
    "To receive a certain Series ID ```i``` we just need to call ```df_grouped[i, 0]```.\n",
    "To receive the corresponding Series data we call ```df_grouped[i, 1]```."
   ]
  },
  {
   "cell_type": "code",
   "execution_count": 110,
   "metadata": {},
   "outputs": [
    {
     "name": "stdout",
     "output_type": "stream",
     "text": [
      "     time    X_ts_0    X_ts_1    X_ts_2    X_ts_3      Y_ts\n",
      "450     0  2.715997  0.325934 -0.486907 -2.543788  1.054109\n",
      "451     1  1.526065  1.121756 -0.514032 -0.396498  0.764149\n",
      "452     2 -0.505807  0.863921  0.798771 -0.444982  1.008917\n",
      "453     3  0.788786  0.825285  0.303744 -1.426538  0.986686\n",
      "454     4  0.219992 -0.188746 -0.861897 -0.611712  0.816993\n",
      "     time    X_ts_0    X_ts_1    X_ts_2    X_ts_3      Y_ts\n",
      "495    45  0.033853  0.889838  0.867147 -0.226947  0.981591\n",
      "496    46 -0.883889  1.506605  0.732750  0.466535  0.846787\n",
      "497    47  1.267585 -0.623064  0.034502 -0.162447  0.901342\n",
      "498    48 -1.544032  0.310212  1.469414  0.941757  0.912135\n",
      "499    49  1.052585 -0.451113  1.395424 -0.229020  0.822956\n"
     ]
    }
   ],
   "source": [
    "# Group by 'id'\n",
    "df_grouped = pd.DataFrame(df.groupby('id'))\n",
    "# Get rid of the 'id'-column in each group\n",
    "for x in df_grouped.iloc[:,1]:\n",
    "    x.drop(columns=['id'], inplace=True)\n",
    "    \n",
    "print(df_grouped.iloc[-1,1].head())\n",
    "print(df_grouped.iloc[-1,1].tail())"
   ]
  },
  {
   "cell_type": "code",
   "execution_count": 151,
   "metadata": {},
   "outputs": [
    {
     "data": {
      "text/plain": [
       "1        time    X_ts_0    X_ts_1    X_ts_2    X_ts...\n",
       "Name: 1, dtype: object"
      ]
     },
     "execution_count": 151,
     "metadata": {},
     "output_type": "execute_result"
    }
   ],
   "source": [
    "import numpy as np\n",
    "\n",
    "\n",
    "X = df_grouped.drop(columns=0)\n",
    "x = X.loc[1]\n",
    "x"
   ]
  },
  {
   "cell_type": "markdown",
   "metadata": {},
   "source": [
    "## Using Pytorch class ```Dataset``` and ```Dataloader```\n",
    "\n",
    "+ First import necessary modules.\n",
    "+ Implement the ```Dataset``` class."
   ]
  },
  {
   "cell_type": "code",
   "execution_count": 173,
   "metadata": {},
   "outputs": [],
   "source": [
    "import torch\n",
    "from torch.utils.data import Dataset, DataLoader\n",
    "import pandas as pd"
   ]
  },
  {
   "cell_type": "markdown",
   "metadata": {},
   "source": [
    "### `Dataset`"
   ]
  },
  {
   "cell_type": "code",
   "execution_count": 230,
   "metadata": {},
   "outputs": [],
   "source": [
    "class ToyDataset(Dataset):\n",
    "    \"\"\"Dataset class for toy / synthetical data to test before continuing with EHR data. It is meant for multivariate time series.\n",
    "\n",
    "            + `self.x_data`: Is a Pandas Dataframe, holding a list of time series, which also are Dataframes.\n",
    "            + `self.x_ids`: Is a Pandas Dataframe, holding the corresponding id to each time series of `self.x_data`.\n",
    "\n",
    "    Args:\n",
    "        Dataset: The base Pytorch Dataset class.\n",
    "    \"\"\"\n",
    "\n",
    "    def __init__(self, path):\n",
    "        \"\"\"Read in the data from *.csv file and prepare it. After init the class is left with self.x_data and self.x_ids.\n",
    "\n",
    "        Args:\n",
    "            path (str): Path to csv file.\n",
    "        \"\"\"\n",
    "        # Read in csv\n",
    "        df = pd.read_csv(path, compression=None)\n",
    "        # Sort wrt id, then sort wrt time, ascending\n",
    "        df = df.sort_values(by=['id', 'time'], ascending=True, ignore_index=True)\n",
    "        # Number of samples\n",
    "        self.n_samples = len(df['id'].unique())\n",
    "        # Group by ID\n",
    "        df_grouped = pd.DataFrame(df.groupby('id'))\n",
    "        # Get rid of the 'id'-column in each group\n",
    "        for x in df_grouped.iloc[:,1]:\n",
    "            x.drop(columns=['id'], inplace=True)\n",
    "        # extract the time series\n",
    "        self.x_data = df_grouped.drop(columns=0)\n",
    "        self.x_ids = df_grouped.drop(columns=1)\n",
    "\n",
    "    def __getitem__(self, index):\n",
    "        \"\"\"Returns items from dataset for given index. Due to the nested structure of pd.DataFrames and np.arrays, some overhead instructions are necessary.\n",
    "\n",
    "        Args:\n",
    "            index (): Index for data sample(s).\n",
    "\n",
    "        Returns:\n",
    "            tuple: sample of data, id.\n",
    "        \"\"\"\n",
    "        # Get the data from indexes\n",
    "        X = self.x_data.loc[index]\n",
    "        x_ids = self.x_ids.loc[index]\n",
    "        x_ids = x_ids.tolist()\n",
    "        # Extract, if multiple data, ...\n",
    "        if isinstance(index, slice):\n",
    "            x = list()\n",
    "            for time_series in X[1]:\n",
    "                # ... convert to numpy and append to list ...\n",
    "                x.append(time_series.to_numpy())\n",
    "            # ... and create one big Tensor array\n",
    "            x = np.array(x) # first converting to numpy is much faster\n",
    "            x = torch.tensor(x)\n",
    "            # Create sample and return it\n",
    "            sample = x, x_ids\n",
    "        else:\n",
    "            x = X.loc[1]\n",
    "            x = torch.tensor(x.values)\n",
    "            # x = x[None, :, :]  # same as unsequeeze\n",
    "            sample = x, x_ids\n",
    "            \n",
    "        return sample\n",
    "\n",
    "\n",
    "    def __len__(self):\n",
    "        \"\"\"The number of samples (time series) available in the dataset.\n",
    "\n",
    "        Returns:\n",
    "            int: Number of samples.\n",
    "        \"\"\"\n",
    "        return self.n_samples"
   ]
  },
  {
   "cell_type": "markdown",
   "metadata": {},
   "source": [
    "### `DataLoader`\n",
    "\n",
    "Problems with Dataloader:\n",
    "+ If there is an error and `num_workers!=0`, try setting it to `0`.\n",
    "+ If there is an error and `shuffle=True`, try setting it to `False`. (Fixed)"
   ]
  },
  {
   "cell_type": "code",
   "execution_count": 237,
   "metadata": {},
   "outputs": [
    {
     "name": "stdout",
     "output_type": "stream",
     "text": [
      "[('id_93', 'id_97', 'id_99')]\n"
     ]
    }
   ],
   "source": [
    "dataset = ToyDataset(path)\n",
    "train_loader = DataLoader(dataset=dataset, batch_size=3, shuffle=True, num_workers=0)\n",
    "\n",
    "# convert to an iterator and look at one random sample\n",
    "dataiter = iter(train_loader)\n",
    "data = next(dataiter)\n",
    "features, labels = data\n",
    "print( labels)"
   ]
  },
  {
   "cell_type": "code",
   "execution_count": null,
   "metadata": {},
   "outputs": [],
   "source": []
  }
 ],
 "metadata": {
  "kernelspec": {
   "display_name": "Python 3.8.10 ('mTAN': venv)",
   "language": "python",
   "name": "python3"
  },
  "language_info": {
   "codemirror_mode": {
    "name": "ipython",
    "version": 3
   },
   "file_extension": ".py",
   "mimetype": "text/x-python",
   "name": "python",
   "nbconvert_exporter": "python",
   "pygments_lexer": "ipython3",
   "version": "3.8.10"
  },
  "orig_nbformat": 4,
  "vscode": {
   "interpreter": {
    "hash": "5c0149bcba5d57c6c5fe6ec16c81707307f68ffca57204c4f3e4ca3000c08467"
   }
  }
 },
 "nbformat": 4,
 "nbformat_minor": 2
}
